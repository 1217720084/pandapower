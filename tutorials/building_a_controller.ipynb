{
 "cells": [
  {
   "cell_type": "markdown",
   "metadata": {},
   "source": [
    "# Building a Controller"
   ]
  },
  {
   "cell_type": "markdown",
   "metadata": {},
   "source": [
    "The following documents the development of a new controller.\n",
    "In this case we are going to implement an arbitrary controllable storage unit. This\n",
    "may be a battery, an electrically powered car or some sort of reservoir storage."
   ]
  },
  {
   "cell_type": "markdown",
   "metadata": {},
   "source": [
    "## Controller init\n",
    "First we start by creating a new file *control/storage_control.py*, containing our new class."
   ]
  },
  {
   "cell_type": "code",
   "execution_count": 34,
   "metadata": {},
   "outputs": [],
   "source": [
    "    import control\n",
    "\n",
    "    class Storage(control.basic_controller.Controller):\n",
    "        \"\"\"\n",
    "            Example class of a Storage-Controller. Models an abstract energy storage.\n",
    "        \"\"\"\n",
    "        def __init__(self, net, gid, data_source=None, p_profile=None, in_service=True,\n",
    "                     recycle=False, order=0, level=0, **kwargs):\n",
    "            super().__init__(net, in_service=in_service, recycle=recycle, order=order, level=level,\n",
    "                        initial_powerflow = True, **kwargs)\n",
    "            # read generator attributes from net\n",
    "            self.gid = gid #index of the controlled storage\n",
    "            self.bus = net.storage.at[gid, \"bus\"]\n",
    "            self.p_mw = net.storage.at[gid, \"p_mw\"]\n",
    "            self.q_mvar = net.storage.at[gid, \"q_mvar\"]\n",
    "            self.sn_mva = net.storage.at[gid, \"sn_mva\"]\n",
    "            self.name = net.storage.at[gid, \"name\"]\n",
    "            self.gen_type = net.storage.at[gid, \"type\"]\n",
    "            self.in_service = net.storage.at[gid, \"in_service\"]\n",
    "            self.applied = False\n",
    "\n",
    "            #specific attributes\n",
    "            self.max_e_mwh = net.storage.at[gid, \"max_e_mwh\"]\n",
    "            self.soc_percent = net.storage.at[gid, \"soc_percent\"]\n",
    "            \n",
    "            # profile attributes\n",
    "            self.data_source = data_source\n",
    "            self.p_profile = p_profile\n",
    "            self.last_time_step = None"
   ]
  },
  {
   "cell_type": "markdown",
   "metadata": {},
   "source": [
    "Import and inherit from the parent class `Controller` and override methods you would like to use. Next we write the actual code for the methods. We choose to represent the storage-unit as a storage\n",
    "element in pandapower. We start with a function calculating the amout of stored energy:"
   ]
  },
  {
   "cell_type": "code",
   "execution_count": 25,
   "metadata": {},
   "outputs": [],
   "source": [
    "    def get_stored_ernergy(self):\n",
    "        # do some \"complex\" calculations\n",
    "        return self.max_e_mwh * self.soc_percent / 100"
   ]
  },
  {
   "cell_type": "markdown",
   "metadata": {},
   "source": [
    "Also a first step we want our controller to be able to write its P and Q and state of charge values back to the\n",
    "data structure net.\n",
    "   "
   ]
  },
  {
   "cell_type": "code",
   "execution_count": 26,
   "metadata": {},
   "outputs": [],
   "source": [
    "def write_to_net(self):\n",
    "        # write p, q to bus within the net\n",
    "        self.net.storage.at[self.gid, \"p_mw\"] = self.p_mw\n",
    "        self.net.storage.at[self.gid, \"q_mvar\"] = self.q_mvar\n",
    "        self.net.storage.at[self.gid, \"soc_percent\"]= self.soc_percent"
   ]
  },
  {
   "cell_type": "markdown",
   "metadata": {},
   "source": [
    "Also remember that 'is_converged()' returns the boolean value of convergence:"
   ]
  },
  {
   "cell_type": "code",
   "execution_count": 27,
   "metadata": {},
   "outputs": [],
   "source": [
    "    def is_converged(self):\n",
    "        # check if controller already was applied\n",
    "        return self.applied"
   ]
  },
  {
   "cell_type": "markdown",
   "metadata": {},
   "source": [
    "In case the controller is not yet converged, the control step is executed. In the example it simply\n",
    "adopts a new value according to the previously calculated target and writes back to the net."
   ]
  },
  {
   "cell_type": "code",
   "execution_count": 28,
   "metadata": {},
   "outputs": [],
   "source": [
    "    def control_step(self):\n",
    "        # write p, q, soc to storage within the net\n",
    "        self.write_to_net()\n",
    "        self.applied = True\n"
   ]
  },
  {
   "cell_type": "markdown",
   "metadata": {},
   "source": [
    "In a time-series simulation the battery should read new power values from a profile and keep track\n",
    "of its state of charge as depicted below."
   ]
  },
  {
   "cell_type": "code",
   "execution_count": 29,
   "metadata": {},
   "outputs": [],
   "source": [
    "    def time_step(self, time):\n",
    "        # keep track of the soc (assuming time is given in seconds)\n",
    "        if self.last_time_step is not None:\n",
    "            self.soc_percent += self.max_e_mwh / (self.p_mw * (self.current_time_step-self.last_time_step) / 3600)\n",
    "        self.last_time_step = time\n",
    "\n",
    "        # read new values from a profile\n",
    "        if self.data_source:\n",
    "            if self.p_profile:\n",
    "                self.p_kw = self.data_source.get_time_step_value(time_step=time,\n",
    "                                                                profile_name=self.p_profile)\n",
    "                \n",
    "        self.applied = False # reset applied variable"
   ]
  },
  {
   "cell_type": "markdown",
   "metadata": {},
   "source": [
    "We are now ready to create objects of our newly implemented class and simulate with it!"
   ]
  },
  {
   "cell_type": "code",
   "execution_count": 36,
   "metadata": {},
   "outputs": [
    {
     "name": "stderr",
     "output_type": "stream",
     "text": [
      "hp.pandapower.control.util.auxiliary - INFO: Creating controller 0 of type <class '__main__.Storage'> \n",
      "hp.pandapower.control.basic_controller - WARNING: Method is_converged() has not been overwritten (and will always return True)!\n",
      "hp.pandapower.control.basic_controller - WARNING: Method is_converged() has not been overwritten (and will always return True)!\n",
      "hp.pandapower.control.basic_controller - WARNING: Method is_converged() has not been overwritten (and will always return True)!\n",
      "hp.pandapower.control.basic_controller - WARNING: Method is_converged() has not been overwritten (and will always return True)!\n"
     ]
    },
    {
     "name": "stdout",
     "output_type": "stream",
     "text": [
      "\r",
      "Progress: |--------------------------------------------------| 0.0% Complete\r",
      "Progress: |████████████--------------------------------------| 25.0% Complete\r",
      "Progress: |█████████████████████████-------------------------| 50.0% Complete\r",
      "Progress: |█████████████████████████████████████-------------| 75.0% Complete\r",
      "Progress: |██████████████████████████████████████████████████| 100.0% Complete\n",
      "\n",
      "{'Parameters':    time_step  controller_unstable  powerflow_failed\n",
      "0          0                False             False\n",
      "1          1                False             False\n",
      "2          2                False             False\n",
      "3          3                False             False, 'res_storage.p_mw':      0\n",
      "0  0.1\n",
      "1  0.1\n",
      "2  0.1\n",
      "3  0.1, 'storage.soc_percent':     0\n",
      "0 NaN\n",
      "1 NaN\n",
      "2 NaN\n",
      "3 NaN}\n"
     ]
    }
   ],
   "source": [
    "# Importing necessary packages\n",
    "import pandapower as pp\n",
    "import control\n",
    "import pandas as pd\n",
    "import timeseries as ts\n",
    "\n",
    "from pandapower.networks import mv_oberrhein\n",
    "# loading the network with the usecase 'generation'\n",
    "net = mv_oberrhein()\n",
    "pp.runpp(net)\n",
    "\n",
    "store_el = pp.create_storage(net, 30, p_mw = .1, q_mvar = 0, max_e_mwh = 1)\n",
    "framedata = pd.DataFrame([0.1,.05,0.1,.005])\n",
    "datasource = ts.DFData(framedata)\n",
    "\n",
    "ow = ts.OutputWriter(net)\n",
    "\n",
    "ow.log_variable(\"res_storage\", \"p_mw\")\n",
    "ow.log_variable(\"storage\", \"soc_percent\")\n",
    "\n",
    "ctrl = Storage(net=net, gid=store_el, data_source=datasource,p_profile=0 )\n",
    "\n",
    "ts.run_timeseries(net, time_steps=range(0, 4), output_writer=ow)\n",
    "\n",
    "print(ow.output)"
   ]
  },
  {
   "cell_type": "code",
   "execution_count": null,
   "metadata": {},
   "outputs": [],
   "source": []
  }
 ],
 "metadata": {
  "kernelspec": {
   "display_name": "Python 3",
   "language": "python",
   "name": "python3"
  },
  "language_info": {
   "codemirror_mode": {
    "name": "ipython",
    "version": 3
   },
   "file_extension": ".py",
   "mimetype": "text/x-python",
   "name": "python",
   "nbconvert_exporter": "python",
   "pygments_lexer": "ipython3",
   "version": "3.6.9"
  }
 },
 "nbformat": 4,
 "nbformat_minor": 2
}
