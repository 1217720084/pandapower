{
 "cells": [
  {
   "cell_type": "markdown",
   "metadata": {},
   "source": [
    "# pandapower Optimal Power Flow\n",
    "This is an introduction into the usage of the pandapower optimal power flow. It shows how to set the constraints and the cost factors into the pandapower element tables.\n",
    "\n",
    "## Example Network\n",
    "\n",
    "We use the following four bus example network for this tutorial:\n",
    "\n",
    "<img src=\"pics/example_opf.png\" width=\"50%\">\n",
    "\n",
    "We first create this network in pandapower:"
   ]
  },
  {
   "cell_type": "code",
   "execution_count": 3,
   "metadata": {
    "collapsed": false
   },
   "outputs": [],
   "source": [
    "import pandapower as pp\n",
    "import numpy as np\n",
    "net = pp.create_empty_network()\n",
    "\n",
    "#create buses\n",
    "bus1 = pp.create_bus(net, vn_kv=220.)\n",
    "bus2 = pp.create_bus(net, vn_kv=110.)\n",
    "bus3 = pp.create_bus(net, vn_kv=110.)\n",
    "bus4 = pp.create_bus(net, vn_kv=110.)\n",
    "\n",
    "#create 220/110 kV transformer\n",
    "pp.create_transformer(net, bus1, bus2, std_type=\"100 MVA 220/110 kV\")\n",
    "\n",
    "#create 110 kV lines\n",
    "pp.create_line(net, bus2, bus3, length_km=70., std_type='149-AL1/24-ST1A 110.0')\n",
    "pp.create_line(net, bus3, bus4, length_km=50., std_type='149-AL1/24-ST1A 110.0')\n",
    "pp.create_line(net, bus4, bus2, length_km=40., std_type='149-AL1/24-ST1A 110.0')\n",
    "\n",
    "#create loads\n",
    "pp.create_load(net, bus2, p_kw=60e3, controllable = False)\n",
    "pp.create_load(net, bus3, p_kw=70e3, controllable = False)\n",
    "pp.create_load(net, bus4, p_kw=10e3, controllable = False)\n",
    "\n",
    "#create generators\n",
    "eg = pp.create_ext_grid(net, bus1)\n",
    "g0 = pp.create_gen(net, bus3, p_kw=-80*1e3, min_p_kw=-80e3, max_p_kw=0,vm_pu=1.01, controllable=True)\n",
    "g1 = pp.create_gen(net, bus4, p_kw=-100*1e3, min_p_kw=-100e3, max_p_kw=0, vm_pu=1.01, controllable=True)"
   ]
  },
  {
   "cell_type": "markdown",
   "metadata": {},
   "source": [
    "## Loss Minimization\n",
    "\n",
    "We specify the same costs for the power at the external grid and all generators to minimize the overall power feed in. This equals an overall loss minimization:"
   ]
  },
  {
   "cell_type": "code",
   "execution_count": 4,
   "metadata": {
    "collapsed": false
   },
   "outputs": [],
   "source": [
    "costeg = pp.create_polynomial_cost(net, 0, 'ext_grid', np.array([1, 0]))\n",
    "costgen1 = pp.create_polynomial_cost(net, 0, 'gen', np.array([1, 0]))\n",
    "costgen2 = pp.create_polynomial_cost(net, 1, 'gen', np.array([1, 0]))"
   ]
  },
  {
   "cell_type": "markdown",
   "metadata": {},
   "source": [
    "We run an OPF:"
   ]
  },
  {
   "cell_type": "code",
   "execution_count": 5,
   "metadata": {
    "collapsed": false
   },
   "outputs": [
    {
     "name": "stdout",
     "output_type": "stream",
     "text": [
      "PYPOWER Version 5.0.0, 29-May-2015 -- AC Optimal Power Flow\n",
      "Python Interior Point Solver - PIPS, Version 1.0, 07-Feb-2011\n",
      "Numerically failed.\n",
      "Did not converge in 2 iterations.\n"
     ]
    },
    {
     "ename": "OPFNotConverged",
     "evalue": "Optimal Power Flow did not converge!",
     "output_type": "error",
     "traceback": [
      "\u001b[0;31m---------------------------------------------------------------------------\u001b[0m",
      "\u001b[0;31mOPFNotConverged\u001b[0m                           Traceback (most recent call last)",
      "\u001b[0;32m<ipython-input-5-89e51745b9f9>\u001b[0m in \u001b[0;36m<module>\u001b[0;34m()\u001b[0m\n\u001b[0;32m----> 1\u001b[0;31m \u001b[0mpp\u001b[0m\u001b[1;33m.\u001b[0m\u001b[0mrunopp\u001b[0m\u001b[1;33m(\u001b[0m\u001b[0mnet\u001b[0m\u001b[1;33m,\u001b[0m \u001b[0mverbose\u001b[0m\u001b[1;33m=\u001b[0m\u001b[1;32mTrue\u001b[0m\u001b[1;33m)\u001b[0m\u001b[1;33m\u001b[0m\u001b[0m\n\u001b[0m",
      "\u001b[0;32mC:\\Users\\e2n011\\Documents\\GIT\\pandapower\\pandapower\\run.py\u001b[0m in \u001b[0;36mrunopp\u001b[0;34m(net, verbose, calculate_voltage_angles, check_connectivity, suppress_warnings, r_switch, delta, **kwargs)\u001b[0m\n\u001b[1;32m    298\u001b[0m                      voltage_depend_loads=False, delta=delta)\n\u001b[1;32m    299\u001b[0m     \u001b[0m_add_opf_options\u001b[0m\u001b[1;33m(\u001b[0m\u001b[0mnet\u001b[0m\u001b[1;33m,\u001b[0m \u001b[0mtrafo_loading\u001b[0m\u001b[1;33m=\u001b[0m\u001b[0mtrafo_loading\u001b[0m\u001b[1;33m,\u001b[0m \u001b[0mac\u001b[0m\u001b[1;33m=\u001b[0m\u001b[0mac\u001b[0m\u001b[1;33m)\u001b[0m\u001b[1;33m\u001b[0m\u001b[0m\n\u001b[0;32m--> 300\u001b[0;31m     \u001b[0m_optimal_powerflow\u001b[0m\u001b[1;33m(\u001b[0m\u001b[0mnet\u001b[0m\u001b[1;33m,\u001b[0m \u001b[0mverbose\u001b[0m\u001b[1;33m,\u001b[0m \u001b[0msuppress_warnings\u001b[0m\u001b[1;33m,\u001b[0m \u001b[1;33m**\u001b[0m\u001b[0mkwargs\u001b[0m\u001b[1;33m)\u001b[0m\u001b[1;33m\u001b[0m\u001b[0m\n\u001b[0m\u001b[1;32m    301\u001b[0m \u001b[1;33m\u001b[0m\u001b[0m\n\u001b[1;32m    302\u001b[0m \u001b[1;33m\u001b[0m\u001b[0m\n",
      "\u001b[0;32mC:\\Users\\e2n011\\Documents\\GIT\\pandapower\\pandapower\\optimal_powerflow.py\u001b[0m in \u001b[0;36m_optimal_powerflow\u001b[0;34m(net, verbose, suppress_warnings, **kwargs)\u001b[0m\n\u001b[1;32m     46\u001b[0m \u001b[1;33m\u001b[0m\u001b[0m\n\u001b[1;32m     47\u001b[0m     \u001b[1;32mif\u001b[0m \u001b[1;32mnot\u001b[0m \u001b[0mresult\u001b[0m\u001b[1;33m[\u001b[0m\u001b[1;34m\"success\"\u001b[0m\u001b[1;33m]\u001b[0m\u001b[1;33m:\u001b[0m\u001b[1;33m\u001b[0m\u001b[0m\n\u001b[0;32m---> 48\u001b[0;31m         \u001b[1;32mraise\u001b[0m \u001b[0mOPFNotConverged\u001b[0m\u001b[1;33m(\u001b[0m\u001b[1;34m\"Optimal Power Flow did not converge!\"\u001b[0m\u001b[1;33m)\u001b[0m\u001b[1;33m\u001b[0m\u001b[0m\n\u001b[0m\u001b[1;32m     49\u001b[0m \u001b[1;33m\u001b[0m\u001b[0m\n\u001b[1;32m     50\u001b[0m     \u001b[1;31m# ppci doesn't contain out of service elements, but ppc does -> copy results accordingly\u001b[0m\u001b[1;33m\u001b[0m\u001b[1;33m\u001b[0m\u001b[0m\n",
      "\u001b[0;31mOPFNotConverged\u001b[0m: Optimal Power Flow did not converge!"
     ]
    }
   ],
   "source": [
    "pp.runopp(net, verbose=True)"
   ]
  },
  {
   "cell_type": "markdown",
   "metadata": {},
   "source": [
    "Apparently the OPF did not converge. Sometimes the constraints are too broad or too narrow for the OPF to converge. So let's try setting the voltage constraints first:"
   ]
  },
  {
   "cell_type": "code",
   "execution_count": 6,
   "metadata": {
    "collapsed": false
   },
   "outputs": [
    {
     "name": "stdout",
     "output_type": "stream",
     "text": [
      "PYPOWER Version 5.0.0, 29-May-2015 -- AC Optimal Power Flow\n",
      "Python Interior Point Solver - PIPS, Version 1.0, 07-Feb-2011\n",
      "Converged!\n"
     ]
    }
   ],
   "source": [
    "net.bus['max_vm_pu'] = 2\n",
    "pp.runopp(net, verbose=True)"
   ]
  },
  {
   "cell_type": "markdown",
   "metadata": {},
   "source": [
    "let's check the results:"
   ]
  },
  {
   "cell_type": "code",
   "execution_count": 7,
   "metadata": {
    "collapsed": false
   },
   "outputs": [
    {
     "data": {
      "text/html": [
       "<div>\n",
       "<table border=\"1\" class=\"dataframe\">\n",
       "  <thead>\n",
       "    <tr style=\"text-align: right;\">\n",
       "      <th></th>\n",
       "      <th>p_kw</th>\n",
       "      <th>q_kvar</th>\n",
       "    </tr>\n",
       "  </thead>\n",
       "  <tbody>\n",
       "    <tr>\n",
       "      <th>0</th>\n",
       "      <td>-56530.133524</td>\n",
       "      <td>-1974.471614</td>\n",
       "    </tr>\n",
       "  </tbody>\n",
       "</table>\n",
       "</div>"
      ],
      "text/plain": [
       "           p_kw       q_kvar\n",
       "0 -56530.133524 -1974.471614"
      ]
     },
     "execution_count": 7,
     "metadata": {},
     "output_type": "execute_result"
    }
   ],
   "source": [
    "net.res_ext_grid"
   ]
  },
  {
   "cell_type": "code",
   "execution_count": 8,
   "metadata": {
    "collapsed": false
   },
   "outputs": [
    {
     "data": {
      "text/html": [
       "<div>\n",
       "<table border=\"1\" class=\"dataframe\">\n",
       "  <thead>\n",
       "    <tr style=\"text-align: right;\">\n",
       "      <th></th>\n",
       "      <th>p_kw</th>\n",
       "      <th>q_kvar</th>\n",
       "      <th>va_degree</th>\n",
       "      <th>vm_pu</th>\n",
       "    </tr>\n",
       "  </thead>\n",
       "  <tbody>\n",
       "    <tr>\n",
       "      <th>0</th>\n",
       "      <td>-71313.545821</td>\n",
       "      <td>1969.654618</td>\n",
       "      <td>-3.712804</td>\n",
       "      <td>1.000009</td>\n",
       "    </tr>\n",
       "    <tr>\n",
       "      <th>1</th>\n",
       "      <td>-12299.610412</td>\n",
       "      <td>1451.160058</td>\n",
       "      <td>-3.712782</td>\n",
       "      <td>1.000010</td>\n",
       "    </tr>\n",
       "  </tbody>\n",
       "</table>\n",
       "</div>"
      ],
      "text/plain": [
       "           p_kw       q_kvar  va_degree     vm_pu\n",
       "0 -71313.545821  1969.654618  -3.712804  1.000009\n",
       "1 -12299.610412  1451.160058  -3.712782  1.000010"
      ]
     },
     "execution_count": 8,
     "metadata": {},
     "output_type": "execute_result"
    }
   ],
   "source": [
    "net.res_gen"
   ]
  },
  {
   "cell_type": "markdown",
   "metadata": {},
   "source": [
    "Since all costs were specified the same, the OPF minimizes overall power generation, which is equal to a loss minimization in the network. The loads at buses 3 and 4 are supplied by generators at the same bus, the load at Bus 2 is provided by a combination of the other generators so that the power transmission leads to minimal losses."
   ]
  },
  {
   "cell_type": "markdown",
   "metadata": {},
   "source": [
    "## Individual Generator Costs\n",
    "\n",
    "Let's now assign individual costs to each generator.\n",
    "\n",
    "We assign a cost of 10 ct/kW for the external grid, 15 ct/kw for the generator g0 and 12 ct/kw for generator g1:"
   ]
  },
  {
   "cell_type": "code",
   "execution_count": 9,
   "metadata": {
    "collapsed": true
   },
   "outputs": [],
   "source": [
    "net.polynomial_cost.c.at[costeg] = np.array([[0.1, 0]])\n",
    "net.polynomial_cost.c.at[costgen1] = np.array([[0.15, 0]])\n",
    "net.polynomial_cost.c.at[costgen2] = np.array([[0.12, 0]])"
   ]
  },
  {
   "cell_type": "markdown",
   "metadata": {},
   "source": [
    "And now run an OPF:"
   ]
  },
  {
   "cell_type": "code",
   "execution_count": 10,
   "metadata": {
    "collapsed": false
   },
   "outputs": [
    {
     "name": "stdout",
     "output_type": "stream",
     "text": [
      "PYPOWER Version 5.0.0, 29-May-2015 -- AC Optimal Power Flow\n",
      "Python Interior Point Solver - PIPS, Version 1.0, 07-Feb-2011\n",
      "Converged!\n"
     ]
    }
   ],
   "source": [
    "pp.runopp(net, verbose=True)"
   ]
  },
  {
   "cell_type": "markdown",
   "metadata": {},
   "source": [
    "We can see that all active power is provided by the external grid. This makes sense, because the external grid has the lowest cost of all generators and we did not define any constraints.\n",
    "\n",
    "The dispatch costs are given in net.res_cost:"
   ]
  },
  {
   "cell_type": "code",
   "execution_count": 11,
   "metadata": {
    "collapsed": false
   },
   "outputs": [
    {
     "data": {
      "text/plain": [
       "14455.950142978993"
      ]
     },
     "execution_count": 11,
     "metadata": {},
     "output_type": "execute_result"
    }
   ],
   "source": [
    "net.res_cost"
   ]
  },
  {
   "cell_type": "markdown",
   "metadata": {},
   "source": [
    "### Transformer Constraint\n",
    "\n",
    "Since all active power comes from the external grid and subsequently flows through the transformer, the transformer is overloaded with a loading of about 145%:"
   ]
  },
  {
   "cell_type": "code",
   "execution_count": 12,
   "metadata": {
    "collapsed": false
   },
   "outputs": [
    {
     "data": {
      "text/html": [
       "<div>\n",
       "<table border=\"1\" class=\"dataframe\">\n",
       "  <thead>\n",
       "    <tr style=\"text-align: right;\">\n",
       "      <th></th>\n",
       "      <th>p_hv_kw</th>\n",
       "      <th>q_hv_kvar</th>\n",
       "      <th>p_lv_kw</th>\n",
       "      <th>q_lv_kvar</th>\n",
       "      <th>pl_kw</th>\n",
       "      <th>ql_kvar</th>\n",
       "      <th>i_hv_ka</th>\n",
       "      <th>i_lv_ka</th>\n",
       "      <th>loading_percent</th>\n",
       "    </tr>\n",
       "  </thead>\n",
       "  <tbody>\n",
       "    <tr>\n",
       "      <th>0</th>\n",
       "      <td>144559.454957</td>\n",
       "      <td>9193.068097</td>\n",
       "      <td>-143959.526341</td>\n",
       "      <td>15993.744278</td>\n",
       "      <td>599.928616</td>\n",
       "      <td>25186.812375</td>\n",
       "      <td>0.380137</td>\n",
       "      <td>0.759988</td>\n",
       "      <td>144.851471</td>\n",
       "    </tr>\n",
       "  </tbody>\n",
       "</table>\n",
       "</div>"
      ],
      "text/plain": [
       "         p_hv_kw    q_hv_kvar        p_lv_kw     q_lv_kvar       pl_kw  \\\n",
       "0  144559.454957  9193.068097 -143959.526341  15993.744278  599.928616   \n",
       "\n",
       "        ql_kvar   i_hv_ka   i_lv_ka  loading_percent  \n",
       "0  25186.812375  0.380137  0.759988       144.851471  "
      ]
     },
     "execution_count": 12,
     "metadata": {},
     "output_type": "execute_result"
    }
   ],
   "source": [
    "net.res_trafo"
   ]
  },
  {
   "cell_type": "markdown",
   "metadata": {},
   "source": [
    "We now limit the transformer loading to 50%:"
   ]
  },
  {
   "cell_type": "code",
   "execution_count": 13,
   "metadata": {
    "collapsed": false
   },
   "outputs": [],
   "source": [
    "net.trafo[\"max_loading_percent\"] = 50"
   ]
  },
  {
   "cell_type": "markdown",
   "metadata": {},
   "source": [
    "(the max_loading_percent parameter can also be specified directly when creating the transformer)\n",
    "and run the OPF:"
   ]
  },
  {
   "cell_type": "code",
   "execution_count": 14,
   "metadata": {
    "collapsed": true
   },
   "outputs": [],
   "source": [
    "pp.runopp(net)"
   ]
  },
  {
   "cell_type": "markdown",
   "metadata": {},
   "source": [
    "We can see that the transformer complies with the maximum loading:"
   ]
  },
  {
   "cell_type": "code",
   "execution_count": 15,
   "metadata": {
    "collapsed": false
   },
   "outputs": [
    {
     "data": {
      "text/html": [
       "<div>\n",
       "<table border=\"1\" class=\"dataframe\">\n",
       "  <thead>\n",
       "    <tr style=\"text-align: right;\">\n",
       "      <th></th>\n",
       "      <th>p_hv_kw</th>\n",
       "      <th>q_hv_kvar</th>\n",
       "      <th>p_lv_kw</th>\n",
       "      <th>q_lv_kvar</th>\n",
       "      <th>pl_kw</th>\n",
       "      <th>ql_kvar</th>\n",
       "      <th>i_hv_ka</th>\n",
       "      <th>i_lv_ka</th>\n",
       "      <th>loading_percent</th>\n",
       "    </tr>\n",
       "  </thead>\n",
       "  <tbody>\n",
       "    <tr>\n",
       "      <th>0</th>\n",
       "      <td>49953.8647</td>\n",
       "      <td>-2147.314036</td>\n",
       "      <td>-49833.814023</td>\n",
       "      <td>5167.453668</td>\n",
       "      <td>120.050677</td>\n",
       "      <td>3020.139631</td>\n",
       "      <td>0.131216</td>\n",
       "      <td>0.262153</td>\n",
       "      <td>49.999996</td>\n",
       "    </tr>\n",
       "  </tbody>\n",
       "</table>\n",
       "</div>"
      ],
      "text/plain": [
       "      p_hv_kw    q_hv_kvar       p_lv_kw    q_lv_kvar       pl_kw  \\\n",
       "0  49953.8647 -2147.314036 -49833.814023  5167.453668  120.050677   \n",
       "\n",
       "       ql_kvar   i_hv_ka   i_lv_ka  loading_percent  \n",
       "0  3020.139631  0.131216  0.262153        49.999996  "
      ]
     },
     "execution_count": 15,
     "metadata": {},
     "output_type": "execute_result"
    }
   ],
   "source": [
    "net.res_trafo"
   ]
  },
  {
   "cell_type": "markdown",
   "metadata": {},
   "source": [
    "And power generation is now split between the external grid and generator 1 (which is the second cheapest generation unit):"
   ]
  },
  {
   "cell_type": "code",
   "execution_count": 16,
   "metadata": {
    "collapsed": false
   },
   "outputs": [
    {
     "data": {
      "text/html": [
       "<div>\n",
       "<table border=\"1\" class=\"dataframe\">\n",
       "  <thead>\n",
       "    <tr style=\"text-align: right;\">\n",
       "      <th></th>\n",
       "      <th>p_kw</th>\n",
       "      <th>q_kvar</th>\n",
       "    </tr>\n",
       "  </thead>\n",
       "  <tbody>\n",
       "    <tr>\n",
       "      <th>0</th>\n",
       "      <td>-49953.8647</td>\n",
       "      <td>2147.314036</td>\n",
       "    </tr>\n",
       "  </tbody>\n",
       "</table>\n",
       "</div>"
      ],
      "text/plain": [
       "         p_kw       q_kvar\n",
       "0 -49953.8647  2147.314036"
      ]
     },
     "execution_count": 16,
     "metadata": {},
     "output_type": "execute_result"
    }
   ],
   "source": [
    "net.res_ext_grid"
   ]
  },
  {
   "cell_type": "code",
   "execution_count": 17,
   "metadata": {
    "collapsed": false
   },
   "outputs": [
    {
     "data": {
      "text/html": [
       "<div>\n",
       "<table border=\"1\" class=\"dataframe\">\n",
       "  <thead>\n",
       "    <tr style=\"text-align: right;\">\n",
       "      <th></th>\n",
       "      <th>p_kw</th>\n",
       "      <th>q_kvar</th>\n",
       "      <th>va_degree</th>\n",
       "      <th>vm_pu</th>\n",
       "    </tr>\n",
       "  </thead>\n",
       "  <tbody>\n",
       "    <tr>\n",
       "      <th>0</th>\n",
       "      <td>-0.005482</td>\n",
       "      <td>-2993.145931</td>\n",
       "      <td>-6.232829</td>\n",
       "      <td>0.985230</td>\n",
       "    </tr>\n",
       "    <tr>\n",
       "      <th>1</th>\n",
       "      <td>-93304.077647</td>\n",
       "      <td>-3453.343581</td>\n",
       "      <td>-1.237884</td>\n",
       "      <td>1.025709</td>\n",
       "    </tr>\n",
       "  </tbody>\n",
       "</table>\n",
       "</div>"
      ],
      "text/plain": [
       "           p_kw       q_kvar  va_degree     vm_pu\n",
       "0     -0.005482 -2993.145931  -6.232829  0.985230\n",
       "1 -93304.077647 -3453.343581  -1.237884  1.025709"
      ]
     },
     "execution_count": 17,
     "metadata": {},
     "output_type": "execute_result"
    }
   ],
   "source": [
    "net.res_gen"
   ]
  },
  {
   "cell_type": "markdown",
   "metadata": {
    "collapsed": false
   },
   "source": [
    "This comes of course with an increase in dispatch costs:"
   ]
  },
  {
   "cell_type": "code",
   "execution_count": 18,
   "metadata": {
    "collapsed": false
   },
   "outputs": [
    {
     "data": {
      "text/plain": [
       "16191.876609962681"
      ]
     },
     "execution_count": 18,
     "metadata": {},
     "output_type": "execute_result"
    }
   ],
   "source": [
    "net.res_cost"
   ]
  },
  {
   "cell_type": "markdown",
   "metadata": {},
   "source": [
    "### Line Loading Constraints"
   ]
  },
  {
   "cell_type": "markdown",
   "metadata": {},
   "source": [
    "Wen now look at the line loadings:"
   ]
  },
  {
   "cell_type": "code",
   "execution_count": 19,
   "metadata": {
    "collapsed": false
   },
   "outputs": [
    {
     "data": {
      "text/html": [
       "<div>\n",
       "<table border=\"1\" class=\"dataframe\">\n",
       "  <thead>\n",
       "    <tr style=\"text-align: right;\">\n",
       "      <th></th>\n",
       "      <th>p_from_kw</th>\n",
       "      <th>q_from_kvar</th>\n",
       "      <th>p_to_kw</th>\n",
       "      <th>q_to_kvar</th>\n",
       "      <th>pl_kw</th>\n",
       "      <th>ql_kvar</th>\n",
       "      <th>i_from_ka</th>\n",
       "      <th>i_to_ka</th>\n",
       "      <th>i_ka</th>\n",
       "      <th>loading_percent</th>\n",
       "    </tr>\n",
       "  </thead>\n",
       "  <tbody>\n",
       "    <tr>\n",
       "      <th>0</th>\n",
       "      <td>19780.009655</td>\n",
       "      <td>-2479.435479</td>\n",
       "      <td>-19341.695424</td>\n",
       "      <td>1104.393311</td>\n",
       "      <td>438.314231</td>\n",
       "      <td>-1375.042168</td>\n",
       "      <td>0.104309</td>\n",
       "      <td>0.103207</td>\n",
       "      <td>0.104309</td>\n",
       "      <td>22.193320</td>\n",
       "    </tr>\n",
       "    <tr>\n",
       "      <th>1</th>\n",
       "      <td>-50658.299094</td>\n",
       "      <td>1888.752620</td>\n",
       "      <td>52783.697256</td>\n",
       "      <td>921.064109</td>\n",
       "      <td>2125.398162</td>\n",
       "      <td>2809.816729</td>\n",
       "      <td>0.270061</td>\n",
       "      <td>0.270140</td>\n",
       "      <td>0.270140</td>\n",
       "      <td>57.476548</td>\n",
       "    </tr>\n",
       "    <tr>\n",
       "      <th>2</th>\n",
       "      <td>30520.380390</td>\n",
       "      <td>2532.279472</td>\n",
       "      <td>-29946.195632</td>\n",
       "      <td>-2688.018189</td>\n",
       "      <td>574.184758</td>\n",
       "      <td>-155.738716</td>\n",
       "      <td>0.156712</td>\n",
       "      <td>0.157323</td>\n",
       "      <td>0.157323</td>\n",
       "      <td>33.472994</td>\n",
       "    </tr>\n",
       "  </tbody>\n",
       "</table>\n",
       "</div>"
      ],
      "text/plain": [
       "      p_from_kw  q_from_kvar       p_to_kw    q_to_kvar        pl_kw  \\\n",
       "0  19780.009655 -2479.435479 -19341.695424  1104.393311   438.314231   \n",
       "1 -50658.299094  1888.752620  52783.697256   921.064109  2125.398162   \n",
       "2  30520.380390  2532.279472 -29946.195632 -2688.018189   574.184758   \n",
       "\n",
       "       ql_kvar  i_from_ka   i_to_ka      i_ka  loading_percent  \n",
       "0 -1375.042168   0.104309  0.103207  0.104309        22.193320  \n",
       "1  2809.816729   0.270061  0.270140  0.270140        57.476548  \n",
       "2  -155.738716   0.156712  0.157323  0.157323        33.472994  "
      ]
     },
     "execution_count": 19,
     "metadata": {},
     "output_type": "execute_result"
    }
   ],
   "source": [
    "net.res_line"
   ]
  },
  {
   "cell_type": "markdown",
   "metadata": {},
   "source": [
    "and run the OPF with a 50% loading constraint:"
   ]
  },
  {
   "cell_type": "code",
   "execution_count": 20,
   "metadata": {
    "collapsed": false
   },
   "outputs": [
    {
     "name": "stdout",
     "output_type": "stream",
     "text": [
      "PYPOWER Version 5.0.0, 29-May-2015 -- AC Optimal Power Flow\n",
      "Python Interior Point Solver - PIPS, Version 1.0, 07-Feb-2011\n",
      "Converged!\n"
     ]
    }
   ],
   "source": [
    "net.line[\"max_loading_percent\"] = 50\n",
    "pp.runopp(net, verbose=True)"
   ]
  },
  {
   "cell_type": "markdown",
   "metadata": {},
   "source": [
    "Now the line loading constraint is complied with:"
   ]
  },
  {
   "cell_type": "code",
   "execution_count": 21,
   "metadata": {
    "collapsed": false,
    "scrolled": true
   },
   "outputs": [
    {
     "data": {
      "text/html": [
       "<div>\n",
       "<table border=\"1\" class=\"dataframe\">\n",
       "  <thead>\n",
       "    <tr style=\"text-align: right;\">\n",
       "      <th></th>\n",
       "      <th>p_from_kw</th>\n",
       "      <th>q_from_kvar</th>\n",
       "      <th>p_to_kw</th>\n",
       "      <th>q_to_kvar</th>\n",
       "      <th>pl_kw</th>\n",
       "      <th>ql_kvar</th>\n",
       "      <th>i_from_ka</th>\n",
       "      <th>i_to_ka</th>\n",
       "      <th>i_ka</th>\n",
       "      <th>loading_percent</th>\n",
       "    </tr>\n",
       "  </thead>\n",
       "  <tbody>\n",
       "    <tr>\n",
       "      <th>0</th>\n",
       "      <td>16727.524593</td>\n",
       "      <td>-3194.693451</td>\n",
       "      <td>-16412.730918</td>\n",
       "      <td>1533.852580</td>\n",
       "      <td>314.793675</td>\n",
       "      <td>-1660.840871</td>\n",
       "      <td>0.088848</td>\n",
       "      <td>0.087130</td>\n",
       "      <td>0.088848</td>\n",
       "      <td>18.903891</td>\n",
       "    </tr>\n",
       "    <tr>\n",
       "      <th>1</th>\n",
       "      <td>-44451.201500</td>\n",
       "      <td>868.247232</td>\n",
       "      <td>46059.944179</td>\n",
       "      <td>831.447093</td>\n",
       "      <td>1608.742679</td>\n",
       "      <td>1699.694325</td>\n",
       "      <td>0.234999</td>\n",
       "      <td>0.235000</td>\n",
       "      <td>0.235000</td>\n",
       "      <td>49.999998</td>\n",
       "    </tr>\n",
       "    <tr>\n",
       "      <th>2</th>\n",
       "      <td>27533.086351</td>\n",
       "      <td>4051.374091</td>\n",
       "      <td>-27060.145170</td>\n",
       "      <td>-4429.369182</td>\n",
       "      <td>472.941181</td>\n",
       "      <td>-377.995091</td>\n",
       "      <td>0.141965</td>\n",
       "      <td>0.143057</td>\n",
       "      <td>0.143057</td>\n",
       "      <td>30.437692</td>\n",
       "    </tr>\n",
       "  </tbody>\n",
       "</table>\n",
       "</div>"
      ],
      "text/plain": [
       "      p_from_kw  q_from_kvar       p_to_kw    q_to_kvar        pl_kw  \\\n",
       "0  16727.524593 -3194.693451 -16412.730918  1533.852580   314.793675   \n",
       "1 -44451.201500   868.247232  46059.944179   831.447093  1608.742679   \n",
       "2  27533.086351  4051.374091 -27060.145170 -4429.369182   472.941181   \n",
       "\n",
       "       ql_kvar  i_from_ka   i_to_ka      i_ka  loading_percent  \n",
       "0 -1660.840871   0.088848  0.087130  0.088848        18.903891  \n",
       "1  1699.694325   0.234999  0.235000  0.235000        49.999998  \n",
       "2  -377.995091   0.141965  0.143057  0.143057        30.437692  "
      ]
     },
     "execution_count": 21,
     "metadata": {},
     "output_type": "execute_result"
    }
   ],
   "source": [
    "net.res_line"
   ]
  },
  {
   "cell_type": "markdown",
   "metadata": {},
   "source": [
    "And all generators are involved in supplying the loads:"
   ]
  },
  {
   "cell_type": "code",
   "execution_count": 22,
   "metadata": {
    "collapsed": false,
    "scrolled": true
   },
   "outputs": [
    {
     "data": {
      "text/html": [
       "<div>\n",
       "<table border=\"1\" class=\"dataframe\">\n",
       "  <thead>\n",
       "    <tr style=\"text-align: right;\">\n",
       "      <th></th>\n",
       "      <th>p_kw</th>\n",
       "      <th>q_kvar</th>\n",
       "    </tr>\n",
       "  </thead>\n",
       "  <tbody>\n",
       "    <tr>\n",
       "      <th>0</th>\n",
       "      <td>-49787.594</td>\n",
       "      <td>4603.770944</td>\n",
       "    </tr>\n",
       "  </tbody>\n",
       "</table>\n",
       "</div>"
      ],
      "text/plain": [
       "        p_kw       q_kvar\n",
       "0 -49787.594  4603.770944"
      ]
     },
     "execution_count": 22,
     "metadata": {},
     "output_type": "execute_result"
    }
   ],
   "source": [
    "net.res_ext_grid"
   ]
  },
  {
   "cell_type": "code",
   "execution_count": 23,
   "metadata": {
    "collapsed": false,
    "scrolled": true
   },
   "outputs": [
    {
     "data": {
      "text/html": [
       "<div>\n",
       "<table border=\"1\" class=\"dataframe\">\n",
       "  <thead>\n",
       "    <tr style=\"text-align: right;\">\n",
       "      <th></th>\n",
       "      <th>p_kw</th>\n",
       "      <th>q_kvar</th>\n",
       "      <th>va_degree</th>\n",
       "      <th>vm_pu</th>\n",
       "    </tr>\n",
       "  </thead>\n",
       "  <tbody>\n",
       "    <tr>\n",
       "      <th>0</th>\n",
       "      <td>-9136.067338</td>\n",
       "      <td>-2402.098854</td>\n",
       "      <td>-5.814938</td>\n",
       "      <td>0.992993</td>\n",
       "    </tr>\n",
       "    <tr>\n",
       "      <th>1</th>\n",
       "      <td>-83593.030259</td>\n",
       "      <td>-4882.820622</td>\n",
       "      <td>-1.511667</td>\n",
       "      <td>1.028900</td>\n",
       "    </tr>\n",
       "  </tbody>\n",
       "</table>\n",
       "</div>"
      ],
      "text/plain": [
       "           p_kw       q_kvar  va_degree     vm_pu\n",
       "0  -9136.067338 -2402.098854  -5.814938  0.992993\n",
       "1 -83593.030259 -4882.820622  -1.511667  1.028900"
      ]
     },
     "execution_count": 23,
     "metadata": {},
     "output_type": "execute_result"
    }
   ],
   "source": [
    "net.res_gen"
   ]
  },
  {
   "cell_type": "markdown",
   "metadata": {},
   "source": [
    "This of course comes with a once again rising dispatch cost:"
   ]
  },
  {
   "cell_type": "code",
   "execution_count": 24,
   "metadata": {
    "collapsed": false
   },
   "outputs": [
    {
     "data": {
      "text/plain": [
       "16380.333131876623"
      ]
     },
     "execution_count": 24,
     "metadata": {},
     "output_type": "execute_result"
    }
   ],
   "source": [
    "net.res_cost"
   ]
  },
  {
   "cell_type": "markdown",
   "metadata": {},
   "source": [
    "### Voltage Constraints\n",
    "\n",
    "Finally, we have a look at the bus voltage:"
   ]
  },
  {
   "cell_type": "code",
   "execution_count": 25,
   "metadata": {
    "collapsed": false
   },
   "outputs": [
    {
     "data": {
      "text/html": [
       "<div>\n",
       "<table border=\"1\" class=\"dataframe\">\n",
       "  <thead>\n",
       "    <tr style=\"text-align: right;\">\n",
       "      <th></th>\n",
       "      <th>vm_pu</th>\n",
       "      <th>va_degree</th>\n",
       "      <th>p_kw</th>\n",
       "      <th>q_kvar</th>\n",
       "      <th>lam_p</th>\n",
       "      <th>lam_q</th>\n",
       "    </tr>\n",
       "  </thead>\n",
       "  <tbody>\n",
       "    <tr>\n",
       "      <th>0</th>\n",
       "      <td>1.000000</td>\n",
       "      <td>0.000000</td>\n",
       "      <td>-49787.594000</td>\n",
       "      <td>4603.770944</td>\n",
       "      <td>100.000000</td>\n",
       "      <td>-2.233646e-21</td>\n",
       "    </tr>\n",
       "    <tr>\n",
       "      <th>1</th>\n",
       "      <td>1.006025</td>\n",
       "      <td>-3.408832</td>\n",
       "      <td>60000.000000</td>\n",
       "      <td>0.000000</td>\n",
       "      <td>130.952253</td>\n",
       "      <td>-5.410304e-01</td>\n",
       "    </tr>\n",
       "    <tr>\n",
       "      <th>2</th>\n",
       "      <td>0.992993</td>\n",
       "      <td>-5.814938</td>\n",
       "      <td>60863.932662</td>\n",
       "      <td>-2402.098854</td>\n",
       "      <td>149.999977</td>\n",
       "      <td>1.024231e-21</td>\n",
       "    </tr>\n",
       "    <tr>\n",
       "      <th>3</th>\n",
       "      <td>1.028900</td>\n",
       "      <td>-1.511667</td>\n",
       "      <td>-73593.030259</td>\n",
       "      <td>-4882.820622</td>\n",
       "      <td>120.000012</td>\n",
       "      <td>2.510010e-21</td>\n",
       "    </tr>\n",
       "  </tbody>\n",
       "</table>\n",
       "</div>"
      ],
      "text/plain": [
       "      vm_pu  va_degree          p_kw       q_kvar       lam_p         lam_q\n",
       "0  1.000000   0.000000 -49787.594000  4603.770944  100.000000 -2.233646e-21\n",
       "1  1.006025  -3.408832  60000.000000     0.000000  130.952253 -5.410304e-01\n",
       "2  0.992993  -5.814938  60863.932662 -2402.098854  149.999977  1.024231e-21\n",
       "3  1.028900  -1.511667 -73593.030259 -4882.820622  120.000012  2.510010e-21"
      ]
     },
     "execution_count": 25,
     "metadata": {},
     "output_type": "execute_result"
    }
   ],
   "source": [
    "net.res_bus"
   ]
  },
  {
   "cell_type": "markdown",
   "metadata": {},
   "source": [
    "and constrain it:"
   ]
  },
  {
   "cell_type": "code",
   "execution_count": 26,
   "metadata": {
    "collapsed": true
   },
   "outputs": [],
   "source": [
    "net.bus[\"min_vm_pu\"] = 1.0\n",
    "net.bus[\"max_vm_pu\"] = 1.02\n",
    "pp.runopp(net)"
   ]
  },
  {
   "cell_type": "markdown",
   "metadata": {},
   "source": [
    "We can see that all voltages are within the voltage band:"
   ]
  },
  {
   "cell_type": "code",
   "execution_count": 27,
   "metadata": {
    "collapsed": false,
    "scrolled": true
   },
   "outputs": [
    {
     "data": {
      "text/html": [
       "<div>\n",
       "<table border=\"1\" class=\"dataframe\">\n",
       "  <thead>\n",
       "    <tr style=\"text-align: right;\">\n",
       "      <th></th>\n",
       "      <th>vm_pu</th>\n",
       "      <th>va_degree</th>\n",
       "      <th>p_kw</th>\n",
       "      <th>q_kvar</th>\n",
       "      <th>lam_p</th>\n",
       "      <th>lam_q</th>\n",
       "    </tr>\n",
       "  </thead>\n",
       "  <tbody>\n",
       "    <tr>\n",
       "      <th>0</th>\n",
       "      <td>1.000000</td>\n",
       "      <td>0.000000</td>\n",
       "      <td>-49906.847832</td>\n",
       "      <td>3050.617583</td>\n",
       "      <td>100.000000</td>\n",
       "      <td>-5.175966e-22</td>\n",
       "    </tr>\n",
       "    <tr>\n",
       "      <th>1</th>\n",
       "      <td>1.004168</td>\n",
       "      <td>-3.421015</td>\n",
       "      <td>60000.000000</td>\n",
       "      <td>0.000000</td>\n",
       "      <td>131.268594</td>\n",
       "      <td>-2.133680e-01</td>\n",
       "    </tr>\n",
       "    <tr>\n",
       "      <th>2</th>\n",
       "      <td>1.000000</td>\n",
       "      <td>-5.976094</td>\n",
       "      <td>59278.207273</td>\n",
       "      <td>-14858.927798</td>\n",
       "      <td>149.999993</td>\n",
       "      <td>2.520634e-21</td>\n",
       "    </tr>\n",
       "    <tr>\n",
       "      <th>3</th>\n",
       "      <td>1.020000</td>\n",
       "      <td>-1.366892</td>\n",
       "      <td>-71863.493411</td>\n",
       "      <td>9172.685486</td>\n",
       "      <td>120.000004</td>\n",
       "      <td>-1.555864e-21</td>\n",
       "    </tr>\n",
       "  </tbody>\n",
       "</table>\n",
       "</div>"
      ],
      "text/plain": [
       "      vm_pu  va_degree          p_kw        q_kvar       lam_p         lam_q\n",
       "0  1.000000   0.000000 -49906.847832   3050.617583  100.000000 -5.175966e-22\n",
       "1  1.004168  -3.421015  60000.000000      0.000000  131.268594 -2.133680e-01\n",
       "2  1.000000  -5.976094  59278.207273 -14858.927798  149.999993  2.520634e-21\n",
       "3  1.020000  -1.366892 -71863.493411   9172.685486  120.000004 -1.555864e-21"
      ]
     },
     "execution_count": 27,
     "metadata": {},
     "output_type": "execute_result"
    }
   ],
   "source": [
    "net.res_bus"
   ]
  },
  {
   "cell_type": "markdown",
   "metadata": {},
   "source": [
    "And all generators are once again involved in supplying the loads:"
   ]
  },
  {
   "cell_type": "code",
   "execution_count": 28,
   "metadata": {
    "collapsed": false,
    "scrolled": true
   },
   "outputs": [
    {
     "data": {
      "text/html": [
       "<div>\n",
       "<table border=\"1\" class=\"dataframe\">\n",
       "  <thead>\n",
       "    <tr style=\"text-align: right;\">\n",
       "      <th></th>\n",
       "      <th>p_kw</th>\n",
       "      <th>q_kvar</th>\n",
       "    </tr>\n",
       "  </thead>\n",
       "  <tbody>\n",
       "    <tr>\n",
       "      <th>0</th>\n",
       "      <td>-49906.847832</td>\n",
       "      <td>3050.617583</td>\n",
       "    </tr>\n",
       "  </tbody>\n",
       "</table>\n",
       "</div>"
      ],
      "text/plain": [
       "           p_kw       q_kvar\n",
       "0 -49906.847832  3050.617583"
      ]
     },
     "execution_count": 28,
     "metadata": {},
     "output_type": "execute_result"
    }
   ],
   "source": [
    "net.res_ext_grid"
   ]
  },
  {
   "cell_type": "code",
   "execution_count": 29,
   "metadata": {
    "collapsed": false,
    "scrolled": true
   },
   "outputs": [
    {
     "data": {
      "text/html": [
       "<div>\n",
       "<table border=\"1\" class=\"dataframe\">\n",
       "  <thead>\n",
       "    <tr style=\"text-align: right;\">\n",
       "      <th></th>\n",
       "      <th>p_kw</th>\n",
       "      <th>q_kvar</th>\n",
       "      <th>va_degree</th>\n",
       "      <th>vm_pu</th>\n",
       "    </tr>\n",
       "  </thead>\n",
       "  <tbody>\n",
       "    <tr>\n",
       "      <th>0</th>\n",
       "      <td>-10721.792727</td>\n",
       "      <td>-14858.927798</td>\n",
       "      <td>-5.976094</td>\n",
       "      <td>1.00</td>\n",
       "    </tr>\n",
       "    <tr>\n",
       "      <th>1</th>\n",
       "      <td>-81863.493411</td>\n",
       "      <td>9172.685486</td>\n",
       "      <td>-1.366892</td>\n",
       "      <td>1.02</td>\n",
       "    </tr>\n",
       "  </tbody>\n",
       "</table>\n",
       "</div>"
      ],
      "text/plain": [
       "           p_kw        q_kvar  va_degree  vm_pu\n",
       "0 -10721.792727 -14858.927798  -5.976094   1.00\n",
       "1 -81863.493411   9172.685486  -1.366892   1.02"
      ]
     },
     "execution_count": 29,
     "metadata": {},
     "output_type": "execute_result"
    }
   ],
   "source": [
    "net.res_gen"
   ]
  },
  {
   "cell_type": "markdown",
   "metadata": {},
   "source": [
    "This of course comes once again with rising dispatch costs:"
   ]
  },
  {
   "cell_type": "code",
   "execution_count": 30,
   "metadata": {
    "collapsed": false
   },
   "outputs": [
    {
     "data": {
      "text/plain": [
       "16422.572901622087"
      ]
     },
     "execution_count": 30,
     "metadata": {},
     "output_type": "execute_result"
    }
   ],
   "source": [
    "net.res_cost"
   ]
  },
  {
   "cell_type": "markdown",
   "metadata": {},
   "source": [
    "## DC OPF\n",
    "\n",
    "pandapower also provides the possibility of running a DC Optimal Power Flow:"
   ]
  },
  {
   "cell_type": "code",
   "execution_count": 31,
   "metadata": {
    "collapsed": true
   },
   "outputs": [],
   "source": [
    "pp.rundcopp(net)"
   ]
  },
  {
   "cell_type": "markdown",
   "metadata": {},
   "source": [
    "Since voltage magnitudes are not included in the DC power flow formulation, voltage constraints canot be considered in the DC OPF:"
   ]
  },
  {
   "cell_type": "code",
   "execution_count": 32,
   "metadata": {
    "collapsed": false
   },
   "outputs": [
    {
     "data": {
      "text/html": [
       "<div>\n",
       "<table border=\"1\" class=\"dataframe\">\n",
       "  <thead>\n",
       "    <tr style=\"text-align: right;\">\n",
       "      <th></th>\n",
       "      <th>vm_pu</th>\n",
       "      <th>va_degree</th>\n",
       "      <th>p_kw</th>\n",
       "      <th>q_kvar</th>\n",
       "      <th>lam_p</th>\n",
       "      <th>lam_q</th>\n",
       "    </tr>\n",
       "  </thead>\n",
       "  <tbody>\n",
       "    <tr>\n",
       "      <th>0</th>\n",
       "      <td>NaN</td>\n",
       "      <td>1.643814e-24</td>\n",
       "      <td>-49999.999962</td>\n",
       "      <td>NaN</td>\n",
       "      <td>100.000000</td>\n",
       "      <td>0.0</td>\n",
       "    </tr>\n",
       "    <tr>\n",
       "      <th>1</th>\n",
       "      <td>NaN</td>\n",
       "      <td>-3.436967e+00</td>\n",
       "      <td>60000.000000</td>\n",
       "      <td>NaN</td>\n",
       "      <td>130.909091</td>\n",
       "      <td>0.0</td>\n",
       "    </tr>\n",
       "    <tr>\n",
       "      <th>2</th>\n",
       "      <td>NaN</td>\n",
       "      <td>-5.708566e+00</td>\n",
       "      <td>61488.746675</td>\n",
       "      <td>NaN</td>\n",
       "      <td>150.000000</td>\n",
       "      <td>0.0</td>\n",
       "    </tr>\n",
       "    <tr>\n",
       "      <th>3</th>\n",
       "      <td>NaN</td>\n",
       "      <td>-1.362340e+00</td>\n",
       "      <td>-71488.746713</td>\n",
       "      <td>NaN</td>\n",
       "      <td>120.000000</td>\n",
       "      <td>0.0</td>\n",
       "    </tr>\n",
       "  </tbody>\n",
       "</table>\n",
       "</div>"
      ],
      "text/plain": [
       "   vm_pu     va_degree          p_kw  q_kvar       lam_p  lam_q\n",
       "0    NaN  1.643814e-24 -49999.999962     NaN  100.000000    0.0\n",
       "1    NaN -3.436967e+00  60000.000000     NaN  130.909091    0.0\n",
       "2    NaN -5.708566e+00  61488.746675     NaN  150.000000    0.0\n",
       "3    NaN -1.362340e+00 -71488.746713     NaN  120.000000    0.0"
      ]
     },
     "execution_count": 32,
     "metadata": {},
     "output_type": "execute_result"
    }
   ],
   "source": [
    "net.res_bus"
   ]
  },
  {
   "cell_type": "markdown",
   "metadata": {},
   "source": [
    "Line and transformer loading limits are however complied with:"
   ]
  },
  {
   "cell_type": "code",
   "execution_count": 33,
   "metadata": {
    "collapsed": false
   },
   "outputs": [
    {
     "data": {
      "text/html": [
       "<div>\n",
       "<table border=\"1\" class=\"dataframe\">\n",
       "  <thead>\n",
       "    <tr style=\"text-align: right;\">\n",
       "      <th></th>\n",
       "      <th>p_from_kw</th>\n",
       "      <th>q_from_kvar</th>\n",
       "      <th>p_to_kw</th>\n",
       "      <th>q_to_kvar</th>\n",
       "      <th>pl_kw</th>\n",
       "      <th>ql_kvar</th>\n",
       "      <th>i_from_ka</th>\n",
       "      <th>i_to_ka</th>\n",
       "      <th>i_ka</th>\n",
       "      <th>loading_percent</th>\n",
       "    </tr>\n",
       "  </thead>\n",
       "  <tbody>\n",
       "    <tr>\n",
       "      <th>0</th>\n",
       "      <td>16715.233326</td>\n",
       "      <td>NaN</td>\n",
       "      <td>-16715.233326</td>\n",
       "      <td>NaN</td>\n",
       "      <td>NaN</td>\n",
       "      <td>NaN</td>\n",
       "      <td>0.087732</td>\n",
       "      <td>0.087732</td>\n",
       "      <td>0.087732</td>\n",
       "      <td>18.666430</td>\n",
       "    </tr>\n",
       "    <tr>\n",
       "      <th>1</th>\n",
       "      <td>-44773.513348</td>\n",
       "      <td>NaN</td>\n",
       "      <td>44773.513348</td>\n",
       "      <td>NaN</td>\n",
       "      <td>NaN</td>\n",
       "      <td>NaN</td>\n",
       "      <td>0.235000</td>\n",
       "      <td>0.235000</td>\n",
       "      <td>0.235000</td>\n",
       "      <td>50.000000</td>\n",
       "    </tr>\n",
       "    <tr>\n",
       "      <th>2</th>\n",
       "      <td>26715.233365</td>\n",
       "      <td>NaN</td>\n",
       "      <td>-26715.233365</td>\n",
       "      <td>NaN</td>\n",
       "      <td>NaN</td>\n",
       "      <td>NaN</td>\n",
       "      <td>0.140219</td>\n",
       "      <td>0.140219</td>\n",
       "      <td>0.140219</td>\n",
       "      <td>29.833747</td>\n",
       "    </tr>\n",
       "  </tbody>\n",
       "</table>\n",
       "</div>"
      ],
      "text/plain": [
       "      p_from_kw  q_from_kvar       p_to_kw  q_to_kvar  pl_kw  ql_kvar  \\\n",
       "0  16715.233326          NaN -16715.233326        NaN    NaN      NaN   \n",
       "1 -44773.513348          NaN  44773.513348        NaN    NaN      NaN   \n",
       "2  26715.233365          NaN -26715.233365        NaN    NaN      NaN   \n",
       "\n",
       "   i_from_ka   i_to_ka      i_ka  loading_percent  \n",
       "0   0.087732  0.087732  0.087732        18.666430  \n",
       "1   0.235000  0.235000  0.235000        50.000000  \n",
       "2   0.140219  0.140219  0.140219        29.833747  "
      ]
     },
     "execution_count": 33,
     "metadata": {},
     "output_type": "execute_result"
    }
   ],
   "source": [
    "net.res_line"
   ]
  },
  {
   "cell_type": "code",
   "execution_count": 34,
   "metadata": {
    "collapsed": false
   },
   "outputs": [
    {
     "data": {
      "text/html": [
       "<div>\n",
       "<table border=\"1\" class=\"dataframe\">\n",
       "  <thead>\n",
       "    <tr style=\"text-align: right;\">\n",
       "      <th></th>\n",
       "      <th>p_hv_kw</th>\n",
       "      <th>q_hv_kvar</th>\n",
       "      <th>p_lv_kw</th>\n",
       "      <th>q_lv_kvar</th>\n",
       "      <th>pl_kw</th>\n",
       "      <th>ql_kvar</th>\n",
       "      <th>i_hv_ka</th>\n",
       "      <th>i_lv_ka</th>\n",
       "      <th>loading_percent</th>\n",
       "    </tr>\n",
       "  </thead>\n",
       "  <tbody>\n",
       "    <tr>\n",
       "      <th>0</th>\n",
       "      <td>49999.999962</td>\n",
       "      <td>NaN</td>\n",
       "      <td>-49999.999962</td>\n",
       "      <td>NaN</td>\n",
       "      <td>NaN</td>\n",
       "      <td>NaN</td>\n",
       "      <td>0.131216</td>\n",
       "      <td>0.262432</td>\n",
       "      <td>50.0</td>\n",
       "    </tr>\n",
       "  </tbody>\n",
       "</table>\n",
       "</div>"
      ],
      "text/plain": [
       "        p_hv_kw  q_hv_kvar       p_lv_kw  q_lv_kvar  pl_kw  ql_kvar   i_hv_ka  \\\n",
       "0  49999.999962        NaN -49999.999962        NaN    NaN      NaN  0.131216   \n",
       "\n",
       "    i_lv_ka  loading_percent  \n",
       "0  0.262432             50.0  "
      ]
     },
     "execution_count": 34,
     "metadata": {},
     "output_type": "execute_result"
    }
   ],
   "source": [
    "net.res_trafo"
   ]
  },
  {
   "cell_type": "markdown",
   "metadata": {},
   "source": [
    "As are generator limits:"
   ]
  },
  {
   "cell_type": "code",
   "execution_count": 35,
   "metadata": {
    "collapsed": false
   },
   "outputs": [
    {
     "data": {
      "text/html": [
       "<div>\n",
       "<table border=\"1\" class=\"dataframe\">\n",
       "  <thead>\n",
       "    <tr style=\"text-align: right;\">\n",
       "      <th></th>\n",
       "      <th>name</th>\n",
       "      <th>bus</th>\n",
       "      <th>p_kw</th>\n",
       "      <th>vm_pu</th>\n",
       "      <th>sn_kva</th>\n",
       "      <th>min_q_kvar</th>\n",
       "      <th>max_q_kvar</th>\n",
       "      <th>scaling</th>\n",
       "      <th>in_service</th>\n",
       "      <th>type</th>\n",
       "      <th>min_p_kw</th>\n",
       "      <th>max_p_kw</th>\n",
       "      <th>controllable</th>\n",
       "    </tr>\n",
       "  </thead>\n",
       "  <tbody>\n",
       "    <tr>\n",
       "      <th>0</th>\n",
       "      <td>None</td>\n",
       "      <td>2</td>\n",
       "      <td>-80000.0</td>\n",
       "      <td>1.01</td>\n",
       "      <td>NaN</td>\n",
       "      <td>NaN</td>\n",
       "      <td>NaN</td>\n",
       "      <td>1.0</td>\n",
       "      <td>True</td>\n",
       "      <td>None</td>\n",
       "      <td>-80000.0</td>\n",
       "      <td>0.0</td>\n",
       "      <td>True</td>\n",
       "    </tr>\n",
       "    <tr>\n",
       "      <th>1</th>\n",
       "      <td>None</td>\n",
       "      <td>3</td>\n",
       "      <td>-100000.0</td>\n",
       "      <td>1.01</td>\n",
       "      <td>NaN</td>\n",
       "      <td>NaN</td>\n",
       "      <td>NaN</td>\n",
       "      <td>1.0</td>\n",
       "      <td>True</td>\n",
       "      <td>None</td>\n",
       "      <td>-100000.0</td>\n",
       "      <td>0.0</td>\n",
       "      <td>True</td>\n",
       "    </tr>\n",
       "  </tbody>\n",
       "</table>\n",
       "</div>"
      ],
      "text/plain": [
       "   name  bus      p_kw  vm_pu  sn_kva  min_q_kvar  max_q_kvar  scaling  \\\n",
       "0  None    2  -80000.0   1.01     NaN         NaN         NaN      1.0   \n",
       "1  None    3 -100000.0   1.01     NaN         NaN         NaN      1.0   \n",
       "\n",
       "  in_service  type  min_p_kw  max_p_kw controllable  \n",
       "0       True  None  -80000.0       0.0         True  \n",
       "1       True  None -100000.0       0.0         True  "
      ]
     },
     "execution_count": 35,
     "metadata": {},
     "output_type": "execute_result"
    }
   ],
   "source": [
    "net.gen"
   ]
  },
  {
   "cell_type": "code",
   "execution_count": 36,
   "metadata": {
    "collapsed": false
   },
   "outputs": [
    {
     "data": {
      "text/html": [
       "<div>\n",
       "<table border=\"1\" class=\"dataframe\">\n",
       "  <thead>\n",
       "    <tr style=\"text-align: right;\">\n",
       "      <th></th>\n",
       "      <th>p_kw</th>\n",
       "      <th>q_kvar</th>\n",
       "      <th>va_degree</th>\n",
       "      <th>vm_pu</th>\n",
       "    </tr>\n",
       "  </thead>\n",
       "  <tbody>\n",
       "    <tr>\n",
       "      <th>0</th>\n",
       "      <td>-8511.253325</td>\n",
       "      <td>NaN</td>\n",
       "      <td>-5.708566</td>\n",
       "      <td>1.0</td>\n",
       "    </tr>\n",
       "    <tr>\n",
       "      <th>1</th>\n",
       "      <td>-81488.746713</td>\n",
       "      <td>NaN</td>\n",
       "      <td>-1.362340</td>\n",
       "      <td>1.0</td>\n",
       "    </tr>\n",
       "  </tbody>\n",
       "</table>\n",
       "</div>"
      ],
      "text/plain": [
       "           p_kw  q_kvar  va_degree  vm_pu\n",
       "0  -8511.253325     NaN  -5.708566    1.0\n",
       "1 -81488.746713     NaN  -1.362340    1.0"
      ]
     },
     "execution_count": 36,
     "metadata": {},
     "output_type": "execute_result"
    }
   ],
   "source": [
    "net.res_gen"
   ]
  },
  {
   "cell_type": "markdown",
   "metadata": {},
   "source": [
    "The cost function is the same for the linearized OPF as for the non-linear one:"
   ]
  },
  {
   "cell_type": "code",
   "execution_count": 37,
   "metadata": {
    "collapsed": false
   },
   "outputs": [
    {
     "data": {
      "text/plain": [
       "16055.337600528508"
      ]
     },
     "execution_count": 37,
     "metadata": {},
     "output_type": "execute_result"
    }
   ],
   "source": [
    "net.res_cost"
   ]
  },
  {
   "cell_type": "code",
   "execution_count": null,
   "metadata": {
    "collapsed": true
   },
   "outputs": [],
   "source": []
  }
 ],
 "metadata": {
  "anaconda-cloud": {},
  "kernelspec": {
   "display_name": "Python [default]",
   "language": "python",
   "name": "python3"
  },
  "language_info": {
   "codemirror_mode": {
    "name": "ipython",
    "version": 3
   },
   "file_extension": ".py",
   "mimetype": "text/x-python",
   "name": "python",
   "nbconvert_exporter": "python",
   "pygments_lexer": "ipython3",
   "version": "3.5.2"
  }
 },
 "nbformat": 4,
 "nbformat_minor": 0
}
