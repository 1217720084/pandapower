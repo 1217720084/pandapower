{
 "cells": [
  {
   "cell_type": "markdown",
   "metadata": {},
   "source": [
    "# Building a Controller"
   ]
  },
  {
   "cell_type": "markdown",
   "metadata": {},
   "source": [
    "The following documents the development of a new controller.\n",
    "In this case we are going to implement an arbitrary controllable storage unit. This\n",
    "may be a battery, an electrically powered car or some sort of reservoir storage."
   ]
  },
  {
   "cell_type": "markdown",
   "metadata": {},
   "source": [
    "## Modelling a Battery\n",
    "\n",
    "In order to simulate a storage system it is possible to use sgens or loads to model the discharging or charging state. The power of a storage can be positive or negative, so the use of either a sgen or a load is (per definition of the elements) not correct. To overcome this issue, a storage element can be created.\n",
    "\n",
    "As pandapower is not a time dependend simulation tool and there is no time domain parameter in default power flow calculations, the state of charge (SoC) is not updated during any power flow calculation. \n",
    "In Order to update the SoC we build our own storage controller and keep track of the SOC.\n",
    "\n",
    "State of charge (SoC [\\%]) is the level of charge of an electric battery relative to its capacity.\n"
   ]
  },
  {
   "cell_type": "markdown",
   "metadata": {},
   "source": [
    "## Controller init\n",
    "First we start by creating a new file *control/storage_control.py*, containing our new class."
   ]
  },
  {
   "cell_type": "markdown",
   "metadata": {},
   "source": [
    "Import and inherit from the parent class `Controller` and override methods you would like to use. Next we write the actual code for the methods."
   ]
  },
  {
   "cell_type": "code",
   "execution_count": 1,
   "metadata": {},
   "outputs": [],
   "source": [
    "import control\n",
    "\n",
    "class Storage(control.basic_controller.Controller):\n",
    "    \"\"\"\n",
    "        Example class of a Storage-Controller. Models an abstract energy storage.\n",
    "    \"\"\"\n",
    "    def __init__(self, net, gid, data_source=None, p_profile=None, in_service=True,\n",
    "                 recycle=False, order=0, level=0, **kwargs):\n",
    "        super().__init__(net, in_service=in_service, recycle=recycle, order=order, level=level,\n",
    "                    initial_powerflow = True, **kwargs)\n",
    "        \n",
    "        # read generator attributes from net\n",
    "        self.gid = gid  # index of the controlled storage\n",
    "        self.bus = net.storage.at[gid, \"bus\"]\n",
    "        self.p_mw = net.storage.at[gid, \"p_mw\"]\n",
    "        self.q_mvar = net.storage.at[gid, \"q_mvar\"]\n",
    "        self.sn_mva = net.storage.at[gid, \"sn_mva\"]\n",
    "        self.name = net.storage.at[gid, \"name\"]\n",
    "        self.gen_type = net.storage.at[gid, \"type\"]\n",
    "        self.in_service = net.storage.at[gid, \"in_service\"]\n",
    "        self.applied = False\n",
    "\n",
    "        #specific attributes\n",
    "        self.max_e_mwh = net.storage.at[gid, \"max_e_mwh\"]\n",
    "        self.soc_percent = net.storage.at[gid, \"soc_percent\"] = 0\n",
    "        \n",
    "        # profile attributes\n",
    "        self.data_source = data_source\n",
    "        self.p_profile = p_profile\n",
    "        self.last_time_step = None"
   ]
  },
  {
   "cell_type": "markdown",
   "metadata": {},
   "source": [
    "We choose to represent the storage-unit as a storage\n",
    "element in pandapower. We start with a function calculating the amout of stored energy:"
   ]
  },
  {
   "cell_type": "code",
   "execution_count": 2,
   "metadata": {},
   "outputs": [],
   "source": [
    "    def get_stored_ernergy(self):\n",
    "        # do some \"complex\" calculations\n",
    "        return self.max_e_mwh * self.soc_percent / 100"
   ]
  },
  {
   "cell_type": "markdown",
   "metadata": {},
   "source": [
    "Also a first step we want our controller to be able to write its P and Q and state of charge values back to the\n",
    "data structure net.\n",
    "   "
   ]
  },
  {
   "cell_type": "code",
   "execution_count": 3,
   "metadata": {},
   "outputs": [],
   "source": [
    "def write_to_net(self):\n",
    "        # write p, q to bus within the net\n",
    "        self.net.storage.at[self.gid, \"p_mw\"] = self.p_mw\n",
    "        self.net.storage.at[self.gid, \"q_mvar\"] = self.q_mvar\n",
    "        self.net.storage.at[self.gid, \"soc_percent\"]= self.soc_percent"
   ]
  },
  {
   "cell_type": "markdown",
   "metadata": {},
   "source": [
    "Also remember that 'is_converged()' returns the boolean value of convergence:"
   ]
  },
  {
   "cell_type": "code",
   "execution_count": 4,
   "metadata": {},
   "outputs": [],
   "source": [
    "    def is_converged(self):\n",
    "        # check if controller already was applied\n",
    "        return self.applied"
   ]
  },
  {
   "cell_type": "markdown",
   "metadata": {},
   "source": [
    "In case the controller is not yet converged, the control step is executed. In the example it simply\n",
    "adopts a new value according to the previously calculated target and writes back to the net."
   ]
  },
  {
   "cell_type": "code",
   "execution_count": 5,
   "metadata": {},
   "outputs": [],
   "source": [
    "    def control_step(self):\n",
    "        # write p, q, soc to storage within the net\n",
    "        self.write_to_net()\n",
    "        self.applied = True\n"
   ]
  },
  {
   "cell_type": "markdown",
   "metadata": {},
   "source": [
    "In a time-series simulation the battery should read new power values from a profile and keep track\n",
    "of its state of charge as depicted below."
   ]
  },
  {
   "cell_type": "code",
   "execution_count": 6,
   "metadata": {},
   "outputs": [],
   "source": [
    "    def time_step(self, time):\n",
    "        # keep track of the soc (assuming time is given in 15min values)\n",
    "        if self.last_time_step is not None:\n",
    "            # The amount of Energy produce or consumed in the last timestep is added relative to the \n",
    "            # maximum of the possible stored energy\n",
    "            self.soc_percent += (self.p_mw * (time-self.last_time_step) * 15 / 60) / self.max_e_mwh * 100\n",
    "        self.last_time_step = time\n",
    "\n",
    "        # read new values from a profile\n",
    "        if self.data_source:\n",
    "            if self.p_profile is not None:\n",
    "                self.p_mw = self.data_source.get_time_step_value(time_step=time,\n",
    "                                                                profile_name=self.p_profile)\n",
    "                \n",
    "        self.applied = False # reset applied variable"
   ]
  },
  {
   "cell_type": "markdown",
   "metadata": {},
   "source": [
    "We are now ready to create objects of our newly implemented class and simulate with it!"
   ]
  },
  {
   "cell_type": "code",
   "execution_count": 7,
   "metadata": {},
   "outputs": [
    {
     "name": "stderr",
     "output_type": "stream",
     "text": [
      "hp.pandapower.control.util.auxiliary - INFO: Creating controller 0 of type <class '__main__.Storage'> \n",
      "hp.pandapower.control.basic_controller - WARNING: Method is_converged() has not been overwritten (and will always return True)!\n",
      "hp.pandapower.control.basic_controller - WARNING: Method is_converged() has not been overwritten (and will always return True)!\n",
      "hp.pandapower.control.basic_controller - WARNING: Method is_converged() has not been overwritten (and will always return True)!\n",
      "hp.pandapower.control.basic_controller - WARNING: Method is_converged() has not been overwritten (and will always return True)!\n",
      "hp.pandapower.control.basic_controller - WARNING: Method is_converged() has not been overwritten (and will always return True)!\n",
      "hp.pandapower.control.basic_controller - WARNING: Method is_converged() has not been overwritten (and will always return True)!\n"
     ]
    },
    {
     "name": "stdout",
     "output_type": "stream",
     "text": [
      "Progress: |██████████████████████████████████████████████████| 100.0% Complete\n",
      "\n",
      "{'Parameters':    time_step  controller_unstable  powerflow_failed\n",
      "0          0                False             False\n",
      "1          1                False             False\n",
      "2          2                False             False\n",
      "3          3                False             False\n",
      "4          4                False             False\n",
      "5          5                False             False, 'res_storage.p_mw':      0\n",
      "0  0.1\n",
      "1  0.1\n",
      "2  0.1\n",
      "3  0.1\n",
      "4  0.1\n",
      "5  0.1, 'storage.soc_percent':    Battery\n",
      "0      0.0\n",
      "1      0.0\n",
      "2      0.0\n",
      "3      0.0\n",
      "4      0.0\n",
      "5      0.0}\n"
     ]
    },
    {
     "data": {
      "image/png": "[encoded data removed]",
      "text/plain": [
       "<Figure size 432x288 with 1 Axes>"
      ]
     },
     "metadata": {
      "needs_background": "light"
     },
     "output_type": "display_data"
    }
   ],
   "source": [
    "# Importing necessary packages\n",
    "import pandapower as pp\n",
    "import control\n",
    "import pandas as pd\n",
    "import timeseries as ts\n",
    "\n",
    "# importing a grid from the library\n",
    "from pandapower.networks import mv_oberrhein\n",
    "\n",
    "# loading the network with the usecase 'generation'\n",
    "net = mv_oberrhein()\n",
    "pp.runpp(net)\n",
    "\n",
    "# creating storage unit in the grid, which will be controlled by our controller\n",
    "store_el = pp.create_storage(net, 30, p_mw = .1, q_mvar = 0, max_e_mwh = 0.1, )\n",
    "\n",
    "# creating a simple time series\n",
    "framedata = pd.DataFrame([0.1, .05, 0.1, .005, -0.2, 0], columns=['P'])\n",
    "datasource = ts.DFData(framedata)\n",
    "\n",
    "# defining an OutputWriter to track certain variables\n",
    "ow = ts.OutputWriter(net)\n",
    "\n",
    "ow.log_variable(\"res_storage\", \"p_mw\")\n",
    "ow.log_variable(\"storage\", \"soc_percent\")\n",
    "\n",
    "\n",
    "# creating an Object of our new build storage controller\n",
    "ctrl = Storage(net=net, gid=store_el, data_source=datasource,p_profile='P')\n",
    "\n",
    "# starting time series simulation\n",
    "ts.run_timeseries(net, time_steps=range(0, 6), output_writer=ow)\n",
    "\n",
    "# plotting the state of charge\n",
    "ow.output['storage.soc_percent'].columns = ['Battery']\n",
    "ax = ow.output['storage.soc_percent'].plot()\n",
    "ax.set_xlabel('Time in 15min Steps')\n",
    "ax.set_ylabel('State of Charge in %')\n",
    "ax.legend()\n",
    "\n",
    "print(ow.output)"
   ]
  },
  {
   "cell_type": "code",
   "execution_count": 8,
   "metadata": {},
   "outputs": [
    {
     "name": "stderr",
     "output_type": "stream",
     "text": [
      "hp.pandapower.control.util.auxiliary - INFO: Creating controller 0 of type <class '__main__.Storage'> \n"
     ]
    },
    {
     "name": "stdout",
     "output_type": "stream",
     "text": [
      "Progress: |██████████████████████████████████████████████████| 100.0% Complete\n",
      "\n"
     ]
    },
    {
     "data": {
      "text/plain": [
       "<matplotlib.legend.Legend at 0x1f88b6eceb8>"
      ]
     },
     "execution_count": 8,
     "metadata": {},
     "output_type": "execute_result"
    },
    {
     "data": {
      "image/png": "[encoded data removed]",
      "text/plain": [
       "<Figure size 432x288 with 1 Axes>"
      ]
     },
     "metadata": {
      "needs_background": "light"
     },
     "output_type": "display_data"
    }
   ],
   "source": [
    "# -*- coding: utf-8 -*-\n",
    "\"\"\"\n",
    "Created on Wed Oct 16 15:46:38 2019\n",
    "\n",
    "@author: jwiemer\n",
    "\"\"\"\n",
    "\n",
    "import control\n",
    "import pandapower as pp\n",
    "import timeseries as ts\n",
    "import pandas as pd\n",
    "\n",
    "\n",
    "\n",
    "class Storage(control.basic_controller.Controller):\n",
    "    \"\"\"\n",
    "        Example class of a Storage-Controller. Models an abstract energy storage.\n",
    "    \"\"\"\n",
    "    def __init__(self, net, gid, data_source=None, p_profile=None, in_service=True,\n",
    "                 recycle=False, order=0, level=0, **kwargs):\n",
    "        super().__init__(net, in_service=in_service, recycle=recycle, order=order, level=level,\n",
    "                    initial_powerflow = True, **kwargs)\n",
    "        \n",
    "        # read generator attributes from net\n",
    "        self.gid = gid  # index of the controlled storage\n",
    "        self.bus = net.storage.at[gid, \"bus\"]\n",
    "        self.p_mw = net.storage.at[gid, \"p_mw\"]\n",
    "        self.q_mvar = net.storage.at[gid, \"q_mvar\"]\n",
    "        self.sn_mva = net.storage.at[gid, \"sn_mva\"]\n",
    "        self.name = net.storage.at[gid, \"name\"]\n",
    "        self.gen_type = net.storage.at[gid, \"type\"]\n",
    "        self.in_service = net.storage.at[gid, \"in_service\"]\n",
    "        self.applied = False\n",
    "\n",
    "        #specific attributes\n",
    "        self.max_e_mwh = net.storage.at[gid, \"max_e_mwh\"]\n",
    "        self.soc_percent = net.storage.at[gid, \"soc_percent\"] = 0\n",
    "        \n",
    "        # profile attributes\n",
    "        self.data_source = data_source\n",
    "        self.p_profile = p_profile\n",
    "        self.last_time_step = None\n",
    "        \n",
    "    def get_stored_ernergy(self):\n",
    "    # do some \"complex\" calculations\n",
    "        return self.max_e_mwh * self.soc_percent / 100\n",
    "    \n",
    "    def write_to_net(self):\n",
    "        # write p, q to bus within the net\n",
    "        self.net.storage.at[self.gid, \"p_mw\"] = self.p_mw\n",
    "        self.net.storage.at[self.gid, \"q_mvar\"] = self.q_mvar\n",
    "        self.net.storage.at[self.gid, \"soc_percent\"]= self.soc_percent\n",
    "        \n",
    "    def is_converged(self):\n",
    "    # check if controller already was applied\n",
    "        return self.applied\n",
    "    \n",
    "    def control_step(self):\n",
    "        # write p, q, soc to storage within the net\n",
    "        self.write_to_net()\n",
    "        self.applied = True\n",
    "        \n",
    "    def time_step(self, time):\n",
    "        # keep track of the soc (assuming time is given in 15min values)\n",
    "        if self.last_time_step is not None:\n",
    "            self.soc_percent += (self.p_mw * (time-self.last_time_step) * 15 / 60) / self.max_e_mwh * 100\n",
    "        self.last_time_step = time\n",
    "\n",
    "        # read new values from a profile\n",
    "        if self.data_source:\n",
    "            if self.p_profile is not None:\n",
    "                self.p_mw = self.data_source.get_time_step_value(time_step=time,\n",
    "                                                                profile_name=self.p_profile)\n",
    "                \n",
    "        self.applied = False # reset applied variable\n",
    "        \n",
    "\n",
    "# importing a grid from the library\n",
    "from pandapower.networks import mv_oberrhein\n",
    "\n",
    "# loading the network with the usecase 'generation'\n",
    "net = mv_oberrhein()\n",
    "pp.runpp(net)\n",
    "\n",
    "# creating storage unit in the grid, which will be controlled by our controller\n",
    "store_el = pp.create_storage(net, 30, p_mw = .1, q_mvar = 0, max_e_mwh = 0.1, )\n",
    "\n",
    "# creating a simple time series\n",
    "framedata = pd.DataFrame([0.1, .05, 0.1, .005, -0.2, 0], columns=['P'])\n",
    "datasource = ts.DFData(framedata)\n",
    "\n",
    "# defining an OutputWriter to track certain variables\n",
    "ow = ts.OutputWriter(net)\n",
    "\n",
    "ow.log_variable(\"res_storage\", \"p_mw\")\n",
    "ow.log_variable(\"storage\", \"soc_percent\")\n",
    "\n",
    "\n",
    "# creating an Object of our new build storage controller\n",
    "ctrl = Storage(net=net, gid=store_el, data_source=datasource,p_profile='P')\n",
    "\n",
    "# starting time series simulation\n",
    "ts.run_timeseries(net, time_steps=range(0, 6), output_writer=ow)\n",
    "\n",
    "# plotting the state of charge\n",
    "ow.output['storage.soc_percent'].columns = ['Battery']\n",
    "ax = ow.output['storage.soc_percent'].plot()\n",
    "ax.set_xlabel('Time in 15min Steps')\n",
    "ax.set_ylabel('State of Charge in %')\n",
    "ax.legend()\n",
    "\n",
    "#print(ow.output)\n",
    "        "
   ]
  },
  {
   "cell_type": "code",
   "execution_count": null,
   "metadata": {},
   "outputs": [],
   "source": []
  }
 ],
 "metadata": {
  "kernelspec": {
   "display_name": "Python 3",
   "language": "python",
   "name": "python3"
  },
  "language_info": {
   "codemirror_mode": {
    "name": "ipython",
    "version": 3
   },
   "file_extension": ".py",
   "mimetype": "text/x-python",
   "name": "python",
   "nbconvert_exporter": "python",
   "pygments_lexer": "ipython3",
   "version": "3.6.8"
  }
 },
 "nbformat": 4,
 "nbformat_minor": 2
}
