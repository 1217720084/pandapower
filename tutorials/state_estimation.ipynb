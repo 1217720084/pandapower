{
 "cells": [
  {
   "cell_type": "markdown",
   "metadata": {},
   "source": [
    "# pandapower WLS state estimation\n",
    "This is an introduction into the usage of the pandapower state estimation module. It shows how to \n",
    "create measurements for a pandapower network and the perform the state estimation with the weighted least squares (WLS) algorithm.\n",
    "\n",
    "## Example Network\n",
    "\n",
    "We will be using the reference network from the book \"Power System State Estimation\" by Ali Abur and Antonio Gómez Expósito. \n",
    "It contains 3 buses with connecting lines between buses 1-2, 1-3 and 2-3. 8 measurements of different types enable WLS state estimation.\n",
    "\n",
    "We first create this network in pandapower. Remember that the indices in pandapower are 0-based, so bus 1 has the index 0 and so on. The same goes for all other elements."
   ]
  },
  {
   "cell_type": "code",
   "execution_count": 1,
   "metadata": {
    "collapsed": false
   },
   "outputs": [
    {
     "name": "stdout",
     "output_type": "stream",
     "text": [
      "Created the pandapower network.\n"
     ]
    }
   ],
   "source": [
    "import pandapower as pp\n",
    "\n",
    "net = pp.create_empty_network()\n",
    "\n",
    "pp.create_ext_grid(net, 0)\n",
    "\n",
    "pp.create_bus(net, name=\"bus 1\", vn_kv=1.)  # bus index is 0\n",
    "pp.create_bus(net, name=\"bus 2\", vn_kv=1.)  # bus index is 1\n",
    "pp.create_bus(net, name=\"bus 3\", vn_kv=1.)  # bus index is 2\n",
    "\n",
    "pp.create_line_from_parameters(net, 0, 1, 1, r_ohm_per_km=.01, x_ohm_per_km=.03, c_nf_per_km=0., imax_ka=1)\n",
    "pp.create_line_from_parameters(net, 0, 2, 1, r_ohm_per_km=.02, x_ohm_per_km=.05, c_nf_per_km=0., imax_ka=1)\n",
    "pp.create_line_from_parameters(net, 1, 2, 1, r_ohm_per_km=.03, x_ohm_per_km=.08, c_nf_per_km=0., imax_ka=1)\n",
    "\n",
    "print(\"Created the pandapower network.\")"
   ]
  },
  {
   "cell_type": "markdown",
   "metadata": {},
   "source": [
    "## Adding measurements\n",
    "\n",
    "Now we can add our measurements, which are valid for one point in time. We are adding two voltage magnitude measurements on buses 1 and 2. The standard deviations are 0.004 p.u.. We are also adding bus injection measurements for both P and Q on bus 2. Finally, we are adding line measurements for lines 0 and 1, both placed at the side of bus 1. The bus parameter defines the side at which the line measurement is positioned, the line argument is the index of the line."
   ]
  },
  {
   "cell_type": "code",
   "execution_count": 2,
   "metadata": {
    "collapsed": false
   },
   "outputs": [],
   "source": [
    "from pandapower.estimation import state_estimation\n",
    "from pandapower.create import create_measurement\n",
    "\n",
    "create_measurement(net, \"vbus_pu\", 0, 1.006, .004)        # V at bus 1\n",
    "create_measurement(net, \"vbus_pu\", 1, .968, .004)         # V at bus 2\n",
    "\n",
    "create_measurement(net, \"pbus_kw\", 1, -501, 10)           # P at bus 2\n",
    "create_measurement(net, \"qbus_kvar\", 1, -286, 10)         # Q at bus 2\n",
    "\n",
    "create_measurement(net, \"pline_kw\", 0, 888, 8, line=0)    # Pline (bus 1 -> bus 2) at bus 1\n",
    "create_measurement(net, \"pline_kw\", 0, 1173, 8, line=1)   # Pline (bus 1 -> bus 3) at bus 1\n",
    "create_measurement(net, \"qline_kvar\", 0, 568, 8, line=0)  # Qline (bus 1 -> bus 2) at bus 1\n",
    "create_measurement(net, \"qline_kvar\", 0, 663, 8, line=1)  # Qline (bus 1 -> bus 3) at bus 1"
   ]
  },
  {
   "cell_type": "markdown",
   "metadata": {},
   "source": [
    "We can check if all measurements have been created correctly:"
   ]
  },
  {
   "cell_type": "code",
   "execution_count": 3,
   "metadata": {
    "collapsed": false
   },
   "outputs": [
    {
     "data": {
      "text/html": [
       "<div>\n",
       "<table border=\"1\" class=\"dataframe\">\n",
       "  <thead>\n",
       "    <tr style=\"text-align: right;\">\n",
       "      <th></th>\n",
       "      <th>type</th>\n",
       "      <th>bus</th>\n",
       "      <th>line</th>\n",
       "      <th>value</th>\n",
       "      <th>std_dev</th>\n",
       "    </tr>\n",
       "  </thead>\n",
       "  <tbody>\n",
       "    <tr>\n",
       "      <th>0</th>\n",
       "      <td>vbus_pu</td>\n",
       "      <td>0.0</td>\n",
       "      <td>None</td>\n",
       "      <td>1.006</td>\n",
       "      <td>0.004</td>\n",
       "    </tr>\n",
       "    <tr>\n",
       "      <th>1</th>\n",
       "      <td>vbus_pu</td>\n",
       "      <td>1.0</td>\n",
       "      <td>None</td>\n",
       "      <td>0.968</td>\n",
       "      <td>0.004</td>\n",
       "    </tr>\n",
       "    <tr>\n",
       "      <th>2</th>\n",
       "      <td>pbus_kw</td>\n",
       "      <td>1.0</td>\n",
       "      <td>None</td>\n",
       "      <td>-501.000</td>\n",
       "      <td>10.000</td>\n",
       "    </tr>\n",
       "    <tr>\n",
       "      <th>3</th>\n",
       "      <td>qbus_kvar</td>\n",
       "      <td>1.0</td>\n",
       "      <td>None</td>\n",
       "      <td>-286.000</td>\n",
       "      <td>10.000</td>\n",
       "    </tr>\n",
       "    <tr>\n",
       "      <th>4</th>\n",
       "      <td>pline_kw</td>\n",
       "      <td>0.0</td>\n",
       "      <td>0</td>\n",
       "      <td>888.000</td>\n",
       "      <td>8.000</td>\n",
       "    </tr>\n",
       "    <tr>\n",
       "      <th>5</th>\n",
       "      <td>pline_kw</td>\n",
       "      <td>0.0</td>\n",
       "      <td>1</td>\n",
       "      <td>1173.000</td>\n",
       "      <td>8.000</td>\n",
       "    </tr>\n",
       "    <tr>\n",
       "      <th>6</th>\n",
       "      <td>qline_kvar</td>\n",
       "      <td>0.0</td>\n",
       "      <td>0</td>\n",
       "      <td>568.000</td>\n",
       "      <td>8.000</td>\n",
       "    </tr>\n",
       "    <tr>\n",
       "      <th>7</th>\n",
       "      <td>qline_kvar</td>\n",
       "      <td>0.0</td>\n",
       "      <td>1</td>\n",
       "      <td>663.000</td>\n",
       "      <td>8.000</td>\n",
       "    </tr>\n",
       "  </tbody>\n",
       "</table>\n",
       "</div>"
      ],
      "text/plain": [
       "         type  bus  line     value  std_dev\n",
       "0     vbus_pu  0.0  None     1.006    0.004\n",
       "1     vbus_pu  1.0  None     0.968    0.004\n",
       "2     pbus_kw  1.0  None  -501.000   10.000\n",
       "3   qbus_kvar  1.0  None  -286.000   10.000\n",
       "4    pline_kw  0.0     0   888.000    8.000\n",
       "5    pline_kw  0.0     1  1173.000    8.000\n",
       "6  qline_kvar  0.0     0   568.000    8.000\n",
       "7  qline_kvar  0.0     1   663.000    8.000"
      ]
     },
     "execution_count": 3,
     "metadata": {},
     "output_type": "execute_result"
    }
   ],
   "source": [
    "net.measurement"
   ]
  },
  {
   "cell_type": "markdown",
   "metadata": {},
   "source": [
    "## Performing the state estimation\n",
    "\n",
    "The measurements are now set. We have to initialize the starting voltage magnitude and voltage angles for the state estimator. In continous operation, this can be the result of the last state estimation. In our case, we set flat start conditions: 1.0 p.u. for voltage magnitude, 0.0 degree for voltage angles."
   ]
  },
  {
   "cell_type": "code",
   "execution_count": 4,
   "metadata": {
    "collapsed": false
   },
   "outputs": [],
   "source": [
    "import numpy as np\n",
    "\n",
    "v_start = np.array([1.0, 1.0, 1.0])\n",
    "delta_start = np.array([0., 0., 0.])"
   ]
  },
  {
   "cell_type": "markdown",
   "metadata": {},
   "source": [
    "And now run the state estimation. Afterwards, the result will be stored in the table res_bus_est."
   ]
  },
  {
   "cell_type": "code",
   "execution_count": 5,
   "metadata": {
    "collapsed": false
   },
   "outputs": [
    {
     "name": "stdout",
     "output_type": "stream",
     "text": [
      "True\n"
     ]
    }
   ],
   "source": [
    "wls = state_estimation()\n",
    "wls.set_grid(net)\n",
    "success = wls.estimate(v_start, delta_start)\n",
    "print(success)"
   ]
  },
  {
   "cell_type": "markdown",
   "metadata": {},
   "source": [
    "## Working with results\n",
    "\n",
    "We can show the voltage magnitude and angles directly:"
   ]
  },
  {
   "cell_type": "code",
   "execution_count": 6,
   "metadata": {
    "collapsed": false
   },
   "outputs": [
    {
     "data": {
      "text/plain": [
       "0    0.999629\n",
       "1    0.974156\n",
       "2    0.943890\n",
       "Name: vm_pu, dtype: float64"
      ]
     },
     "execution_count": 6,
     "metadata": {},
     "output_type": "execute_result"
    }
   ],
   "source": [
    "net.res_bus_est.vm_pu"
   ]
  },
  {
   "cell_type": "code",
   "execution_count": 7,
   "metadata": {
    "collapsed": false
   },
   "outputs": [
    {
     "data": {
      "text/plain": [
       "0    0.000000\n",
       "1   -1.247547\n",
       "2   -2.745717\n",
       "Name: va_degree, dtype: float64"
      ]
     },
     "execution_count": 7,
     "metadata": {},
     "output_type": "execute_result"
    }
   ],
   "source": [
    "net.res_bus_est.va_degree"
   ]
  },
  {
   "cell_type": "markdown",
   "metadata": {},
   "source": [
    "The results match exactly with the results from the book. Nice!    \n",
    "Let's look at the bus power injections, which are available in res_bus_est as well"
   ]
  },
  {
   "cell_type": "code",
   "execution_count": 8,
   "metadata": {
    "collapsed": false
   },
   "outputs": [
    {
     "data": {
      "text/plain": [
       "0   -2064.016454\n",
       "1     495.974966\n",
       "2    1514.220983\n",
       "Name: p_kw, dtype: float64"
      ]
     },
     "execution_count": 8,
     "metadata": {},
     "output_type": "execute_result"
    }
   ],
   "source": [
    "net.res_bus_est.p_kw\n"
   ]
  },
  {
   "cell_type": "code",
   "execution_count": 9,
   "metadata": {
    "collapsed": false
   },
   "outputs": [
    {
     "data": {
      "text/plain": [
       "0   -1226.440397\n",
       "1     297.749528\n",
       "2     787.528929\n",
       "Name: q_kvar, dtype: float64"
      ]
     },
     "execution_count": 9,
     "metadata": {},
     "output_type": "execute_result"
    }
   ],
   "source": [
    "net.res_bus_est.q_kvar"
   ]
  },
  {
   "cell_type": "markdown",
   "metadata": {},
   "source": [
    "This concludes the small tutorial how to perform state estimation with a pandapower network."
   ]
  }
 ],
 "metadata": {
  "anaconda-cloud": {},
  "kernelspec": {
   "display_name": "Python [default]",
   "language": "python",
   "name": "python3"
  },
  "language_info": {
   "codemirror_mode": {
    "name": "ipython",
    "version": 3
   },
   "file_extension": ".py",
   "mimetype": "text/x-python",
   "name": "python",
   "nbconvert_exporter": "python",
   "pygments_lexer": "ipython3",
   "version": "3.5.1"
  }
 },
 "nbformat": 4,
 "nbformat_minor": 0
}
