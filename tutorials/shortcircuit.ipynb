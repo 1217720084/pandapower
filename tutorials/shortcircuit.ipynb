{
 "cells": [
  {
   "cell_type": "markdown",
   "metadata": {},
   "source": [
    "# Short-Circuit Calculation according to IEC 60909\n",
    "\n",
    "pandapower supports short-circuit calculations with the equivalent source. The pandapower short-circuit calculation currently supports the following elements\n",
    "\n",
    "- bus\n",
    "- load (neglected)\n",
    "- shunt (neglected)\n",
    "- sgen\n",
    "- gen\n",
    "- ext_grid\n",
    "- line\n",
    "- trafo\n",
    "- trafo3w\n",
    "- switch\n",
    "\n",
    "with the correction factors as defined in IEC 60909.\n",
    "\n",
    "The following short-circuit currents can be calculated:\n",
    "- ikss (Initial symmetrical short-circuit current)\n",
    "- ip (short-circuit current peak)\n",
    "- ith (equivalent thermal short-circuit current)\n",
    "\n",
    "where ikss ip and ith are only implemented for networks without synchronous generators.\n",
    "\n",
    "The results for all elements are tested against commercial software to ensure that correction factors are correctly applied. "
   ]
  },
  {
   "cell_type": "markdown",
   "metadata": {},
   "source": [
    "### Example Network\n",
    "\n",
    "Here is a little example on how to use the short-circuit calculation. First, we create a simple line network with 4 buses, that are connected by one transformer and two lines. The network is fed by an external grid connection at bus 1:"
   ]
  },
  {
   "cell_type": "code",
   "execution_count": 59,
   "metadata": {
    "collapsed": false
   },
   "outputs": [
    {
     "data": {
      "text/plain": [
       "This pandapower network includes the following parameter tables:\n",
       "   - line (2 elements)\n",
       "   - trafo (1 elements)\n",
       "   - ext_grid (1 elements)\n",
       "   - bus (4 elements)"
      ]
     },
     "execution_count": 59,
     "metadata": {},
     "output_type": "execute_result"
    }
   ],
   "source": [
    "import pandapower as pp\n",
    "\n",
    "net = pp.create_empty_network()\n",
    "b1 = pp.create_bus(net, vn_kv=110.)\n",
    "b2 = pp.create_bus(net, vn_kv=20.)\n",
    "b3 = pp.create_bus(net, vn_kv=20.)\n",
    "b4 = pp.create_bus(net, vn_kv=20.)\n",
    "pp.create_ext_grid(net, b1, s_sc_max_mva=100., s_sc_min_mva=40., rx_min=0.1, rx_max=0.1)\n",
    "pp.create_transformer(net, b1, b2, std_type=\"63 MVA 110/20 kV\")\n",
    "pp.create_line(net, b2, b3, length_km=2., std_type=\"NA2XS2Y 1x95 RM/25 12/20 kV\")\n",
    "pp.create_line(net, b3, b4, length_km=2., std_type=\"NA2XS2Y 1x95 RM/25 12/20 kV\")\n",
    "net"
   ]
  },
  {
   "cell_type": "markdown",
   "metadata": {},
   "source": [
    "### Maximum Initial Short-Circuit Current\n",
    "Now, we import the shortcircuit submodule and calculate the maximum short-circuit currents with the runsc function:"
   ]
  },
  {
   "cell_type": "code",
   "execution_count": 60,
   "metadata": {
    "collapsed": false
   },
   "outputs": [
    {
     "data": {
      "text/html": [
       "<div>\n",
       "<table border=\"1\" class=\"dataframe\">\n",
       "  <thead>\n",
       "    <tr style=\"text-align: right;\">\n",
       "      <th></th>\n",
       "      <th>ikss_max_ka</th>\n",
       "    </tr>\n",
       "  </thead>\n",
       "  <tbody>\n",
       "    <tr>\n",
       "      <th>0</th>\n",
       "      <td>0.524864</td>\n",
       "    </tr>\n",
       "    <tr>\n",
       "      <th>1</th>\n",
       "      <td>2.493060</td>\n",
       "    </tr>\n",
       "    <tr>\n",
       "      <th>2</th>\n",
       "      <td>2.331817</td>\n",
       "    </tr>\n",
       "    <tr>\n",
       "      <th>3</th>\n",
       "      <td>2.168514</td>\n",
       "    </tr>\n",
       "  </tbody>\n",
       "</table>\n",
       "</div>"
      ],
      "text/plain": [
       "   ikss_max_ka\n",
       "0     0.524864\n",
       "1     2.493060\n",
       "2     2.331817\n",
       "3     2.168514"
      ]
     },
     "execution_count": 60,
     "metadata": {},
     "output_type": "execute_result"
    }
   ],
   "source": [
    "import pandapower.shortcircuit as sc\n",
    "\n",
    "sc.runsc(net, case=\"max\")\n",
    "net.res_bus_sc"
   ]
  },
  {
   "cell_type": "markdown",
   "metadata": {},
   "source": [
    "### Other Short-Circuit Currents"
   ]
  },
  {
   "cell_type": "markdown",
   "metadata": {},
   "source": [
    "Apart from the basic subtransient short-circuit current, we can also calculate thermal current ith and peak current ip:"
   ]
  },
  {
   "cell_type": "code",
   "execution_count": 61,
   "metadata": {
    "collapsed": false
   },
   "outputs": [
    {
     "data": {
      "text/html": [
       "<div>\n",
       "<table border=\"1\" class=\"dataframe\">\n",
       "  <thead>\n",
       "    <tr style=\"text-align: right;\">\n",
       "      <th></th>\n",
       "      <th>ikss_max_ka</th>\n",
       "      <th>ip_max_ka</th>\n",
       "      <th>ith_max_ka</th>\n",
       "    </tr>\n",
       "  </thead>\n",
       "  <tbody>\n",
       "    <tr>\n",
       "      <th>0</th>\n",
       "      <td>0.524864</td>\n",
       "      <td>1.296004</td>\n",
       "      <td>0.533745</td>\n",
       "    </tr>\n",
       "    <tr>\n",
       "      <th>1</th>\n",
       "      <td>2.493060</td>\n",
       "      <td>6.232063</td>\n",
       "      <td>2.539753</td>\n",
       "    </tr>\n",
       "    <tr>\n",
       "      <th>2</th>\n",
       "      <td>2.331817</td>\n",
       "      <td>5.121186</td>\n",
       "      <td>2.351413</td>\n",
       "    </tr>\n",
       "    <tr>\n",
       "      <th>3</th>\n",
       "      <td>2.168514</td>\n",
       "      <td>4.331045</td>\n",
       "      <td>2.180716</td>\n",
       "    </tr>\n",
       "  </tbody>\n",
       "</table>\n",
       "</div>"
      ],
      "text/plain": [
       "   ikss_max_ka  ip_max_ka  ith_max_ka\n",
       "0     0.524864   1.296004    0.533745\n",
       "1     2.493060   6.232063    2.539753\n",
       "2     2.331817   5.121186    2.351413\n",
       "3     2.168514   4.331045    2.180716"
      ]
     },
     "execution_count": 61,
     "metadata": {},
     "output_type": "execute_result"
    }
   ],
   "source": [
    "sc.runsc(net, case=\"max\", ith=True, ip=True)\n",
    "net.res_bus_sc"
   ]
  },
  {
   "cell_type": "markdown",
   "metadata": {},
   "source": [
    "### Minimum Short-Circuit Currents\n",
    "\n",
    "Minimum short-circuits can be calculated in the same way. However, we need to specify the end temperature of the lines after a fault as per standard first:"
   ]
  },
  {
   "cell_type": "code",
   "execution_count": 62,
   "metadata": {
    "collapsed": false
   },
   "outputs": [
    {
     "data": {
      "text/html": [
       "<div>\n",
       "<table border=\"1\" class=\"dataframe\">\n",
       "  <thead>\n",
       "    <tr style=\"text-align: right;\">\n",
       "      <th></th>\n",
       "      <th>ikss_min_ka</th>\n",
       "      <th>ip_min_ka</th>\n",
       "      <th>ith_min_ka</th>\n",
       "    </tr>\n",
       "  </thead>\n",
       "  <tbody>\n",
       "    <tr>\n",
       "      <th>0</th>\n",
       "      <td>0.209946</td>\n",
       "      <td>0.518402</td>\n",
       "      <td>0.213498</td>\n",
       "    </tr>\n",
       "    <tr>\n",
       "      <th>1</th>\n",
       "      <td>1.079694</td>\n",
       "      <td>2.681600</td>\n",
       "      <td>1.098844</td>\n",
       "    </tr>\n",
       "    <tr>\n",
       "      <th>2</th>\n",
       "      <td>1.044364</td>\n",
       "      <td>2.390963</td>\n",
       "      <td>1.055189</td>\n",
       "    </tr>\n",
       "    <tr>\n",
       "      <th>3</th>\n",
       "      <td>1.007100</td>\n",
       "      <td>2.153310</td>\n",
       "      <td>1.014592</td>\n",
       "    </tr>\n",
       "  </tbody>\n",
       "</table>\n",
       "</div>"
      ],
      "text/plain": [
       "   ikss_min_ka  ip_min_ka  ith_min_ka\n",
       "0     0.209946   0.518402    0.213498\n",
       "1     1.079694   2.681600    1.098844\n",
       "2     1.044364   2.390963    1.055189\n",
       "3     1.007100   2.153310    1.014592"
      ]
     },
     "execution_count": 62,
     "metadata": {},
     "output_type": "execute_result"
    }
   ],
   "source": [
    "net.line[\"endtemp_degree\"] = 80\n",
    "sc.runsc(net, case=\"min\", ith=True, ip=True)\n",
    "net.res_bus_sc"
   ]
  },
  {
   "cell_type": "markdown",
   "metadata": {},
   "source": [
    "### Static Generators\n",
    "\n",
    "Static generators are also considered according to the norm. We add one at bus b2:"
   ]
  },
  {
   "cell_type": "code",
   "execution_count": 63,
   "metadata": {
    "collapsed": false
   },
   "outputs": [
    {
     "data": {
      "text/plain": [
       "This pandapower network includes the following parameter tables:\n",
       "   - sgen (1 elements)\n",
       "   - line (2 elements)\n",
       "   - trafo (1 elements)\n",
       "   - ext_grid (1 elements)\n",
       "   - bus (4 elements)\n",
       " and the following results tables:\n",
       "   - res_bus_sc (4 elements)"
      ]
     },
     "execution_count": 63,
     "metadata": {},
     "output_type": "execute_result"
    }
   ],
   "source": [
    "pp.create_sgen(net, b2, p_kw=0, sn_kva=1e3)\n",
    "net"
   ]
  },
  {
   "cell_type": "markdown",
   "metadata": {},
   "source": [
    "If we run the short-circuit calculation again, we can see that the currents increased due to the contribution of the inverteres to the short-circuit currents."
   ]
  },
  {
   "cell_type": "code",
   "execution_count": 64,
   "metadata": {
    "collapsed": false
   },
   "outputs": [
    {
     "data": {
      "text/html": [
       "<div>\n",
       "<table border=\"1\" class=\"dataframe\">\n",
       "  <thead>\n",
       "    <tr style=\"text-align: right;\">\n",
       "      <th></th>\n",
       "      <th>ikss_max_ka</th>\n",
       "      <th>ip_max_ka</th>\n",
       "      <th>ith_max_ka</th>\n",
       "    </tr>\n",
       "  </thead>\n",
       "  <tbody>\n",
       "    <tr>\n",
       "      <th>0</th>\n",
       "      <td>0.542095</td>\n",
       "      <td>1.338570</td>\n",
       "      <td>0.551268</td>\n",
       "    </tr>\n",
       "    <tr>\n",
       "      <th>1</th>\n",
       "      <td>2.588319</td>\n",
       "      <td>6.467238</td>\n",
       "      <td>2.636606</td>\n",
       "    </tr>\n",
       "    <tr>\n",
       "      <th>2</th>\n",
       "      <td>2.414313</td>\n",
       "      <td>5.278320</td>\n",
       "      <td>2.434175</td>\n",
       "    </tr>\n",
       "    <tr>\n",
       "      <th>3</th>\n",
       "      <td>2.238463</td>\n",
       "      <td>4.442232</td>\n",
       "      <td>2.250753</td>\n",
       "    </tr>\n",
       "  </tbody>\n",
       "</table>\n",
       "</div>"
      ],
      "text/plain": [
       "   ikss_max_ka  ip_max_ka  ith_max_ka\n",
       "0     0.542095   1.338570    0.551268\n",
       "1     2.588319   6.467238    2.636606\n",
       "2     2.414313   5.278320    2.434175\n",
       "3     2.238463   4.442232    2.250753"
      ]
     },
     "execution_count": 64,
     "metadata": {},
     "output_type": "execute_result"
    }
   ],
   "source": [
    "sc.runsc(net, case=\"max\", ith=True, ip=True)\n",
    "net.res_bus_sc"
   ]
  },
  {
   "cell_type": "markdown",
   "metadata": {},
   "source": [
    "### Synchronous Generators\n",
    "\n",
    "Synchronous generators can also be considered in the short-circuit calculation. We create one at bus 3:"
   ]
  },
  {
   "cell_type": "code",
   "execution_count": 65,
   "metadata": {
    "collapsed": false
   },
   "outputs": [
    {
     "data": {
      "text/plain": [
       "This pandapower network includes the following parameter tables:\n",
       "   - sgen (1 elements)\n",
       "   - line (2 elements)\n",
       "   - trafo (1 elements)\n",
       "   - ext_grid (1 elements)\n",
       "   - bus (4 elements)\n",
       "   - gen (1 elements)\n",
       " and the following results tables:\n",
       "   - res_bus_sc (4 elements)"
      ]
     },
     "execution_count": 65,
     "metadata": {},
     "output_type": "execute_result"
    }
   ],
   "source": [
    "pp.create_gen(net, b3, p_kw=0, vm_pu=1.0, cos_phi=0.8, vn_kv=22, sn_kva=5e3, xdss=0.2, rdss=0.005)\n",
    "net"
   ]
  },
  {
   "cell_type": "markdown",
   "metadata": {},
   "source": [
    "and run the short-circuit calculation again:"
   ]
  },
  {
   "cell_type": "code",
   "execution_count": 66,
   "metadata": {
    "collapsed": false
   },
   "outputs": [
    {
     "data": {
      "text/html": [
       "<div>\n",
       "<table border=\"1\" class=\"dataframe\">\n",
       "  <thead>\n",
       "    <tr style=\"text-align: right;\">\n",
       "      <th></th>\n",
       "      <th>ikss_max_ka</th>\n",
       "    </tr>\n",
       "  </thead>\n",
       "  <tbody>\n",
       "    <tr>\n",
       "      <th>0</th>\n",
       "      <td>0.574612</td>\n",
       "    </tr>\n",
       "    <tr>\n",
       "      <th>1</th>\n",
       "      <td>2.770945</td>\n",
       "    </tr>\n",
       "    <tr>\n",
       "      <th>2</th>\n",
       "      <td>2.595212</td>\n",
       "    </tr>\n",
       "    <tr>\n",
       "      <th>3</th>\n",
       "      <td>2.395220</td>\n",
       "    </tr>\n",
       "  </tbody>\n",
       "</table>\n",
       "</div>"
      ],
      "text/plain": [
       "   ikss_max_ka\n",
       "0     0.574612\n",
       "1     2.770945\n",
       "2     2.595212\n",
       "3     2.395220"
      ]
     },
     "execution_count": 66,
     "metadata": {},
     "output_type": "execute_result"
    }
   ],
   "source": [
    "sc.runsc(net, case=\"max\")\n",
    "net.res_bus_sc"
   ]
  },
  {
   "cell_type": "markdown",
   "metadata": {},
   "source": [
    "Once again, the short-circuit current increases due to the contribution of the generator (ip and ith are not yet supported for synchronous generators)."
   ]
  }
 ],
 "metadata": {
  "anaconda-cloud": {},
  "kernelspec": {
   "display_name": "Python [default]",
   "language": "python",
   "name": "python3"
  },
  "language_info": {
   "codemirror_mode": {
    "name": "ipython",
    "version": 3
   },
   "file_extension": ".py",
   "mimetype": "text/x-python",
   "name": "python",
   "nbconvert_exporter": "python",
   "pygments_lexer": "ipython3",
   "version": "3.5.2"
  }
 },
 "nbformat": 4,
 "nbformat_minor": 1
}
