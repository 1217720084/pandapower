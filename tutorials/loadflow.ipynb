{
 "cells": [
  {
   "cell_type": "markdown",
   "metadata": {},
   "source": [
    "# Running a Power Flow"
   ]
  },
  {
   "cell_type": "markdown",
   "metadata": {},
   "source": [
    "As an example for the power flow, "
   ]
  },
  {
   "cell_type": "code",
   "execution_count": 5,
   "metadata": {
    "collapsed": false
   },
   "outputs": [],
   "source": [
    "import pandapower as pp\n",
    "import pandapower.networks\n",
    "\n",
    "net = pandapower.networks.create_example_simple()"
   ]
  },
  {
   "cell_type": "code",
   "execution_count": 11,
   "metadata": {
    "collapsed": true
   },
   "outputs": [],
   "source": [
    "net.gen.vm_pu = 1.01\n",
    "pp.runpp(net)"
   ]
  },
  {
   "cell_type": "code",
   "execution_count": 12,
   "metadata": {
    "collapsed": false
   },
   "outputs": [
    {
     "data": {
      "text/html": [
       "<div>\n",
       "<table border=\"1\" class=\"dataframe\">\n",
       "  <thead>\n",
       "    <tr style=\"text-align: right;\">\n",
       "      <th></th>\n",
       "      <th>vm_pu</th>\n",
       "      <th>va_degree</th>\n",
       "      <th>p_kw</th>\n",
       "      <th>q_kvar</th>\n",
       "    </tr>\n",
       "  </thead>\n",
       "  <tbody>\n",
       "    <tr>\n",
       "      <th>0</th>\n",
       "      <td>1.000000</td>\n",
       "      <td>0.000000</td>\n",
       "      <td>-4041.018287</td>\n",
       "      <td>3326.998115</td>\n",
       "    </tr>\n",
       "    <tr>\n",
       "      <th>1</th>\n",
       "      <td>1.000004</td>\n",
       "      <td>-0.000829</td>\n",
       "      <td>0.000000</td>\n",
       "      <td>0.000000</td>\n",
       "    </tr>\n",
       "    <tr>\n",
       "      <th>2</th>\n",
       "      <td>1.000004</td>\n",
       "      <td>-0.000829</td>\n",
       "      <td>0.000000</td>\n",
       "      <td>-960.008132</td>\n",
       "    </tr>\n",
       "    <tr>\n",
       "      <th>3</th>\n",
       "      <td>1.009766</td>\n",
       "      <td>-1.038446</td>\n",
       "      <td>0.000000</td>\n",
       "      <td>0.000000</td>\n",
       "    </tr>\n",
       "    <tr>\n",
       "      <th>4</th>\n",
       "      <td>1.009766</td>\n",
       "      <td>-1.038446</td>\n",
       "      <td>0.000000</td>\n",
       "      <td>0.000000</td>\n",
       "    </tr>\n",
       "    <tr>\n",
       "      <th>5</th>\n",
       "      <td>1.010000</td>\n",
       "      <td>-1.037451</td>\n",
       "      <td>-6000.000000</td>\n",
       "      <td>-4733.002424</td>\n",
       "    </tr>\n",
       "    <tr>\n",
       "      <th>6</th>\n",
       "      <td>1.009841</td>\n",
       "      <td>-1.034518</td>\n",
       "      <td>-2000.000000</td>\n",
       "      <td>0.000000</td>\n",
       "    </tr>\n",
       "    <tr>\n",
       "      <th>7</th>\n",
       "      <td>1.009014</td>\n",
       "      <td>-1.064318</td>\n",
       "      <td>12000.000000</td>\n",
       "      <td>2400.000000</td>\n",
       "    </tr>\n",
       "  </tbody>\n",
       "</table>\n",
       "</div>"
      ],
      "text/plain": [
       "      vm_pu  va_degree          p_kw       q_kvar\n",
       "0  1.000000   0.000000  -4041.018287  3326.998115\n",
       "1  1.000004  -0.000829      0.000000     0.000000\n",
       "2  1.000004  -0.000829      0.000000  -960.008132\n",
       "3  1.009766  -1.038446      0.000000     0.000000\n",
       "4  1.009766  -1.038446      0.000000     0.000000\n",
       "5  1.010000  -1.037451  -6000.000000 -4733.002424\n",
       "6  1.009841  -1.034518  -2000.000000     0.000000\n",
       "7  1.009014  -1.064318  12000.000000  2400.000000"
      ]
     },
     "execution_count": 12,
     "metadata": {},
     "output_type": "execute_result"
    }
   ],
   "source": [
    "net.res_bus"
   ]
  },
  {
   "cell_type": "code",
   "execution_count": 13,
   "metadata": {
    "collapsed": false
   },
   "outputs": [
    {
     "data": {
      "text/html": [
       "<div>\n",
       "<table border=\"1\" class=\"dataframe\">\n",
       "  <thead>\n",
       "    <tr style=\"text-align: right;\">\n",
       "      <th></th>\n",
       "      <th>p_from_kw</th>\n",
       "      <th>q_from_kvar</th>\n",
       "      <th>p_to_kw</th>\n",
       "      <th>q_to_kvar</th>\n",
       "      <th>pl_kw</th>\n",
       "      <th>ql_kvar</th>\n",
       "      <th>i_ka</th>\n",
       "      <th>loading_percent</th>\n",
       "    </tr>\n",
       "  </thead>\n",
       "  <tbody>\n",
       "    <tr>\n",
       "      <th>0</th>\n",
       "      <td>4041.018287</td>\n",
       "      <td>-3326.998117</td>\n",
       "      <td>-4040.988171</td>\n",
       "      <td>3.203907e+03</td>\n",
       "      <td>0.030116</td>\n",
       "      <td>-123.091242</td>\n",
       "      <td>0.027473</td>\n",
       "      <td>4.672343</td>\n",
       "    </tr>\n",
       "    <tr>\n",
       "      <th>1</th>\n",
       "      <td>-5998.690085</td>\n",
       "      <td>-4734.721960</td>\n",
       "      <td>6000.000002</td>\n",
       "      <td>4.733002e+03</td>\n",
       "      <td>1.309917</td>\n",
       "      <td>-1.719497</td>\n",
       "      <td>0.218475</td>\n",
       "      <td>51.894350</td>\n",
       "    </tr>\n",
       "    <tr>\n",
       "      <th>2</th>\n",
       "      <td>-1999.850458</td>\n",
       "      <td>-4.732022</td>\n",
       "      <td>2000.000000</td>\n",
       "      <td>-1.480573e-09</td>\n",
       "      <td>0.149542</td>\n",
       "      <td>-4.732022</td>\n",
       "      <td>0.057173</td>\n",
       "      <td>13.580177</td>\n",
       "    </tr>\n",
       "    <tr>\n",
       "      <th>3</th>\n",
       "      <td>12007.850397</td>\n",
       "      <td>2400.395472</td>\n",
       "      <td>-12000.000000</td>\n",
       "      <td>-2.400000e+03</td>\n",
       "      <td>7.850397</td>\n",
       "      <td>0.395472</td>\n",
       "      <td>0.350114</td>\n",
       "      <td>83.162556</td>\n",
       "    </tr>\n",
       "  </tbody>\n",
       "</table>\n",
       "</div>"
      ],
      "text/plain": [
       "      p_from_kw  q_from_kvar       p_to_kw     q_to_kvar     pl_kw  \\\n",
       "0   4041.018287 -3326.998117  -4040.988171  3.203907e+03  0.030116   \n",
       "1  -5998.690085 -4734.721960   6000.000002  4.733002e+03  1.309917   \n",
       "2  -1999.850458    -4.732022   2000.000000 -1.480573e-09  0.149542   \n",
       "3  12007.850397  2400.395472 -12000.000000 -2.400000e+03  7.850397   \n",
       "\n",
       "      ql_kvar      i_ka  loading_percent  \n",
       "0 -123.091242  0.027473         4.672343  \n",
       "1   -1.719497  0.218475        51.894350  \n",
       "2   -4.732022  0.057173        13.580177  \n",
       "3    0.395472  0.350114        83.162556  "
      ]
     },
     "execution_count": 13,
     "metadata": {},
     "output_type": "execute_result"
    }
   ],
   "source": [
    "net.res_line"
   ]
  },
  {
   "cell_type": "code",
   "execution_count": 14,
   "metadata": {
    "collapsed": false
   },
   "outputs": [
    {
     "data": {
      "text/html": [
       "<div>\n",
       "<table border=\"1\" class=\"dataframe\">\n",
       "  <thead>\n",
       "    <tr style=\"text-align: right;\">\n",
       "      <th></th>\n",
       "      <th>p_hv_kw</th>\n",
       "      <th>q_hv_kvar</th>\n",
       "      <th>p_lv_kw</th>\n",
       "      <th>q_lv_kvar</th>\n",
       "      <th>pl_kw</th>\n",
       "      <th>ql_kvar</th>\n",
       "      <th>i_hv_ka</th>\n",
       "      <th>i_lv_ka</th>\n",
       "      <th>loading_percent</th>\n",
       "    </tr>\n",
       "  </thead>\n",
       "  <tbody>\n",
       "    <tr>\n",
       "      <th>0</th>\n",
       "      <td>4040.988171</td>\n",
       "      <td>-2243.898742</td>\n",
       "      <td>-4009.309854</td>\n",
       "      <td>2339.058515</td>\n",
       "      <td>31.678317</td>\n",
       "      <td>95.159773</td>\n",
       "      <td>0.02426</td>\n",
       "      <td>0.1327</td>\n",
       "      <td>18.488693</td>\n",
       "    </tr>\n",
       "  </tbody>\n",
       "</table>\n",
       "</div>"
      ],
      "text/plain": [
       "       p_hv_kw    q_hv_kvar      p_lv_kw    q_lv_kvar      pl_kw    ql_kvar  \\\n",
       "0  4040.988171 -2243.898742 -4009.309854  2339.058515  31.678317  95.159773   \n",
       "\n",
       "   i_hv_ka  i_lv_ka  loading_percent  \n",
       "0  0.02426   0.1327        18.488693  "
      ]
     },
     "execution_count": 14,
     "metadata": {},
     "output_type": "execute_result"
    }
   ],
   "source": [
    "net.res_trafo"
   ]
  },
  {
   "cell_type": "code",
   "execution_count": 15,
   "metadata": {
    "collapsed": false
   },
   "outputs": [
    {
     "data": {
      "text/html": [
       "<div>\n",
       "<table border=\"1\" class=\"dataframe\">\n",
       "  <thead>\n",
       "    <tr style=\"text-align: right;\">\n",
       "      <th></th>\n",
       "      <th>p_kw</th>\n",
       "      <th>q_kvar</th>\n",
       "    </tr>\n",
       "  </thead>\n",
       "  <tbody>\n",
       "    <tr>\n",
       "      <th>0</th>\n",
       "      <td>12000.0</td>\n",
       "      <td>2400.0</td>\n",
       "    </tr>\n",
       "  </tbody>\n",
       "</table>\n",
       "</div>"
      ],
      "text/plain": [
       "      p_kw  q_kvar\n",
       "0  12000.0  2400.0"
      ]
     },
     "execution_count": 15,
     "metadata": {},
     "output_type": "execute_result"
    }
   ],
   "source": [
    "net.res_load"
   ]
  },
  {
   "cell_type": "code",
   "execution_count": 16,
   "metadata": {
    "collapsed": false
   },
   "outputs": [
    {
     "data": {
      "text/html": [
       "<div>\n",
       "<table border=\"1\" class=\"dataframe\">\n",
       "  <thead>\n",
       "    <tr style=\"text-align: right;\">\n",
       "      <th></th>\n",
       "      <th>p_kw</th>\n",
       "      <th>q_kvar</th>\n",
       "      <th>vm_pu</th>\n",
       "    </tr>\n",
       "  </thead>\n",
       "  <tbody>\n",
       "    <tr>\n",
       "      <th>0</th>\n",
       "      <td>0.0</td>\n",
       "      <td>-960.008132</td>\n",
       "      <td>1.000004</td>\n",
       "    </tr>\n",
       "  </tbody>\n",
       "</table>\n",
       "</div>"
      ],
      "text/plain": [
       "   p_kw      q_kvar     vm_pu\n",
       "0   0.0 -960.008132  1.000004"
      ]
     },
     "execution_count": 16,
     "metadata": {},
     "output_type": "execute_result"
    }
   ],
   "source": [
    "net.res_shunt"
   ]
  },
  {
   "cell_type": "code",
   "execution_count": 30,
   "metadata": {
    "collapsed": false
   },
   "outputs": [
    {
     "data": {
      "text/html": [
       "<div>\n",
       "<table border=\"1\" class=\"dataframe\">\n",
       "  <thead>\n",
       "    <tr style=\"text-align: right;\">\n",
       "      <th></th>\n",
       "      <th>vm_pu</th>\n",
       "      <th>va_degree</th>\n",
       "      <th>p_kw</th>\n",
       "      <th>q_kvar</th>\n",
       "    </tr>\n",
       "  </thead>\n",
       "  <tbody>\n",
       "    <tr>\n",
       "      <th>0</th>\n",
       "      <td>1.000000</td>\n",
       "      <td>0.000000</td>\n",
       "      <td>-4041.018287</td>\n",
       "      <td>3326.998115</td>\n",
       "    </tr>\n",
       "    <tr>\n",
       "      <th>1</th>\n",
       "      <td>1.000004</td>\n",
       "      <td>-0.000829</td>\n",
       "      <td>0.000000</td>\n",
       "      <td>0.000000</td>\n",
       "    </tr>\n",
       "    <tr>\n",
       "      <th>2</th>\n",
       "      <td>1.000004</td>\n",
       "      <td>-0.000829</td>\n",
       "      <td>0.000000</td>\n",
       "      <td>-960.008132</td>\n",
       "    </tr>\n",
       "    <tr>\n",
       "      <th>3</th>\n",
       "      <td>1.009766</td>\n",
       "      <td>-1.038446</td>\n",
       "      <td>0.000000</td>\n",
       "      <td>0.000000</td>\n",
       "    </tr>\n",
       "    <tr>\n",
       "      <th>4</th>\n",
       "      <td>1.009766</td>\n",
       "      <td>-1.038446</td>\n",
       "      <td>0.000000</td>\n",
       "      <td>0.000000</td>\n",
       "    </tr>\n",
       "    <tr>\n",
       "      <th>5</th>\n",
       "      <td>1.010000</td>\n",
       "      <td>-1.037451</td>\n",
       "      <td>-6000.000000</td>\n",
       "      <td>-4733.002424</td>\n",
       "    </tr>\n",
       "    <tr>\n",
       "      <th>6</th>\n",
       "      <td>1.009841</td>\n",
       "      <td>-1.034518</td>\n",
       "      <td>-2000.000000</td>\n",
       "      <td>0.000000</td>\n",
       "    </tr>\n",
       "    <tr>\n",
       "      <th>7</th>\n",
       "      <td>1.009014</td>\n",
       "      <td>-1.064318</td>\n",
       "      <td>12000.000000</td>\n",
       "      <td>2400.000000</td>\n",
       "    </tr>\n",
       "  </tbody>\n",
       "</table>\n",
       "</div>"
      ],
      "text/plain": [
       "      vm_pu  va_degree          p_kw       q_kvar\n",
       "0  1.000000   0.000000  -4041.018287  3326.998115\n",
       "1  1.000004  -0.000829      0.000000     0.000000\n",
       "2  1.000004  -0.000829      0.000000  -960.008132\n",
       "3  1.009766  -1.038446      0.000000     0.000000\n",
       "4  1.009766  -1.038446      0.000000     0.000000\n",
       "5  1.010000  -1.037451  -6000.000000 -4733.002424\n",
       "6  1.009841  -1.034518  -2000.000000     0.000000\n",
       "7  1.009014  -1.064318  12000.000000  2400.000000"
      ]
     },
     "execution_count": 30,
     "metadata": {},
     "output_type": "execute_result"
    }
   ],
   "source": [
    "net.ext_grid.va_degree = 20\n",
    "pp.runpp(net, \"flat\", False)\n",
    "net.res_bus"
   ]
  },
  {
   "cell_type": "code",
   "execution_count": 31,
   "metadata": {
    "collapsed": false
   },
   "outputs": [
    {
     "data": {
      "text/html": [
       "<div>\n",
       "<table border=\"1\" class=\"dataframe\">\n",
       "  <thead>\n",
       "    <tr style=\"text-align: right;\">\n",
       "      <th></th>\n",
       "      <th>name</th>\n",
       "      <th>bus</th>\n",
       "      <th>vm_pu</th>\n",
       "      <th>va_degree</th>\n",
       "      <th>in_service</th>\n",
       "    </tr>\n",
       "  </thead>\n",
       "  <tbody>\n",
       "    <tr>\n",
       "      <th>0</th>\n",
       "      <td>None</td>\n",
       "      <td>0</td>\n",
       "      <td>1.0</td>\n",
       "      <td>20</td>\n",
       "      <td>True</td>\n",
       "    </tr>\n",
       "  </tbody>\n",
       "</table>\n",
       "</div>"
      ],
      "text/plain": [
       "   name  bus  vm_pu  va_degree in_service\n",
       "0  None    0    1.0         20       True"
      ]
     },
     "execution_count": 31,
     "metadata": {},
     "output_type": "execute_result"
    }
   ],
   "source": [
    "net.ext_grid"
   ]
  },
  {
   "cell_type": "code",
   "execution_count": null,
   "metadata": {
    "collapsed": true
   },
   "outputs": [],
   "source": []
  }
 ],
 "metadata": {
  "anaconda-cloud": {},
  "kernelspec": {
   "display_name": "Python [default]",
   "language": "python",
   "name": "python3"
  },
  "language_info": {
   "codemirror_mode": {
    "name": "ipython",
    "version": 3
   },
   "file_extension": ".py",
   "mimetype": "text/x-python",
   "name": "python",
   "nbconvert_exporter": "python",
   "pygments_lexer": "ipython3",
   "version": "3.5.2"
  }
 },
 "nbformat": 4,
 "nbformat_minor": 0
}
