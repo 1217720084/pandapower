{
 "cells": [
  {
   "cell_type": "markdown",
   "metadata": {},
   "source": [
    "# Running a simple control-loop with one Controller"
   ]
  },
  {
   "cell_type": "markdown",
   "metadata": {},
   "source": [
    "## After  completing this tutorial you will be able to invoke a simple control-loop which regulates a trafo-tap-changer\n",
    "\n",
    "For introduction purposes an easy example will be described.\n",
    "The task at hand would be to simulate a Trafo Controller with local continous tap changer voltage control. First we have to load all necesary packages. Of course we need the pandapower-package but also the control module and \n",
    "the network module."
   ]
  },
  {
   "cell_type": "markdown",
   "metadata": {},
   "source": [
    "We load the network and pass it to the parameter net. A first powerflow gives us results. We have a look at the trafo-resulttable. I wrote ``import pandapower as pp`` which provides me a handy abbreviation ``pp`` for the whole import-reference. These abbreviations have to be unique throughout your code."
   ]
  },
  {
   "cell_type": "code",
   "execution_count": 6,
   "metadata": {},
   "outputs": [
    {
     "name": "stdout",
     "output_type": "stream",
     "text": [
      "       p_hv_mw  q_hv_mvar    p_lv_mw  q_lv_mvar     pl_mw   ql_mvar   i_hv_ka  \\\n",
      "114  17.270680   3.955948 -17.207125  -2.635336  0.063556  1.320612  0.092995   \n",
      "142  20.863017   4.653035 -20.784893  -2.789431  0.078123  1.863605  0.112193   \n",
      "\n",
      "      i_lv_ka  vm_hv_pu  va_hv_degree  vm_lv_pu  va_lv_degree  loading_percent  \n",
      "114  0.495289       1.0           0.0  1.014598     -4.212528        70.871819  \n",
      "142  0.588438       1.0           0.0  1.028804     -4.943953        85.502393  \n"
     ]
    }
   ],
   "source": [
    "# Importing necessary packages\n",
    "import pandapower as pp\n",
    "import control\n",
    "from pandapower.networks import mv_oberrhein\n",
    "# loading the network with the usecase 'generation'\n",
    "net = mv_oberrhein()\n",
    "pp.runpp(net)\n",
    "\n",
    "# checking the results\n",
    "print(net.res_trafo)"
   ]
  },
  {
   "cell_type": "markdown",
   "metadata": {},
   "source": [
    "To show a simple control-behavior, we define an instance of **ContiniousTapControl** for the tranformer with the ID 114 and pass the voltagesetpoint 0.98 p.u. with a small tolerance of 1e-6."
   ]
  },
  {
   "cell_type": "code",
   "execution_count": 7,
   "metadata": {},
   "outputs": [],
   "source": [
    "# initialising controller\n",
    "tol = 1e-6\n",
    "trafo_controller = control.ContinuousTapControl(net=net, tid=114, u_set=0.98, tol=tol)"
   ]
  },
  {
   "cell_type": "markdown",
   "metadata": {},
   "source": [
    "We imported **pandapower** and the **control** module and created the object of a controller we need. You can look up which\n",
    "parameters are mandatory and which are optional in the constructor of the class you are creating\n",
    "an instance of. In our example we need to pass a reference to the net, the ID of the controlled\n",
    "transformer, the voltage setpoint and a calculation tolerance. Now we look at our network that contains our controller\n"
   ]
  },
  {
   "cell_type": "code",
   "execution_count": 8,
   "metadata": {},
   "outputs": [
    {
     "data": {
      "text/html": [
       "<div>\n",
       "<style scoped>\n",
       "    .dataframe tbody tr th:only-of-type {\n",
       "        vertical-align: middle;\n",
       "    }\n",
       "\n",
       "    .dataframe tbody tr th {\n",
       "        vertical-align: top;\n",
       "    }\n",
       "\n",
       "    .dataframe thead th {\n",
       "        text-align: right;\n",
       "    }\n",
       "</style>\n",
       "<table border=\"1\" class=\"dataframe\">\n",
       "  <thead>\n",
       "    <tr style=\"text-align: right;\">\n",
       "      <th></th>\n",
       "      <th>controller</th>\n",
       "      <th>in_service</th>\n",
       "      <th>order</th>\n",
       "      <th>level</th>\n",
       "      <th>recycle</th>\n",
       "    </tr>\n",
       "  </thead>\n",
       "  <tbody>\n",
       "    <tr>\n",
       "      <th>0</th>\n",
       "      <td>ContinuousTapControl of trafo 114</td>\n",
       "      <td>True</td>\n",
       "      <td>0.0</td>\n",
       "      <td>0</td>\n",
       "      <td>False</td>\n",
       "    </tr>\n",
       "  </tbody>\n",
       "</table>\n",
       "</div>"
      ],
      "text/plain": [
       "                          controller  in_service  order level  recycle\n",
       "0  ContinuousTapControl of trafo 114        True    0.0     0    False"
      ]
     },
     "execution_count": 8,
     "metadata": {},
     "output_type": "execute_result"
    }
   ],
   "source": [
    "net.controller"
   ]
  },
  {
   "cell_type": "markdown",
   "metadata": {},
   "source": [
    "The output in the console shows, that the controller is active and has the default values for order and level (we'll look at \n",
    "these in more detail shortly). We invoke the control-loop by setting **run_control=True** within the loadflow arguments."
   ]
  },
  {
   "cell_type": "code",
   "execution_count": 10,
   "metadata": {},
   "outputs": [],
   "source": [
    "# running a control-loop\n",
    "pp.runpp(net, run_control=True)"
   ]
  },
  {
   "cell_type": "code",
   "execution_count": 5,
   "metadata": {
    "scrolled": true
   },
   "outputs": [
    {
     "name": "stdout",
     "output_type": "stream",
     "text": [
      "       p_hv_mw  q_hv_mvar    p_lv_mw  q_lv_mvar     pl_mw   ql_mvar   i_hv_ka  \\\n",
      "114  17.299985   4.185280 -17.235828  -2.762132  0.064157  1.423147  0.093421   \n",
      "142  20.863017   4.653035 -20.784893  -2.789431  0.078123  1.863605  0.112193   \n",
      "\n",
      "      i_lv_ka  vm_hv_pu  va_hv_degree  vm_lv_pu  va_lv_degree  loading_percent  \n",
      "114  0.514188       1.0           0.0  0.980000     -4.513536        71.247940  \n",
      "142  0.588438       1.0           0.0  1.028804     -4.943953        85.502393  \n"
     ]
    }
   ],
   "source": [
    "# checking the results\n",
    "print(net.res_trafo)"
   ]
  },
  {
   "cell_type": "markdown",
   "metadata": {},
   "source": [
    "After comparing both resulttables it is clearly shown, that the voltage at the controlled transformer has changed from 1.014598 p.u. to the defined voltagesetpoint 0.98 p.u. "
   ]
  }
 ],
 "metadata": {
  "kernelspec": {
   "display_name": "Python 3",
   "language": "python",
   "name": "python3"
  },
  "language_info": {
   "codemirror_mode": {
    "name": "ipython",
    "version": 3
   },
   "file_extension": ".py",
   "mimetype": "text/x-python",
   "name": "python",
   "nbconvert_exporter": "python",
   "pygments_lexer": "ipython3",
   "version": "3.6.9"
  }
 },
 "nbformat": 4,
 "nbformat_minor": 2
}
