{
 "cells": [
  {
   "cell_type": "markdown",
   "metadata": {
    "collapsed": true
   },
   "source": [
    "# How to get the admittance matrix Ybus and the Jacobian matrix J from a pandapower net\n"
   ]
  },
  {
   "cell_type": "markdown",
   "metadata": {},
   "source": [
    "This jupyter notebooks explains how to obtain power flow matrices from a pandapower grid. These two matrices will be extracted:\n",
    "* Ybus = admittance matrix\n",
    "* J = jacobian matrix in dependency of the voltage vector\n",
    "\n",
    "We'll examine an example grid (IEEE case9), but this method should work with any other grid as well."
   ]
  },
  {
   "cell_type": "markdown",
   "metadata": {},
   "source": [
    "## How to get Ybus\n",
    "Ybus is stored after a power flow, since it can be \"recycled\" in a new power flow to save calculation time. This makes it easy to obtain it"
   ]
  },
  {
   "cell_type": "code",
   "execution_count": null,
   "metadata": {
    "collapsed": true
   },
   "outputs": [],
   "source": [
    "import pandapower as pp\n",
    "import pandapower.networks as nw\n",
    "\n",
    "def get_Ybus(net):\n",
    "    \"\"\"\n",
    "    This functions returns the admittance matrix (Ybus) from internal pandapower calculations\n",
    "    \n",
    "    \"\"\"\n",
    "    # run a power flow to get the ppc (which contains Ybus afterwards)\n",
    "    pp.runpp(net)\n",
    "\n",
    "    # ppc (this is similar to the PYPOWER format file, with some changes) contains Ybus\n",
    "    ppc = net._ppc\n",
    "\n",
    "    # Get stored Ybus in ppc\n",
    "    Ybus = ppc[\"internal\"][\"Ybus\"]\n",
    "    \n",
    "    return Ybus\n",
    "\n",
    "\n",
    "if __name__ == \"__main__\":\n",
    "    # load example network of which you want the Ybus\n",
    "    net = nw.case9()\n",
    "    Ybus = get_Ybus(net)\n",
    "    print(\"This is Ybus:\\n\")\n",
    "    print(Ybus)\n",
    "    "
   ]
  },
  {
   "cell_type": "markdown",
   "metadata": {},
   "source": [
    "# How to get J\n",
    "J is not stored in net since it is generated in every Newton-Raphson iteratione depending on the current voltage vector. This makes it a litlle bit harder to obtain."
   ]
  },
  {
   "cell_type": "code",
   "execution_count": null,
   "metadata": {
    "collapsed": true
   },
   "outputs": [],
   "source": [
    "import pandapower as pp\n",
    "import pandapower.networks as nw\n",
    "\n",
    "# functions we need for creating J\n",
    "import numpy as np\n",
    "from pandapower.pf.run_newton_raphson_pf import _get_pf_variables_from_ppci\n",
    "from pandapower.pd2ppc import _pd2ppc\n",
    "from pandapower.pf.newtonpf import _create_J_without_numba\n",
    "\n",
    "\n",
    "def get_J(net, V=None):\n",
    "\n",
    "    _, ppci = _pd2ppc(net)\n",
    "    baseMVA, bus, gen, branch, ref, pv, pq, _, _, V0 = _get_pf_variables_from_ppci(ppci)\n",
    "        \n",
    "    Ybus = get_Ybus(net)\n",
    "    if V is None:\n",
    "        V = V0\n",
    "    Ibus = np.zeros(len(V))\n",
    "    pvpq = np.r_[pv, pq]\n",
    "    \n",
    "    J = _create_J_without_numba(Ybus, V, pvpq, pq, Ibus=Ibus)\n",
    "    \n",
    "    return J\n",
    "    \n",
    "\n",
    "if __name__ == \"__main__\":\n",
    "    # load example network of which you want the Ybus and J\n",
    "    net = nw.case9()\n",
    "    \n",
    "    J = get_J(net)\n",
    "    print(\"This is J with V0;\\n\")\n",
    "    print(J)"
   ]
  }
 ],
 "metadata": {
  "kernelspec": {
   "display_name": "Python [default]",
   "language": "python",
   "name": "python3"
  },
  "language_info": {
   "codemirror_mode": {
    "name": "ipython",
    "version": 3
   },
   "file_extension": ".py",
   "mimetype": "text/x-python",
   "name": "python",
   "nbconvert_exporter": "python",
   "pygments_lexer": "ipython3",
   "version": "3.5.3"
  }
 },
 "nbformat": 4,
 "nbformat_minor": 2
}
