{
 "cells": [
  {
   "cell_type": "markdown",
   "metadata": {},
   "source": [
    "# Topological Searches in pandapower"
   ]
  },
  {
   "cell_type": "markdown",
   "metadata": {},
   "source": [
    "This is an introduction into the honeypot module topology. The topology module provides topoligical searches and analyses for pandapower networks based on the NetworkX library. This tutorial will show you how to get started and demonstrate a few use cases of the module. For a full documentation of the topology functions, see [honeypot documentation] [identification tag for link].\n",
    "\n",
    "[identification tag for link]: http://a-versys.iwes.fraunhofer.de/doc-devel/html/honeypot/topology.html#topological-algorithms"
   ]
  },
  {
   "cell_type": "markdown",
   "metadata": {},
   "source": [
    "## NetworkX"
   ]
  },
  {
   "cell_type": "markdown",
   "metadata": {},
   "source": [
    "“NetworkX is a Python language software package for the creation, manipulation, and study of the structure, dynamics, and function of complex networks.” (see [NetworkX documentation] [identification tag for link]) \n",
    "\n",
    "[identification tag for link]: http://networkx.github.io/documentation/networkx-1.10/index.html\n",
    "\n",
    "NetworkX allows you to generate networks from your data and provides a vast variety of algorithms that can be applied on them. For example you can find the shortest path between two nodes, find out if two areas in a network are connected to each other or if there are cycles in a network. For a complete list of all NetworkX algorithms see http://networkx.github.io/documentation/networkx-1.10/reference/algorithms.html\n",
    "\n",
    "The topology module uses NetworkX to perform topology analyses in electrical networks."
   ]
  },
  {
   "cell_type": "markdown",
   "metadata": {},
   "source": [
    "## NetworkX MultiGraph"
   ]
  },
  {
   "cell_type": "markdown",
   "metadata": {},
   "source": [
    "The basis of all topology functions is the conversion of a padapower network into a NetworkX MultiGraph. A MultiGraph is a simplified representation of a network’s topology, reduced to nodes and edges. Busses are being represented by nodes (Note: only buses with in_service = 1 appear in the graph), edges represent physical connections between buses (typically lines or trafos). Multiple parallel edges between nodes are possible.\n",
    "\n",
    "This is a very simple example of a pandapower network being converted to a MultiGraph. (Note: The MultiGraph’s shape is completely arbitrary since MultiGraphs have no inherent shape unless geodata is provided.)\n",
    "\n",
    "\n",
    "### Attributes of MultiGraph elements\n",
    "\n",
    "Nodes have the same indicees as the buses they originate from. Edges are defined by the nodes they connect. Additionally nodes and edges can hold key/value attribute pairs.\n",
    "\n",
    "The following attributes get transferred into the MultiGraph:\n",
    "\n",
    "#### lines:                                      \n",
    "\n",
    "    - from_bus\n",
    "    - to_bus\n",
    "    - length_km\n",
    "    - index\n",
    "    - in_service\n",
    "    - imax_ka\n",
    "    \n",
    "#### trafos:\n",
    "\n",
    "    - hv_bus\n",
    "    - lv_bus\n",
    "    - index\n",
    "    - in_service\n",
    "    \n",
    "    \n",
    "##### Apart from these there are no element attributes contained in the MultiGraph!\n",
    "\n"
   ]
  },
  {
   "cell_type": "markdown",
   "metadata": {},
   "source": [
    "## Example network\n",
    "\n",
    "To demonstrate the usage of the topology module we will use a very basic exemplary pandapower network. There will be no further explenation on how to create pandapower networks since there's a separate tutorial available in this regard.\n",
    "\n",
    "[pandapower create tutorial] [identification tag for link] \n",
    "\n",
    "[identification tag for link]: http://localhost:8888/notebooks/Tutorials/create_example_var1.ipynb\n",
    "\n",
    "For more information and a step by step introduction into creating pandapower networks, also see [pandapower documentation] [identification tag for link].\n",
    "\n",
    "[identification tag for link]: http://a-versys.iwes.fraunhofer.de/doc-devel/html/pandapower/create.html\n",
    "\n"
   ]
  },
  {
   "cell_type": "markdown",
   "metadata": {},
   "source": [
    "## Creating MultiGraphs"
   ]
  },
  {
   "cell_type": "code",
   "execution_count": 1,
   "metadata": {
    "collapsed": false
   },
   "outputs": [],
   "source": [
    "# First, we need to import the topology module\n",
    "import topology as top\n",
    "# creates the example network\n",
    "import pandapower.networks as nw\n",
    "net = nw.simple_mv_open_ring_net()\n",
    "\n",
    "# This converts our example network into a MultiGraph \n",
    "mg = top.create_nxgraph(net)"
   ]
  },
  {
   "cell_type": "markdown",
   "metadata": {},
   "source": [
    "This picture visualises the conversion: On the left hand side you can see what our example network looks like, on the right hand side how it gets converted into a MultiGraph.\n",
    "\n",
    "![][multigraph_example]\n",
    "\n",
    "[multigraph_example]:http://a-versys.iwes.fraunhofer.de/doc-devel/html/_images/multigraph_example.png\n",
    "    \n"
   ]
  },
  {
   "cell_type": "markdown",
   "metadata": {},
   "source": [
    "The create_nxgraph function takes several different arguments to individualise the resulting MultiGraph. For a full documentation see [honeypot documentation] [identification tag for link].\n",
    "\n",
    "[identification tag for link]: http://a-versys.iwes.fraunhofer.de/doc-devel/html/honeypot/topology.html#creating-multigraphs"
   ]
  },
  {
   "cell_type": "code",
   "execution_count": 2,
   "metadata": {
    "collapsed": false
   },
   "outputs": [],
   "source": [
    "# imports the topology module\n",
    "import topology as top\n",
    "# creates the example network\n",
    "import pandapower.networks as nw\n",
    "net = nw.simple_mv_open_ring_net()\n",
    "\n",
    "# MultiGraph with open switches being ignored.\n",
    "mg = top.create_nxgraph(net, respect_switches = False)"
   ]
  },
  {
   "cell_type": "markdown",
   "metadata": {},
   "source": [
    "![][multigraph_example_respect_switches]\n",
    "\n",
    "[multigraph_example_respect_switches]:http://a-versys.iwes.fraunhofer.de/doc-devel/html/_images/multigraph_example_respect_switches.png"
   ]
  },
  {
   "cell_type": "code",
   "execution_count": 3,
   "metadata": {
    "collapsed": true
   },
   "outputs": [],
   "source": [
    "# imports the topology module\n",
    "import topology as top\n",
    "# creates the example network\n",
    "import pandapower.networks as nw\n",
    "net = nw.simple_mv_open_ring_net()\n",
    "\n",
    "# MultiGraph with lines being ignored.\n",
    "mg = top.create_nxgraph(net, include_lines = False)"
   ]
  },
  {
   "cell_type": "markdown",
   "metadata": {},
   "source": [
    "![][multigraph_example_include_lines]\n",
    "\n",
    "[multigraph_example_include_lines]:http://a-versys.iwes.fraunhofer.de/doc-devel/html/_images/multigraph_example_include_lines.png"
   ]
  },
  {
   "cell_type": "code",
   "execution_count": 4,
   "metadata": {
    "collapsed": true
   },
   "outputs": [],
   "source": [
    "# imports the topology module\n",
    "import topology as top\n",
    "# creates the example network\n",
    "import pandapower.networks as nw\n",
    "net = nw.simple_mv_open_ring_net()\n",
    "\n",
    "# MultiGraph with trafos being ignored.\n",
    "mg = top.create_nxgraph(net, include_trafos = False)"
   ]
  },
  {
   "cell_type": "markdown",
   "metadata": {},
   "source": [
    "![][multigraph_example_include_trafos]\n",
    "\n",
    "[multigraph_example_include_trafos]:http://a-versys.iwes.fraunhofer.de/doc-devel/html/_images/multigraph_example_include_trafos.png"
   ]
  },
  {
   "cell_type": "code",
   "execution_count": 5,
   "metadata": {
    "collapsed": true
   },
   "outputs": [],
   "source": [
    "# imports the topology module\n",
    "import topology as top\n",
    "# creates the example network\n",
    "import pandapower.networks as nw\n",
    "net = nw.simple_mv_open_ring_net()\n",
    "\n",
    "# MultiGraph with bus 4 being set as a nogobus.\n",
    "mg = top.create_nxgraph(net, nogobuses = [4])"
   ]
  },
  {
   "cell_type": "markdown",
   "metadata": {},
   "source": [
    "![][multigraph_example_nogobuses]\n",
    "\n",
    "[multigraph_example_nogobuses]:http://a-versys.iwes.fraunhofer.de/doc-devel/html/_images/multigraph_example_nogobuses.png"
   ]
  },
  {
   "cell_type": "code",
   "execution_count": 6,
   "metadata": {
    "collapsed": false
   },
   "outputs": [],
   "source": [
    "# imports the topology module\n",
    "import topology as top\n",
    "# creates the example network\n",
    "import pandapower.networks as nw\n",
    "net = nw.simple_mv_open_ring_net()\n",
    "\n",
    "# MultiGraph with bus 4 being set as a notravbus.\n",
    "mg = top.create_nxgraph(net, notravbuses = [4])"
   ]
  },
  {
   "cell_type": "markdown",
   "metadata": {},
   "source": [
    "![][multigraph_example_notravbuses]\n",
    "\n",
    "[multigraph_example_notravbuses]:http://a-versys.iwes.fraunhofer.de/doc-devel/html/_images/multigraph_example_notravbuses.png"
   ]
  },
  {
   "cell_type": "markdown",
   "metadata": {
    "collapsed": true
   },
   "source": [
    "## Topological algorithms"
   ]
  },
  {
   "cell_type": "markdown",
   "metadata": {},
   "source": [
    "Once you converted your network into a MultiGraph there are several functions to perform topological searches and analyses at your disposal. You can either use the general-purpose functions that come with NetworkX (see http://networkx.github.io/documentation/networkx-1.10/reference/algorithms.html) or topology’s own ones which are specialized on electrical networks."
   ]
  },
  {
   "cell_type": "markdown",
   "metadata": {
    "collapsed": true
   },
   "source": [
    "## Usage examples"
   ]
  },
  {
   "cell_type": "markdown",
   "metadata": {},
   "source": [
    "The combination of a suitable MultiGraph and the availabe topology functions enables you to perform a wide range of topological searches and analyses. Here are a few examples of what you can do:"
   ]
  },
  {
   "cell_type": "markdown",
   "metadata": {},
   "source": [
    "### Using NetworkX algorithms: shortest path"
   ]
  },
  {
   "cell_type": "markdown",
   "metadata": {},
   "source": [
    "For many basic network analyses, the algorithms that come with the NetworkX package will work just fine and you won’t need one of the spezialised topology functions. Finding the shortest path between two buses is a good example for that."
   ]
  },
  {
   "cell_type": "code",
   "execution_count": 8,
   "metadata": {
    "collapsed": false
   },
   "outputs": [
    {
     "data": {
      "text/plain": [
       "[0, 1, 6, 5]"
      ]
     },
     "execution_count": 8,
     "metadata": {},
     "output_type": "execute_result"
    }
   ],
   "source": [
    "# imports the topology module\n",
    "import topology as top\n",
    "# imports the NetworkX module\n",
    "import networkx as nx\n",
    "# creates the example network\n",
    "import pandapower.networks as nw\n",
    "net = nw.simple_mv_open_ring_net()\n",
    "\n",
    "# creates a MultiGraph\n",
    "mg = top.create_nxgraph(net)\n",
    "\n",
    "# finds the shortest path between bus 0 and bus 5 \n",
    "nx.shortest_path(mg, 0, 5)"
   ]
  },
  {
   "cell_type": "markdown",
   "metadata": {},
   "source": [
    "![][nx_shortest_path]\n",
    "\n",
    "[nx_shortest_path]:http://a-versys.iwes.fraunhofer.de/doc-devel/html/_images/nx_shortest_path.png"
   ]
  },
  {
   "cell_type": "markdown",
   "metadata": {},
   "source": [
    "### Find disconnected buses"
   ]
  },
  {
   "cell_type": "markdown",
   "metadata": {},
   "source": [
    "With unsupplied_buses you can easily find buses that are not connected to an external grid."
   ]
  },
  {
   "cell_type": "code",
   "execution_count": 9,
   "metadata": {
    "collapsed": false
   },
   "outputs": [
    {
     "data": {
      "text/plain": [
       "{5, 6}"
      ]
     },
     "execution_count": 9,
     "metadata": {},
     "output_type": "execute_result"
    }
   ],
   "source": [
    "# imports the topology module\n",
    "import topology as top\n",
    "# creates the example network\n",
    "import pandapower.networks as nw\n",
    "net = nw.simple_mv_open_ring_net()\n",
    "\n",
    "# closes switch 11 to isolate buses 5 and 6\n",
    "net.switch.closed.at[11] = 0\n",
    "# outputs the unsupplied buses \n",
    "top.unsupplied_buses(net)"
   ]
  },
  {
   "cell_type": "markdown",
   "metadata": {},
   "source": [
    "![][top_disconnected_buses]\n",
    "\n",
    "[top_disconnected_buses]:http://a-versys.iwes.fraunhofer.de/doc-devel/html/_images/top_disconnected_buses.png"
   ]
  },
  {
   "cell_type": "markdown",
   "metadata": {},
   "source": [
    "### Calculate distances between buses"
   ]
  },
  {
   "cell_type": "markdown",
   "metadata": {},
   "source": [
    "calc_distance_to_bus allows you to calculate the distance ( = shortest network route) from one bus all other ones. This is possible since line lengths are being transferred into the MultiGraph as an edge attribute. (Note: bus-bus-switches and trafos are interpreted as edges with length = 0)"
   ]
  },
  {
   "cell_type": "code",
   "execution_count": 10,
   "metadata": {
    "collapsed": false
   },
   "outputs": [
    {
     "data": {
      "text/plain": [
       "0    0.0\n",
       "1    0.0\n",
       "2    1.0\n",
       "3    2.0\n",
       "4    3.0\n",
       "5    4.0\n",
       "6    1.0\n",
       "dtype: float64"
      ]
     },
     "execution_count": 10,
     "metadata": {},
     "output_type": "execute_result"
    }
   ],
   "source": [
    "# imports the topology module\n",
    "import topology as top\n",
    "# creates the example network\n",
    "import pandapower.networks as nw\n",
    "net = nw.simple_mv_open_ring_net()\n",
    "\n",
    "# closes switch 6\n",
    "net.switch.closed.at[6] = 1\n",
    "# opens switch 8\n",
    "net.switch.closed.at[8] = 0\n",
    "\n",
    "# outputs the bus distances\n",
    "top.calc_distance_to_bus(net, 1)"
   ]
  },
  {
   "cell_type": "markdown",
   "metadata": {},
   "source": [
    "#### Interpretation: \n",
    "The distance between bus 1 and itself is 0 km. Bus 1 is also 0 km away from bus 0, since they are connected with a transformer. The shortest path between bus 1 and bus 5 is 4 km long."
   ]
  },
  {
   "cell_type": "markdown",
   "metadata": {},
   "source": [
    "![][top_calc_distance_to_bus]\n",
    "\n",
    "[top_calc_distance_to_bus]:http://a-versys.iwes.fraunhofer.de/doc-devel/html/_images/top_calc_distance_to_bus.png"
   ]
  },
  {
   "cell_type": "markdown",
   "metadata": {},
   "source": [
    "## Find connected buses with the same voltage level"
   ]
  },
  {
   "cell_type": "code",
   "execution_count": 11,
   "metadata": {
    "collapsed": false
   },
   "outputs": [],
   "source": [
    "# imports the topology module\n",
    "import topology as top\n",
    "# creates the example network\n",
    "import pandapower.networks as nw\n",
    "net = nw.simple_mv_open_ring_net()\n",
    "\n",
    "# creates a MultiGraph with trafos being ignored\n",
    "mg_no_trafos = top.create_nxgraph(net, include_trafos = False)\n",
    "# creates a generator that yields all connected buses\n",
    "cc = top.connected_components(mg_no_trafos)"
   ]
  },
  {
   "cell_type": "code",
   "execution_count": 12,
   "metadata": {
    "collapsed": false
   },
   "outputs": [
    {
     "data": {
      "text/plain": [
       "{0}"
      ]
     },
     "execution_count": 12,
     "metadata": {},
     "output_type": "execute_result"
    }
   ],
   "source": [
    "# yields the first set of connected buses\n",
    "next(cc)"
   ]
  },
  {
   "cell_type": "code",
   "execution_count": 13,
   "metadata": {
    "collapsed": false
   },
   "outputs": [
    {
     "data": {
      "text/plain": [
       "{1, 2, 3, 4, 5, 6}"
      ]
     },
     "execution_count": 13,
     "metadata": {},
     "output_type": "execute_result"
    }
   ],
   "source": [
    "# yields the second set of connected buses (and so on...)\n",
    "next(cc)"
   ]
  },
  {
   "cell_type": "markdown",
   "metadata": {},
   "source": [
    "![][multigraph_example_include_trafos]\n",
    "\n",
    "[multigraph_example_include_trafos]:http://a-versys.iwes.fraunhofer.de/doc-devel/html/_images/multigraph_example_include_trafos.png"
   ]
  },
  {
   "cell_type": "markdown",
   "metadata": {},
   "source": [
    "### Find rings and ring sections"
   ]
  },
  {
   "cell_type": "markdown",
   "metadata": {},
   "source": [
    "Another example of what you can do with the right combination of input arguments when creating the MultiGraph is finding rings and ring sections in your network. To achieve that for our example network, the trafo’s low voltage bus needs to be set as a nogobus. With *respect_switches = True* you get the ring sections, with respect_switches = False the whole ring."
   ]
  },
  {
   "cell_type": "code",
   "execution_count": 14,
   "metadata": {
    "collapsed": true
   },
   "outputs": [],
   "source": [
    "# imports the topology module\n",
    "import topology as top\n",
    "# creates the example network\n",
    "import pandapower.networks as nw\n",
    "net = nw.simple_mv_open_ring_net()\n",
    "\n",
    "# creates a MultiGraph with bus 0 and bus 1 being set as nogobus \n",
    "mg_ring_sections = top.create_nxgraph(net, nogobuses = [0,1])\n",
    "# creates a generator that yields connected buses\n",
    "cc_ring_sections = top.connected_components(mg_ring_sections)"
   ]
  },
  {
   "cell_type": "code",
   "execution_count": 15,
   "metadata": {
    "collapsed": false
   },
   "outputs": [
    {
     "data": {
      "text/plain": [
       "{2, 3, 4}"
      ]
     },
     "execution_count": 15,
     "metadata": {},
     "output_type": "execute_result"
    }
   ],
   "source": [
    "# yields the first ring section\n",
    "next(cc_ring_sections)"
   ]
  },
  {
   "cell_type": "code",
   "execution_count": 16,
   "metadata": {
    "collapsed": false
   },
   "outputs": [
    {
     "data": {
      "text/plain": [
       "{5, 6}"
      ]
     },
     "execution_count": 16,
     "metadata": {},
     "output_type": "execute_result"
    }
   ],
   "source": [
    "# yields the other ring section\n",
    "next(cc_ring_sections)"
   ]
  },
  {
   "cell_type": "markdown",
   "metadata": {},
   "source": [
    "![][top_find_ring_sections]\n",
    "\n",
    "[top_find_ring_sections]:http://a-versys.iwes.fraunhofer.de/doc-devel/html/_images/top_find_ring_sections.png"
   ]
  },
  {
   "cell_type": "code",
   "execution_count": 17,
   "metadata": {
    "collapsed": false
   },
   "outputs": [],
   "source": [
    "# imports the topology module\n",
    "import topology as top\n",
    "# creates the example network\n",
    "import pandapower.networks as nw\n",
    "net = nw.simple_mv_open_ring_net()\n",
    "\n",
    "# creates a MultiGraph with open switches being ignored and buses 0 and 1 being set as nogobuses \n",
    "mg_ring = top.create_nxgraph(net, respect_switches = False, nogobuses = [0,1])\n",
    "# creates a generator that yields connected buses\n",
    "cc_ring = top.connected_components(mg_ring)"
   ]
  },
  {
   "cell_type": "code",
   "execution_count": 18,
   "metadata": {
    "collapsed": false
   },
   "outputs": [
    {
     "data": {
      "text/plain": [
       "{2, 3, 4, 5, 6}"
      ]
     },
     "execution_count": 18,
     "metadata": {},
     "output_type": "execute_result"
    }
   ],
   "source": [
    "# yields the ring\n",
    "next(cc_ring)"
   ]
  },
  {
   "cell_type": "markdown",
   "metadata": {},
   "source": [
    "![][top_find_rings]\n",
    "\n",
    "[top_find_rings]:http://a-versys.iwes.fraunhofer.de/doc-devel/html/_images/top_find_rings.png"
   ]
  },
  {
   "cell_type": "markdown",
   "metadata": {},
   "source": [
    "### Find stubs"
   ]
  },
  {
   "cell_type": "markdown",
   "metadata": {},
   "source": [
    "*determine_stubs* lets you identify buses and lines that are stubs. Open switches are being ignored. Busses that you want to exclude should be defined as roots. Ext_grid buses are roots by default."
   ]
  },
  {
   "cell_type": "code",
   "execution_count": 19,
   "metadata": {
    "collapsed": false
   },
   "outputs": [
    {
     "data": {
      "text/plain": [
       "{7, 8}"
      ]
     },
     "execution_count": 19,
     "metadata": {},
     "output_type": "execute_result"
    }
   ],
   "source": [
    "# imports the topology module\n",
    "import topology as top\n",
    "# imports the pandapower module\n",
    "import pandapower as pp\n",
    "# creates the example network\n",
    "import pandapower.networks as nw\n",
    "net = nw.simple_mv_open_ring_net()\n",
    "\n",
    "# This is a small extension for the example network\n",
    "pp.create_bus(net, name = \"bus 7\", vn_kv = 20, type = 'b')\n",
    "pp.create_bus(net, name = \"bus 8\", vn_kv = 20, type = 'b')\n",
    "\n",
    "pp.create_line(net, name = \"line 6\", from_bus = 6, to_bus = 7, length_km = 1, std_type = \"NAYY 4x150 SE\")\n",
    "pp.create_line(net, name = \"line 7\", from_bus = 7, to_bus = 8, length_km = 1, std_type = \"NAYY 4x150 SE\")\n",
    "\n",
    "pp.create_load(net, 7, p_kw = 1000, q_kvar = 200, name = \"load 5\")\n",
    "pp.create_load(net, 8, p_kw = 1000, q_kvar = 200, name = \"load 6\")\n",
    "\n",
    "# finds stubs in the example network with buses 0 and 1 being ignored\n",
    "top.determine_stubs(net, roots = [0,1])"
   ]
  },
  {
   "cell_type": "code",
   "execution_count": 20,
   "metadata": {
    "collapsed": false
   },
   "outputs": [
    {
     "data": {
      "text/html": [
       "<div>\n",
       "<table border=\"1\" class=\"dataframe\">\n",
       "  <thead>\n",
       "    <tr style=\"text-align: right;\">\n",
       "      <th></th>\n",
       "      <th>name</th>\n",
       "      <th>vn_kv</th>\n",
       "      <th>type</th>\n",
       "      <th>zone</th>\n",
       "      <th>in_service</th>\n",
       "      <th>on_stub</th>\n",
       "    </tr>\n",
       "  </thead>\n",
       "  <tbody>\n",
       "    <tr>\n",
       "      <th>0</th>\n",
       "      <td>110 kV bar</td>\n",
       "      <td>110.0</td>\n",
       "      <td>b</td>\n",
       "      <td>None</td>\n",
       "      <td>True</td>\n",
       "      <td>False</td>\n",
       "    </tr>\n",
       "    <tr>\n",
       "      <th>1</th>\n",
       "      <td>20 kV bar</td>\n",
       "      <td>20.0</td>\n",
       "      <td>b</td>\n",
       "      <td>None</td>\n",
       "      <td>True</td>\n",
       "      <td>False</td>\n",
       "    </tr>\n",
       "    <tr>\n",
       "      <th>2</th>\n",
       "      <td>bus 2</td>\n",
       "      <td>20.0</td>\n",
       "      <td>b</td>\n",
       "      <td>None</td>\n",
       "      <td>True</td>\n",
       "      <td>False</td>\n",
       "    </tr>\n",
       "    <tr>\n",
       "      <th>3</th>\n",
       "      <td>bus 3</td>\n",
       "      <td>20.0</td>\n",
       "      <td>b</td>\n",
       "      <td>None</td>\n",
       "      <td>True</td>\n",
       "      <td>False</td>\n",
       "    </tr>\n",
       "    <tr>\n",
       "      <th>4</th>\n",
       "      <td>bus 4</td>\n",
       "      <td>20.0</td>\n",
       "      <td>b</td>\n",
       "      <td>None</td>\n",
       "      <td>True</td>\n",
       "      <td>False</td>\n",
       "    </tr>\n",
       "    <tr>\n",
       "      <th>5</th>\n",
       "      <td>bus 5</td>\n",
       "      <td>20.0</td>\n",
       "      <td>b</td>\n",
       "      <td>None</td>\n",
       "      <td>True</td>\n",
       "      <td>False</td>\n",
       "    </tr>\n",
       "    <tr>\n",
       "      <th>6</th>\n",
       "      <td>bus 6</td>\n",
       "      <td>20.0</td>\n",
       "      <td>b</td>\n",
       "      <td>None</td>\n",
       "      <td>True</td>\n",
       "      <td>False</td>\n",
       "    </tr>\n",
       "    <tr>\n",
       "      <th>7</th>\n",
       "      <td>bus 7</td>\n",
       "      <td>20.0</td>\n",
       "      <td>b</td>\n",
       "      <td>None</td>\n",
       "      <td>True</td>\n",
       "      <td>True</td>\n",
       "    </tr>\n",
       "    <tr>\n",
       "      <th>8</th>\n",
       "      <td>bus 8</td>\n",
       "      <td>20.0</td>\n",
       "      <td>b</td>\n",
       "      <td>None</td>\n",
       "      <td>True</td>\n",
       "      <td>True</td>\n",
       "    </tr>\n",
       "  </tbody>\n",
       "</table>\n",
       "</div>"
      ],
      "text/plain": [
       "         name  vn_kv type  zone in_service on_stub\n",
       "0  110 kV bar  110.0    b  None       True   False\n",
       "1   20 kV bar   20.0    b  None       True   False\n",
       "2       bus 2   20.0    b  None       True   False\n",
       "3       bus 3   20.0    b  None       True   False\n",
       "4       bus 4   20.0    b  None       True   False\n",
       "5       bus 5   20.0    b  None       True   False\n",
       "6       bus 6   20.0    b  None       True   False\n",
       "7       bus 7   20.0    b  None       True    True\n",
       "8       bus 8   20.0    b  None       True    True"
      ]
     },
     "execution_count": 20,
     "metadata": {},
     "output_type": "execute_result"
    }
   ],
   "source": [
    "# outputs the bus table\n",
    "net.bus"
   ]
  },
  {
   "cell_type": "code",
   "execution_count": 21,
   "metadata": {
    "collapsed": false
   },
   "outputs": [
    {
     "data": {
      "text/html": [
       "<div>\n",
       "<table border=\"1\" class=\"dataframe\">\n",
       "  <thead>\n",
       "    <tr style=\"text-align: right;\">\n",
       "      <th></th>\n",
       "      <th>name</th>\n",
       "      <th>std_type</th>\n",
       "      <th>from_bus</th>\n",
       "      <th>to_bus</th>\n",
       "      <th>length_km</th>\n",
       "      <th>r_ohm_per_km</th>\n",
       "      <th>x_ohm_per_km</th>\n",
       "      <th>c_nf_per_km</th>\n",
       "      <th>imax_ka</th>\n",
       "      <th>df</th>\n",
       "      <th>parallel</th>\n",
       "      <th>type</th>\n",
       "      <th>in_service</th>\n",
       "      <th>is_stub</th>\n",
       "    </tr>\n",
       "  </thead>\n",
       "  <tbody>\n",
       "    <tr>\n",
       "      <th>0</th>\n",
       "      <td>line 0</td>\n",
       "      <td>NA2XS2Y 1x185 RM/25 12/20 kV</td>\n",
       "      <td>1</td>\n",
       "      <td>2</td>\n",
       "      <td>1.0</td>\n",
       "      <td>0.161</td>\n",
       "      <td>0.117</td>\n",
       "      <td>273.0</td>\n",
       "      <td>0.362</td>\n",
       "      <td>1.0</td>\n",
       "      <td>1</td>\n",
       "      <td>cs</td>\n",
       "      <td>True</td>\n",
       "      <td>False</td>\n",
       "    </tr>\n",
       "    <tr>\n",
       "      <th>1</th>\n",
       "      <td>line 1</td>\n",
       "      <td>NA2XS2Y 1x185 RM/25 12/20 kV</td>\n",
       "      <td>2</td>\n",
       "      <td>3</td>\n",
       "      <td>1.0</td>\n",
       "      <td>0.161</td>\n",
       "      <td>0.117</td>\n",
       "      <td>273.0</td>\n",
       "      <td>0.362</td>\n",
       "      <td>1.0</td>\n",
       "      <td>1</td>\n",
       "      <td>cs</td>\n",
       "      <td>True</td>\n",
       "      <td>False</td>\n",
       "    </tr>\n",
       "    <tr>\n",
       "      <th>2</th>\n",
       "      <td>line 2</td>\n",
       "      <td>NA2XS2Y 1x185 RM/25 12/20 kV</td>\n",
       "      <td>3</td>\n",
       "      <td>4</td>\n",
       "      <td>1.0</td>\n",
       "      <td>0.161</td>\n",
       "      <td>0.117</td>\n",
       "      <td>273.0</td>\n",
       "      <td>0.362</td>\n",
       "      <td>1.0</td>\n",
       "      <td>1</td>\n",
       "      <td>cs</td>\n",
       "      <td>True</td>\n",
       "      <td>False</td>\n",
       "    </tr>\n",
       "    <tr>\n",
       "      <th>3</th>\n",
       "      <td>line 3</td>\n",
       "      <td>NA2XS2Y 1x185 RM/25 12/20 kV</td>\n",
       "      <td>4</td>\n",
       "      <td>5</td>\n",
       "      <td>1.0</td>\n",
       "      <td>0.161</td>\n",
       "      <td>0.117</td>\n",
       "      <td>273.0</td>\n",
       "      <td>0.362</td>\n",
       "      <td>1.0</td>\n",
       "      <td>1</td>\n",
       "      <td>cs</td>\n",
       "      <td>True</td>\n",
       "      <td>False</td>\n",
       "    </tr>\n",
       "    <tr>\n",
       "      <th>4</th>\n",
       "      <td>line 4</td>\n",
       "      <td>NA2XS2Y 1x185 RM/25 12/20 kV</td>\n",
       "      <td>5</td>\n",
       "      <td>6</td>\n",
       "      <td>1.0</td>\n",
       "      <td>0.161</td>\n",
       "      <td>0.117</td>\n",
       "      <td>273.0</td>\n",
       "      <td>0.362</td>\n",
       "      <td>1.0</td>\n",
       "      <td>1</td>\n",
       "      <td>cs</td>\n",
       "      <td>True</td>\n",
       "      <td>False</td>\n",
       "    </tr>\n",
       "    <tr>\n",
       "      <th>5</th>\n",
       "      <td>line 5</td>\n",
       "      <td>NA2XS2Y 1x185 RM/25 12/20 kV</td>\n",
       "      <td>6</td>\n",
       "      <td>1</td>\n",
       "      <td>1.0</td>\n",
       "      <td>0.161</td>\n",
       "      <td>0.117</td>\n",
       "      <td>273.0</td>\n",
       "      <td>0.362</td>\n",
       "      <td>1.0</td>\n",
       "      <td>1</td>\n",
       "      <td>cs</td>\n",
       "      <td>True</td>\n",
       "      <td>False</td>\n",
       "    </tr>\n",
       "    <tr>\n",
       "      <th>6</th>\n",
       "      <td>line 6</td>\n",
       "      <td>NAYY 4x150 SE</td>\n",
       "      <td>6</td>\n",
       "      <td>7</td>\n",
       "      <td>1.0</td>\n",
       "      <td>0.208</td>\n",
       "      <td>0.080</td>\n",
       "      <td>261.0</td>\n",
       "      <td>0.270</td>\n",
       "      <td>1.0</td>\n",
       "      <td>1</td>\n",
       "      <td>cs</td>\n",
       "      <td>True</td>\n",
       "      <td>True</td>\n",
       "    </tr>\n",
       "    <tr>\n",
       "      <th>7</th>\n",
       "      <td>line 7</td>\n",
       "      <td>NAYY 4x150 SE</td>\n",
       "      <td>7</td>\n",
       "      <td>8</td>\n",
       "      <td>1.0</td>\n",
       "      <td>0.208</td>\n",
       "      <td>0.080</td>\n",
       "      <td>261.0</td>\n",
       "      <td>0.270</td>\n",
       "      <td>1.0</td>\n",
       "      <td>1</td>\n",
       "      <td>cs</td>\n",
       "      <td>True</td>\n",
       "      <td>True</td>\n",
       "    </tr>\n",
       "  </tbody>\n",
       "</table>\n",
       "</div>"
      ],
      "text/plain": [
       "     name                      std_type  from_bus  to_bus  length_km  \\\n",
       "0  line 0  NA2XS2Y 1x185 RM/25 12/20 kV         1       2        1.0   \n",
       "1  line 1  NA2XS2Y 1x185 RM/25 12/20 kV         2       3        1.0   \n",
       "2  line 2  NA2XS2Y 1x185 RM/25 12/20 kV         3       4        1.0   \n",
       "3  line 3  NA2XS2Y 1x185 RM/25 12/20 kV         4       5        1.0   \n",
       "4  line 4  NA2XS2Y 1x185 RM/25 12/20 kV         5       6        1.0   \n",
       "5  line 5  NA2XS2Y 1x185 RM/25 12/20 kV         6       1        1.0   \n",
       "6  line 6                 NAYY 4x150 SE         6       7        1.0   \n",
       "7  line 7                 NAYY 4x150 SE         7       8        1.0   \n",
       "\n",
       "   r_ohm_per_km  x_ohm_per_km  c_nf_per_km  imax_ka   df  parallel type  \\\n",
       "0         0.161         0.117        273.0    0.362  1.0         1   cs   \n",
       "1         0.161         0.117        273.0    0.362  1.0         1   cs   \n",
       "2         0.161         0.117        273.0    0.362  1.0         1   cs   \n",
       "3         0.161         0.117        273.0    0.362  1.0         1   cs   \n",
       "4         0.161         0.117        273.0    0.362  1.0         1   cs   \n",
       "5         0.161         0.117        273.0    0.362  1.0         1   cs   \n",
       "6         0.208         0.080        261.0    0.270  1.0         1   cs   \n",
       "7         0.208         0.080        261.0    0.270  1.0         1   cs   \n",
       "\n",
       "  in_service is_stub  \n",
       "0       True   False  \n",
       "1       True   False  \n",
       "2       True   False  \n",
       "3       True   False  \n",
       "4       True   False  \n",
       "5       True   False  \n",
       "6       True    True  \n",
       "7       True    True  "
      ]
     },
     "execution_count": 21,
     "metadata": {},
     "output_type": "execute_result"
    }
   ],
   "source": [
    "# outputs the line table\n",
    "net.line"
   ]
  },
  {
   "cell_type": "markdown",
   "metadata": {},
   "source": [
    "![][top_determine_stubs]\n",
    "\n",
    "[top_determine_stubs]:http://a-versys.iwes.fraunhofer.de/doc-devel/html/_images/top_determine_stubs.png"
   ]
  }
 ],
 "metadata": {
  "anaconda-cloud": {},
  "kernelspec": {
   "display_name": "Python [default]",
   "language": "python",
   "name": "python3"
  },
  "language_info": {
   "codemirror_mode": {
    "name": "ipython",
    "version": 3
   },
   "file_extension": ".py",
   "mimetype": "text/x-python",
   "name": "python",
   "nbconvert_exporter": "python",
   "pygments_lexer": "ipython3",
   "version": "3.5.2"
  }
 },
 "nbformat": 4,
 "nbformat_minor": 0
}
