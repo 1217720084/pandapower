{
 "cells": [
  {
   "cell_type": "markdown",
   "metadata": {},
   "source": [
    "# Running a Power Flow"
   ]
  },
  {
   "cell_type": "markdown",
   "metadata": {},
   "source": [
    "We load the simple example network from the create_network module from the pandapower.networks module:"
   ]
  },
  {
   "cell_type": "code",
   "execution_count": 5,
   "metadata": {
    "collapsed": false
   },
   "outputs": [
    {
     "data": {
      "text/plain": [
       "This pandapower network includes the following parameter tables:\n",
       "   - trafo (1 elements)\n",
       "   - load (1 elements)\n",
       "   - ext_grid (1 elements)\n",
       "   - shunt (1 elements)\n",
       "   - bus (8 elements)\n",
       "   - switch (8 elements)\n",
       "   - line (4 elements)\n",
       "   - gen (1 elements)\n",
       "   - sgen (1 elements)\n",
       " and the following results tables:\n",
       "   - res_load (1 elements)\n",
       "   - res_trafo (1 elements)\n",
       "   - res_sgen (1 elements)\n",
       "   - res_gen (1 elements)\n",
       "   - res_line (4 elements)\n",
       "   - res_bus (8 elements)\n",
       "   - res_shunt (1 elements)\n",
       "   - res_ext_grid (1 elements)"
      ]
     },
     "execution_count": 5,
     "metadata": {},
     "output_type": "execute_result"
    }
   ],
   "source": [
    "import pandapower as pp\n",
    "import pandapower.networks\n",
    "\n",
    "net = pandapower.networks.example_simple()\n",
    "net"
   ]
  },
  {
   "cell_type": "markdown",
   "metadata": {
    "collapsed": true
   },
   "source": [
    "and run a loadflow:"
   ]
  },
  {
   "cell_type": "code",
   "execution_count": 3,
   "metadata": {
    "collapsed": true
   },
   "outputs": [],
   "source": [
    "pp.runpp(net)"
   ]
  },
  {
   "cell_type": "markdown",
   "metadata": {},
   "source": [
    "The results tables now show"
   ]
  }
 ],
 "metadata": {
  "anaconda-cloud": {},
  "kernelspec": {
   "display_name": "Python [default]",
   "language": "python",
   "name": "python3"
  },
  "language_info": {
   "codemirror_mode": {
    "name": "ipython",
    "version": 3
   },
   "file_extension": ".py",
   "mimetype": "text/x-python",
   "name": "python",
   "nbconvert_exporter": "python",
   "pygments_lexer": "ipython3",
   "version": "3.5.2"
  }
 },
 "nbformat": 4,
 "nbformat_minor": 0
}
