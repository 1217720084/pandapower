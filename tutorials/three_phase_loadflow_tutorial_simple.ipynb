{
 "cells": [
  {
   "cell_type": "markdown",
   "metadata": {},
   "source": [
    "# Simple 2 bus Example\n",
    "\n",
    "This tutorial shows how to perform three phase load flow in an unbalanced system.\n",
    "<img src=\"pics/Two bus system.png\" width=\"80%\">"
   ]
  },
  {
   "cell_type": "markdown",
   "metadata": {},
   "source": [
    "Three phase or unbalanced load flow is performed using the function \n",
    "\n",
    "# runpp_3ph(net) \n",
    "\n",
    "This function needs to be explicitly imported, when unbalanced load flow calculation is desired"
   ]
  },
  {
   "cell_type": "code",
   "execution_count": 40,
   "metadata": {},
   "outputs": [],
   "source": [
    "import pandapower as pp\n",
    "from pandapower.pf.runpp_3ph import runpp_3ph"
   ]
  },
  {
   "cell_type": "markdown",
   "metadata": {},
   "source": [
    "# Create Buses\n",
    "After this import we can start by creating an empty network and two 110 kV buses \n",
    "\n",
    "# Create External Grid\n",
    "For negative and zero sequence networks. \n",
    "The following data is needed in addition to a voltage reference.\n",
    "- s_sc_max_mva\n",
    "- rx_max\n",
    "- r0x0_max\n",
    "- x0x_max\n"
   ]
  },
  {
   "cell_type": "code",
   "execution_count": 41,
   "metadata": {},
   "outputs": [
    {
     "data": {
      "text/plain": [
       "0"
      ]
     },
     "execution_count": 41,
     "metadata": {},
     "output_type": "execute_result"
    }
   ],
   "source": [
    "net = pp.create_empty_network(sn_mva = 100 )\n",
    "bus_eg  =  pp.create_bus(net, vn_kv = 110, name = \"Ext. Grid\")\n",
    "bus_load  =  pp.create_bus(net, vn_kv = 110, name = \"Load\")\n",
    "\n",
    "pp.create_ext_grid(net, bus=bus_eg, vm_pu= 1.0, name=\"Grid Connection\",\n",
    "                   s_sc_max_mva=5000,rx_max=0.1,r0x0_max= 0.1,x0x_max=1.0)"
   ]
  },
  {
   "cell_type": "markdown",
   "metadata": {},
   "source": [
    "# Creating Lines and transformers\n",
    "\n",
    "Just like balanced load flow there are two ways of creating lines and transformers:\n",
    "- Create using a Standard type from standard type library/ Customized standard type\n",
    "- Create directly from parameters\n",
    "\n",
    "# Create element using a Customized Standard type \n",
    "\n",
    "**This is useful for large networks with many lines and transformers**\n"
   ]
  },
  {
   "cell_type": "code",
   "execution_count": 42,
   "metadata": {},
   "outputs": [],
   "source": [
    "#Line Type created\n",
    "pp.create_std_type(net, {\"r0_ohm_per_km\": 0.0848, \"x0_ohm_per_km\": 0.4649556, \"c0_nf_per_km\":\\\n",
    "    230.6,\"max_i_ka\": 0.963, \"r_ohm_per_km\": 0.0212, \"x_ohm_per_km\": 0.1162389,\n",
    "             \"c_nf_per_km\":  230}, name=\"example_type\")"
   ]
  },
  {
   "cell_type": "markdown",
   "metadata": {},
   "source": [
    "After a Standard type has been created with zero sequence parameters, there are two more steps required:\n",
    "- Create a line using **pp.create_line** with the standard type\n",
    "- Use **pp.add_zero_impedance_parameters** function to insert them into network elements line and trafo\n",
    "\n"
   ]
  },
  {
   "cell_type": "code",
   "execution_count": 43,
   "metadata": {},
   "outputs": [
    {
     "data": {
      "text/plain": [
       "0"
      ]
     },
     "execution_count": 43,
     "metadata": {},
     "output_type": "execute_result"
    }
   ],
   "source": [
    "\n",
    "# Actual line created with the length of the line in km\n",
    "pp.create_line(net, from_bus = bus_eg, to_bus = bus_load, length_km = 50.0, std_type=\"example_type\")\n"
   ]
  },
  {
   "cell_type": "markdown",
   "metadata": {},
   "source": [
    "# Create Unbalanced Load\n",
    "We can create three phase loads by specifying P, Q values in each phase.\n",
    "The default values are set to zero.\n",
    "\n",
    "Connection type of load can be specified while creating a three phase load\n",
    "\n",
    "**'wye' (Default)** - 3 phase phase-earth load\n",
    "\n",
    "**'delta'** - 3 phase delta load\n",
    "\n",
    "PS: When a balanced load is created using pp.create_load , the load is divided equally among the three phases.\n"
   ]
  },
  {
   "cell_type": "code",
   "execution_count": 44,
   "metadata": {},
   "outputs": [
    {
     "data": {
      "text/plain": [
       "0"
      ]
     },
     "execution_count": 44,
     "metadata": {},
     "output_type": "execute_result"
    }
   ],
   "source": [
    "#This function creates an unbalanced load\n",
    "pp.create_asymmetric_load(net, bus_load, p_A_mw=50, q_A_mvar=50, p_B_mw=10, q_B_mvar=15,\n",
    "                   p_C_mw=10, q_C_mvar=5)\n",
    "\n",
    "# pp.create_load creates a balanced three phase load \n"
   ]
  },
  {
   "cell_type": "markdown",
   "metadata": {},
   "source": [
    "# add_zero_impedance_parameters\n",
    "\n",
    "This function is required when lines and transformers are created using standard types.\n",
    "\n",
    "This adds the zero sequence parameters from standard type to the network elements trafo and line\n",
    "\n",
    "# runpp_3ph\n",
    "\n",
    "This function performs the calculation and returns results in result tables:\n",
    "\n",
    "-res_element_3ph "
   ]
  },
  {
   "cell_type": "code",
   "execution_count": 45,
   "metadata": {},
   "outputs": [
    {
     "data": {
      "text/html": [
       "<div>\n",
       "<style scoped>\n",
       "    .dataframe tbody tr th:only-of-type {\n",
       "        vertical-align: middle;\n",
       "    }\n",
       "\n",
       "    .dataframe tbody tr th {\n",
       "        vertical-align: top;\n",
       "    }\n",
       "\n",
       "    .dataframe thead th {\n",
       "        text-align: right;\n",
       "    }\n",
       "</style>\n",
       "<table border=\"1\" class=\"dataframe\">\n",
       "  <thead>\n",
       "    <tr style=\"text-align: right;\">\n",
       "      <th></th>\n",
       "      <th>vmA_pu</th>\n",
       "      <th>vaA_degree</th>\n",
       "      <th>vmB_pu</th>\n",
       "      <th>vaB_degree</th>\n",
       "      <th>vmC_pu</th>\n",
       "      <th>vaC_degree</th>\n",
       "      <th>p_A_mw</th>\n",
       "      <th>q_A_mvar</th>\n",
       "      <th>p_B_mw</th>\n",
       "      <th>q_B_mvar</th>\n",
       "      <th>p_C_mw</th>\n",
       "      <th>q_C_mvar</th>\n",
       "    </tr>\n",
       "  </thead>\n",
       "  <tbody>\n",
       "    <tr>\n",
       "      <th>0</th>\n",
       "      <td>0.967429</td>\n",
       "      <td>-1.051253</td>\n",
       "      <td>1.013028</td>\n",
       "      <td>-119.470654</td>\n",
       "      <td>1.019784</td>\n",
       "      <td>120.471400</td>\n",
       "      <td>24.222396</td>\n",
       "      <td>16.212795</td>\n",
       "      <td>24.886168</td>\n",
       "      <td>17.670134</td>\n",
       "      <td>25.070123</td>\n",
       "      <td>17.762639</td>\n",
       "    </tr>\n",
       "    <tr>\n",
       "      <th>1</th>\n",
       "      <td>0.749574</td>\n",
       "      <td>-9.010213</td>\n",
       "      <td>1.091380</td>\n",
       "      <td>-124.105793</td>\n",
       "      <td>1.051243</td>\n",
       "      <td>125.894504</td>\n",
       "      <td>50.000000</td>\n",
       "      <td>50.000000</td>\n",
       "      <td>10.000000</td>\n",
       "      <td>15.000000</td>\n",
       "      <td>10.000000</td>\n",
       "      <td>5.000000</td>\n",
       "    </tr>\n",
       "  </tbody>\n",
       "</table>\n",
       "</div>"
      ],
      "text/plain": [
       "     vmA_pu  vaA_degree    vmB_pu  vaB_degree    vmC_pu  vaC_degree  \\\n",
       "0  0.967429   -1.051253  1.013028 -119.470654  1.019784  120.471400   \n",
       "1  0.749574   -9.010213  1.091380 -124.105793  1.051243  125.894504   \n",
       "\n",
       "      p_A_mw   q_A_mvar     p_B_mw   q_B_mvar     p_C_mw   q_C_mvar  \n",
       "0  24.222396  16.212795  24.886168  17.670134  25.070123  17.762639  \n",
       "1  50.000000  50.000000  10.000000  15.000000  10.000000   5.000000  "
      ]
     },
     "execution_count": 45,
     "metadata": {},
     "output_type": "execute_result"
    }
   ],
   "source": [
    "pp.add_zero_impedance_parameters(net)\n",
    "count, V012_it, I012_it = runpp_3ph(net)\n",
    "net.res_bus_3ph"
   ]
  },
  {
   "cell_type": "markdown",
   "metadata": {},
   "source": [
    "The convergence of load flow can be checked with the following:"
   ]
  },
  {
   "cell_type": "code",
   "execution_count": 46,
   "metadata": {},
   "outputs": [
    {
     "data": {
      "text/plain": [
       "True"
      ]
     },
     "execution_count": 46,
     "metadata": {},
     "output_type": "execute_result"
    }
   ],
   "source": [
    "net['converged']"
   ]
  },
  {
   "cell_type": "markdown",
   "metadata": {},
   "source": [
    "# 3 Bus system with a transformer in between External Grid and Distribution system\n",
    "\n",
    "<img src=\"pics/Three bus system.png\" width=\"80%\">"
   ]
  },
  {
   "cell_type": "code",
   "execution_count": 47,
   "metadata": {},
   "outputs": [],
   "source": [
    "net = pp.create_empty_network(sn_mva=100)\n",
    "bus_eg = pp.create_bus(net, 10)\n",
    "bus_lv = pp.create_bus(net, 0.4)\n",
    "bus_load = pp.create_bus(net, 0.4 )\n",
    "\n",
    "pp.create_ext_grid(net, bus_eg, s_sc_max_mva=10000, rx_max=0.1)\n",
    "net.ext_grid[\"r0x0_max\"] = 0.1\n",
    "net.ext_grid[\"x0x_max\"] = 1.0"
   ]
  },
  {
   "cell_type": "markdown",
   "metadata": {},
   "source": [
    "# Create line and transformer using parameters.\n",
    "\n",
    "Creates a transformer using parameters"
   ]
  },
  {
   "cell_type": "code",
   "execution_count": 48,
   "metadata": {},
   "outputs": [
    {
     "data": {
      "text/plain": [
       "1"
      ]
     },
     "execution_count": 48,
     "metadata": {},
     "output_type": "execute_result"
    }
   ],
   "source": [
    "pp.create_transformer_from_parameters(net, hv_bus=bus_eg, lv_bus=bus_lv, \n",
    "                                          sn_mva= 1.6, vn_hv_kv= 10, \n",
    "                                          vn_lv_kv= 0.4, vk_percent= 6, \n",
    "                                          vkr_percent= 0.78125, pfe_kw= 2.7, \n",
    "                                          i0_percent= 0.16875, shift_degree= 0, \n",
    "                                          tap_side= 'lv',tap_neutral= 0,\n",
    "                                          tap_min= -2, tap_max= 2,\n",
    "                                          tap_step_degree= 0,\n",
    "                                          tap_step_percent= 2.5,\n",
    "                                          tap_phase_shifter= False,\n",
    "                                          vk0_percent= 6, vkr0_percent= 0.78125, \n",
    "                                          mag0_percent= 100, mag0_rx= 0.,\n",
    "                                          si0_hv_partial= 0.9,vector_group= \"Dyn\",\n",
    "                                          parallel=1,tap_pos=0,\n",
    "                                          index=pp.get_free_id(net.trafo)+1,\n",
    "                                           )\n",
    "pp.create_line_from_parameters(net, bus_lv, bus_load, length_km=0.5,r_ohm_per_km= 0.1941, x_ohm_per_km= 0.07476991,\n",
    "                    c_nf_per_km= 1160., max_i_ka= 0.421,\n",
    "                    endtemp_degree= 70.0, r0_ohm_per_km= 0.7766,\n",
    "                    x0_ohm_per_km= 0.2990796,\n",
    "                    c0_nf_per_km=  496.2 ,index=pp.get_free_id(net.line)+1)"
   ]
  },
  {
   "cell_type": "markdown",
   "metadata": {},
   "source": [
    "# Create  Asymmetric load\n",
    "\n",
    "Just like before create three phase load with three phase power values"
   ]
  },
  {
   "cell_type": "code",
   "execution_count": 49,
   "metadata": {},
   "outputs": [
    {
     "data": {
      "text/plain": [
       "0"
      ]
     },
     "execution_count": 49,
     "metadata": {},
     "output_type": "execute_result"
    }
   ],
   "source": [
    "#Creates a 3 phase wye load\n",
    "pp.create_asymmetric_load(net, bus_load, p_A_mw=0.0300, q_A_mvar=0.0048, p_B_mw=0.0280, q_B_mvar=0.0036,\n",
    "                               p_C_mw=0.027, q_C_mvar=0.0043,type='wye')"
   ]
  },
  {
   "cell_type": "markdown",
   "metadata": {},
   "source": [
    "# Run Asymmetric load flow for the network\n",
    "\n",
    "Same as before, add zero sequence parameters and run 3 phase load flow.\n"
   ]
  },
  {
   "cell_type": "code",
   "execution_count": 50,
   "metadata": {},
   "outputs": [
    {
     "data": {
      "text/html": [
       "<div>\n",
       "<style scoped>\n",
       "    .dataframe tbody tr th:only-of-type {\n",
       "        vertical-align: middle;\n",
       "    }\n",
       "\n",
       "    .dataframe tbody tr th {\n",
       "        vertical-align: top;\n",
       "    }\n",
       "\n",
       "    .dataframe thead th {\n",
       "        text-align: right;\n",
       "    }\n",
       "</style>\n",
       "<table border=\"1\" class=\"dataframe\">\n",
       "  <thead>\n",
       "    <tr style=\"text-align: right;\">\n",
       "      <th></th>\n",
       "      <th>vmA_pu</th>\n",
       "      <th>vaA_degree</th>\n",
       "      <th>vmB_pu</th>\n",
       "      <th>vaB_degree</th>\n",
       "      <th>vmC_pu</th>\n",
       "      <th>vaC_degree</th>\n",
       "      <th>p_A_mw</th>\n",
       "      <th>q_A_mvar</th>\n",
       "      <th>p_B_mw</th>\n",
       "      <th>q_B_mvar</th>\n",
       "      <th>p_C_mw</th>\n",
       "      <th>q_C_mvar</th>\n",
       "    </tr>\n",
       "  </thead>\n",
       "  <tbody>\n",
       "    <tr>\n",
       "      <th>0</th>\n",
       "      <td>1.000000</td>\n",
       "      <td>-0.000019</td>\n",
       "      <td>1.000000</td>\n",
       "      <td>-119.999989</td>\n",
       "      <td>1.000000</td>\n",
       "      <td>120.000007</td>\n",
       "      <td>0.032748</td>\n",
       "      <td>0.004993</td>\n",
       "      <td>0.032748</td>\n",
       "      <td>0.004993</td>\n",
       "      <td>0.032748</td>\n",
       "      <td>0.004993</td>\n",
       "    </tr>\n",
       "    <tr>\n",
       "      <th>1</th>\n",
       "      <td>0.998883</td>\n",
       "      <td>-0.209957</td>\n",
       "      <td>0.999048</td>\n",
       "      <td>-120.193638</td>\n",
       "      <td>0.999037</td>\n",
       "      <td>119.813557</td>\n",
       "      <td>0.000000</td>\n",
       "      <td>0.000000</td>\n",
       "      <td>0.000000</td>\n",
       "      <td>0.000000</td>\n",
       "      <td>0.000000</td>\n",
       "      <td>0.000000</td>\n",
       "    </tr>\n",
       "    <tr>\n",
       "      <th>2</th>\n",
       "      <td>0.928689</td>\n",
       "      <td>-0.909424</td>\n",
       "      <td>0.945269</td>\n",
       "      <td>-121.399726</td>\n",
       "      <td>0.948884</td>\n",
       "      <td>119.493417</td>\n",
       "      <td>0.030000</td>\n",
       "      <td>0.004800</td>\n",
       "      <td>0.028000</td>\n",
       "      <td>0.003600</td>\n",
       "      <td>0.027000</td>\n",
       "      <td>0.004300</td>\n",
       "    </tr>\n",
       "  </tbody>\n",
       "</table>\n",
       "</div>"
      ],
      "text/plain": [
       "     vmA_pu  vaA_degree    vmB_pu  vaB_degree    vmC_pu  vaC_degree    p_A_mw  \\\n",
       "0  1.000000   -0.000019  1.000000 -119.999989  1.000000  120.000007  0.032748   \n",
       "1  0.998883   -0.209957  0.999048 -120.193638  0.999037  119.813557  0.000000   \n",
       "2  0.928689   -0.909424  0.945269 -121.399726  0.948884  119.493417  0.030000   \n",
       "\n",
       "   q_A_mvar    p_B_mw  q_B_mvar    p_C_mw  q_C_mvar  \n",
       "0  0.004993  0.032748  0.004993  0.032748  0.004993  \n",
       "1  0.000000  0.000000  0.000000  0.000000  0.000000  \n",
       "2  0.004800  0.028000  0.003600  0.027000  0.004300  "
      ]
     },
     "execution_count": 50,
     "metadata": {},
     "output_type": "execute_result"
    }
   ],
   "source": [
    "pp.add_zero_impedance_parameters(net)\n",
    "count, V012_it, I012_it= runpp_3ph(net)\n",
    "net.res_bus_3ph"
   ]
  },
  {
   "cell_type": "markdown",
   "metadata": {},
   "source": [
    "# Sequence Frame results \n",
    "Sequence frame results are returned by runpp_3ph instead of result tables.\n"
   ]
  },
  {
   "cell_type": "code",
   "execution_count": 51,
   "metadata": {},
   "outputs": [
    {
     "name": "stdout",
     "output_type": "stream",
     "text": [
      "         bus_eg    bus_lv  bus_load\n",
      "0  0.000000e+00  0.000149  0.010459\n",
      "1  1.000000e+00  0.998989  0.940928\n",
      "2  3.334843e-07  0.000114  0.002028\n"
     ]
    }
   ],
   "source": [
    "import pandas as pd\n",
    "import numpy as np\n",
    "# See the sequence voltage magnitude values\n",
    "V=pd.DataFrame(np.abs(V012_it))\n",
    "V.columns=['bus_eg','bus_lv','bus_load']\n",
    "print(V)"
   ]
  },
  {
   "cell_type": "code",
   "execution_count": 52,
   "metadata": {},
   "outputs": [
    {
     "name": "stdout",
     "output_type": "stream",
     "text": [
      "   bus_eg  bus_lv  bus_load\n",
      "0     0.0     0.0  0.000013\n",
      "1     0.0     0.0  0.000305\n",
      "2     0.0     0.0  0.000010\n"
     ]
    }
   ],
   "source": [
    "# See the sequence current magnitude values\n",
    "I=pd.DataFrame(np.abs(I012_it))\n",
    "I.columns=['bus_eg','bus_lv','bus_load']\n",
    "print(I)"
   ]
  },
  {
   "cell_type": "code",
   "execution_count": null,
   "metadata": {},
   "outputs": [],
   "source": []
  }
 ],
 "metadata": {
  "kernelspec": {
   "display_name": "Python 3",
   "language": "python",
   "name": "python3"
  },
  "language_info": {
   "codemirror_mode": {
    "name": "ipython",
    "version": 3
   },
   "file_extension": ".py",
   "mimetype": "text/x-python",
   "name": "python",
   "nbconvert_exporter": "python",
   "pygments_lexer": "ipython3",
   "version": "3.7.1"
  }
 },
 "nbformat": 4,
 "nbformat_minor": 2
}
