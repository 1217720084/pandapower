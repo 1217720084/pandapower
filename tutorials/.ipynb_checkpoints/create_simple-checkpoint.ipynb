{
 "cells": [
  {
   "cell_type": "markdown",
   "metadata": {
    "slideshow": {
     "slide_type": "-"
    }
   },
   "source": [
    "# Creating Pandapower Networks"
   ]
  },
  {
   "cell_type": "markdown",
   "metadata": {
    "slideshow": {
     "slide_type": "skip"
    }
   },
   "source": [
    "This Tutorial will introduce the user into the pandapower datastructure and how to create networks through the pandapower API. The following example contains all basic elements that are supported by the Pandapower format.\n",
    "\n",
    "\n",
    "![](http://a-versys.iwes.fraunhofer.de/doc-devel/html/_images/example_network_simple.png)\n",
    "\n",
    "\n"
   ]
  },
  {
   "cell_type": "markdown",
   "metadata": {},
   "source": [
    "<img src=\"pics/example_network_simple.png\">"
   ]
  },
  {
   "cell_type": "markdown",
   "metadata": {},
   "source": [
    "## Creating network components"
   ]
  },
  {
   "cell_type": "markdown",
   "metadata": {},
   "source": [
    "The datastructure of the pandapower framework is based on the python library pandas. A pandapower network consist of a separate element table for each element type that is used in the network. Each element table consists of a column for each parameter and a row for each element. By executing the follwing code cells you generate the various element tables.  A detailed description about each parameter you will find [here] [identification tag for link_2].\n",
    "\n",
    "[identification tag for link_2]: http://a-versys.iwes.fraunhofer.de/doc-devel/html/pandapower/datastructure.html"
   ]
  },
  {
   "cell_type": "code",
   "execution_count": 1,
   "metadata": {
    "collapsed": true,
    "slideshow": {
     "slide_type": "fragment"
    }
   },
   "outputs": [],
   "source": [
    "import pandapower as pp #import pandapower\n",
    "\n",
    "net = pp.create_empty_network() #create an empty network"
   ]
  },
  {
   "cell_type": "markdown",
   "metadata": {
    "slideshow": {
     "slide_type": "slide"
    }
   },
   "source": [
    "### Buses"
   ]
  },
  {
   "cell_type": "markdown",
   "metadata": {},
   "source": [
    "First, we create the three high voltage (vn_kv=110.) and six medium voltage (vn_kv=20.) buses.\n",
    "\n",
    "<img src=\"pics/example_network_simple_buses.png\">"
   ]
  },
  {
   "cell_type": "code",
   "execution_count": 2,
   "metadata": {
    "collapsed": false,
    "scrolled": true,
    "slideshow": {
     "slide_type": "slide"
    }
   },
   "outputs": [
    {
     "data": {
      "text/html": [
       "<div>\n",
       "<table border=\"1\" class=\"dataframe\">\n",
       "  <thead>\n",
       "    <tr style=\"text-align: right;\">\n",
       "      <th></th>\n",
       "      <th>name</th>\n",
       "      <th>vn_kv</th>\n",
       "      <th>type</th>\n",
       "      <th>zone</th>\n",
       "      <th>in_service</th>\n",
       "    </tr>\n",
       "  </thead>\n",
       "  <tbody>\n",
       "    <tr>\n",
       "      <th>0</th>\n",
       "      <td>HV Busbar</td>\n",
       "      <td>110.0</td>\n",
       "      <td>b</td>\n",
       "      <td>None</td>\n",
       "      <td>True</td>\n",
       "    </tr>\n",
       "    <tr>\n",
       "      <th>1</th>\n",
       "      <td>HV Busbar 2</td>\n",
       "      <td>110.0</td>\n",
       "      <td>b</td>\n",
       "      <td>None</td>\n",
       "      <td>True</td>\n",
       "    </tr>\n",
       "    <tr>\n",
       "      <th>2</th>\n",
       "      <td>HV Transformer Bus</td>\n",
       "      <td>110.0</td>\n",
       "      <td>n</td>\n",
       "      <td>None</td>\n",
       "      <td>True</td>\n",
       "    </tr>\n",
       "    <tr>\n",
       "      <th>3</th>\n",
       "      <td>MV Transformer Bus</td>\n",
       "      <td>20.0</td>\n",
       "      <td>n</td>\n",
       "      <td>None</td>\n",
       "      <td>True</td>\n",
       "    </tr>\n",
       "    <tr>\n",
       "      <th>4</th>\n",
       "      <td>MV Station 1</td>\n",
       "      <td>20.0</td>\n",
       "      <td>b</td>\n",
       "      <td>None</td>\n",
       "      <td>True</td>\n",
       "    </tr>\n",
       "    <tr>\n",
       "      <th>5</th>\n",
       "      <td>MV Station 2</td>\n",
       "      <td>20.0</td>\n",
       "      <td>b</td>\n",
       "      <td>None</td>\n",
       "      <td>True</td>\n",
       "    </tr>\n",
       "    <tr>\n",
       "      <th>6</th>\n",
       "      <td>MV Station 3</td>\n",
       "      <td>20.0</td>\n",
       "      <td>b</td>\n",
       "      <td>None</td>\n",
       "      <td>True</td>\n",
       "    </tr>\n",
       "    <tr>\n",
       "      <th>7</th>\n",
       "      <td>MV Station 4</td>\n",
       "      <td>20.0</td>\n",
       "      <td>b</td>\n",
       "      <td>None</td>\n",
       "      <td>True</td>\n",
       "    </tr>\n",
       "  </tbody>\n",
       "</table>\n",
       "</div>"
      ],
      "text/plain": [
       "                 name  vn_kv type  zone in_service\n",
       "0           HV Busbar  110.0    b  None       True\n",
       "1         HV Busbar 2  110.0    b  None       True\n",
       "2  HV Transformer Bus  110.0    n  None       True\n",
       "3  MV Transformer Bus   20.0    n  None       True\n",
       "4        MV Station 1   20.0    b  None       True\n",
       "5        MV Station 2   20.0    b  None       True\n",
       "6        MV Station 3   20.0    b  None       True\n",
       "7        MV Station 4   20.0    b  None       True"
      ]
     },
     "execution_count": 2,
     "metadata": {},
     "output_type": "execute_result"
    }
   ],
   "source": [
    "# Bus 3 and bus 4 are classified as nodes. The type parameter is set to type=\"n\". \n",
    "# All other bus types are declared as busbars: (type=\"b\")\n",
    "bus1 = pp.create_bus(net, name=\"HV Busbar\", vn_kv=110, type=\"b\")\n",
    "bus2 = pp.create_bus(net, name=\"HV Busbar 2\", vn_kv=110, type=\"b\")\n",
    "bus3 = pp.create_bus(net, name=\"HV Transformer Bus\", vn_kv=110, type=\"n\")\n",
    "bus4 = pp.create_bus(net, name=\"MV Transformer Bus\", vn_kv=20, type=\"n\")\n",
    "bus5 = pp.create_bus(net, name=\"MV Station 1\", vn_kv=20, type=\"b\")\n",
    "bus6 = pp.create_bus(net, name=\"MV Station 2\", vn_kv=20, type=\"b\")\n",
    "bus7 = pp.create_bus(net, name=\"MV Station 3\", vn_kv=20, type=\"b\")\n",
    "bus8 = pp.create_bus(net, name=\"MV Station 4\", vn_kv=20, type=\"b\")\n",
    "\n",
    "net.bus # display bus table"
   ]
  },
  {
   "cell_type": "markdown",
   "metadata": {},
   "source": [
    "### External network"
   ]
  },
  {
   "cell_type": "markdown",
   "metadata": {},
   "source": [
    "We now create an external grid connection that serves as slack node for the power flow calculation. The voltage of the external grid is set to a magnitude of 1.0 per unit and 20 degrees voltage angle.\n",
    "\n",
    "<img src=\"pics/example_network_simple_ext_grids.png\">"
   ]
  },
  {
   "cell_type": "code",
   "execution_count": 78,
   "metadata": {
    "collapsed": false
   },
   "outputs": [
    {
     "data": {
      "text/html": [
       "<div>\n",
       "<table border=\"1\" class=\"dataframe\">\n",
       "  <thead>\n",
       "    <tr style=\"text-align: right;\">\n",
       "      <th></th>\n",
       "      <th>name</th>\n",
       "      <th>bus</th>\n",
       "      <th>vm_pu</th>\n",
       "      <th>va_degree</th>\n",
       "      <th>in_service</th>\n",
       "    </tr>\n",
       "  </thead>\n",
       "  <tbody>\n",
       "    <tr>\n",
       "      <th>0</th>\n",
       "      <td>None</td>\n",
       "      <td>0</td>\n",
       "      <td>1.01</td>\n",
       "      <td>50.0</td>\n",
       "      <td>True</td>\n",
       "    </tr>\n",
       "  </tbody>\n",
       "</table>\n",
       "</div>"
      ],
      "text/plain": [
       "   name  bus  vm_pu  va_degree in_service\n",
       "0  None    0   1.01       50.0       True"
      ]
     },
     "execution_count": 78,
     "metadata": {},
     "output_type": "execute_result"
    }
   ],
   "source": [
    "pp.create_ext_grid(net, bus1, vm_pu=1.02, va_degree=50) # Create an external grid connection\n",
    "\n",
    "net.ext_grid #show the external grid table"
   ]
  },
  {
   "cell_type": "markdown",
   "metadata": {},
   "source": [
    "### Transformer "
   ]
  },
  {
   "cell_type": "markdown",
   "metadata": {},
   "source": [
    "The transformer connects the high-voltage with the medium-voltage side of the grid. The high-voltage bus of the transformer is connected to Bus3 and on the medium-voltage side the transformer is linked to Bus4. In this case we select the standard type \"110kV/20kV transformer\" from the pandapower basic standard type library. The detailled transformer parameters, such as short circuit voltages, rated power or iron losses are automatically loaded from the standard type library.\n",
    "\n",
    "\n",
    "<img src=\"pics/example_network_simple_trafos.png\">"
   ]
  },
  {
   "cell_type": "code",
   "execution_count": 3,
   "metadata": {
    "collapsed": false
   },
   "outputs": [
    {
     "data": {
      "text/html": [
       "<div>\n",
       "<table border=\"1\" class=\"dataframe\">\n",
       "  <thead>\n",
       "    <tr style=\"text-align: right;\">\n",
       "      <th></th>\n",
       "      <th>name</th>\n",
       "      <th>std_type</th>\n",
       "      <th>hv_bus</th>\n",
       "      <th>lv_bus</th>\n",
       "      <th>sn_kva</th>\n",
       "      <th>vn_hv_kv</th>\n",
       "      <th>vn_lv_kv</th>\n",
       "      <th>vsc_percent</th>\n",
       "      <th>vscr_percent</th>\n",
       "      <th>pfe_kw</th>\n",
       "      <th>i0_percent</th>\n",
       "      <th>tp_side</th>\n",
       "      <th>tp_mid</th>\n",
       "      <th>tp_min</th>\n",
       "      <th>tp_max</th>\n",
       "      <th>tp_st_percent</th>\n",
       "      <th>tp_pos</th>\n",
       "      <th>in_service</th>\n",
       "      <th>shift_degree</th>\n",
       "    </tr>\n",
       "  </thead>\n",
       "  <tbody>\n",
       "    <tr>\n",
       "      <th>0</th>\n",
       "      <td>110kV/20kV transformer</td>\n",
       "      <td>25 MVA 110/20 kV</td>\n",
       "      <td>2</td>\n",
       "      <td>3</td>\n",
       "      <td>25000.0</td>\n",
       "      <td>110.0</td>\n",
       "      <td>20.0</td>\n",
       "      <td>11.2</td>\n",
       "      <td>0.282</td>\n",
       "      <td>29.0</td>\n",
       "      <td>0.071</td>\n",
       "      <td>hv</td>\n",
       "      <td>0</td>\n",
       "      <td>-9</td>\n",
       "      <td>9</td>\n",
       "      <td>1.5</td>\n",
       "      <td>0</td>\n",
       "      <td>True</td>\n",
       "      <td>150.0</td>\n",
       "    </tr>\n",
       "  </tbody>\n",
       "</table>\n",
       "</div>"
      ],
      "text/plain": [
       "                     name          std_type  hv_bus  lv_bus   sn_kva  \\\n",
       "0  110kV/20kV transformer  25 MVA 110/20 kV       2       3  25000.0   \n",
       "\n",
       "   vn_hv_kv  vn_lv_kv  vsc_percent  vscr_percent  pfe_kw  i0_percent tp_side  \\\n",
       "0     110.0      20.0         11.2         0.282    29.0       0.071      hv   \n",
       "\n",
       "   tp_mid  tp_min  tp_max  tp_st_percent  tp_pos in_service  shift_degree  \n",
       "0       0      -9       9            1.5       0       True         150.0  "
      ]
     },
     "execution_count": 3,
     "metadata": {},
     "output_type": "execute_result"
    }
   ],
   "source": [
    "# We create the transformer out of the Pandapower standard type library:\n",
    "pp.create_transformer(net, bus3, bus4, name=\"110kV/20kV transformer\", std_type=\"25 MVA 110/20 kV\")\n",
    "\n",
    "# detailed transformer parameters:\n",
    "net.trafo"
   ]
  },
  {
   "cell_type": "markdown",
   "metadata": {},
   "source": [
    "### Lines"
   ]
  },
  {
   "cell_type": "markdown",
   "metadata": {},
   "source": [
    "The network includes three medium voltage lines and one high voltage line. The bus connections are implemented as shown in the network diagram:\n",
    "\n",
    "<img src=\"pics/example_network_simple_lines.png\">"
   ]
  },
  {
   "cell_type": "markdown",
   "metadata": {},
   "source": [
    "The line parameters are once again taken from the standard type library. The full line table looks like this:"
   ]
  },
  {
   "cell_type": "code",
   "execution_count": 4,
   "metadata": {
    "collapsed": false
   },
   "outputs": [],
   "source": [
    "line1=pp.create_line(net, bus1, bus2, length_km=10, std_type=\"N2XS(FL)2Y 1x300 RM/35 64/110 kV\", name=\"Line 1\")\n",
    "line2=pp.create_line(net, bus5, bus6, length_km=2, std_type=\"NA2XS2Y 1x240 RM/25 12/20 kV\", name=\"Line 2\")\n",
    "line3=pp.create_line(net, bus5, bus7, length_km=3.5, std_type=\"48-AL1/8-ST1A 20.0\", name=\"Line 3\")\n",
    "line4=pp.create_line(net, bus5, bus8, length_km=2.5, std_type=\"NA2XS2Y 1x240 RM/25 12/20 kV\", name=\"Line 4\")"
   ]
  },
  {
   "cell_type": "code",
   "execution_count": 81,
   "metadata": {
    "collapsed": false
   },
   "outputs": [
    {
     "data": {
      "text/html": [
       "<div>\n",
       "<table border=\"1\" class=\"dataframe\">\n",
       "  <thead>\n",
       "    <tr style=\"text-align: right;\">\n",
       "      <th></th>\n",
       "      <th>name</th>\n",
       "      <th>std_type</th>\n",
       "      <th>from_bus</th>\n",
       "      <th>to_bus</th>\n",
       "      <th>length_km</th>\n",
       "      <th>r_ohm_per_km</th>\n",
       "      <th>x_ohm_per_km</th>\n",
       "      <th>c_nf_per_km</th>\n",
       "      <th>imax_ka</th>\n",
       "      <th>df</th>\n",
       "      <th>parallel</th>\n",
       "      <th>type</th>\n",
       "      <th>in_service</th>\n",
       "    </tr>\n",
       "  </thead>\n",
       "  <tbody>\n",
       "    <tr>\n",
       "      <th>0</th>\n",
       "      <td>Line 1</td>\n",
       "      <td>N2XS(FL)2Y 1x300 RM/35 64/110 kV</td>\n",
       "      <td>0</td>\n",
       "      <td>1</td>\n",
       "      <td>10.0</td>\n",
       "      <td>0.0600</td>\n",
       "      <td>0.144</td>\n",
       "      <td>144.0</td>\n",
       "      <td>0.588</td>\n",
       "      <td>1.0</td>\n",
       "      <td>1</td>\n",
       "      <td>cs</td>\n",
       "      <td>True</td>\n",
       "    </tr>\n",
       "    <tr>\n",
       "      <th>1</th>\n",
       "      <td>Line 2</td>\n",
       "      <td>NA2XS2Y 1x240 RM/25 12/20 kV</td>\n",
       "      <td>4</td>\n",
       "      <td>5</td>\n",
       "      <td>2.0</td>\n",
       "      <td>0.1220</td>\n",
       "      <td>0.112</td>\n",
       "      <td>304.0</td>\n",
       "      <td>0.421</td>\n",
       "      <td>1.0</td>\n",
       "      <td>1</td>\n",
       "      <td>cs</td>\n",
       "      <td>True</td>\n",
       "    </tr>\n",
       "    <tr>\n",
       "      <th>2</th>\n",
       "      <td>Line 3</td>\n",
       "      <td>48-AL1/8-ST1A 20.0</td>\n",
       "      <td>4</td>\n",
       "      <td>6</td>\n",
       "      <td>3.5</td>\n",
       "      <td>0.5939</td>\n",
       "      <td>0.372</td>\n",
       "      <td>9.5</td>\n",
       "      <td>0.210</td>\n",
       "      <td>1.0</td>\n",
       "      <td>1</td>\n",
       "      <td>ol</td>\n",
       "      <td>True</td>\n",
       "    </tr>\n",
       "    <tr>\n",
       "      <th>3</th>\n",
       "      <td>Line 4</td>\n",
       "      <td>NA2XS2Y 1x240 RM/25 12/20 kV</td>\n",
       "      <td>4</td>\n",
       "      <td>7</td>\n",
       "      <td>2.5</td>\n",
       "      <td>0.1220</td>\n",
       "      <td>0.112</td>\n",
       "      <td>304.0</td>\n",
       "      <td>0.421</td>\n",
       "      <td>1.0</td>\n",
       "      <td>1</td>\n",
       "      <td>cs</td>\n",
       "      <td>True</td>\n",
       "    </tr>\n",
       "  </tbody>\n",
       "</table>\n",
       "</div>"
      ],
      "text/plain": [
       "     name                          std_type  from_bus  to_bus  length_km  \\\n",
       "0  Line 1  N2XS(FL)2Y 1x300 RM/35 64/110 kV         0       1       10.0   \n",
       "1  Line 2      NA2XS2Y 1x240 RM/25 12/20 kV         4       5        2.0   \n",
       "2  Line 3                48-AL1/8-ST1A 20.0         4       6        3.5   \n",
       "3  Line 4      NA2XS2Y 1x240 RM/25 12/20 kV         4       7        2.5   \n",
       "\n",
       "   r_ohm_per_km  x_ohm_per_km  c_nf_per_km  imax_ka   df  parallel type  \\\n",
       "0        0.0600         0.144        144.0    0.588  1.0         1   cs   \n",
       "1        0.1220         0.112        304.0    0.421  1.0         1   cs   \n",
       "2        0.5939         0.372          9.5    0.210  1.0         1   ol   \n",
       "3        0.1220         0.112        304.0    0.421  1.0         1   cs   \n",
       "\n",
       "  in_service  \n",
       "0       True  \n",
       "1       True  \n",
       "2       True  \n",
       "3       True  "
      ]
     },
     "execution_count": 81,
     "metadata": {},
     "output_type": "execute_result"
    }
   ],
   "source": [
    "net.line # line table"
   ]
  },
  {
   "cell_type": "markdown",
   "metadata": {},
   "source": [
    "### Switches"
   ]
  },
  {
   "cell_type": "markdown",
   "metadata": {},
   "source": [
    "The switches within the grid can be assigned to two different groups of element types. The circuit breakers on the high- and low voltage side of the transformer connect two buses (Bus2-Bus3 and Bus4-Bus5). These bus-bus switches can be initialized with et=\"b\". The remaining load break switches connect a line to a bus and are therefore intialized as line-bus switches (et=\"l\"). \n",
    "\n",
    "<img src=\"pics/example_network_simple_switches.png\">"
   ]
  },
  {
   "cell_type": "code",
   "execution_count": 5,
   "metadata": {
    "collapsed": false
   },
   "outputs": [
    {
     "data": {
      "text/html": [
       "<div>\n",
       "<table border=\"1\" class=\"dataframe\">\n",
       "  <thead>\n",
       "    <tr style=\"text-align: right;\">\n",
       "      <th></th>\n",
       "      <th>bus</th>\n",
       "      <th>element</th>\n",
       "      <th>et</th>\n",
       "      <th>type</th>\n",
       "      <th>closed</th>\n",
       "      <th>name</th>\n",
       "    </tr>\n",
       "  </thead>\n",
       "  <tbody>\n",
       "    <tr>\n",
       "      <th>0</th>\n",
       "      <td>1</td>\n",
       "      <td>2</td>\n",
       "      <td>b</td>\n",
       "      <td>CB</td>\n",
       "      <td>True</td>\n",
       "      <td>None</td>\n",
       "    </tr>\n",
       "    <tr>\n",
       "      <th>1</th>\n",
       "      <td>3</td>\n",
       "      <td>4</td>\n",
       "      <td>b</td>\n",
       "      <td>CB</td>\n",
       "      <td>True</td>\n",
       "      <td>None</td>\n",
       "    </tr>\n",
       "    <tr>\n",
       "      <th>2</th>\n",
       "      <td>4</td>\n",
       "      <td>1</td>\n",
       "      <td>l</td>\n",
       "      <td>LBS</td>\n",
       "      <td>True</td>\n",
       "      <td>None</td>\n",
       "    </tr>\n",
       "    <tr>\n",
       "      <th>3</th>\n",
       "      <td>5</td>\n",
       "      <td>1</td>\n",
       "      <td>l</td>\n",
       "      <td>LBS</td>\n",
       "      <td>True</td>\n",
       "      <td>None</td>\n",
       "    </tr>\n",
       "    <tr>\n",
       "      <th>4</th>\n",
       "      <td>4</td>\n",
       "      <td>2</td>\n",
       "      <td>l</td>\n",
       "      <td>LBS</td>\n",
       "      <td>True</td>\n",
       "      <td>None</td>\n",
       "    </tr>\n",
       "    <tr>\n",
       "      <th>5</th>\n",
       "      <td>6</td>\n",
       "      <td>2</td>\n",
       "      <td>l</td>\n",
       "      <td>LBS</td>\n",
       "      <td>True</td>\n",
       "      <td>None</td>\n",
       "    </tr>\n",
       "    <tr>\n",
       "      <th>6</th>\n",
       "      <td>4</td>\n",
       "      <td>3</td>\n",
       "      <td>l</td>\n",
       "      <td>LBS</td>\n",
       "      <td>True</td>\n",
       "      <td>None</td>\n",
       "    </tr>\n",
       "    <tr>\n",
       "      <th>7</th>\n",
       "      <td>7</td>\n",
       "      <td>3</td>\n",
       "      <td>l</td>\n",
       "      <td>LBS</td>\n",
       "      <td>True</td>\n",
       "      <td>None</td>\n",
       "    </tr>\n",
       "  </tbody>\n",
       "</table>\n",
       "</div>"
      ],
      "text/plain": [
       "   bus  element et type closed  name\n",
       "0    1        2  b   CB   True  None\n",
       "1    3        4  b   CB   True  None\n",
       "2    4        1  l  LBS   True  None\n",
       "3    5        1  l  LBS   True  None\n",
       "4    4        2  l  LBS   True  None\n",
       "5    6        2  l  LBS   True  None\n",
       "6    4        3  l  LBS   True  None\n",
       "7    7        3  l  LBS   True  None"
      ]
     },
     "execution_count": 5,
     "metadata": {},
     "output_type": "execute_result"
    }
   ],
   "source": [
    "# We create bus-bus switches (et=\"b\"):\n",
    "pp.create_switch(net, bus2, bus3, et=\"b\", type=\"CB\")\n",
    "pp.create_switch(net, bus4, bus5, et=\"b\", type=\"CB\")\n",
    "# We create line-bus switches (et=\"l\"):\n",
    "pp.create_switch(net, bus5, line2, et=\"l\", type=\"LBS\")\n",
    "pp.create_switch(net, bus6, line2, et=\"l\", type=\"LBS\")\n",
    "pp.create_switch(net, bus5, line3, et=\"l\", type=\"LBS\")\n",
    "pp.create_switch(net, bus7, line3, et=\"l\", type=\"LBS\")\n",
    "pp.create_switch(net, bus5, line4, et=\"l\", type=\"LBS\")\n",
    "pp.create_switch(net, bus8, line4, et=\"l\", type=\"LBS\")\n",
    "\n",
    "# switch table:\n",
    "net.switch"
   ]
  },
  {
   "cell_type": "markdown",
   "metadata": {},
   "source": [
    "### Generator / Static Generator and Load"
   ]
  },
  {
   "cell_type": "markdown",
   "metadata": {},
   "source": [
    "The next step is the creation of the generator, the static generator and the load. We connect the components to our busbars at the medium-voltage side and declare the different parameters within each element. \n",
    "\n",
    "\n",
    "<img src=\"pics/example_network_simple_gens_sgens_loads.png\">"
   ]
  },
  {
   "cell_type": "markdown",
   "metadata": {},
   "source": [
    "The load element is used to model constant active and reactive power consumption:"
   ]
  },
  {
   "cell_type": "code",
   "execution_count": 85,
   "metadata": {
    "collapsed": false
   },
   "outputs": [
    {
     "data": {
      "text/html": [
       "<div>\n",
       "<table border=\"1\" class=\"dataframe\">\n",
       "  <thead>\n",
       "    <tr style=\"text-align: right;\">\n",
       "      <th></th>\n",
       "      <th>name</th>\n",
       "      <th>bus</th>\n",
       "      <th>p_kw</th>\n",
       "      <th>q_kvar</th>\n",
       "      <th>sn_kva</th>\n",
       "      <th>scaling</th>\n",
       "      <th>in_service</th>\n",
       "      <th>type</th>\n",
       "    </tr>\n",
       "  </thead>\n",
       "  <tbody>\n",
       "    <tr>\n",
       "      <th>0</th>\n",
       "      <td>load</td>\n",
       "      <td>7</td>\n",
       "      <td>2000.0</td>\n",
       "      <td>4000.0</td>\n",
       "      <td>NaN</td>\n",
       "      <td>0.6</td>\n",
       "      <td>True</td>\n",
       "      <td>None</td>\n",
       "    </tr>\n",
       "  </tbody>\n",
       "</table>\n",
       "</div>"
      ],
      "text/plain": [
       "   name  bus    p_kw  q_kvar  sn_kva  scaling in_service  type\n",
       "0  load    7  2000.0  4000.0     NaN      0.6       True  None"
      ]
     },
     "execution_count": 85,
     "metadata": {},
     "output_type": "execute_result"
    }
   ],
   "source": [
    "pp.create_load(net, bus8, p_kw=2000, q_kvar=4000, scaling=0.6, name=\"load\")\n",
    "\n",
    "net.load"
   ]
  },
  {
   "cell_type": "markdown",
   "metadata": {},
   "source": [
    "The static generator element is used to model constant active and reactive power generation. Since the signing system used in pandapower is consistently from a consumers point of view, the active power has to be negative to model generation:"
   ]
  },
  {
   "cell_type": "code",
   "execution_count": 10,
   "metadata": {
    "collapsed": false
   },
   "outputs": [
    {
     "data": {
      "text/html": [
       "<div>\n",
       "<table border=\"1\" class=\"dataframe\">\n",
       "  <thead>\n",
       "    <tr style=\"text-align: right;\">\n",
       "      <th></th>\n",
       "      <th>name</th>\n",
       "      <th>bus</th>\n",
       "      <th>p_kw</th>\n",
       "      <th>q_kvar</th>\n",
       "      <th>sn_kva</th>\n",
       "      <th>scaling</th>\n",
       "      <th>in_service</th>\n",
       "      <th>type</th>\n",
       "      <th>controllable</th>\n",
       "    </tr>\n",
       "  </thead>\n",
       "  <tbody>\n",
       "    <tr>\n",
       "      <th>0</th>\n",
       "      <td>static generator</td>\n",
       "      <td>6</td>\n",
       "      <td>-2000.0</td>\n",
       "      <td>500.0</td>\n",
       "      <td>NaN</td>\n",
       "      <td>1.0</td>\n",
       "      <td>True</td>\n",
       "      <td>None</td>\n",
       "      <td>False</td>\n",
       "    </tr>\n",
       "    <tr>\n",
       "      <th>1</th>\n",
       "      <td>static generator</td>\n",
       "      <td>6</td>\n",
       "      <td>-2000.0</td>\n",
       "      <td>500.0</td>\n",
       "      <td>NaN</td>\n",
       "      <td>1.0</td>\n",
       "      <td>True</td>\n",
       "      <td>None</td>\n",
       "      <td>False</td>\n",
       "    </tr>\n",
       "  </tbody>\n",
       "</table>\n",
       "</div>"
      ],
      "text/plain": [
       "               name  bus    p_kw  q_kvar  sn_kva  scaling in_service  type  \\\n",
       "0  static generator    6 -2000.0   500.0     NaN      1.0       True  None   \n",
       "1  static generator    6 -2000.0   500.0     NaN      1.0       True  None   \n",
       "\n",
       "  controllable  \n",
       "0        False  \n",
       "1        False  "
      ]
     },
     "execution_count": 10,
     "metadata": {},
     "output_type": "execute_result"
    }
   ],
   "source": [
    "pp.create_sgen(net, bus7, p_kw=-2000, q_kvar=500, name=\"static generator\")\n",
    "\n",
    "net.sgen"
   ]
  },
  {
   "cell_type": "markdown",
   "metadata": {},
   "source": [
    "The generator element is used to model voltage controlled active power generation. We define it with a active power generation (negative) and a voltage set point:"
   ]
  },
  {
   "cell_type": "code",
   "execution_count": 7,
   "metadata": {
    "collapsed": false
   },
   "outputs": [
    {
     "ename": "UserWarning",
     "evalue": "There is already a generator at bus 5, only one voltage controlling element (ext_grid, gen) is allowed per bus.",
     "output_type": "error",
     "traceback": [
      "\u001b[0;31m---------------------------------------------------------------------------\u001b[0m",
      "\u001b[0;31mUserWarning\u001b[0m                               Traceback (most recent call last)",
      "\u001b[0;32m<ipython-input-7-7471816fa3ff>\u001b[0m in \u001b[0;36m<module>\u001b[0;34m()\u001b[0m\n\u001b[0;32m----> 1\u001b[0;31m \u001b[0mpp\u001b[0m\u001b[1;33m.\u001b[0m\u001b[0mcreate_gen\u001b[0m\u001b[1;33m(\u001b[0m\u001b[0mnet\u001b[0m\u001b[1;33m,\u001b[0m \u001b[0mbus6\u001b[0m\u001b[1;33m,\u001b[0m \u001b[0mp_kw\u001b[0m\u001b[1;33m=\u001b[0m\u001b[1;33m-\u001b[0m\u001b[1;36m6000\u001b[0m\u001b[1;33m,\u001b[0m \u001b[0mvm_pu\u001b[0m\u001b[1;33m=\u001b[0m\u001b[1;36m1.03\u001b[0m\u001b[1;33m,\u001b[0m \u001b[0mname\u001b[0m\u001b[1;33m=\u001b[0m\u001b[1;34m\"generator\"\u001b[0m\u001b[1;33m)\u001b[0m\u001b[1;33m\u001b[0m\u001b[0m\n\u001b[0m\u001b[1;32m      2\u001b[0m \u001b[1;33m\u001b[0m\u001b[0m\n\u001b[1;32m      3\u001b[0m \u001b[0mnet\u001b[0m\u001b[1;33m.\u001b[0m\u001b[0mgen\u001b[0m\u001b[1;33m\u001b[0m\u001b[0m\n",
      "\u001b[0;32mD:\\Python\\pandapower\\pandapower\\create.py\u001b[0m in \u001b[0;36mcreate_gen\u001b[0;34m(net, bus, p_kw, vm_pu, sn_kva, name, index, max_q_kvar, min_q_kvar, min_p_kw, max_p_kw, scaling, type, in_service, cost_per_kw, cost_per_kvar, controllable)\u001b[0m\n\u001b[1;32m    629\u001b[0m     \u001b[1;32mif\u001b[0m \u001b[0mbus\u001b[0m \u001b[1;32min\u001b[0m \u001b[0mnet\u001b[0m\u001b[1;33m.\u001b[0m\u001b[0mgen\u001b[0m\u001b[1;33m.\u001b[0m\u001b[0mbus\u001b[0m\u001b[1;33m.\u001b[0m\u001b[0mvalues\u001b[0m\u001b[1;33m:\u001b[0m\u001b[1;33m\u001b[0m\u001b[0m\n\u001b[1;32m    630\u001b[0m         raise UserWarning(\n\u001b[0;32m--> 631\u001b[0;31m             \"There is already a generator at bus %u, only one voltage controlling element (ext_grid, gen) is allowed per bus.\" % bus)\n\u001b[0m\u001b[1;32m    632\u001b[0m \u001b[1;33m\u001b[0m\u001b[0m\n\u001b[1;32m    633\u001b[0m     \u001b[1;32mif\u001b[0m \u001b[0mindex\u001b[0m \u001b[1;32mis\u001b[0m \u001b[1;32mNone\u001b[0m\u001b[1;33m:\u001b[0m\u001b[1;33m\u001b[0m\u001b[0m\n",
      "\u001b[0;31mUserWarning\u001b[0m: There is already a generator at bus 5, only one voltage controlling element (ext_grid, gen) is allowed per bus."
     ]
    }
   ],
   "source": [
    "pp.create_gen(net, bus6, p_kw=-6000, vm_pu=1.03, name=\"generator\") \n",
    "\n",
    "net.gen"
   ]
  },
  {
   "cell_type": "markdown",
   "metadata": {},
   "source": [
    "### Shunt"
   ]
  },
  {
   "cell_type": "markdown",
   "metadata": {
    "collapsed": true
   },
   "source": [
    "The last step is the creation of the shunt. We connect the shunt to bus3 and declare the different shunt properties\n",
    "\n",
    "<img src=\"pics/example_network_simple_shunts.png\">"
   ]
  },
  {
   "cell_type": "markdown",
   "metadata": {},
   "source": [
    "The shunt is defined by its power consumption at rated  voltage. Once again, the signing system is from a consumers point of view, which means that a negative reactive power models a capacitator bank:"
   ]
  },
  {
   "cell_type": "code",
   "execution_count": 11,
   "metadata": {
    "collapsed": false
   },
   "outputs": [
    {
     "data": {
      "text/html": [
       "<div>\n",
       "<table border=\"1\" class=\"dataframe\">\n",
       "  <thead>\n",
       "    <tr style=\"text-align: right;\">\n",
       "      <th></th>\n",
       "      <th>bus</th>\n",
       "      <th>name</th>\n",
       "      <th>p_kw</th>\n",
       "      <th>q_kvar</th>\n",
       "      <th>in_service</th>\n",
       "    </tr>\n",
       "  </thead>\n",
       "  <tbody>\n",
       "    <tr>\n",
       "      <th>0</th>\n",
       "      <td>2</td>\n",
       "      <td>Shunt</td>\n",
       "      <td>0.0</td>\n",
       "      <td>-960.0</td>\n",
       "      <td>1</td>\n",
       "    </tr>\n",
       "  </tbody>\n",
       "</table>\n",
       "</div>"
      ],
      "text/plain": [
       "   bus   name  p_kw  q_kvar  in_service\n",
       "0    2  Shunt   0.0  -960.0           1"
      ]
     },
     "execution_count": 11,
     "metadata": {},
     "output_type": "execute_result"
    }
   ],
   "source": [
    "pp.create_shunt(net, bus3, p_kw=0, q_kvar=-960, name='Shunt')\n",
    "\n",
    "net.shunt"
   ]
  },
  {
   "cell_type": "markdown",
   "metadata": {},
   "source": [
    "If you want to learn how to create more complicated networks, continue with the create_advanced tutorial. If you want to learn about how to run a loadflow, continue with the loadflow tutorial."
   ]
  }
 ],
 "metadata": {
  "anaconda-cloud": {},
  "kernelspec": {
   "display_name": "Python [default]",
   "language": "python",
   "name": "python3"
  },
  "language_info": {
   "codemirror_mode": {
    "name": "ipython",
    "version": 3
   },
   "file_extension": ".py",
   "mimetype": "text/x-python",
   "name": "python",
   "nbconvert_exporter": "python",
   "pygments_lexer": "ipython3",
   "version": "3.5.2"
  }
 },
 "nbformat": 4,
 "nbformat_minor": 0
}
