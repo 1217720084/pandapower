{
 "cells": [
  {
   "cell_type": "markdown",
   "metadata": {
    "collapsed": true
   },
   "source": [
    "# Working with pandas in pandapower\n",
    "\n",
    "All data in pandapower is stored in pandas dataframes, which is why all functionalities that are implemented in pandas (http://pandas.pydata.org/) can be used with pandapower. pandas is a very powerful and widely used tool for data analysis.\n",
    "\n",
    "In the following we will present just a few of the many possibilities how builtin pandas functions can make your life easier when working in pandapower.\n",
    "\n",
    "<div class=\"alert alert-warning\">\n",
    "This tutorial refers to pandas functionalities and how to use them with pandapower. If you have not worked with pandas before, this should give you a good overview of the relevant functionality. If you are already familiar with pandas, it might still refresh your memory, but maybe not provide new information.\n",
    "<div/>"
   ]
  },
  {
   "cell_type": "markdown",
   "metadata": {},
   "source": [
    "We use the mv_oberrhein example from the pandapower networks package for this tutorial."
   ]
  },
  {
   "cell_type": "code",
   "execution_count": 110,
   "metadata": {
    "collapsed": false
   },
   "outputs": [],
   "source": [
    "#Import the pandapower and the networks module:\n",
    "import pandapower as pp\n",
    "import pandapower.networks as nw\n",
    "import pandas as pd\n",
    "\n",
    "#Import an example network:\n",
    "net = nw.mv_oberrhein()"
   ]
  },
  {
   "cell_type": "markdown",
   "metadata": {},
   "source": [
    "## Accessing and Setting Parameters\n",
    "\n",
    "You can accesss all parameters of one element with the .loc command:"
   ]
  },
  {
   "cell_type": "code",
   "execution_count": 111,
   "metadata": {
    "collapsed": false
   },
   "outputs": [
    {
     "data": {
      "text/plain": [
       "name                                  Line 4\n",
       "std_type        NA2XS2Y 1x185 RM/25 12/20 kV\n",
       "from_bus                                 144\n",
       "to_bus                                   141\n",
       "length_km                           0.381968\n",
       "r_ohm_per_km                           0.161\n",
       "x_ohm_per_km                           0.117\n",
       "c_nf_per_km                              273\n",
       "imax_ka                                0.362\n",
       "df                                         1\n",
       "type                                      cs\n",
       "in_service                                 1\n",
       "parallel                                   1\n",
       "Name: 4, dtype: object"
      ]
     },
     "execution_count": 111,
     "metadata": {},
     "output_type": "execute_result"
    }
   ],
   "source": [
    "#Detailed information about line 4\n",
    "net.line.loc[4]"
   ]
  },
  {
   "cell_type": "markdown",
   "metadata": {},
   "source": [
    "Or one parameter of multiple elements:"
   ]
  },
  {
   "cell_type": "code",
   "execution_count": 112,
   "metadata": {
    "collapsed": false
   },
   "outputs": [
    {
     "data": {
      "text/plain": [
       "5    3.3028\n",
       "6    0.3504\n",
       "Name: length_km, dtype: float64"
      ]
     },
     "execution_count": 112,
     "metadata": {},
     "output_type": "execute_result"
    }
   ],
   "source": [
    "#Length information about line 5 and 6\n",
    "net.line.length_km.loc[[5,6]]"
   ]
  },
  {
   "cell_type": "markdown",
   "metadata": {},
   "source": [
    "The values are returned as a pandas series. To get them in an array instead, use the values function:"
   ]
  },
  {
   "cell_type": "code",
   "execution_count": 113,
   "metadata": {
    "collapsed": false
   },
   "outputs": [
    {
     "data": {
      "text/plain": [
       "array([ 3.3028,  0.3504])"
      ]
     },
     "execution_count": 113,
     "metadata": {},
     "output_type": "execute_result"
    }
   ],
   "source": [
    "#Length information about line 5 and 6 as numpy array\n",
    "net.line.length_km.loc[[5,6]].values"
   ]
  },
  {
   "cell_type": "markdown",
   "metadata": {},
   "source": [
    "Multiple parameters of multiple elements are returned as a pandas dataframe:"
   ]
  },
  {
   "cell_type": "code",
   "execution_count": 115,
   "metadata": {
    "collapsed": false
   },
   "outputs": [
    {
     "data": {
      "text/html": [
       "<div>\n",
       "<table border=\"1\" class=\"dataframe\">\n",
       "  <thead>\n",
       "    <tr style=\"text-align: right;\">\n",
       "      <th></th>\n",
       "      <th>length_km</th>\n",
       "      <th>r_ohm_per_km</th>\n",
       "      <th>x_ohm_per_km</th>\n",
       "      <th>c_nf_per_km</th>\n",
       "    </tr>\n",
       "  </thead>\n",
       "  <tbody>\n",
       "    <tr>\n",
       "      <th>5</th>\n",
       "      <td>3.3028</td>\n",
       "      <td>0.161</td>\n",
       "      <td>0.117</td>\n",
       "      <td>273.0</td>\n",
       "    </tr>\n",
       "    <tr>\n",
       "      <th>6</th>\n",
       "      <td>0.3504</td>\n",
       "      <td>0.161</td>\n",
       "      <td>0.117</td>\n",
       "      <td>273.0</td>\n",
       "    </tr>\n",
       "  </tbody>\n",
       "</table>\n",
       "</div>"
      ],
      "text/plain": [
       "   length_km  r_ohm_per_km  x_ohm_per_km  c_nf_per_km\n",
       "5     3.3028         0.161         0.117        273.0\n",
       "6     0.3504         0.161         0.117        273.0"
      ]
     },
     "execution_count": 115,
     "metadata": {},
     "output_type": "execute_result"
    }
   ],
   "source": [
    "#Length and type information about line 5 and 6                               \n",
    "net.line.loc[[5,6], [\"length_km\", \"r_ohm_per_km\", \"x_ohm_per_km\", \"c_nf_per_km\"]]"
   ]
  },
  {
   "cell_type": "markdown",
   "metadata": {
    "collapsed": true
   },
   "source": [
    "The values function in this case yields a multi-dimensional array:"
   ]
  },
  {
   "cell_type": "code",
   "execution_count": 116,
   "metadata": {
    "collapsed": false
   },
   "outputs": [
    {
     "data": {
      "text/plain": [
       "array([[  3.30280000e+00,   1.61000000e-01,   1.17000000e-01,\n",
       "          2.73000000e+02],\n",
       "       [  3.50400000e-01,   1.61000000e-01,   1.17000000e-01,\n",
       "          2.73000000e+02]])"
      ]
     },
     "execution_count": 116,
     "metadata": {},
     "output_type": "execute_result"
    }
   ],
   "source": [
    "#Length and type information about line 5 and 6  as an array                             \n",
    "net.line.loc[[5,6], [\"length_km\", \"r_ohm_per_km\", \"x_ohm_per_km\", \"c_nf_per_km\"]].values"
   ]
  },
  {
   "cell_type": "markdown",
   "metadata": {},
   "source": [
    "To access exactly one parameter, .at can be used instead of .loc:"
   ]
  },
  {
   "cell_type": "code",
   "execution_count": 117,
   "metadata": {
    "collapsed": false
   },
   "outputs": [
    {
     "data": {
      "text/plain": [
       "0.35039999999999999"
      ]
     },
     "execution_count": 117,
     "metadata": {},
     "output_type": "execute_result"
    }
   ],
   "source": [
    "net.line.length_km.at[6]"
   ]
  },
  {
   "cell_type": "markdown",
   "metadata": {},
   "source": [
    "This .at solution can only be used for exactly one parameter, but is siginifcantly faster than using .loc. That is why you should always use .at if possible!"
   ]
  },
  {
   "cell_type": "markdown",
   "metadata": {},
   "source": [
    "Setting parameters works the same way:"
   ]
  },
  {
   "cell_type": "code",
   "execution_count": 118,
   "metadata": {
    "collapsed": false
   },
   "outputs": [
    {
     "name": "stdout",
     "output_type": "stream",
     "text": [
      "Line lengths after parameter setting:\n"
     ]
    },
    {
     "data": {
      "text/plain": [
       "4    1.8\n",
       "5    3.2\n",
       "6    2.2\n",
       "Name: length_km, dtype: float64"
      ]
     },
     "execution_count": 118,
     "metadata": {},
     "output_type": "execute_result"
    }
   ],
   "source": [
    "#Set single parameter with .at\n",
    "net.line.length_km.at[5] = 3.2\n",
    "#or\n",
    "net.line.at[5, \"length_km\"] = 3.2\n",
    "\n",
    "#Set multiple parameters with .loc\n",
    "net.line.length_km.loc[[4,6]] = [1.8, 2.2]\n",
    "\n",
    "#Output\n",
    "print(\"Line lengths after parameter setting:\")\n",
    "net.line.length_km.loc[[4,5,6]]"
   ]
  },
  {
   "cell_type": "markdown",
   "metadata": {},
   "source": [
    "## Statistical Evaluations\n",
    "\n",
    "You can easily find maximum, minimum values of a column with pandas, e.g."
   ]
  },
  {
   "cell_type": "code",
   "execution_count": 119,
   "metadata": {
    "collapsed": false
   },
   "outputs": [
    {
     "name": "stdout",
     "output_type": "stream",
     "text": [
      "Maximum Line Length: 3.20 km\n",
      "Minimum Line Length: 0.07 km\n",
      "Mean Line Length: 0.62 km\n"
     ]
    }
   ],
   "source": [
    "print(\"Maximum Line Length: %.2f km\"%net.line.length_km.max())\n",
    "print(\"Minimum Line Length: %.2f km\"%net.line.length_km.min())\n",
    "print(\"Mean Line Length: %.2f km\"%net.line.length_km.mean())"
   ]
  },
  {
   "cell_type": "markdown",
   "metadata": {},
   "source": [
    "Of course you can also combine these, for example to calculate weighted means:"
   ]
  },
  {
   "cell_type": "code",
   "execution_count": 72,
   "metadata": {
    "collapsed": false
   },
   "outputs": [
    {
     "name": "stdout",
     "output_type": "stream",
     "text": [
      "Weighted Mean Resistance: 0.16 Ohm per kilometer\n"
     ]
    }
   ],
   "source": [
    "weighted_mean_r = (net.line.length_km * net.line.r_ohm_per_km).sum() / net.line.length_km.sum()\n",
    "print(\"Weighted Mean Resistance: %.2f Ohm per kilometer\"%weighted_mean_r)"
   ]
  },
  {
   "cell_type": "markdown",
   "metadata": {},
   "source": [
    "## Iterating over Elements\n",
    "\n",
    "If you want to iterate over a dataframe, use the iterrows function. It gives you the index of each row and the row as a pandas series."
   ]
  },
  {
   "cell_type": "code",
   "execution_count": 73,
   "metadata": {
    "collapsed": false
   },
   "outputs": [
    {
     "name": "stdout",
     "output_type": "stream",
     "text": [
      "the line with index 4 is 1.800000 kilometers long and has a resistance of 0.161000 ohm per kilometers\n",
      "the line with index 5 is 3.200000 kilometers long and has a resistance of 0.161000 ohm per kilometers\n",
      "the line with index 6 is 2.200000 kilometers long and has a resistance of 0.161000 ohm per kilometers\n"
     ]
    }
   ],
   "source": [
    "for lidx, linerow in net.line.loc[[4,5,6]].iterrows():\n",
    "        print(\"the line with index %s is %f kilometers long and has a resistance of %f ohm per kilometers\" %(lidx, linerow.length_km, linerow.r_ohm_per_km))"
   ]
  },
  {
   "cell_type": "markdown",
   "metadata": {},
   "source": [
    "You can also group elements that share the same value in any column of the dataframe with the groubpy function of pandas;"
   ]
  },
  {
   "cell_type": "code",
   "execution_count": 74,
   "metadata": {
    "collapsed": false
   },
   "outputs": [
    {
     "name": "stdout",
     "output_type": "stream",
     "text": [
      "there are 10 lines with standard type 243-AL1/39-ST1A 20.0 with an overall length of 10.761400 kilometers\n",
      "there are 160 lines with standard type NA2XS2Y 1x185 RM/25 12/20 kV with an overall length of 96.806343 kilometers\n",
      "there are 11 lines with standard type NA2XS2Y 1x240 RM/25 12/20 kV with an overall length of 4.343042 kilometers\n"
     ]
    }
   ],
   "source": [
    "for std_type, linetable in net.line.groupby(net.line.std_type):\n",
    "        print(\"there are %u lines with standard type %s with an overall length of %f kilometers\"%(len(linetable), std_type, linetable.length_km.sum()))"
   ]
  },
  {
   "cell_type": "markdown",
   "metadata": {},
   "source": [
    "The first variable is now the value of the column you grouped by (here line standard type) and the second variable is a pandas dataframe of all lines that have this value (here all lines with the standard type defined in the first variable)."
   ]
  },
  {
   "cell_type": "markdown",
   "metadata": {},
   "source": [
    "You can also directly sum up certain values of a groupby, for example"
   ]
  },
  {
   "cell_type": "code",
   "execution_count": 75,
   "metadata": {
    "collapsed": false
   },
   "outputs": [
    {
     "data": {
      "text/plain": [
       "std_type\n",
       "243-AL1/39-ST1A 20.0            10.761400\n",
       "NA2XS2Y 1x185 RM/25 12/20 kV    96.806343\n",
       "NA2XS2Y 1x240 RM/25 12/20 kV     4.343042\n",
       "Name: length_km, dtype: float64"
      ]
     },
     "execution_count": 75,
     "metadata": {},
     "output_type": "execute_result"
    }
   ],
   "source": [
    "net.line.groupby(net.line.std_type).sum().length_km"
   ]
  },
  {
   "cell_type": "markdown",
   "metadata": {},
   "source": [
    "gives you a pandas of series with the sum of all line length grouped by standard type."
   ]
  },
  {
   "cell_type": "markdown",
   "metadata": {},
   "source": [
    "## Querying Dataframes\n",
    "\n",
    "You will often need to select elements with specific characteristics. You can do that with boolean masks:"
   ]
  },
  {
   "cell_type": "code",
   "execution_count": 76,
   "metadata": {
    "collapsed": false
   },
   "outputs": [],
   "source": [
    "mask = net.line.length_km > 2.5"
   ]
  },
  {
   "cell_type": "markdown",
   "metadata": {},
   "source": [
    "the mask variable is now a boolean time series that indicates for every line if it longer than 2500 meters or not. We can now select only the ones which are longer than 2500 meters and output their name and length:"
   ]
  },
  {
   "cell_type": "code",
   "execution_count": 77,
   "metadata": {
    "collapsed": false
   },
   "outputs": [
    {
     "data": {
      "text/html": [
       "<div>\n",
       "<table border=\"1\" class=\"dataframe\">\n",
       "  <thead>\n",
       "    <tr style=\"text-align: right;\">\n",
       "      <th></th>\n",
       "      <th>name</th>\n",
       "      <th>length_km</th>\n",
       "      <th>std_type</th>\n",
       "    </tr>\n",
       "  </thead>\n",
       "  <tbody>\n",
       "    <tr>\n",
       "      <th>5</th>\n",
       "      <td>Line 5</td>\n",
       "      <td>3.200000</td>\n",
       "      <td>NA2XS2Y 1x185 RM/25 12/20 kV</td>\n",
       "    </tr>\n",
       "    <tr>\n",
       "      <th>45</th>\n",
       "      <td>Line 45</td>\n",
       "      <td>2.611111</td>\n",
       "      <td>NA2XS2Y 1x185 RM/25 12/20 kV</td>\n",
       "    </tr>\n",
       "    <tr>\n",
       "      <th>59</th>\n",
       "      <td>Line 59</td>\n",
       "      <td>3.155390</td>\n",
       "      <td>NA2XS2Y 1x185 RM/25 12/20 kV</td>\n",
       "    </tr>\n",
       "    <tr>\n",
       "      <th>91</th>\n",
       "      <td>Line 91</td>\n",
       "      <td>2.528200</td>\n",
       "      <td>NA2XS2Y 1x185 RM/25 12/20 kV</td>\n",
       "    </tr>\n",
       "    <tr>\n",
       "      <th>162</th>\n",
       "      <td>Line 162</td>\n",
       "      <td>2.595300</td>\n",
       "      <td>243-AL1/39-ST1A 20.0</td>\n",
       "    </tr>\n",
       "  </tbody>\n",
       "</table>\n",
       "</div>"
      ],
      "text/plain": [
       "         name  length_km                      std_type\n",
       "5      Line 5   3.200000  NA2XS2Y 1x185 RM/25 12/20 kV\n",
       "45    Line 45   2.611111  NA2XS2Y 1x185 RM/25 12/20 kV\n",
       "59    Line 59   3.155390  NA2XS2Y 1x185 RM/25 12/20 kV\n",
       "91    Line 91   2.528200  NA2XS2Y 1x185 RM/25 12/20 kV\n",
       "162  Line 162   2.595300          243-AL1/39-ST1A 20.0"
      ]
     },
     "execution_count": 77,
     "metadata": {},
     "output_type": "execute_result"
    }
   ],
   "source": [
    "long_lines = net.line[mask]\n",
    "\n",
    "#Output\n",
    "long_lines[[\"name\", \"length_km\", \"std_type\"]]"
   ]
  },
  {
   "cell_type": "markdown",
   "metadata": {},
   "source": [
    "or, directly in one step:"
   ]
  },
  {
   "cell_type": "code",
   "execution_count": 78,
   "metadata": {
    "collapsed": false
   },
   "outputs": [
    {
     "data": {
      "text/html": [
       "<div>\n",
       "<table border=\"1\" class=\"dataframe\">\n",
       "  <thead>\n",
       "    <tr style=\"text-align: right;\">\n",
       "      <th></th>\n",
       "      <th>name</th>\n",
       "      <th>length_km</th>\n",
       "      <th>std_type</th>\n",
       "    </tr>\n",
       "  </thead>\n",
       "  <tbody>\n",
       "    <tr>\n",
       "      <th>5</th>\n",
       "      <td>Line 5</td>\n",
       "      <td>3.200000</td>\n",
       "      <td>NA2XS2Y 1x185 RM/25 12/20 kV</td>\n",
       "    </tr>\n",
       "    <tr>\n",
       "      <th>45</th>\n",
       "      <td>Line 45</td>\n",
       "      <td>2.611111</td>\n",
       "      <td>NA2XS2Y 1x185 RM/25 12/20 kV</td>\n",
       "    </tr>\n",
       "    <tr>\n",
       "      <th>59</th>\n",
       "      <td>Line 59</td>\n",
       "      <td>3.155390</td>\n",
       "      <td>NA2XS2Y 1x185 RM/25 12/20 kV</td>\n",
       "    </tr>\n",
       "    <tr>\n",
       "      <th>91</th>\n",
       "      <td>Line 91</td>\n",
       "      <td>2.528200</td>\n",
       "      <td>NA2XS2Y 1x185 RM/25 12/20 kV</td>\n",
       "    </tr>\n",
       "    <tr>\n",
       "      <th>162</th>\n",
       "      <td>Line 162</td>\n",
       "      <td>2.595300</td>\n",
       "      <td>243-AL1/39-ST1A 20.0</td>\n",
       "    </tr>\n",
       "  </tbody>\n",
       "</table>\n",
       "</div>"
      ],
      "text/plain": [
       "         name  length_km                      std_type\n",
       "5      Line 5   3.200000  NA2XS2Y 1x185 RM/25 12/20 kV\n",
       "45    Line 45   2.611111  NA2XS2Y 1x185 RM/25 12/20 kV\n",
       "59    Line 59   3.155390  NA2XS2Y 1x185 RM/25 12/20 kV\n",
       "91    Line 91   2.528200  NA2XS2Y 1x185 RM/25 12/20 kV\n",
       "162  Line 162   2.595300          243-AL1/39-ST1A 20.0"
      ]
     },
     "execution_count": 78,
     "metadata": {},
     "output_type": "execute_result"
    }
   ],
   "source": [
    "net.line[net.line.length_km > 2.5][[\"name\", \"length_km\", \"std_type\"]]\n"
   ]
  },
  {
   "cell_type": "markdown",
   "metadata": {},
   "source": [
    "\n",
    "You can of course also check for exact values, for example if you want all 110 kV buses:"
   ]
  },
  {
   "cell_type": "code",
   "execution_count": 81,
   "metadata": {
    "collapsed": false
   },
   "outputs": [
    {
     "data": {
      "text/html": [
       "<div>\n",
       "<table border=\"1\" class=\"dataframe\">\n",
       "  <thead>\n",
       "    <tr style=\"text-align: right;\">\n",
       "      <th></th>\n",
       "      <th>name</th>\n",
       "      <th>vn_kv</th>\n",
       "      <th>type</th>\n",
       "      <th>in_service</th>\n",
       "      <th>zone</th>\n",
       "    </tr>\n",
       "  </thead>\n",
       "  <tbody>\n",
       "    <tr>\n",
       "      <th>38</th>\n",
       "      <td>bus_250</td>\n",
       "      <td>110.0</td>\n",
       "      <td>n</td>\n",
       "      <td>1.0</td>\n",
       "      <td>None</td>\n",
       "    </tr>\n",
       "    <tr>\n",
       "      <th>177</th>\n",
       "      <td>None</td>\n",
       "      <td>110.0</td>\n",
       "      <td>b</td>\n",
       "      <td>1.0</td>\n",
       "      <td>None</td>\n",
       "    </tr>\n",
       "  </tbody>\n",
       "</table>\n",
       "</div>"
      ],
      "text/plain": [
       "        name  vn_kv type  in_service  zone\n",
       "38   bus_250  110.0    n         1.0  None\n",
       "177     None  110.0    b         1.0  None"
      ]
     },
     "execution_count": 81,
     "metadata": {},
     "output_type": "execute_result"
    }
   ],
   "source": [
    "net.bus[net.bus.vn_kv == 110]"
   ]
  },
  {
   "cell_type": "markdown",
   "metadata": {},
   "source": [
    "For string querys, use the str.contains function, for example to find loads with \"MV\" in the name:"
   ]
  },
  {
   "cell_type": "code",
   "execution_count": 82,
   "metadata": {
    "collapsed": false
   },
   "outputs": [
    {
     "data": {
      "text/html": [
       "<div>\n",
       "<table border=\"1\" class=\"dataframe\">\n",
       "  <thead>\n",
       "    <tr style=\"text-align: right;\">\n",
       "      <th></th>\n",
       "      <th>name</th>\n",
       "      <th>bus</th>\n",
       "      <th>p_kw</th>\n",
       "      <th>q_kvar</th>\n",
       "      <th>sn_kva</th>\n",
       "      <th>scaling</th>\n",
       "      <th>in_service</th>\n",
       "      <th>type</th>\n",
       "    </tr>\n",
       "  </thead>\n",
       "  <tbody>\n",
       "  </tbody>\n",
       "</table>\n",
       "</div>"
      ],
      "text/plain": [
       "Empty DataFrame\n",
       "Columns: [name, bus, p_kw, q_kvar, sn_kva, scaling, in_service, type]\n",
       "Index: []"
      ]
     },
     "execution_count": 82,
     "metadata": {},
     "output_type": "execute_result"
    }
   ],
   "source": [
    "net.load[net.load.name.str.startswith(\"MV\")]"
   ]
  },
  {
   "cell_type": "markdown",
   "metadata": {},
   "source": [
    "or to find all all loads that contain \"Load 0\" in their name:"
   ]
  },
  {
   "cell_type": "code",
   "execution_count": 83,
   "metadata": {
    "collapsed": false
   },
   "outputs": [
    {
     "data": {
      "text/html": [
       "<div>\n",
       "<table border=\"1\" class=\"dataframe\">\n",
       "  <thead>\n",
       "    <tr style=\"text-align: right;\">\n",
       "      <th></th>\n",
       "      <th>name</th>\n",
       "      <th>bus</th>\n",
       "      <th>p_kw</th>\n",
       "      <th>q_kvar</th>\n",
       "      <th>sn_kva</th>\n",
       "      <th>scaling</th>\n",
       "      <th>in_service</th>\n",
       "      <th>type</th>\n",
       "    </tr>\n",
       "  </thead>\n",
       "  <tbody>\n",
       "    <tr>\n",
       "      <th>0</th>\n",
       "      <td>Load 0</td>\n",
       "      <td>63</td>\n",
       "      <td>250.0</td>\n",
       "      <td>50.764665</td>\n",
       "      <td>NaN</td>\n",
       "      <td>0.6</td>\n",
       "      <td>1.0</td>\n",
       "      <td>MV/LV Station</td>\n",
       "    </tr>\n",
       "  </tbody>\n",
       "</table>\n",
       "</div>"
      ],
      "text/plain": [
       "     name  bus   p_kw     q_kvar  sn_kva  scaling  in_service           type\n",
       "0  Load 0   63  250.0  50.764665     NaN      0.6         1.0  MV/LV Station"
      ]
     },
     "execution_count": 83,
     "metadata": {},
     "output_type": "execute_result"
    }
   ],
   "source": [
    "net.load[net.load.name.str.contains(\"Load 0\")]"
   ]
  },
  {
   "cell_type": "markdown",
   "metadata": {},
   "source": [
    "The isin function allows you to check if certain values are contained in a list, for example:"
   ]
  },
  {
   "cell_type": "code",
   "execution_count": 84,
   "metadata": {
    "collapsed": false
   },
   "outputs": [
    {
     "data": {
      "text/html": [
       "<div>\n",
       "<table border=\"1\" class=\"dataframe\">\n",
       "  <thead>\n",
       "    <tr style=\"text-align: right;\">\n",
       "      <th></th>\n",
       "      <th>name</th>\n",
       "      <th>from_bus</th>\n",
       "      <th>to_bus</th>\n",
       "    </tr>\n",
       "  </thead>\n",
       "  <tbody>\n",
       "    <tr>\n",
       "      <th>147</th>\n",
       "      <td>Line 147</td>\n",
       "      <td>39</td>\n",
       "      <td>40</td>\n",
       "    </tr>\n",
       "    <tr>\n",
       "      <th>172</th>\n",
       "      <td>Line 172</td>\n",
       "      <td>72</td>\n",
       "      <td>93</td>\n",
       "    </tr>\n",
       "  </tbody>\n",
       "</table>\n",
       "</div>"
      ],
      "text/plain": [
       "         name  from_bus  to_bus\n",
       "147  Line 147        39      40\n",
       "172  Line 172        72      93"
      ]
     },
     "execution_count": 84,
     "metadata": {},
     "output_type": "execute_result"
    }
   ],
   "source": [
    "lines = net.line[net.line.from_bus.isin([39,72])]\n",
    "lines[[\"name\", \"from_bus\", \"to_bus\"]]"
   ]
  },
  {
   "cell_type": "markdown",
   "metadata": {},
   "source": [
    "returns the names of all lines that are connected to one of the buses 39 or 72 at the from bus."
   ]
  },
  {
   "cell_type": "markdown",
   "metadata": {},
   "source": [
    "You can also combine certain queries with the logical | (or) and & (and) for more complicated queries, for example:"
   ]
  },
  {
   "cell_type": "code",
   "execution_count": 85,
   "metadata": {
    "collapsed": false
   },
   "outputs": [
    {
     "data": {
      "text/html": [
       "<div>\n",
       "<table border=\"1\" class=\"dataframe\">\n",
       "  <thead>\n",
       "    <tr style=\"text-align: right;\">\n",
       "      <th></th>\n",
       "      <th>name</th>\n",
       "      <th>from_bus</th>\n",
       "      <th>to_bus</th>\n",
       "    </tr>\n",
       "  </thead>\n",
       "  <tbody>\n",
       "    <tr>\n",
       "      <th>147</th>\n",
       "      <td>Line 147</td>\n",
       "      <td>39</td>\n",
       "      <td>40</td>\n",
       "    </tr>\n",
       "    <tr>\n",
       "      <th>149</th>\n",
       "      <td>Line 149</td>\n",
       "      <td>49</td>\n",
       "      <td>39</td>\n",
       "    </tr>\n",
       "    <tr>\n",
       "      <th>172</th>\n",
       "      <td>Line 172</td>\n",
       "      <td>72</td>\n",
       "      <td>93</td>\n",
       "    </tr>\n",
       "    <tr>\n",
       "      <th>175</th>\n",
       "      <td>Line 175</td>\n",
       "      <td>50</td>\n",
       "      <td>72</td>\n",
       "    </tr>\n",
       "  </tbody>\n",
       "</table>\n",
       "</div>"
      ],
      "text/plain": [
       "         name  from_bus  to_bus\n",
       "147  Line 147        39      40\n",
       "149  Line 149        49      39\n",
       "172  Line 172        72      93\n",
       "175  Line 175        50      72"
      ]
     },
     "execution_count": 85,
     "metadata": {},
     "output_type": "execute_result"
    }
   ],
   "source": [
    "lines = net.line[(net.line.from_bus.isin([39,72])) | (net.line.to_bus.isin([39,72]))]\n",
    "lines[[\"name\", \"from_bus\", \"to_bus\"]]"
   ]
  },
  {
   "cell_type": "markdown",
   "metadata": {},
   "source": [
    "returns the names of all lines that are connected to one of the buses 39 or 72 at the from bus or to bus."
   ]
  },
  {
   "cell_type": "markdown",
   "metadata": {},
   "source": [
    "Please be aware that the boolean query always returns a copy of the dataframe. Lets say you want to set all medium voltage nodes out of service and try this:"
   ]
  },
  {
   "cell_type": "code",
   "execution_count": 86,
   "metadata": {
    "collapsed": false
   },
   "outputs": [],
   "source": [
    "net.bus[net.bus.vn_kv > 25].in_service = False"
   ]
  },
  {
   "cell_type": "markdown",
   "metadata": {},
   "source": [
    "You will notice that your pandapower network table did not change:"
   ]
  },
  {
   "cell_type": "code",
   "execution_count": 87,
   "metadata": {
    "collapsed": false
   },
   "outputs": [
    {
     "data": {
      "text/plain": [
       "0    1.0\n",
       "1    1.0\n",
       "2    1.0\n",
       "3    1.0\n",
       "4    1.0\n",
       "Name: in_service, dtype: float64"
      ]
     },
     "execution_count": 87,
     "metadata": {},
     "output_type": "execute_result"
    }
   ],
   "source": [
    "net.bus.in_service.head()"
   ]
  },
  {
   "cell_type": "markdown",
   "metadata": {},
   "source": [
    "This is because the query returns a copy and you change the value in this copy in the same way like the following code:"
   ]
  },
  {
   "cell_type": "code",
   "execution_count": 88,
   "metadata": {
    "collapsed": false
   },
   "outputs": [
    {
     "name": "stdout",
     "output_type": "stream",
     "text": [
      "0    False\n",
      "1    False\n",
      "2    False\n",
      "3    False\n",
      "4    False\n",
      "Name: in_service, dtype: bool\n",
      "0    1.0\n",
      "1    1.0\n",
      "2    1.0\n",
      "3    1.0\n",
      "4    1.0\n",
      "Name: in_service, dtype: float64\n"
     ]
    }
   ],
   "source": [
    "bus_table = net.bus[net.bus.vn_kv < 25]\n",
    "bus_table.in_service = False\n",
    "\n",
    "#Output\n",
    "print(bus_table.in_service.head())\n",
    "# but still:\n",
    "print(net.bus.in_service.head())"
   ]
  },
  {
   "cell_type": "markdown",
   "metadata": {},
   "source": [
    "Here bus_table is a copy of a part of the net.bus table. In the example above, you changed that copy, but not the original table. That is why you need to save the index of the copied bus table and than change the value of the original table:"
   ]
  },
  {
   "cell_type": "code",
   "execution_count": 89,
   "metadata": {
    "collapsed": false
   },
   "outputs": [
    {
     "name": "stdout",
     "output_type": "stream",
     "text": [
      "0    False\n",
      "1    False\n",
      "2    False\n",
      "3    False\n",
      "4    False\n",
      "Name: in_service, dtype: object\n"
     ]
    }
   ],
   "source": [
    "#Get index and store in ns_nodes\n",
    "ns_nodes = net.bus[net.bus.vn_kv < 25].index\n",
    "\n",
    "#Change all values where index is in ns_nodes\n",
    "net.bus.in_service.loc[ns_nodes] = False\n",
    "\n",
    "#Output\n",
    "print(net.bus.in_service.head())"
   ]
  },
  {
   "cell_type": "markdown",
   "metadata": {},
   "source": [
    "## Extending and Customizing the Framework\n",
    "\n",
    "One of the benefits of pandapower is its easy to customize and extend datastructure. For pandapower to be able to run a loadflow, the standard parameters of the datastructure have to be defined. However, you can extend the pandapower datastructure any way you like."
   ]
  },
  {
   "cell_type": "markdown",
   "metadata": {},
   "source": [
    "Say you have network that is partitioned in three zones A, B and C: "
   ]
  },
  {
   "cell_type": "code",
   "execution_count": 101,
   "metadata": {
    "collapsed": false
   },
   "outputs": [],
   "source": [
    "net.bus.loc[:int(len(net.bus.index)/2), \"zone\"] = \"A\"\n",
    "net.bus.loc[int(len(net.bus.index)/2):, \"zone\"] = \"B\""
   ]
  },
  {
   "cell_type": "markdown",
   "metadata": {},
   "source": [
    "The goal is to apply a load scaling factor of 0.8 in Zone A and of 0.6 in Zone B:"
   ]
  },
  {
   "cell_type": "code",
   "execution_count": 102,
   "metadata": {
    "collapsed": false
   },
   "outputs": [
    {
     "data": {
      "text/html": [
       "<div>\n",
       "<table border=\"1\" class=\"dataframe\">\n",
       "  <thead>\n",
       "    <tr style=\"text-align: right;\">\n",
       "      <th></th>\n",
       "      <th>name</th>\n",
       "      <th>bus</th>\n",
       "      <th>p_kw</th>\n",
       "      <th>q_kvar</th>\n",
       "      <th>sn_kva</th>\n",
       "      <th>scaling</th>\n",
       "      <th>in_service</th>\n",
       "      <th>type</th>\n",
       "    </tr>\n",
       "  </thead>\n",
       "  <tbody>\n",
       "    <tr>\n",
       "      <th>0</th>\n",
       "      <td>Load 0</td>\n",
       "      <td>63</td>\n",
       "      <td>250.0</td>\n",
       "      <td>50.764665</td>\n",
       "      <td>NaN</td>\n",
       "      <td>0.8</td>\n",
       "      <td>1.0</td>\n",
       "      <td>MV/LV Station</td>\n",
       "    </tr>\n",
       "    <tr>\n",
       "      <th>1</th>\n",
       "      <td>Load 1</td>\n",
       "      <td>109</td>\n",
       "      <td>630.0</td>\n",
       "      <td>127.926956</td>\n",
       "      <td>NaN</td>\n",
       "      <td>0.6</td>\n",
       "      <td>1.0</td>\n",
       "      <td>MV/LV Station</td>\n",
       "    </tr>\n",
       "    <tr>\n",
       "      <th>2</th>\n",
       "      <td>Load 2</td>\n",
       "      <td>119</td>\n",
       "      <td>250.0</td>\n",
       "      <td>50.764665</td>\n",
       "      <td>NaN</td>\n",
       "      <td>0.6</td>\n",
       "      <td>1.0</td>\n",
       "      <td>MV/LV Station</td>\n",
       "    </tr>\n",
       "    <tr>\n",
       "      <th>3</th>\n",
       "      <td>Load 3</td>\n",
       "      <td>14</td>\n",
       "      <td>250.0</td>\n",
       "      <td>50.764665</td>\n",
       "      <td>NaN</td>\n",
       "      <td>0.8</td>\n",
       "      <td>1.0</td>\n",
       "      <td>MV/LV Station</td>\n",
       "    </tr>\n",
       "    <tr>\n",
       "      <th>4</th>\n",
       "      <td>Load 4</td>\n",
       "      <td>46</td>\n",
       "      <td>250.0</td>\n",
       "      <td>50.764665</td>\n",
       "      <td>NaN</td>\n",
       "      <td>0.8</td>\n",
       "      <td>1.0</td>\n",
       "      <td>MV/LV Station</td>\n",
       "    </tr>\n",
       "  </tbody>\n",
       "</table>\n",
       "</div>"
      ],
      "text/plain": [
       "     name  bus   p_kw      q_kvar  sn_kva  scaling  in_service           type\n",
       "0  Load 0   63  250.0   50.764665     NaN      0.8         1.0  MV/LV Station\n",
       "1  Load 1  109  630.0  127.926956     NaN      0.6         1.0  MV/LV Station\n",
       "2  Load 2  119  250.0   50.764665     NaN      0.6         1.0  MV/LV Station\n",
       "3  Load 3   14  250.0   50.764665     NaN      0.8         1.0  MV/LV Station\n",
       "4  Load 4   46  250.0   50.764665     NaN      0.8         1.0  MV/LV Station"
      ]
     },
     "execution_count": 102,
     "metadata": {},
     "output_type": "execute_result"
    }
   ],
   "source": [
    "for i, load in net.load.iterrows():\n",
    "    if net.bus.zone.at[load.bus] == \"A\":\n",
    "        net.load.scaling.at[i] = 0.8\n",
    "    elif net.bus.zone.at[load.bus] == \"B\":\n",
    "        net.load.scaling.at[i] = 0.6\n",
    "net.load.head(n=5)"
   ]
  },
  {
   "cell_type": "markdown",
   "metadata": {},
   "source": [
    "However, you could also extend the line table to include the zone of each line like this:"
   ]
  },
  {
   "cell_type": "code",
   "execution_count": 103,
   "metadata": {
    "collapsed": false
   },
   "outputs": [
    {
     "data": {
      "text/html": [
       "<div>\n",
       "<table border=\"1\" class=\"dataframe\">\n",
       "  <thead>\n",
       "    <tr style=\"text-align: right;\">\n",
       "      <th></th>\n",
       "      <th>name</th>\n",
       "      <th>bus</th>\n",
       "      <th>p_kw</th>\n",
       "      <th>q_kvar</th>\n",
       "      <th>sn_kva</th>\n",
       "      <th>scaling</th>\n",
       "      <th>in_service</th>\n",
       "      <th>type</th>\n",
       "      <th>zone</th>\n",
       "    </tr>\n",
       "  </thead>\n",
       "  <tbody>\n",
       "    <tr>\n",
       "      <th>0</th>\n",
       "      <td>Load 0</td>\n",
       "      <td>63</td>\n",
       "      <td>250.0</td>\n",
       "      <td>50.764665</td>\n",
       "      <td>NaN</td>\n",
       "      <td>0.8</td>\n",
       "      <td>1.0</td>\n",
       "      <td>MV/LV Station</td>\n",
       "      <td>A</td>\n",
       "    </tr>\n",
       "    <tr>\n",
       "      <th>1</th>\n",
       "      <td>Load 1</td>\n",
       "      <td>109</td>\n",
       "      <td>630.0</td>\n",
       "      <td>127.926956</td>\n",
       "      <td>NaN</td>\n",
       "      <td>0.6</td>\n",
       "      <td>1.0</td>\n",
       "      <td>MV/LV Station</td>\n",
       "      <td>B</td>\n",
       "    </tr>\n",
       "    <tr>\n",
       "      <th>2</th>\n",
       "      <td>Load 2</td>\n",
       "      <td>119</td>\n",
       "      <td>250.0</td>\n",
       "      <td>50.764665</td>\n",
       "      <td>NaN</td>\n",
       "      <td>0.6</td>\n",
       "      <td>1.0</td>\n",
       "      <td>MV/LV Station</td>\n",
       "      <td>B</td>\n",
       "    </tr>\n",
       "    <tr>\n",
       "      <th>3</th>\n",
       "      <td>Load 3</td>\n",
       "      <td>14</td>\n",
       "      <td>250.0</td>\n",
       "      <td>50.764665</td>\n",
       "      <td>NaN</td>\n",
       "      <td>0.8</td>\n",
       "      <td>1.0</td>\n",
       "      <td>MV/LV Station</td>\n",
       "      <td>A</td>\n",
       "    </tr>\n",
       "    <tr>\n",
       "      <th>4</th>\n",
       "      <td>Load 4</td>\n",
       "      <td>46</td>\n",
       "      <td>250.0</td>\n",
       "      <td>50.764665</td>\n",
       "      <td>NaN</td>\n",
       "      <td>0.8</td>\n",
       "      <td>1.0</td>\n",
       "      <td>MV/LV Station</td>\n",
       "      <td>A</td>\n",
       "    </tr>\n",
       "  </tbody>\n",
       "</table>\n",
       "</div>"
      ],
      "text/plain": [
       "     name  bus   p_kw      q_kvar  sn_kva  scaling  in_service           type  \\\n",
       "0  Load 0   63  250.0   50.764665     NaN      0.8         1.0  MV/LV Station   \n",
       "1  Load 1  109  630.0  127.926956     NaN      0.6         1.0  MV/LV Station   \n",
       "2  Load 2  119  250.0   50.764665     NaN      0.6         1.0  MV/LV Station   \n",
       "3  Load 3   14  250.0   50.764665     NaN      0.8         1.0  MV/LV Station   \n",
       "4  Load 4   46  250.0   50.764665     NaN      0.8         1.0  MV/LV Station   \n",
       "\n",
       "  zone  \n",
       "0    A  \n",
       "1    B  \n",
       "2    B  \n",
       "3    A  \n",
       "4    A  "
      ]
     },
     "execution_count": 103,
     "metadata": {},
     "output_type": "execute_result"
    }
   ],
   "source": [
    "net.scaling = 1.0 #reset\n",
    "net.load[\"zone\"] = net.bus.zone.loc[net.load.bus.values].values\n",
    "net.load.head(n=5)"
   ]
  },
  {
   "cell_type": "markdown",
   "metadata": {},
   "source": [
    "and then apply your function only to the lines in Zone A:"
   ]
  },
  {
   "cell_type": "code",
   "execution_count": 104,
   "metadata": {
    "collapsed": false
   },
   "outputs": [
    {
     "data": {
      "text/html": [
       "<div>\n",
       "<table border=\"1\" class=\"dataframe\">\n",
       "  <thead>\n",
       "    <tr style=\"text-align: right;\">\n",
       "      <th></th>\n",
       "      <th>name</th>\n",
       "      <th>bus</th>\n",
       "      <th>p_kw</th>\n",
       "      <th>q_kvar</th>\n",
       "      <th>sn_kva</th>\n",
       "      <th>scaling</th>\n",
       "      <th>in_service</th>\n",
       "      <th>type</th>\n",
       "      <th>zone</th>\n",
       "    </tr>\n",
       "  </thead>\n",
       "  <tbody>\n",
       "    <tr>\n",
       "      <th>0</th>\n",
       "      <td>Load 0</td>\n",
       "      <td>63</td>\n",
       "      <td>250.0</td>\n",
       "      <td>50.764665</td>\n",
       "      <td>NaN</td>\n",
       "      <td>0.8</td>\n",
       "      <td>1.0</td>\n",
       "      <td>MV/LV Station</td>\n",
       "      <td>A</td>\n",
       "    </tr>\n",
       "    <tr>\n",
       "      <th>1</th>\n",
       "      <td>Load 1</td>\n",
       "      <td>109</td>\n",
       "      <td>630.0</td>\n",
       "      <td>127.926956</td>\n",
       "      <td>NaN</td>\n",
       "      <td>0.6</td>\n",
       "      <td>1.0</td>\n",
       "      <td>MV/LV Station</td>\n",
       "      <td>B</td>\n",
       "    </tr>\n",
       "    <tr>\n",
       "      <th>2</th>\n",
       "      <td>Load 2</td>\n",
       "      <td>119</td>\n",
       "      <td>250.0</td>\n",
       "      <td>50.764665</td>\n",
       "      <td>NaN</td>\n",
       "      <td>0.6</td>\n",
       "      <td>1.0</td>\n",
       "      <td>MV/LV Station</td>\n",
       "      <td>B</td>\n",
       "    </tr>\n",
       "    <tr>\n",
       "      <th>3</th>\n",
       "      <td>Load 3</td>\n",
       "      <td>14</td>\n",
       "      <td>250.0</td>\n",
       "      <td>50.764665</td>\n",
       "      <td>NaN</td>\n",
       "      <td>0.8</td>\n",
       "      <td>1.0</td>\n",
       "      <td>MV/LV Station</td>\n",
       "      <td>A</td>\n",
       "    </tr>\n",
       "    <tr>\n",
       "      <th>4</th>\n",
       "      <td>Load 4</td>\n",
       "      <td>46</td>\n",
       "      <td>250.0</td>\n",
       "      <td>50.764665</td>\n",
       "      <td>NaN</td>\n",
       "      <td>0.8</td>\n",
       "      <td>1.0</td>\n",
       "      <td>MV/LV Station</td>\n",
       "      <td>A</td>\n",
       "    </tr>\n",
       "  </tbody>\n",
       "</table>\n",
       "</div>"
      ],
      "text/plain": [
       "     name  bus   p_kw      q_kvar  sn_kva  scaling  in_service           type  \\\n",
       "0  Load 0   63  250.0   50.764665     NaN      0.8         1.0  MV/LV Station   \n",
       "1  Load 1  109  630.0  127.926956     NaN      0.6         1.0  MV/LV Station   \n",
       "2  Load 2  119  250.0   50.764665     NaN      0.6         1.0  MV/LV Station   \n",
       "3  Load 3   14  250.0   50.764665     NaN      0.8         1.0  MV/LV Station   \n",
       "4  Load 4   46  250.0   50.764665     NaN      0.8         1.0  MV/LV Station   \n",
       "\n",
       "  zone  \n",
       "0    A  \n",
       "1    B  \n",
       "2    B  \n",
       "3    A  \n",
       "4    A  "
      ]
     },
     "execution_count": 104,
     "metadata": {},
     "output_type": "execute_result"
    }
   ],
   "source": [
    "net.load.loc[net.load[net.load.zone==\"A\"].index, \"scaling\"] = 0.8\n",
    "net.load.loc[net.load[net.load.zone==\"B\"].index, \"scaling\"] = 0.6\n",
    "net.load.head(n=5)"
   ]
  },
  {
   "cell_type": "markdown",
   "metadata": {},
   "source": [
    "Of course for this simple example, the first solution would also be feasible. But the more complicated your code gets, the more important it is to customize the pandapower framework, so your code is more efficient as well as easier to read and debug."
   ]
  },
  {
   "cell_type": "markdown",
   "metadata": {},
   "source": [
    "## Merging Dataframes\n",
    "\n",
    "Lets say you want to see the voltage at each bus together with the bus name. The voltage is stored in net.res_bus, whereas the name ist stored in net.bus. The two values are in different tables, but they have the same index, which is why you can easily merge them into a new shared dataframe:"
   ]
  },
  {
   "cell_type": "code",
   "execution_count": 105,
   "metadata": {
    "collapsed": false
   },
   "outputs": [
    {
     "data": {
      "text/html": [
       "<div>\n",
       "<table border=\"1\" class=\"dataframe\">\n",
       "  <thead>\n",
       "    <tr style=\"text-align: right;\">\n",
       "      <th></th>\n",
       "      <th>name</th>\n",
       "      <th>vm_pu</th>\n",
       "    </tr>\n",
       "  </thead>\n",
       "  <tbody>\n",
       "    <tr>\n",
       "      <th>0</th>\n",
       "      <td>bus_200</td>\n",
       "      <td>0.990963</td>\n",
       "    </tr>\n",
       "    <tr>\n",
       "      <th>1</th>\n",
       "      <td>bus_204</td>\n",
       "      <td>0.990837</td>\n",
       "    </tr>\n",
       "    <tr>\n",
       "      <th>2</th>\n",
       "      <td>bus_203</td>\n",
       "      <td>0.991809</td>\n",
       "    </tr>\n",
       "    <tr>\n",
       "      <th>3</th>\n",
       "      <td>bus_202</td>\n",
       "      <td>0.990077</td>\n",
       "    </tr>\n",
       "    <tr>\n",
       "      <th>4</th>\n",
       "      <td>bus_201</td>\n",
       "      <td>0.991523</td>\n",
       "    </tr>\n",
       "    <tr>\n",
       "      <th>5</th>\n",
       "      <td>bus_207</td>\n",
       "      <td>0.997197</td>\n",
       "    </tr>\n",
       "    <tr>\n",
       "      <th>6</th>\n",
       "      <td>bus_206</td>\n",
       "      <td>1.005408</td>\n",
       "    </tr>\n",
       "    <tr>\n",
       "      <th>7</th>\n",
       "      <td>bus_205</td>\n",
       "      <td>0.997228</td>\n",
       "    </tr>\n",
       "  </tbody>\n",
       "</table>\n",
       "</div>"
      ],
      "text/plain": [
       "      name     vm_pu\n",
       "0  bus_200  0.990963\n",
       "1  bus_204  0.990837\n",
       "2  bus_203  0.991809\n",
       "3  bus_202  0.990077\n",
       "4  bus_201  0.991523\n",
       "5  bus_207  0.997197\n",
       "6  bus_206  1.005408\n",
       "7  bus_205  0.997228"
      ]
     },
     "execution_count": 105,
     "metadata": {},
     "output_type": "execute_result"
    }
   ],
   "source": [
    "net = nw.mv_oberrhein()\n",
    "pp.runpp(net) #Run a load flow calculation to get result tables\n",
    "\n",
    "#Store bus name with bus voltage result of loadflow calculation in bus_results\n",
    "#axis={horizontal=0, vertical=1}: axis to concatenate along\n",
    "bus_results = pd.concat([net.bus.name, net.res_bus.vm_pu], axis=1)\n",
    "\n",
    "#Output\n",
    "bus_results.head(n=8)"
   ]
  },
  {
   "cell_type": "markdown",
   "metadata": {},
   "source": [
    "Now bus results shows you the name and the voltage of each bus in one dataframe."
   ]
  },
  {
   "cell_type": "markdown",
   "metadata": {},
   "source": [
    "If you want to see the bus voltage of all loads, you can also merge the bus and the load dataframe. They do not share an index, but rather the index of the bus is given in the “bus” column of the load table. In that case you can merge the dataframes like this: (for more information about the arguments see [pandas merging documentation] [pandas_merg])\n",
    "[pandas_merg]: http://pandas.pydata.org/pandas-docs/stable/merging.html "
   ]
  },
  {
   "cell_type": "code",
   "execution_count": 106,
   "metadata": {
    "collapsed": false,
    "scrolled": false
   },
   "outputs": [
    {
     "data": {
      "text/html": [
       "<div>\n",
       "<table border=\"1\" class=\"dataframe\">\n",
       "  <thead>\n",
       "    <tr style=\"text-align: right;\">\n",
       "      <th></th>\n",
       "      <th>vm_pu</th>\n",
       "      <th>va_degree</th>\n",
       "      <th>p_kw_x</th>\n",
       "      <th>q_kvar_x</th>\n",
       "      <th>name</th>\n",
       "      <th>bus</th>\n",
       "      <th>p_kw_y</th>\n",
       "      <th>q_kvar_y</th>\n",
       "      <th>sn_kva</th>\n",
       "      <th>scaling</th>\n",
       "      <th>in_service</th>\n",
       "      <th>type</th>\n",
       "    </tr>\n",
       "  </thead>\n",
       "  <tbody>\n",
       "    <tr>\n",
       "      <th>67</th>\n",
       "      <td>0.990963</td>\n",
       "      <td>-7.111844</td>\n",
       "      <td>240.0</td>\n",
       "      <td>48.734079</td>\n",
       "      <td>Load 67</td>\n",
       "      <td>0</td>\n",
       "      <td>400.0</td>\n",
       "      <td>81.223464</td>\n",
       "      <td>NaN</td>\n",
       "      <td>0.6</td>\n",
       "      <td>1.0</td>\n",
       "      <td>MV/LV Station</td>\n",
       "    </tr>\n",
       "    <tr>\n",
       "      <th>17</th>\n",
       "      <td>0.990837</td>\n",
       "      <td>-7.116278</td>\n",
       "      <td>150.0</td>\n",
       "      <td>30.458799</td>\n",
       "      <td>Load 17</td>\n",
       "      <td>1</td>\n",
       "      <td>250.0</td>\n",
       "      <td>50.764665</td>\n",
       "      <td>NaN</td>\n",
       "      <td>0.6</td>\n",
       "      <td>1.0</td>\n",
       "      <td>MV/LV Station</td>\n",
       "    </tr>\n",
       "    <tr>\n",
       "      <th>128</th>\n",
       "      <td>0.991809</td>\n",
       "      <td>-7.084888</td>\n",
       "      <td>150.0</td>\n",
       "      <td>30.458799</td>\n",
       "      <td>Load 128</td>\n",
       "      <td>2</td>\n",
       "      <td>250.0</td>\n",
       "      <td>50.764665</td>\n",
       "      <td>NaN</td>\n",
       "      <td>0.6</td>\n",
       "      <td>1.0</td>\n",
       "      <td>MV/LV Station</td>\n",
       "    </tr>\n",
       "    <tr>\n",
       "      <th>73</th>\n",
       "      <td>0.990077</td>\n",
       "      <td>-7.140966</td>\n",
       "      <td>150.0</td>\n",
       "      <td>30.458799</td>\n",
       "      <td>Load 73</td>\n",
       "      <td>3</td>\n",
       "      <td>250.0</td>\n",
       "      <td>50.764665</td>\n",
       "      <td>NaN</td>\n",
       "      <td>0.6</td>\n",
       "      <td>1.0</td>\n",
       "      <td>MV/LV Station</td>\n",
       "    </tr>\n",
       "    <tr>\n",
       "      <th>53</th>\n",
       "      <td>0.991523</td>\n",
       "      <td>-7.093822</td>\n",
       "      <td>150.0</td>\n",
       "      <td>30.458799</td>\n",
       "      <td>Load 53</td>\n",
       "      <td>4</td>\n",
       "      <td>250.0</td>\n",
       "      <td>50.764665</td>\n",
       "      <td>NaN</td>\n",
       "      <td>0.6</td>\n",
       "      <td>1.0</td>\n",
       "      <td>MV/LV Station</td>\n",
       "    </tr>\n",
       "    <tr>\n",
       "      <th>61</th>\n",
       "      <td>0.997197</td>\n",
       "      <td>-6.637610</td>\n",
       "      <td>150.0</td>\n",
       "      <td>30.458799</td>\n",
       "      <td>Load 61</td>\n",
       "      <td>5</td>\n",
       "      <td>250.0</td>\n",
       "      <td>50.764665</td>\n",
       "      <td>NaN</td>\n",
       "      <td>0.6</td>\n",
       "      <td>1.0</td>\n",
       "      <td>MV/LV Station</td>\n",
       "    </tr>\n",
       "    <tr>\n",
       "      <th>142</th>\n",
       "      <td>1.005408</td>\n",
       "      <td>-5.764742</td>\n",
       "      <td>300.0</td>\n",
       "      <td>60.917598</td>\n",
       "      <td>Load 142</td>\n",
       "      <td>6</td>\n",
       "      <td>500.0</td>\n",
       "      <td>101.529330</td>\n",
       "      <td>NaN</td>\n",
       "      <td>0.6</td>\n",
       "      <td>1.0</td>\n",
       "      <td>MV Load</td>\n",
       "    </tr>\n",
       "    <tr>\n",
       "      <th>101</th>\n",
       "      <td>0.990384</td>\n",
       "      <td>-7.130613</td>\n",
       "      <td>240.0</td>\n",
       "      <td>48.734079</td>\n",
       "      <td>Load 101</td>\n",
       "      <td>8</td>\n",
       "      <td>400.0</td>\n",
       "      <td>81.223464</td>\n",
       "      <td>NaN</td>\n",
       "      <td>0.6</td>\n",
       "      <td>1.0</td>\n",
       "      <td>MV/LV Station</td>\n",
       "    </tr>\n",
       "  </tbody>\n",
       "</table>\n",
       "</div>"
      ],
      "text/plain": [
       "        vm_pu  va_degree  p_kw_x   q_kvar_x      name  bus  p_kw_y  \\\n",
       "67   0.990963  -7.111844   240.0  48.734079   Load 67    0   400.0   \n",
       "17   0.990837  -7.116278   150.0  30.458799   Load 17    1   250.0   \n",
       "128  0.991809  -7.084888   150.0  30.458799  Load 128    2   250.0   \n",
       "73   0.990077  -7.140966   150.0  30.458799   Load 73    3   250.0   \n",
       "53   0.991523  -7.093822   150.0  30.458799   Load 53    4   250.0   \n",
       "61   0.997197  -6.637610   150.0  30.458799   Load 61    5   250.0   \n",
       "142  1.005408  -5.764742   300.0  60.917598  Load 142    6   500.0   \n",
       "101  0.990384  -7.130613   240.0  48.734079  Load 101    8   400.0   \n",
       "\n",
       "       q_kvar_y  sn_kva  scaling  in_service           type  \n",
       "67    81.223464     NaN      0.6         1.0  MV/LV Station  \n",
       "17    50.764665     NaN      0.6         1.0  MV/LV Station  \n",
       "128   50.764665     NaN      0.6         1.0  MV/LV Station  \n",
       "73    50.764665     NaN      0.6         1.0  MV/LV Station  \n",
       "53    50.764665     NaN      0.6         1.0  MV/LV Station  \n",
       "61    50.764665     NaN      0.6         1.0  MV/LV Station  \n",
       "142  101.529330     NaN      0.6         1.0        MV Load  \n",
       "101   81.223464     NaN      0.6         1.0  MV/LV Station  "
      ]
     },
     "execution_count": 106,
     "metadata": {},
     "output_type": "execute_result"
    }
   ],
   "source": [
    "load_bus_results = pd.merge(net.res_bus, net.load, left_index=True, right_on=\"bus\")\n",
    "\n",
    "#Output\n",
    "load_bus_results.head(n=8)"
   ]
  },
  {
   "cell_type": "markdown",
   "metadata": {},
   "source": [
    "Here net.res_bus is the left and net.load is the right dataframe. To merge the dataframe into one, the index of the left dataframe (left_index=True) and the bus column of the right dataframe (right_on=”bus”) are used. The resulting dataframe shows you the load table with the bus results of the respective load buses."
   ]
  },
  {
   "cell_type": "markdown",
   "metadata": {},
   "source": [
    "If you want to know the maximum voltage at a bus that has a load connected to it, you could use:"
   ]
  },
  {
   "cell_type": "code",
   "execution_count": 107,
   "metadata": {
    "collapsed": false
   },
   "outputs": [
    {
     "data": {
      "text/plain": [
       "1.0106900295057959"
      ]
     },
     "execution_count": 107,
     "metadata": {},
     "output_type": "execute_result"
    }
   ],
   "source": [
    "max_load_voltage = pd.merge(net.res_bus, net.load, left_index=True, right_on=\"bus\").vm_pu.max()\n",
    "\n",
    "#Output\n",
    "max_load_voltage"
   ]
  },
  {
   "cell_type": "markdown",
   "metadata": {},
   "source": [
    "or alternatively with a boolean mask:"
   ]
  },
  {
   "cell_type": "code",
   "execution_count": 108,
   "metadata": {
    "collapsed": false
   },
   "outputs": [
    {
     "data": {
      "text/plain": [
       "1.0106900295057959"
      ]
     },
     "execution_count": 108,
     "metadata": {},
     "output_type": "execute_result"
    }
   ],
   "source": [
    "max_load_voltage = net.res_bus[net.bus.index.isin(net.load.bus.values)].vm_pu.max()\n",
    "\n",
    "#Output\n",
    "max_load_voltage"
   ]
  },
  {
   "cell_type": "markdown",
   "metadata": {},
   "source": [
    "In this simple case, the boolean mask solution is about 5 times faster than merging the dataframes, so only use merging for more complicated operations or if runtime is not important (e.g. debugging)."
   ]
  }
 ],
 "metadata": {
  "anaconda-cloud": {},
  "kernelspec": {
   "display_name": "Python [default]",
   "language": "python",
   "name": "python3"
  },
  "language_info": {
   "codemirror_mode": {
    "name": "ipython",
    "version": 3
   },
   "file_extension": ".py",
   "mimetype": "text/x-python",
   "name": "python",
   "nbconvert_exporter": "python",
   "pygments_lexer": "ipython3",
   "version": "3.5.2"
  }
 },
 "nbformat": 4,
 "nbformat_minor": 0
}
