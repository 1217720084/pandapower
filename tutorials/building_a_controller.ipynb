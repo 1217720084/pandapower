{
 "cells": [
  {
   "cell_type": "markdown",
   "metadata": {},
   "source": [
    "# Building a Controller"
   ]
  },
  {
   "cell_type": "markdown",
   "metadata": {},
   "source": [
    "The following documents the development of a new controller.\n",
    "In this case we are going to implement an arbitrary controllable storage unit. This\n",
    "may be a battery, an electrically powered car or some sort of reservoir storage."
   ]
  },
  {
   "cell_type": "markdown",
   "metadata": {},
   "source": [
    "## Parent-Class\n",
    "First we start by creating a new file *control/storage_control.py*, containing our new class."
   ]
  },
  {
   "cell_type": "code",
   "execution_count": 19,
   "metadata": {},
   "outputs": [],
   "source": [
    "    import control\n",
    "\n",
    "    class Storage(control.basic_controller.Controller):\n",
    "        \"\"\"\n",
    "            Example class of a Storage-Controller. Models an abstract energy storage.\n",
    "        \"\"\"\n",
    "\n",
    "        def __init__(self):\n",
    "            # init object here\n",
    "            pass\n",
    "\n",
    "        def time_step(self, time):\n",
    "            \"\"\"\n",
    "            Note: This method is ONLY being called during time-series simulation!\n",
    "\n",
    "            It is the first call in each time step, thus suited for things like\n",
    "            reading profiles or prepare the controller for the next control step.\n",
    "            \"\"\"\n",
    "            pass\n",
    "\n",
    "        def write_to_net(self):\n",
    "            \"\"\"\n",
    "            This method will write any values the controller is in charge of to the\n",
    "            data structure. It will be called at the beginning of each simulated\n",
    "            loadflow, in order to ensure consistency between controller and\n",
    "            data structure.\n",
    "\n",
    "            You will probably want to write the final state of the controller to the\n",
    "            data structure at the end of the control_step using this method.\n",
    "            \"\"\"\n",
    "            pass\n",
    "\n",
    "        def initialize_control(self):\n",
    "            \"\"\"\n",
    "            Some controller require extended initialization in respect to the\n",
    "            current state of the net (or their view of it). This method is being\n",
    "            called after an initial loadflow but BEFORE any control strategies are\n",
    "            being applied.\n",
    "\n",
    "            This method may be interesting if you are aiming for a global\n",
    "            controller or if it has to be aware of its initial state.\n",
    "            \"\"\"\n",
    "            pass\n",
    "\n",
    "        def is_converged(self):\n",
    "            \"\"\"\n",
    "            This method calculated whether or not the controller converged. This is\n",
    "            where any target values are being calculated and compared to the actual\n",
    "            measurements. Returns convergence of the controller.\n",
    "            \"\"\"\n",
    "            return True\n",
    "\n",
    "        def control_step(self):\n",
    "            \"\"\"\n",
    "            If the is_converged method returns false, the control_step will be\n",
    "            called. In other words: if the controller did not converge yet, this\n",
    "            method should implement actions that promote convergence e.g. adapting\n",
    "            actuating variables and writing them back to the data structure.\n",
    "\n",
    "            Note: You might want to store the mismatch calculated in is_converged so\n",
    "            you don't have to do it again. Also, you might want to write the\n",
    "            reaction back to the data structure (use write_to_net).\n",
    "            \"\"\"\n",
    "            pass\n",
    "\n",
    "        def finalize_step(self):\n",
    "            \"\"\"\n",
    "            Note: This method is ONLY being called during time-series simulation!\n",
    "\n",
    "            After each time step, this method is being called to clean things up or\n",
    "            similar. The OutputWriter is a class specifically designed to store\n",
    "            results of the loadflow. If the ControlHandler.output_writer got an\n",
    "            instance of this class, it will be called before the finalize step.\n",
    "            \"\"\"\n",
    "            pass\n"
   ]
  },
  {
   "cell_type": "markdown",
   "metadata": {},
   "source": [
    "Import and inherit from the parent class `Controller` and override methods you would like to use. Also remember that 'is_converged()' returns the boolean value of convergence.\n",
    "\n",
    "Next we write the actual code for the methods. We choose to represent the storage-unit as a static\n",
    "generator in pandapower. To do so we overwrite *__init__* and initiate all the attributes of our\n",
    "class with the values of the corresponding generator using its ID."
   ]
  },
  {
   "cell_type": "code",
   "execution_count": 20,
   "metadata": {},
   "outputs": [],
   "source": [
    "    def __init__(self, net, gid, soc, capacity, sizing):\n",
    "\n",
    "        # read generator attributes from net\n",
    "        self.gid = gid\n",
    "        self.bus = net.sgen.at[gid, \"bus\"]\n",
    "        self.p_mw = net.sgen.at[gid, \"p_mw\"]\n",
    "        self.q_mvar = net.sgen.at[gid, \"q_mvar\"]\n",
    "        self.sn_mva = net.sgen.at[gid, \"sn_mva\"]\n",
    "        self.name = net.sgen.at[gid, \"name\"]\n",
    "        self.gen_type = net.sgen.at[gid, \"type\"]\n",
    "        self.in_service = net.sgen.at[gid, \"in_service\"]\n",
    "\n",
    "        #specific attributes\n",
    "        self.capacity = capacity\n",
    "        self.soc = soc\n",
    "        self.sizing = sizing"
   ]
  },
  {
   "cell_type": "markdown",
   "metadata": {},
   "source": [
    "Methods that should be shared amongst all storage classes have to be implemented here as well"
   ]
  },
  {
   "cell_type": "code",
   "execution_count": 21,
   "metadata": {},
   "outputs": [],
   "source": [
    "    def get_stored_ernergy(self):\n",
    "        # do some \"complex\" calculations\n",
    "        return self.capacity * self.soc"
   ]
  },
  {
   "cell_type": "markdown",
   "metadata": {
    "scrolled": true
   },
   "source": [
    "After doing so, our parent class is finished. But now\n",
    "that we have a parent class, lets actually use it by implementing a\n",
    "subclass of it. In this example it will be a simple battery.\n",
    "\n",
    "Child-Class\n",
    "--------------------\n",
    "Again create a new file *control/storage/electric_car.py* for our new `ECar` class. Note: It is a good\n",
    "idea to keep your project files organized by creating subfolders for closely related classes\n",
    "or scripts. If you actually created the Storage controller, you would need to write ' class Battery(control.storage_control.Storage)' instead of ' class Battery(Storage)', but our jupyter notebook here does not know that file yet."
   ]
  },
  {
   "cell_type": "code",
   "execution_count": 22,
   "metadata": {},
   "outputs": [],
   "source": [
    "    class Battery(Storage):\n",
    "        \"\"\"\n",
    "        Models a battery plus inverter.\n",
    "        \"\"\"\n",
    "\n",
    "        def __init__(self):\n",
    "            # init object here\n",
    "            pass\n",
    "\n",
    "        def time_step(self, time):\n",
    "            # change state according to profile\n",
    "            pass\n",
    "\n",
    "        def write_to_net(self):\n",
    "            # write current P and Q values to the data structure\n",
    "            pass\n",
    "\n",
    "        def is_converged(self):\n",
    "            # calculate convergence criteria\n",
    "            pass\n",
    "\n",
    "        def control_step(self):\n",
    "            # apply control strategy\n",
    "            return True"
   ]
  },
  {
   "cell_type": "markdown",
   "metadata": {},
   "source": [
    "Except the import and its inheritance, this class looks quite the same.\n",
    "We want to make some adjustments though:"
   ]
  },
  {
   "cell_type": "code",
   "execution_count": 23,
   "metadata": {},
   "outputs": [],
   "source": [
    "def __init__(self, net, gid, soc, capacity, sizing, p_profile=None, data_source=None):\n",
    "        super(Battery, self).__init__(net, gid, soc, capacity, sizing)\n",
    "\n",
    "        # profile attributes\n",
    "        self.data_source = data_source\n",
    "        self.p_profile = p_profile\n",
    "        self.last_time_step = None"
   ]
  },
  {
   "cell_type": "markdown",
   "metadata": {},
   "source": [
    "Lets have a closer look at this code. We can call the constructor of\n",
    "the parent class letting it handle all the parameters and set attributes by using the super\n",
    "mechanism: ``super(CHILD-CLASS, self).__init__()``. Additionally we want read values from a profile. \n",
    "\n",
    "If you strictly follow the order of parameters the parents constructor expects,\n",
    "you can refrain from writing ``net=net`` and go with ``super(Battery, self).__init__(net, gid, soc, capacity, sizing)`` instead.\n",
    "\n",
    "\n",
    "As a first step we want our controller to be able to write its P and Q values back to the\n",
    "data structure.\n",
    "   "
   ]
  },
  {
   "cell_type": "code",
   "execution_count": 24,
   "metadata": {},
   "outputs": [],
   "source": [
    "def write_to_net(self):\n",
    "        # write p, q to bus within the net\n",
    "        self.net.sgen.at[self.gid, \"p_mw\"] = self.p_mw\n",
    "        self.net.sgen.at[self.gid, \"q_mvar\"] = self.q_mvar\n",
    "    "
   ]
  },
  {
   "cell_type": "code",
   "execution_count": 25,
   "metadata": {},
   "outputs": [],
   "source": [
    "    def is_converged(self):\n",
    "        # calculate if controller is converged\n",
    "        is_converged = \"some boolean logic\"\n",
    "\n",
    "        return bool(is_converged)"
   ]
  },
  {
   "cell_type": "markdown",
   "metadata": {},
   "source": [
    "In case the controller is not yet converged, the control step is executed. In the example it simply\n",
    "adopts a new value according to the previously calculated target and writes back to the net."
   ]
  },
  {
   "cell_type": "code",
   "execution_count": 26,
   "metadata": {},
   "outputs": [],
   "source": [
    "    def control_step(self):\n",
    "        # some control mechanism\n",
    "        \n",
    "        # write p, q to bus within the net\n",
    "        self.write_to_net()"
   ]
  },
  {
   "cell_type": "markdown",
   "metadata": {},
   "source": [
    "In a time-series simulation the battery should read new power values from a profile and keep track\n",
    "of its state of charge as depicted below."
   ]
  },
  {
   "cell_type": "code",
   "execution_count": 27,
   "metadata": {},
   "outputs": [],
   "source": [
    "    def time_step(self, time):\n",
    "        # keep track of the soc (assuming time is given in seconds)\n",
    "        if self.last_time_step is not None:\n",
    "            self.soc += self.capacity / (self.p_mw * (self.current_time_step-self.last_time_step) / 3600)\n",
    "        self.last_time_step = time\n",
    "\n",
    "        # read new values from a profile\n",
    "        if self.data_source:\n",
    "            if self.p_profile:\n",
    "                self.p_kw = self.data_source.get_time_step_value(time_step=time,\n",
    "                                                                profile_name=self.p_profile)"
   ]
  },
  {
   "cell_type": "markdown",
   "metadata": {},
   "source": [
    "We are now ready to create objects of our newly implemented class and simulate with it!\n",
    "\n",
    "Decent commentary is best practice. It is very handy for people reviewing your code or in case you want to look into the code a few months after implementation."
   ]
  }
 ],
 "metadata": {
  "kernelspec": {
   "display_name": "Python 3",
   "language": "python",
   "name": "python3"
  },
  "language_info": {
   "codemirror_mode": {
    "name": "ipython",
    "version": 3
   },
   "file_extension": ".py",
   "mimetype": "text/x-python",
   "name": "python",
   "nbconvert_exporter": "python",
   "pygments_lexer": "ipython3",
   "version": "3.6.9"
  }
 },
 "nbformat": 4,
 "nbformat_minor": 2
}
