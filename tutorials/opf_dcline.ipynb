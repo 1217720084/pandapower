{
 "cells": [
  {
   "cell_type": "markdown",
   "metadata": {},
   "source": [
    "# DC Line dispatch with pandapower OPF\n",
    "This is an introduction into the usage of the pandapower optimal power flow with dc lines.\n",
    "\n",
    "## Example Network\n",
    "\n",
    "We use the following four bus example network for this tutorial:\n",
    "\n",
    "<img src=\"pics/example_opf_dcline.png\" width=\"100%\">\n",
    "\n",
    "We first create this network in pandapower:"
   ]
  },
  {
   "cell_type": "code",
   "execution_count": 66,
   "metadata": {},
   "outputs": [],
   "source": [
    "import pandapower as pp\n",
    "from numpy import array\n",
    "net = pp.create_empty_network()\n",
    "\n",
    "b1 = pp.create_bus(net, 380)\n",
    "b2 = pp.create_bus(net, 380)\n",
    "b3 = pp.create_bus(net, 380)\n",
    "b4 = pp.create_bus(net, 380)\n",
    "b5 = pp.create_bus(net, 380)\n",
    "\n",
    "l1 = pp.create_line(net, b1, b2, 30, \"490-AL1/64-ST1A 380.0\")\n",
    "l2 = pp.create_line(net, b3, b4, 20, \"490-AL1/64-ST1A 380.0\")\n",
    "l3 = pp.create_line(net, b4, b5, 20, \"490-AL1/64-ST1A 380.0\")\n",
    "\n",
    "dcl1 = pp.create_dcline(net, name=\"dc line\", from_bus=b2, to_bus=b3, p_kw=0.2e6, loss_percent=1.0, \n",
    "                  loss_kw=500, vm_from_pu=1.01, vm_to_pu=1.012, max_p_kw=1e6,\n",
    "                  in_service=True)\n",
    "\n",
    "eg1 = pp.create_ext_grid(net, b1, 1.02, max_p_kw=0.)\n",
    "eg2 = pp.create_ext_grid(net, b5, 1.02, max_p_kw=0.)\n",
    "\n",
    "l1 = pp.create_load(net, bus=b4, p_kw=800e3, controllable = False)"
   ]
  },
  {
   "cell_type": "markdown",
   "metadata": {
    "collapsed": true
   },
   "source": [
    "We now run a regular load flow to check out the DC line model:"
   ]
  },
  {
   "cell_type": "code",
   "execution_count": 67,
   "metadata": {},
   "outputs": [],
   "source": [
    "pp.runpp(net)"
   ]
  },
  {
   "cell_type": "markdown",
   "metadata": {},
   "source": [
    "The transmission power of the DC line is defined in the loadflow as given by the p_kw parameter, which was set to 0.2 GW:"
   ]
  },
  {
   "cell_type": "code",
   "execution_count": 68,
   "metadata": {},
   "outputs": [
    {
     "data": {
      "text/html": [
       "<div>\n",
       "<style scoped>\n",
       "    .dataframe tbody tr th:only-of-type {\n",
       "        vertical-align: middle;\n",
       "    }\n",
       "\n",
       "    .dataframe tbody tr th {\n",
       "        vertical-align: top;\n",
       "    }\n",
       "\n",
       "    .dataframe thead th {\n",
       "        text-align: right;\n",
       "    }\n",
       "</style>\n",
       "<table border=\"1\" class=\"dataframe\">\n",
       "  <thead>\n",
       "    <tr style=\"text-align: right;\">\n",
       "      <th></th>\n",
       "      <th>p_from_kw</th>\n",
       "      <th>q_from_kvar</th>\n",
       "      <th>p_to_kw</th>\n",
       "      <th>q_to_kvar</th>\n",
       "      <th>pl_kw</th>\n",
       "      <th>vm_from_pu</th>\n",
       "      <th>va_from_degree</th>\n",
       "      <th>vm_to_pu</th>\n",
       "      <th>va_to_degree</th>\n",
       "    </tr>\n",
       "  </thead>\n",
       "  <tbody>\n",
       "    <tr>\n",
       "      <th>0</th>\n",
       "      <td>200000.0</td>\n",
       "      <td>152443.185449</td>\n",
       "      <td>-197500.0</td>\n",
       "      <td>74491.758943</td>\n",
       "      <td>2500.0</td>\n",
       "      <td>1.01</td>\n",
       "      <td>-0.48595</td>\n",
       "      <td>1.012</td>\n",
       "      <td>-0.725627</td>\n",
       "    </tr>\n",
       "  </tbody>\n",
       "</table>\n",
       "</div>"
      ],
      "text/plain": [
       "   p_from_kw    q_from_kvar   p_to_kw     q_to_kvar   pl_kw  vm_from_pu  \\\n",
       "0   200000.0  152443.185449 -197500.0  74491.758943  2500.0        1.01   \n",
       "\n",
       "   va_from_degree  vm_to_pu  va_to_degree  \n",
       "0        -0.48595     1.012     -0.725627  "
      ]
     },
     "execution_count": 68,
     "metadata": {},
     "output_type": "execute_result"
    }
   ],
   "source": [
    "net.res_dcline"
   ]
  },
  {
   "cell_type": "markdown",
   "metadata": {},
   "source": [
    "The losses amount to 2500 kW, which are made up of 500 kW conversion loss and 200 MW * 0.01 = 2 MW transmission losses. The voltage setpoints defined at from and to bus are complied with. \n",
    "\n",
    "Now lets define costs for the external grids to run an OPF:"
   ]
  },
  {
   "cell_type": "code",
   "execution_count": 69,
   "metadata": {},
   "outputs": [],
   "source": [
    "costeg0 = pp.create_polynomial_cost(net, 0, 'ext_grid', array([-.1, 0]))\n",
    "costeg1 = pp.create_polynomial_cost(net, 1, 'ext_grid', array([-.08, 0]))\n",
    "net.bus['max_vm_pu'] = 1.5\n",
    "net.line['max_loading_percent'] = 1000\n"
   ]
  },
  {
   "cell_type": "code",
   "execution_count": 70,
   "metadata": {},
   "outputs": [
    {
     "name": "stderr",
     "output_type": "stream",
     "text": [
      "hp.pandapower.run - INFO: These missing columns in ext_grid are considered in OPF as +- 1000 TW.: ['min_p_kw' 'min_q_kvar' 'max_q_kvar']\n",
      "hp.pandapower.run - INFO: These elements have missing power constraint values, which are considered in OPF as +- 1000 TW: ['dcline']\n",
      "hp.pandapower.run - INFO: min_vm_pu is missing in bus table. In OPF these limits are considered as 0.0 pu.\n"
     ]
    }
   ],
   "source": [
    "pp.runopp(net)"
   ]
  },
  {
   "cell_type": "markdown",
   "metadata": {},
   "source": [
    "Since we defined lower costs for Ext Grid 2, it fully services the load:"
   ]
  },
  {
   "cell_type": "code",
   "execution_count": 71,
   "metadata": {},
   "outputs": [
    {
     "data": {
      "text/html": [
       "<div>\n",
       "<style scoped>\n",
       "    .dataframe tbody tr th:only-of-type {\n",
       "        vertical-align: middle;\n",
       "    }\n",
       "\n",
       "    .dataframe tbody tr th {\n",
       "        vertical-align: top;\n",
       "    }\n",
       "\n",
       "    .dataframe thead th {\n",
       "        text-align: right;\n",
       "    }\n",
       "</style>\n",
       "<table border=\"1\" class=\"dataframe\">\n",
       "  <thead>\n",
       "    <tr style=\"text-align: right;\">\n",
       "      <th></th>\n",
       "      <th>p_kw</th>\n",
       "      <th>q_kvar</th>\n",
       "    </tr>\n",
       "  </thead>\n",
       "  <tbody>\n",
       "    <tr>\n",
       "      <th>0</th>\n",
       "      <td>-821525.329085</td>\n",
       "      <td>7787.604746</td>\n",
       "    </tr>\n",
       "    <tr>\n",
       "      <th>1</th>\n",
       "      <td>-0.082348</td>\n",
       "      <td>21048.664329</td>\n",
       "    </tr>\n",
       "  </tbody>\n",
       "</table>\n",
       "</div>"
      ],
      "text/plain": [
       "            p_kw        q_kvar\n",
       "0 -821525.329085   7787.604746\n",
       "1      -0.082348  21048.664329"
      ]
     },
     "execution_count": 71,
     "metadata": {},
     "output_type": "execute_result"
    }
   ],
   "source": [
    "net.res_ext_grid"
   ]
  },
  {
   "cell_type": "markdown",
   "metadata": {},
   "source": [
    "While the DC line does not transmit any power:"
   ]
  },
  {
   "cell_type": "code",
   "execution_count": 72,
   "metadata": {},
   "outputs": [
    {
     "data": {
      "text/html": [
       "<div>\n",
       "<style scoped>\n",
       "    .dataframe tbody tr th:only-of-type {\n",
       "        vertical-align: middle;\n",
       "    }\n",
       "\n",
       "    .dataframe tbody tr th {\n",
       "        vertical-align: top;\n",
       "    }\n",
       "\n",
       "    .dataframe thead th {\n",
       "        text-align: right;\n",
       "    }\n",
       "</style>\n",
       "<table border=\"1\" class=\"dataframe\">\n",
       "  <thead>\n",
       "    <tr style=\"text-align: right;\">\n",
       "      <th></th>\n",
       "      <th>p_from_kw</th>\n",
       "      <th>q_from_kvar</th>\n",
       "      <th>p_to_kw</th>\n",
       "      <th>q_to_kvar</th>\n",
       "      <th>pl_kw</th>\n",
       "      <th>vm_from_pu</th>\n",
       "      <th>va_from_degree</th>\n",
       "      <th>vm_to_pu</th>\n",
       "      <th>va_to_degree</th>\n",
       "    </tr>\n",
       "  </thead>\n",
       "  <tbody>\n",
       "    <tr>\n",
       "      <th>0</th>\n",
       "      <td>813573.855039</td>\n",
       "      <td>-26446.091117</td>\n",
       "      <td>-805023.618851</td>\n",
       "      <td>-21736.382564</td>\n",
       "      <td>8550.236189</td>\n",
       "      <td>1.011014</td>\n",
       "      <td>-2.39987</td>\n",
       "      <td>1.027504</td>\n",
       "      <td>1.522333</td>\n",
       "    </tr>\n",
       "  </tbody>\n",
       "</table>\n",
       "</div>"
      ],
      "text/plain": [
       "       p_from_kw   q_from_kvar        p_to_kw     q_to_kvar        pl_kw  \\\n",
       "0  813573.855039 -26446.091117 -805023.618851 -21736.382564  8550.236189   \n",
       "\n",
       "   vm_from_pu  va_from_degree  vm_to_pu  va_to_degree  \n",
       "0    1.011014        -2.39987  1.027504      1.522333  "
      ]
     },
     "execution_count": 72,
     "metadata": {},
     "output_type": "execute_result"
    }
   ],
   "source": [
    "net.res_dcline"
   ]
  },
  {
   "cell_type": "markdown",
   "metadata": {},
   "source": [
    "If we set the costs of the left grid to a lower value than the right grid and run the loadflow again:"
   ]
  },
  {
   "cell_type": "code",
   "execution_count": 73,
   "metadata": {},
   "outputs": [
    {
     "name": "stderr",
     "output_type": "stream",
     "text": [
      "hp.pandapower.run - INFO: These missing columns in ext_grid are considered in OPF as +- 1000 TW.: ['min_p_kw' 'min_q_kvar' 'max_q_kvar']\n",
      "hp.pandapower.run - INFO: These elements have missing power constraint values, which are considered in OPF as +- 1000 TW: ['dcline']\n",
      "hp.pandapower.run - INFO: min_vm_pu is missing in bus table. In OPF these limits are considered as 0.0 pu.\n"
     ]
    }
   ],
   "source": [
    "net.polynomial_cost.c.at[costeg0]= array([[-0.08, 0]])\n",
    "net.polynomial_cost.c.at[costeg1]= array([[-0.1, 0]])\n",
    "pp.runopp(net)"
   ]
  },
  {
   "cell_type": "markdown",
   "metadata": {},
   "source": [
    "We can see that the power now comes from the left ext_grid:"
   ]
  },
  {
   "cell_type": "code",
   "execution_count": 74,
   "metadata": {},
   "outputs": [
    {
     "data": {
      "text/html": [
       "<div>\n",
       "<style scoped>\n",
       "    .dataframe tbody tr th:only-of-type {\n",
       "        vertical-align: middle;\n",
       "    }\n",
       "\n",
       "    .dataframe tbody tr th {\n",
       "        vertical-align: top;\n",
       "    }\n",
       "\n",
       "    .dataframe thead th {\n",
       "        text-align: right;\n",
       "    }\n",
       "</style>\n",
       "<table border=\"1\" class=\"dataframe\">\n",
       "  <thead>\n",
       "    <tr style=\"text-align: right;\">\n",
       "      <th></th>\n",
       "      <th>p_kw</th>\n",
       "      <th>q_kvar</th>\n",
       "    </tr>\n",
       "  </thead>\n",
       "  <tbody>\n",
       "    <tr>\n",
       "      <th>0</th>\n",
       "      <td>-500.045496</td>\n",
       "      <td>7787.585468</td>\n",
       "    </tr>\n",
       "    <tr>\n",
       "      <th>1</th>\n",
       "      <td>-805091.509265</td>\n",
       "      <td>-628.276142</td>\n",
       "    </tr>\n",
       "  </tbody>\n",
       "</table>\n",
       "</div>"
      ],
      "text/plain": [
       "            p_kw       q_kvar\n",
       "0    -500.045496  7787.585468\n",
       "1 -805091.509265  -628.276142"
      ]
     },
     "execution_count": 74,
     "metadata": {},
     "output_type": "execute_result"
    }
   ],
   "source": [
    "net.res_ext_grid"
   ]
  },
  {
   "cell_type": "markdown",
   "metadata": {},
   "source": [
    "And is transmitted over the DC line:"
   ]
  },
  {
   "cell_type": "code",
   "execution_count": 75,
   "metadata": {},
   "outputs": [
    {
     "data": {
      "text/html": [
       "<div>\n",
       "<style scoped>\n",
       "    .dataframe tbody tr th:only-of-type {\n",
       "        vertical-align: middle;\n",
       "    }\n",
       "\n",
       "    .dataframe tbody tr th {\n",
       "        vertical-align: top;\n",
       "    }\n",
       "\n",
       "    .dataframe thead th {\n",
       "        text-align: right;\n",
       "    }\n",
       "</style>\n",
       "<table border=\"1\" class=\"dataframe\">\n",
       "  <thead>\n",
       "    <tr style=\"text-align: right;\">\n",
       "      <th></th>\n",
       "      <th>p_from_kw</th>\n",
       "      <th>q_from_kvar</th>\n",
       "      <th>p_to_kw</th>\n",
       "      <th>q_to_kvar</th>\n",
       "      <th>pl_kw</th>\n",
       "      <th>vm_from_pu</th>\n",
       "      <th>va_from_degree</th>\n",
       "      <th>vm_to_pu</th>\n",
       "      <th>va_to_degree</th>\n",
       "    </tr>\n",
       "  </thead>\n",
       "  <tbody>\n",
       "    <tr>\n",
       "      <th>0</th>\n",
       "      <td>500.04255</td>\n",
       "      <td>7787.428299</td>\n",
       "      <td>-0.042128</td>\n",
       "      <td>-627.159257</td>\n",
       "      <td>500.000421</td>\n",
       "      <td>1.019994</td>\n",
       "      <td>-0.001447</td>\n",
       "      <td>1.013925</td>\n",
       "      <td>-1.563437</td>\n",
       "    </tr>\n",
       "  </tbody>\n",
       "</table>\n",
       "</div>"
      ],
      "text/plain": [
       "   p_from_kw  q_from_kvar   p_to_kw   q_to_kvar       pl_kw  vm_from_pu  \\\n",
       "0  500.04255  7787.428299 -0.042128 -627.159257  500.000421    1.019994   \n",
       "\n",
       "   va_from_degree  vm_to_pu  va_to_degree  \n",
       "0       -0.001447  1.013925     -1.563437  "
      ]
     },
     "execution_count": 75,
     "metadata": {},
     "output_type": "execute_result"
    }
   ],
   "source": [
    "net.res_dcline"
   ]
  },
  {
   "cell_type": "markdown",
   "metadata": {},
   "source": [
    "We can however see that the lines on the left hand side are now overloaded:"
   ]
  },
  {
   "cell_type": "code",
   "execution_count": 76,
   "metadata": {},
   "outputs": [
    {
     "data": {
      "text/html": [
       "<div>\n",
       "<style scoped>\n",
       "    .dataframe tbody tr th:only-of-type {\n",
       "        vertical-align: middle;\n",
       "    }\n",
       "\n",
       "    .dataframe tbody tr th {\n",
       "        vertical-align: top;\n",
       "    }\n",
       "\n",
       "    .dataframe thead th {\n",
       "        text-align: right;\n",
       "    }\n",
       "</style>\n",
       "<table border=\"1\" class=\"dataframe\">\n",
       "  <thead>\n",
       "    <tr style=\"text-align: right;\">\n",
       "      <th></th>\n",
       "      <th>p_from_kw</th>\n",
       "      <th>q_from_kvar</th>\n",
       "      <th>p_to_kw</th>\n",
       "      <th>q_to_kvar</th>\n",
       "      <th>pl_kw</th>\n",
       "      <th>ql_kvar</th>\n",
       "      <th>i_from_ka</th>\n",
       "      <th>i_to_ka</th>\n",
       "      <th>i_ka</th>\n",
       "      <th>loading_percent</th>\n",
       "    </tr>\n",
       "  </thead>\n",
       "  <tbody>\n",
       "    <tr>\n",
       "      <th>0</th>\n",
       "      <td>500.045496</td>\n",
       "      <td>-7787.585468</td>\n",
       "      <td>-500.042550</td>\n",
       "      <td>-7787.428299</td>\n",
       "      <td>0.002946</td>\n",
       "      <td>-15575.013767</td>\n",
       "      <td>0.011624</td>\n",
       "      <td>0.011624</td>\n",
       "      <td>0.011624</td>\n",
       "      <td>1.210823</td>\n",
       "    </tr>\n",
       "    <tr>\n",
       "      <th>1</th>\n",
       "      <td>0.042128</td>\n",
       "      <td>627.159257</td>\n",
       "      <td>0.221339</td>\n",
       "      <td>-10884.114753</td>\n",
       "      <td>0.263467</td>\n",
       "      <td>-10256.955496</td>\n",
       "      <td>0.000940</td>\n",
       "      <td>0.016313</td>\n",
       "      <td>0.016313</td>\n",
       "      <td>1.699249</td>\n",
       "    </tr>\n",
       "    <tr>\n",
       "      <th>2</th>\n",
       "      <td>-800000.221339</td>\n",
       "      <td>10884.114753</td>\n",
       "      <td>805091.509265</td>\n",
       "      <td>628.276142</td>\n",
       "      <td>5091.287926</td>\n",
       "      <td>11512.390896</td>\n",
       "      <td>1.199128</td>\n",
       "      <td>1.199226</td>\n",
       "      <td>1.199226</td>\n",
       "      <td>124.919360</td>\n",
       "    </tr>\n",
       "  </tbody>\n",
       "</table>\n",
       "</div>"
      ],
      "text/plain": [
       "       p_from_kw   q_from_kvar        p_to_kw     q_to_kvar        pl_kw  \\\n",
       "0     500.045496  -7787.585468    -500.042550  -7787.428299     0.002946   \n",
       "1       0.042128    627.159257       0.221339 -10884.114753     0.263467   \n",
       "2 -800000.221339  10884.114753  805091.509265    628.276142  5091.287926   \n",
       "\n",
       "        ql_kvar  i_from_ka   i_to_ka      i_ka  loading_percent  \n",
       "0 -15575.013767   0.011624  0.011624  0.011624         1.210823  \n",
       "1 -10256.955496   0.000940  0.016313  0.016313         1.699249  \n",
       "2  11512.390896   1.199128  1.199226  1.199226       124.919360  "
      ]
     },
     "execution_count": 76,
     "metadata": {},
     "output_type": "execute_result"
    }
   ],
   "source": [
    "net.res_line"
   ]
  },
  {
   "cell_type": "markdown",
   "metadata": {},
   "source": [
    "If we set the maximum line loading to 100% and run the OPF again:"
   ]
  },
  {
   "cell_type": "code",
   "execution_count": 77,
   "metadata": {},
   "outputs": [
    {
     "name": "stderr",
     "output_type": "stream",
     "text": [
      "hp.pandapower.run - INFO: These missing columns in ext_grid are considered in OPF as +- 1000 TW.: ['min_p_kw' 'min_q_kvar' 'max_q_kvar']\n",
      "hp.pandapower.run - INFO: These elements have missing power constraint values, which are considered in OPF as +- 1000 TW: ['dcline']\n",
      "hp.pandapower.run - INFO: min_vm_pu is missing in bus table. In OPF these limits are considered as 0.0 pu.\n"
     ]
    }
   ],
   "source": [
    "net.line[\"max_loading_percent\"] = 100\n",
    "pp.runopp(net)"
   ]
  },
  {
   "cell_type": "markdown",
   "metadata": {},
   "source": [
    "We can see that the lines are no longer overloaded:"
   ]
  },
  {
   "cell_type": "code",
   "execution_count": 78,
   "metadata": {},
   "outputs": [
    {
     "data": {
      "text/html": [
       "<div>\n",
       "<style scoped>\n",
       "    .dataframe tbody tr th:only-of-type {\n",
       "        vertical-align: middle;\n",
       "    }\n",
       "\n",
       "    .dataframe tbody tr th {\n",
       "        vertical-align: top;\n",
       "    }\n",
       "\n",
       "    .dataframe thead th {\n",
       "        text-align: right;\n",
       "    }\n",
       "</style>\n",
       "<table border=\"1\" class=\"dataframe\">\n",
       "  <thead>\n",
       "    <tr style=\"text-align: right;\">\n",
       "      <th></th>\n",
       "      <th>p_from_kw</th>\n",
       "      <th>q_from_kvar</th>\n",
       "      <th>p_to_kw</th>\n",
       "      <th>q_to_kvar</th>\n",
       "      <th>pl_kw</th>\n",
       "      <th>ql_kvar</th>\n",
       "      <th>i_from_ka</th>\n",
       "      <th>i_to_ka</th>\n",
       "      <th>i_ka</th>\n",
       "      <th>loading_percent</th>\n",
       "    </tr>\n",
       "  </thead>\n",
       "  <tbody>\n",
       "    <tr>\n",
       "      <th>0</th>\n",
       "      <td>161369.601227</td>\n",
       "      <td>-7787.628273</td>\n",
       "      <td>-161062.805588</td>\n",
       "      <td>-6442.842973</td>\n",
       "      <td>306.795638</td>\n",
       "      <td>-14230.471246</td>\n",
       "      <td>0.240648</td>\n",
       "      <td>0.240553</td>\n",
       "      <td>0.240648</td>\n",
       "      <td>25.067513</td>\n",
       "    </tr>\n",
       "    <tr>\n",
       "      <th>1</th>\n",
       "      <td>158973.069027</td>\n",
       "      <td>-5711.282156</td>\n",
       "      <td>-158773.057286</td>\n",
       "      <td>-3723.513123</td>\n",
       "      <td>200.011741</td>\n",
       "      <td>-9434.795279</td>\n",
       "      <td>0.237850</td>\n",
       "      <td>0.237754</td>\n",
       "      <td>0.237850</td>\n",
       "      <td>24.776062</td>\n",
       "    </tr>\n",
       "    <tr>\n",
       "      <th>2</th>\n",
       "      <td>-641226.930948</td>\n",
       "      <td>3723.511692</td>\n",
       "      <td>644489.605777</td>\n",
       "      <td>-64.356230</td>\n",
       "      <td>3262.674829</td>\n",
       "      <td>3659.155462</td>\n",
       "      <td>0.959956</td>\n",
       "      <td>0.960001</td>\n",
       "      <td>0.960001</td>\n",
       "      <td>100.000067</td>\n",
       "    </tr>\n",
       "  </tbody>\n",
       "</table>\n",
       "</div>"
      ],
      "text/plain": [
       "       p_from_kw  q_from_kvar        p_to_kw    q_to_kvar        pl_kw  \\\n",
       "0  161369.601227 -7787.628273 -161062.805588 -6442.842973   306.795638   \n",
       "1  158973.069027 -5711.282156 -158773.057286 -3723.513123   200.011741   \n",
       "2 -641226.930948  3723.511692  644489.605777   -64.356230  3262.674829   \n",
       "\n",
       "        ql_kvar  i_from_ka   i_to_ka      i_ka  loading_percent  \n",
       "0 -14230.471246   0.240648  0.240553  0.240648        25.067513  \n",
       "1  -9434.795279   0.237850  0.237754  0.237850        24.776062  \n",
       "2   3659.155462   0.959956  0.960001  0.960001       100.000067  "
      ]
     },
     "execution_count": 78,
     "metadata": {},
     "output_type": "execute_result"
    }
   ],
   "source": [
    "net.res_line"
   ]
  },
  {
   "cell_type": "markdown",
   "metadata": {},
   "source": [
    "Because the load is serviced from both grids:"
   ]
  },
  {
   "cell_type": "code",
   "execution_count": 79,
   "metadata": {},
   "outputs": [
    {
     "data": {
      "text/html": [
       "<div>\n",
       "<style scoped>\n",
       "    .dataframe tbody tr th:only-of-type {\n",
       "        vertical-align: middle;\n",
       "    }\n",
       "\n",
       "    .dataframe tbody tr th {\n",
       "        vertical-align: top;\n",
       "    }\n",
       "\n",
       "    .dataframe thead th {\n",
       "        text-align: right;\n",
       "    }\n",
       "</style>\n",
       "<table border=\"1\" class=\"dataframe\">\n",
       "  <thead>\n",
       "    <tr style=\"text-align: right;\">\n",
       "      <th></th>\n",
       "      <th>p_kw</th>\n",
       "      <th>q_kvar</th>\n",
       "    </tr>\n",
       "  </thead>\n",
       "  <tbody>\n",
       "    <tr>\n",
       "      <th>0</th>\n",
       "      <td>-161369.601227</td>\n",
       "      <td>7787.628273</td>\n",
       "    </tr>\n",
       "    <tr>\n",
       "      <th>1</th>\n",
       "      <td>-644489.601030</td>\n",
       "      <td>64.355742</td>\n",
       "    </tr>\n",
       "  </tbody>\n",
       "</table>\n",
       "</div>"
      ],
      "text/plain": [
       "            p_kw       q_kvar\n",
       "0 -161369.601227  7787.628273\n",
       "1 -644489.601030    64.355742"
      ]
     },
     "execution_count": 79,
     "metadata": {},
     "output_type": "execute_result"
    }
   ],
   "source": [
    "net.res_ext_grid"
   ]
  },
  {
   "cell_type": "markdown",
   "metadata": {},
   "source": [
    "And the DC line transmits only part of the power needed to service the load:"
   ]
  },
  {
   "cell_type": "code",
   "execution_count": 80,
   "metadata": {},
   "outputs": [
    {
     "data": {
      "text/html": [
       "<div>\n",
       "<style scoped>\n",
       "    .dataframe tbody tr th:only-of-type {\n",
       "        vertical-align: middle;\n",
       "    }\n",
       "\n",
       "    .dataframe tbody tr th {\n",
       "        vertical-align: top;\n",
       "    }\n",
       "\n",
       "    .dataframe thead th {\n",
       "        text-align: right;\n",
       "    }\n",
       "</style>\n",
       "<table border=\"1\" class=\"dataframe\">\n",
       "  <thead>\n",
       "    <tr style=\"text-align: right;\">\n",
       "      <th></th>\n",
       "      <th>p_from_kw</th>\n",
       "      <th>q_from_kvar</th>\n",
       "      <th>p_to_kw</th>\n",
       "      <th>q_to_kvar</th>\n",
       "      <th>pl_kw</th>\n",
       "      <th>vm_from_pu</th>\n",
       "      <th>va_from_degree</th>\n",
       "      <th>vm_to_pu</th>\n",
       "      <th>va_to_degree</th>\n",
       "    </tr>\n",
       "  </thead>\n",
       "  <tbody>\n",
       "    <tr>\n",
       "      <th>0</th>\n",
       "      <td>161062.805588</td>\n",
       "      <td>6442.842974</td>\n",
       "      <td>-158973.07484</td>\n",
       "      <td>5711.329933</td>\n",
       "      <td>2089.730748</td>\n",
       "      <td>1.018095</td>\n",
       "      <td>-0.467989</td>\n",
       "      <td>1.016146</td>\n",
       "      <td>-0.937997</td>\n",
       "    </tr>\n",
       "  </tbody>\n",
       "</table>\n",
       "</div>"
      ],
      "text/plain": [
       "       p_from_kw  q_from_kvar       p_to_kw    q_to_kvar        pl_kw  \\\n",
       "0  161062.805588  6442.842974 -158973.07484  5711.329933  2089.730748   \n",
       "\n",
       "   vm_from_pu  va_from_degree  vm_to_pu  va_to_degree  \n",
       "0    1.018095       -0.467989  1.016146     -0.937997  "
      ]
     },
     "execution_count": 80,
     "metadata": {},
     "output_type": "execute_result"
    }
   ],
   "source": [
    "net.res_dcline"
   ]
  },
  {
   "cell_type": "markdown",
   "metadata": {},
   "source": [
    "Finally, we can also define transmission costs for the DC line:"
   ]
  },
  {
   "cell_type": "code",
   "execution_count": 81,
   "metadata": {},
   "outputs": [
    {
     "name": "stderr",
     "output_type": "stream",
     "text": [
      "hp.pandapower.run - INFO: These missing columns in ext_grid are considered in OPF as +- 1000 TW.: ['min_p_kw' 'min_q_kvar' 'max_q_kvar']\n",
      "hp.pandapower.run - INFO: These elements have missing power constraint values, which are considered in OPF as +- 1000 TW: ['dcline']\n",
      "hp.pandapower.run - INFO: min_vm_pu is missing in bus table. In OPF these limits are considered as 0.0 pu.\n"
     ]
    }
   ],
   "source": [
    "costeg1 = pp.create_polynomial_cost(net, 0, 'dcline', array([.03, 0]))\n",
    "pp.runopp(net)"
   ]
  },
  {
   "cell_type": "markdown",
   "metadata": {},
   "source": [
    "Because the sum of the costs for generating power on the left hand side (0.08) and transmitting it to the right side (0.03) is now larger than for generating on the right side (0.1), the OPF draws as much power from the right side as is possible without violating line loading constraints:"
   ]
  },
  {
   "cell_type": "code",
   "execution_count": 82,
   "metadata": {},
   "outputs": [
    {
     "data": {
      "text/html": [
       "<div>\n",
       "<style scoped>\n",
       "    .dataframe tbody tr th:only-of-type {\n",
       "        vertical-align: middle;\n",
       "    }\n",
       "\n",
       "    .dataframe tbody tr th {\n",
       "        vertical-align: top;\n",
       "    }\n",
       "\n",
       "    .dataframe thead th {\n",
       "        text-align: right;\n",
       "    }\n",
       "</style>\n",
       "<table border=\"1\" class=\"dataframe\">\n",
       "  <thead>\n",
       "    <tr style=\"text-align: right;\">\n",
       "      <th></th>\n",
       "      <th>p_from_kw</th>\n",
       "      <th>q_from_kvar</th>\n",
       "      <th>p_to_kw</th>\n",
       "      <th>q_to_kvar</th>\n",
       "      <th>pl_kw</th>\n",
       "      <th>ql_kvar</th>\n",
       "      <th>i_from_ka</th>\n",
       "      <th>i_to_ka</th>\n",
       "      <th>i_ka</th>\n",
       "      <th>loading_percent</th>\n",
       "    </tr>\n",
       "  </thead>\n",
       "  <tbody>\n",
       "    <tr>\n",
       "      <th>0</th>\n",
       "      <td>161369.750347</td>\n",
       "      <td>-7787.632437</td>\n",
       "      <td>-161062.954141</td>\n",
       "      <td>-6442.836355</td>\n",
       "      <td>306.796205</td>\n",
       "      <td>-14230.468792</td>\n",
       "      <td>0.240648</td>\n",
       "      <td>0.240553</td>\n",
       "      <td>0.240648</td>\n",
       "      <td>25.067536</td>\n",
       "    </tr>\n",
       "    <tr>\n",
       "      <th>1</th>\n",
       "      <td>158973.218473</td>\n",
       "      <td>-5627.157184</td>\n",
       "      <td>-158773.209333</td>\n",
       "      <td>-3807.737669</td>\n",
       "      <td>200.009141</td>\n",
       "      <td>-9434.894853</td>\n",
       "      <td>0.237845</td>\n",
       "      <td>0.237757</td>\n",
       "      <td>0.237845</td>\n",
       "      <td>24.775477</td>\n",
       "    </tr>\n",
       "    <tr>\n",
       "      <th>2</th>\n",
       "      <td>-641226.783716</td>\n",
       "      <td>3807.736825</td>\n",
       "      <td>644489.450237</td>\n",
       "      <td>-148.646474</td>\n",
       "      <td>3262.666521</td>\n",
       "      <td>3659.090352</td>\n",
       "      <td>0.959953</td>\n",
       "      <td>0.960000</td>\n",
       "      <td>0.960000</td>\n",
       "      <td>100.000045</td>\n",
       "    </tr>\n",
       "  </tbody>\n",
       "</table>\n",
       "</div>"
      ],
      "text/plain": [
       "       p_from_kw  q_from_kvar        p_to_kw    q_to_kvar        pl_kw  \\\n",
       "0  161369.750347 -7787.632437 -161062.954141 -6442.836355   306.796205   \n",
       "1  158973.218473 -5627.157184 -158773.209333 -3807.737669   200.009141   \n",
       "2 -641226.783716  3807.736825  644489.450237  -148.646474  3262.666521   \n",
       "\n",
       "        ql_kvar  i_from_ka   i_to_ka      i_ka  loading_percent  \n",
       "0 -14230.468792   0.240648  0.240553  0.240648        25.067536  \n",
       "1  -9434.894853   0.237845  0.237757  0.237845        24.775477  \n",
       "2   3659.090352   0.959953  0.960000  0.960000       100.000045  "
      ]
     },
     "execution_count": 82,
     "metadata": {},
     "output_type": "execute_result"
    }
   ],
   "source": [
    "net.res_line"
   ]
  },
  {
   "cell_type": "code",
   "execution_count": 83,
   "metadata": {},
   "outputs": [
    {
     "data": {
      "text/html": [
       "<div>\n",
       "<style scoped>\n",
       "    .dataframe tbody tr th:only-of-type {\n",
       "        vertical-align: middle;\n",
       "    }\n",
       "\n",
       "    .dataframe tbody tr th {\n",
       "        vertical-align: top;\n",
       "    }\n",
       "\n",
       "    .dataframe thead th {\n",
       "        text-align: right;\n",
       "    }\n",
       "</style>\n",
       "<table border=\"1\" class=\"dataframe\">\n",
       "  <thead>\n",
       "    <tr style=\"text-align: right;\">\n",
       "      <th></th>\n",
       "      <th>p_from_kw</th>\n",
       "      <th>q_from_kvar</th>\n",
       "      <th>p_to_kw</th>\n",
       "      <th>q_to_kvar</th>\n",
       "      <th>pl_kw</th>\n",
       "      <th>vm_from_pu</th>\n",
       "      <th>va_from_degree</th>\n",
       "      <th>vm_to_pu</th>\n",
       "      <th>va_to_degree</th>\n",
       "    </tr>\n",
       "  </thead>\n",
       "  <tbody>\n",
       "    <tr>\n",
       "      <th>0</th>\n",
       "      <td>161062.954141</td>\n",
       "      <td>6442.836355</td>\n",
       "      <td>-158973.221922</td>\n",
       "      <td>5627.185349</td>\n",
       "      <td>2089.732219</td>\n",
       "      <td>1.018095</td>\n",
       "      <td>-0.467989</td>\n",
       "      <td>1.016151</td>\n",
       "      <td>-0.938072</td>\n",
       "    </tr>\n",
       "  </tbody>\n",
       "</table>\n",
       "</div>"
      ],
      "text/plain": [
       "       p_from_kw  q_from_kvar        p_to_kw    q_to_kvar        pl_kw  \\\n",
       "0  161062.954141  6442.836355 -158973.221922  5627.185349  2089.732219   \n",
       "\n",
       "   vm_from_pu  va_from_degree  vm_to_pu  va_to_degree  \n",
       "0    1.018095       -0.467989  1.016151     -0.938072  "
      ]
     },
     "execution_count": 83,
     "metadata": {},
     "output_type": "execute_result"
    }
   ],
   "source": [
    "net.res_dcline"
   ]
  },
  {
   "cell_type": "markdown",
   "metadata": {},
   "source": [
    "If we broaden the line loading constraint and run the OPF again:"
   ]
  },
  {
   "cell_type": "code",
   "execution_count": 84,
   "metadata": {},
   "outputs": [
    {
     "name": "stderr",
     "output_type": "stream",
     "text": [
      "hp.pandapower.run - INFO: These missing columns in ext_grid are considered in OPF as +- 1000 TW.: ['min_p_kw' 'min_q_kvar' 'max_q_kvar']\n",
      "hp.pandapower.run - INFO: These elements have missing power constraint values, which are considered in OPF as +- 1000 TW: ['dcline']\n",
      "hp.pandapower.run - INFO: min_vm_pu is missing in bus table. In OPF these limits are considered as 0.0 pu.\n"
     ]
    }
   ],
   "source": [
    "net.line[\"max_loading_percent\"] = 1000\n",
    "pp.runopp(net)"
   ]
  },
  {
   "cell_type": "markdown",
   "metadata": {},
   "source": [
    "The load is once again fully serviced by the grid on the right hand side:"
   ]
  },
  {
   "cell_type": "code",
   "execution_count": 85,
   "metadata": {},
   "outputs": [
    {
     "data": {
      "text/html": [
       "<div>\n",
       "<style scoped>\n",
       "    .dataframe tbody tr th:only-of-type {\n",
       "        vertical-align: middle;\n",
       "    }\n",
       "\n",
       "    .dataframe tbody tr th {\n",
       "        vertical-align: top;\n",
       "    }\n",
       "\n",
       "    .dataframe thead th {\n",
       "        text-align: right;\n",
       "    }\n",
       "</style>\n",
       "<table border=\"1\" class=\"dataframe\">\n",
       "  <thead>\n",
       "    <tr style=\"text-align: right;\">\n",
       "      <th></th>\n",
       "      <th>p_kw</th>\n",
       "      <th>q_kvar</th>\n",
       "    </tr>\n",
       "  </thead>\n",
       "  <tbody>\n",
       "    <tr>\n",
       "      <th>0</th>\n",
       "      <td>-500.027328</td>\n",
       "      <td>7787.596407</td>\n",
       "    </tr>\n",
       "    <tr>\n",
       "      <th>1</th>\n",
       "      <td>-805091.527483</td>\n",
       "      <td>-628.264114</td>\n",
       "    </tr>\n",
       "  </tbody>\n",
       "</table>\n",
       "</div>"
      ],
      "text/plain": [
       "            p_kw       q_kvar\n",
       "0    -500.027328  7787.596407\n",
       "1 -805091.527483  -628.264114"
      ]
     },
     "execution_count": 85,
     "metadata": {},
     "output_type": "execute_result"
    }
   ],
   "source": [
    "net.res_ext_grid"
   ]
  },
  {
   "cell_type": "markdown",
   "metadata": {},
   "source": [
    "And the DC line is in open loop operation:"
   ]
  },
  {
   "cell_type": "code",
   "execution_count": 86,
   "metadata": {},
   "outputs": [
    {
     "data": {
      "text/html": [
       "<div>\n",
       "<style scoped>\n",
       "    .dataframe tbody tr th:only-of-type {\n",
       "        vertical-align: middle;\n",
       "    }\n",
       "\n",
       "    .dataframe tbody tr th {\n",
       "        vertical-align: top;\n",
       "    }\n",
       "\n",
       "    .dataframe thead th {\n",
       "        text-align: right;\n",
       "    }\n",
       "</style>\n",
       "<table border=\"1\" class=\"dataframe\">\n",
       "  <thead>\n",
       "    <tr style=\"text-align: right;\">\n",
       "      <th></th>\n",
       "      <th>p_from_kw</th>\n",
       "      <th>q_from_kvar</th>\n",
       "      <th>p_to_kw</th>\n",
       "      <th>q_to_kvar</th>\n",
       "      <th>pl_kw</th>\n",
       "      <th>vm_from_pu</th>\n",
       "      <th>va_from_degree</th>\n",
       "      <th>vm_to_pu</th>\n",
       "      <th>va_to_degree</th>\n",
       "    </tr>\n",
       "  </thead>\n",
       "  <tbody>\n",
       "    <tr>\n",
       "      <th>0</th>\n",
       "      <td>500.024382</td>\n",
       "      <td>7787.417373</td>\n",
       "      <td>-0.024141</td>\n",
       "      <td>-627.172262</td>\n",
       "      <td>500.000241</td>\n",
       "      <td>1.019994</td>\n",
       "      <td>-0.001447</td>\n",
       "      <td>1.013925</td>\n",
       "      <td>-1.563437</td>\n",
       "    </tr>\n",
       "  </tbody>\n",
       "</table>\n",
       "</div>"
      ],
      "text/plain": [
       "    p_from_kw  q_from_kvar   p_to_kw   q_to_kvar       pl_kw  vm_from_pu  \\\n",
       "0  500.024382  7787.417373 -0.024141 -627.172262  500.000241    1.019994   \n",
       "\n",
       "   va_from_degree  vm_to_pu  va_to_degree  \n",
       "0       -0.001447  1.013925     -1.563437  "
      ]
     },
     "execution_count": 86,
     "metadata": {},
     "output_type": "execute_result"
    }
   ],
   "source": [
    "net.res_dcline"
   ]
  }
 ],
 "metadata": {
  "anaconda-cloud": {},
  "kernelspec": {
   "display_name": "Python [default]",
   "language": "python",
   "name": "python3"
  },
  "language_info": {
   "codemirror_mode": {
    "name": "ipython",
    "version": 3
   },
   "file_extension": ".py",
   "mimetype": "text/x-python",
   "name": "python",
   "nbconvert_exporter": "python",
   "pygments_lexer": "ipython3",
   "version": "3.5.4"
  }
 },
 "nbformat": 4,
 "nbformat_minor": 1
}
