{
 "cells": [
  {
   "cell_type": "code",
   "execution_count": null,
   "metadata": {
    "collapsed": true
   },
   "outputs": [],
   "source": []
  },
  {
   "cell_type": "markdown",
   "metadata": {},
   "source": [
    "We consider the following simple 3-bus example network as a minimal example:\n",
    "\n",
    "<img src=\"pics/3bus-system.png\" width=\"50%\">\n",
    "\n",
    "The above network can be created in pandapower as follows:"
   ]
  },
  {
   "cell_type": "code",
   "execution_count": 2,
   "metadata": {
    "collapsed": true
   },
   "outputs": [],
   "source": [
    "import pandapower as pp\n",
    "\n",
    "#create empty net\n",
    "net = pp.create_empty_network()\n",
    "\n",
    "#create buses\n",
    "bus1 = pp.create_bus(net, vn_kv=20., name=\"Bus 1\")\n",
    "bus2 = pp.create_bus(net, vn_kv=0.4, name=\"Bus 2\")\n",
    "bus3 = pp.create_bus(net, vn_kv=0.4, name=\"Bus 3\")\n",
    "\n",
    "#create bus elements\n",
    "pp.create_ext_grid(net, bus=bus1, vm_pu=1.02, name=\"Grid Connection\")\n",
    "pp.create_load(net, bus=bus3, p_kw=100, q_kvar=50, name=\"Load\")\n",
    "\n",
    "#create branch elements\n",
    "trafo = pp.create_transformer(net, hv_bus=bus1, lv_bus=bus2,\n",
    "                              std_type=\"0.4 MVA 20/0.4 kV\", name=\"Trafo\")\n",
    "line = pp.create_line(net, from_bus=bus2, to_bus=bus3, length_km=0.1,\n",
    "                      std_type=\"NAYY 4x50 SE\", name=\"Line\")"
   ]
  },
  {
   "cell_type": "markdown",
   "metadata": {},
   "source": [
    "Each dataframe in a pandapower net object contains the information about one pandapower element, such as line, load transformer etc."
   ]
  },
  {
   "cell_type": "code",
   "execution_count": 4,
   "metadata": {},
   "outputs": [
    {
     "data": {
      "text/html": [
       "<div>\n",
       "<table border=\"1\" class=\"dataframe\">\n",
       "  <thead>\n",
       "    <tr style=\"text-align: right;\">\n",
       "      <th></th>\n",
       "      <th>name</th>\n",
       "      <th>vn_kv</th>\n",
       "      <th>type</th>\n",
       "      <th>zone</th>\n",
       "      <th>in_service</th>\n",
       "    </tr>\n",
       "  </thead>\n",
       "  <tbody>\n",
       "    <tr>\n",
       "      <th>0</th>\n",
       "      <td>Bus 1</td>\n",
       "      <td>20.0</td>\n",
       "      <td>b</td>\n",
       "      <td>None</td>\n",
       "      <td>True</td>\n",
       "    </tr>\n",
       "    <tr>\n",
       "      <th>1</th>\n",
       "      <td>Bus 2</td>\n",
       "      <td>0.4</td>\n",
       "      <td>b</td>\n",
       "      <td>None</td>\n",
       "      <td>True</td>\n",
       "    </tr>\n",
       "    <tr>\n",
       "      <th>2</th>\n",
       "      <td>Bus 3</td>\n",
       "      <td>0.4</td>\n",
       "      <td>b</td>\n",
       "      <td>None</td>\n",
       "      <td>True</td>\n",
       "    </tr>\n",
       "  </tbody>\n",
       "</table>\n",
       "</div>"
      ],
      "text/plain": [
       "    name  vn_kv type  zone in_service\n",
       "0  Bus 1   20.0    b  None       True\n",
       "1  Bus 2    0.4    b  None       True\n",
       "2  Bus 3    0.4    b  None       True"
      ]
     },
     "execution_count": 4,
     "metadata": {},
     "output_type": "execute_result"
    }
   ],
   "source": [
    "net.bus"
   ]
  },
  {
   "cell_type": "code",
   "execution_count": 3,
   "metadata": {},
   "outputs": [
    {
     "data": {
      "text/html": [
       "<div>\n",
       "<table border=\"1\" class=\"dataframe\">\n",
       "  <thead>\n",
       "    <tr style=\"text-align: right;\">\n",
       "      <th></th>\n",
       "      <th>name</th>\n",
       "      <th>std_type</th>\n",
       "      <th>from_bus</th>\n",
       "      <th>to_bus</th>\n",
       "      <th>length_km</th>\n",
       "      <th>r_ohm_per_km</th>\n",
       "      <th>x_ohm_per_km</th>\n",
       "      <th>c_nf_per_km</th>\n",
       "      <th>max_i_ka</th>\n",
       "      <th>df</th>\n",
       "      <th>parallel</th>\n",
       "      <th>type</th>\n",
       "      <th>in_service</th>\n",
       "    </tr>\n",
       "  </thead>\n",
       "  <tbody>\n",
       "    <tr>\n",
       "      <th>0</th>\n",
       "      <td>Line</td>\n",
       "      <td>NAYY 4x50 SE</td>\n",
       "      <td>1</td>\n",
       "      <td>2</td>\n",
       "      <td>0.1</td>\n",
       "      <td>0.642</td>\n",
       "      <td>0.083</td>\n",
       "      <td>210.0</td>\n",
       "      <td>0.142</td>\n",
       "      <td>1.0</td>\n",
       "      <td>1</td>\n",
       "      <td>cs</td>\n",
       "      <td>True</td>\n",
       "    </tr>\n",
       "  </tbody>\n",
       "</table>\n",
       "</div>"
      ],
      "text/plain": [
       "   name      std_type  from_bus  to_bus  length_km  r_ohm_per_km  \\\n",
       "0  Line  NAYY 4x50 SE         1       2        0.1         0.642   \n",
       "\n",
       "   x_ohm_per_km  c_nf_per_km  max_i_ka   df  parallel type in_service  \n",
       "0         0.083        210.0     0.142  1.0         1   cs       True  "
      ]
     },
     "execution_count": 3,
     "metadata": {},
     "output_type": "execute_result"
    }
   ],
   "source": [
    "net.line"
   ]
  },
  {
   "cell_type": "code",
   "execution_count": 5,
   "metadata": {},
   "outputs": [
    {
     "data": {
      "text/html": [
       "<div>\n",
       "<table border=\"1\" class=\"dataframe\">\n",
       "  <thead>\n",
       "    <tr style=\"text-align: right;\">\n",
       "      <th></th>\n",
       "      <th>name</th>\n",
       "      <th>std_type</th>\n",
       "      <th>hv_bus</th>\n",
       "      <th>lv_bus</th>\n",
       "      <th>sn_kva</th>\n",
       "      <th>vn_hv_kv</th>\n",
       "      <th>vn_lv_kv</th>\n",
       "      <th>vsc_percent</th>\n",
       "      <th>vscr_percent</th>\n",
       "      <th>pfe_kw</th>\n",
       "      <th>...</th>\n",
       "      <th>tp_side</th>\n",
       "      <th>tp_mid</th>\n",
       "      <th>tp_min</th>\n",
       "      <th>tp_max</th>\n",
       "      <th>tp_st_percent</th>\n",
       "      <th>tp_st_degree</th>\n",
       "      <th>tp_pos</th>\n",
       "      <th>parallel</th>\n",
       "      <th>df</th>\n",
       "      <th>in_service</th>\n",
       "    </tr>\n",
       "  </thead>\n",
       "  <tbody>\n",
       "    <tr>\n",
       "      <th>0</th>\n",
       "      <td>Trafo</td>\n",
       "      <td>0.4 MVA 20/0.4 kV</td>\n",
       "      <td>0</td>\n",
       "      <td>1</td>\n",
       "      <td>400.0</td>\n",
       "      <td>20.0</td>\n",
       "      <td>0.4</td>\n",
       "      <td>6.0</td>\n",
       "      <td>1.425</td>\n",
       "      <td>1.35</td>\n",
       "      <td>...</td>\n",
       "      <td>hv</td>\n",
       "      <td>0</td>\n",
       "      <td>-2</td>\n",
       "      <td>2</td>\n",
       "      <td>2.5</td>\n",
       "      <td>0.0</td>\n",
       "      <td>0</td>\n",
       "      <td>1</td>\n",
       "      <td>1.0</td>\n",
       "      <td>True</td>\n",
       "    </tr>\n",
       "  </tbody>\n",
       "</table>\n",
       "<p>1 rows × 22 columns</p>\n",
       "</div>"
      ],
      "text/plain": [
       "    name           std_type  hv_bus  lv_bus  sn_kva  vn_hv_kv  vn_lv_kv  \\\n",
       "0  Trafo  0.4 MVA 20/0.4 kV       0       1   400.0      20.0       0.4   \n",
       "\n",
       "   vsc_percent  vscr_percent  pfe_kw     ...      tp_side  tp_mid tp_min  \\\n",
       "0          6.0         1.425    1.35     ...           hv       0     -2   \n",
       "\n",
       "   tp_max  tp_st_percent  tp_st_degree  tp_pos  parallel   df  in_service  \n",
       "0       2            2.5           0.0       0         1  1.0        True  \n",
       "\n",
       "[1 rows x 22 columns]"
      ]
     },
     "execution_count": 5,
     "metadata": {},
     "output_type": "execute_result"
    }
   ],
   "source": [
    "net.trafo"
   ]
  },
  {
   "cell_type": "code",
   "execution_count": 6,
   "metadata": {},
   "outputs": [
    {
     "data": {
      "text/html": [
       "<div>\n",
       "<table border=\"1\" class=\"dataframe\">\n",
       "  <thead>\n",
       "    <tr style=\"text-align: right;\">\n",
       "      <th></th>\n",
       "      <th>name</th>\n",
       "      <th>bus</th>\n",
       "      <th>p_kw</th>\n",
       "      <th>q_kvar</th>\n",
       "      <th>const_z_percent</th>\n",
       "      <th>const_i_percent</th>\n",
       "      <th>sn_kva</th>\n",
       "      <th>scaling</th>\n",
       "      <th>in_service</th>\n",
       "      <th>type</th>\n",
       "    </tr>\n",
       "  </thead>\n",
       "  <tbody>\n",
       "    <tr>\n",
       "      <th>0</th>\n",
       "      <td>Load</td>\n",
       "      <td>2</td>\n",
       "      <td>100.0</td>\n",
       "      <td>50.0</td>\n",
       "      <td>0.0</td>\n",
       "      <td>0.0</td>\n",
       "      <td>NaN</td>\n",
       "      <td>1.0</td>\n",
       "      <td>True</td>\n",
       "      <td>None</td>\n",
       "    </tr>\n",
       "  </tbody>\n",
       "</table>\n",
       "</div>"
      ],
      "text/plain": [
       "   name  bus   p_kw  q_kvar  const_z_percent  const_i_percent  sn_kva  \\\n",
       "0  Load    2  100.0    50.0              0.0              0.0     NaN   \n",
       "\n",
       "   scaling in_service  type  \n",
       "0      1.0       True  None  "
      ]
     },
     "execution_count": 6,
     "metadata": {},
     "output_type": "execute_result"
    }
   ],
   "source": [
    "net.load"
   ]
  },
  {
   "cell_type": "markdown",
   "metadata": {},
   "source": [
    "Note that line and transformer are created from the standard type library. The electric parameters of are automatically filled in from the standard type library.\n",
    "\n",
    "We now run a power flow:"
   ]
  },
  {
   "cell_type": "code",
   "execution_count": 8,
   "metadata": {},
   "outputs": [],
   "source": [
    "pp.runpp(net)"
   ]
  },
  {
   "cell_type": "markdown",
   "metadata": {},
   "source": [
    "And look at the results:"
   ]
  },
  {
   "cell_type": "code",
   "execution_count": 11,
   "metadata": {},
   "outputs": [
    {
     "data": {
      "text/html": [
       "<div>\n",
       "<table border=\"1\" class=\"dataframe\">\n",
       "  <thead>\n",
       "    <tr style=\"text-align: right;\">\n",
       "      <th></th>\n",
       "      <th>vm_pu</th>\n",
       "      <th>va_degree</th>\n",
       "      <th>p_kw</th>\n",
       "      <th>q_kvar</th>\n",
       "    </tr>\n",
       "  </thead>\n",
       "  <tbody>\n",
       "    <tr>\n",
       "      <th>0</th>\n",
       "      <td>1.020000</td>\n",
       "      <td>0.000000</td>\n",
       "      <td>-107.265391</td>\n",
       "      <td>-52.675195</td>\n",
       "    </tr>\n",
       "    <tr>\n",
       "      <th>1</th>\n",
       "      <td>1.008843</td>\n",
       "      <td>-0.760126</td>\n",
       "      <td>0.000000</td>\n",
       "      <td>0.000000</td>\n",
       "    </tr>\n",
       "    <tr>\n",
       "      <th>2</th>\n",
       "      <td>0.964431</td>\n",
       "      <td>0.115859</td>\n",
       "      <td>100.000000</td>\n",
       "      <td>50.000000</td>\n",
       "    </tr>\n",
       "  </tbody>\n",
       "</table>\n",
       "</div>"
      ],
      "text/plain": [
       "      vm_pu  va_degree        p_kw     q_kvar\n",
       "0  1.020000   0.000000 -107.265391 -52.675195\n",
       "1  1.008843  -0.760126    0.000000   0.000000\n",
       "2  0.964431   0.115859  100.000000  50.000000"
      ]
     },
     "execution_count": 11,
     "metadata": {},
     "output_type": "execute_result"
    }
   ],
   "source": [
    "net.res_bus"
   ]
  },
  {
   "cell_type": "code",
   "execution_count": 10,
   "metadata": {},
   "outputs": [
    {
     "data": {
      "text/html": [
       "<div>\n",
       "<table border=\"1\" class=\"dataframe\">\n",
       "  <thead>\n",
       "    <tr style=\"text-align: right;\">\n",
       "      <th></th>\n",
       "      <th>p_from_kw</th>\n",
       "      <th>q_from_kvar</th>\n",
       "      <th>p_to_kw</th>\n",
       "      <th>q_to_kvar</th>\n",
       "      <th>pl_kw</th>\n",
       "      <th>ql_kvar</th>\n",
       "      <th>i_from_ka</th>\n",
       "      <th>i_to_ka</th>\n",
       "      <th>i_ka</th>\n",
       "      <th>loading_percent</th>\n",
       "    </tr>\n",
       "  </thead>\n",
       "  <tbody>\n",
       "    <tr>\n",
       "      <th>0</th>\n",
       "      <td>105.392391</td>\n",
       "      <td>50.696119</td>\n",
       "      <td>-100.0</td>\n",
       "      <td>-50.0</td>\n",
       "      <td>5.392391</td>\n",
       "      <td>0.696119</td>\n",
       "      <td>0.167325</td>\n",
       "      <td>0.167326</td>\n",
       "      <td>0.167326</td>\n",
       "      <td>117.835208</td>\n",
       "    </tr>\n",
       "  </tbody>\n",
       "</table>\n",
       "</div>"
      ],
      "text/plain": [
       "    p_from_kw  q_from_kvar  p_to_kw  q_to_kvar     pl_kw   ql_kvar  i_from_ka  \\\n",
       "0  105.392391    50.696119   -100.0      -50.0  5.392391  0.696119   0.167325   \n",
       "\n",
       "    i_to_ka      i_ka  loading_percent  \n",
       "0  0.167326  0.167326       117.835208  "
      ]
     },
     "execution_count": 10,
     "metadata": {},
     "output_type": "execute_result"
    }
   ],
   "source": [
    "net.res_line"
   ]
  },
  {
   "cell_type": "code",
   "execution_count": 12,
   "metadata": {},
   "outputs": [
    {
     "data": {
      "text/html": [
       "<div>\n",
       "<table border=\"1\" class=\"dataframe\">\n",
       "  <thead>\n",
       "    <tr style=\"text-align: right;\">\n",
       "      <th></th>\n",
       "      <th>p_hv_kw</th>\n",
       "      <th>q_hv_kvar</th>\n",
       "      <th>p_lv_kw</th>\n",
       "      <th>q_lv_kvar</th>\n",
       "      <th>pl_kw</th>\n",
       "      <th>ql_kvar</th>\n",
       "      <th>i_hv_ka</th>\n",
       "      <th>i_lv_ka</th>\n",
       "      <th>loading_percent</th>\n",
       "    </tr>\n",
       "  </thead>\n",
       "  <tbody>\n",
       "    <tr>\n",
       "      <th>0</th>\n",
       "      <td>107.265391</td>\n",
       "      <td>52.675195</td>\n",
       "      <td>-105.392391</td>\n",
       "      <td>-50.696119</td>\n",
       "      <td>1.872999</td>\n",
       "      <td>1.979076</td>\n",
       "      <td>0.003382</td>\n",
       "      <td>0.167325</td>\n",
       "      <td>29.289513</td>\n",
       "    </tr>\n",
       "  </tbody>\n",
       "</table>\n",
       "</div>"
      ],
      "text/plain": [
       "      p_hv_kw  q_hv_kvar     p_lv_kw  q_lv_kvar     pl_kw   ql_kvar   i_hv_ka  \\\n",
       "0  107.265391  52.675195 -105.392391 -50.696119  1.872999  1.979076  0.003382   \n",
       "\n",
       "    i_lv_ka  loading_percent  \n",
       "0  0.167325        29.289513  "
      ]
     },
     "execution_count": 12,
     "metadata": {},
     "output_type": "execute_result"
    }
   ],
   "source": [
    "net.res_trafo"
   ]
  },
  {
   "cell_type": "code",
   "execution_count": 15,
   "metadata": {},
   "outputs": [
    {
     "name": "stdout",
     "output_type": "stream",
     "text": [
      "Transformer loading: 29.22 percent\n",
      "Line loading: 114.545 percent\n",
      "Voltage magnitude vector: [ 1.02        1.03530089  0.99213495]\n"
     ]
    }
   ],
   "source": [
    "net.trafo.tp_pos.at[trafo] = -1\n",
    "pp.runpp(net)"
   ]
  },
  {
   "cell_type": "code",
   "execution_count": 16,
   "metadata": {},
   "outputs": [
    {
     "name": "stdout",
     "output_type": "stream",
     "text": [
      "Transformer loading: 0.36 percent\n",
      "Line loading: 0.001 percent\n",
      "Voltage magnitude vector: [ 1.02        1.04612885         nan]\n"
     ]
    }
   ],
   "source": [
    "pp.create_switch(net, bus=bus3, element=line, et=\"l\", closed=False)\n",
    "pp.runpp(net)\n",
    "print(\"Transformer loading: %.2f percent\"%net.res_trafo.loading_percent.at[0])\n",
    "print(\"Line loading: %.3f percent\"%net.res_line.loading_percent.at[0])\n",
    "print(\"Voltage magnitude vector: %s\"%net.res_bus.vm_pu.values)"
   ]
  },
  {
   "cell_type": "code",
   "execution_count": 18,
   "metadata": {},
   "outputs": [
    {
     "data": {
      "text/plain": [
       "{2}"
      ]
     },
     "execution_count": 18,
     "metadata": {},
     "output_type": "execute_result"
    }
   ],
   "source": [
    "import pandapower.topology as top\n",
    "top.unsupplied_buses(net)"
   ]
  },
  {
   "cell_type": "code",
   "execution_count": 27,
   "metadata": {},
   "outputs": [
    {
     "data": {
      "text/plain": [
       "[2, 1]"
      ]
     },
     "execution_count": 27,
     "metadata": {},
     "output_type": "execute_result"
    }
   ],
   "source": [
    "net.switch.closed.at[0] = True\n",
    "mg = top.create_nxgraph(net, include_trafos=False)\n",
    "list(top.connected_component(mg, 2))"
   ]
  },
  {
   "cell_type": "code",
   "execution_count": 33,
   "metadata": {},
   "outputs": [
    {
     "name": "stdout",
     "output_type": "stream",
     "text": [
      "    ikss_ka     ip_ka\n",
      "0  2.534707  4.317318\n",
      "1  0.126631  0.182666\n",
      "2  0.122698  0.176991\n"
     ]
    }
   ],
   "source": [
    "import pandapower.shortcircuit as sc\n",
    "net.ext_grid[\"s_sc_max_mva\"] = 100\n",
    "net.ext_grid[\"rx_max\"] = 0.1\n",
    "sc.calc_sc(net, case=\"max\", ip=True, r_fault_ohm=2.)\n",
    "print(net.res_bus_sc)"
   ]
  },
  {
   "cell_type": "code",
   "execution_count": null,
   "metadata": {
    "collapsed": true
   },
   "outputs": [],
   "source": []
  }
 ],
 "metadata": {
  "kernelspec": {
   "display_name": "Python [conda root]",
   "language": "python",
   "name": "conda-root-py"
  },
  "language_info": {
   "codemirror_mode": {
    "name": "ipython",
    "version": 3
   },
   "file_extension": ".py",
   "mimetype": "text/x-python",
   "name": "python",
   "nbconvert_exporter": "python",
   "pygments_lexer": "ipython3",
   "version": "3.5.3"
  }
 },
 "nbformat": 4,
 "nbformat_minor": 2
}
