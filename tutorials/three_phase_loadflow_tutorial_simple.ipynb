{
 "cells": [
  {
   "cell_type": "markdown",
   "metadata": {},
   "source": [
    "# Simple 2 bus Example\n",
    "\n",
    "This tutorial shows how to perform three phase load flow in an unbalanced system.\n",
    "<img src=\"pics/Two bus system.png\" width=\"80%\">"
   ]
  },
  {
   "cell_type": "markdown",
   "metadata": {},
   "source": [
    "THree phase or unbalanced load flow is performed using the function \n",
    "\n",
    "runpp_3ph(net) \n",
    "\n",
    "This function needs to be explicitly imported, when unbalanced load flow calculation is desired"
   ]
  },
  {
   "cell_type": "code",
   "execution_count": 33,
   "metadata": {},
   "outputs": [],
   "source": [
    "import pandapower as pp\n",
    "from pandapower.pf.runpp_3ph import runpp_3ph"
   ]
  },
  {
   "cell_type": "markdown",
   "metadata": {},
   "source": [
    "# Create Buses\n",
    "After this import we can start by creating an empty network and two 110 kV buses \n",
    "\n",
    "# Create External Grid\n",
    "For negative and zero sequence networks. \n",
    "The following data is needed in addition to a voltage reference.\n",
    "- s_sc_max_mva\n",
    "- rx_max\n",
    "- r0x0_max\n",
    "- x0x_max\n",
    "\n",
    "Some of them needs to be added directly to PandapowerNet"
   ]
  },
  {
   "cell_type": "code",
   "execution_count": 34,
   "metadata": {},
   "outputs": [],
   "source": [
    "net = pp.create_empty_network(sn_mva = 100 )\n",
    "bus_eg  =  pp.create_bus(net, vn_kv = 110, name = \"Ext. Grid\")\n",
    "bus_load  =  pp.create_bus(net, vn_kv = 110, name = \"Load\")\n",
    "\n",
    "pp.create_ext_grid(net, bus=bus_eg, vm_pu= 1.0, name=\"Grid Connection\",s_sc_max_mva=5000, rx_max=0.1)\n",
    "\n",
    "# Needs to be added explicitly after create function\n",
    "net.ext_grid[\"r0x0_max\"] = 0.1\n",
    "net.ext_grid[\"x0x_max\"] = 1.0\n"
   ]
  },
  {
   "cell_type": "markdown",
   "metadata": {},
   "source": [
    "You can see below, external grid has all positive and zero sequence parameters"
   ]
  },
  {
   "cell_type": "code",
   "execution_count": 35,
   "metadata": {},
   "outputs": [
    {
     "data": {
      "text/html": [
       "<div>\n",
       "<style scoped>\n",
       "    .dataframe tbody tr th:only-of-type {\n",
       "        vertical-align: middle;\n",
       "    }\n",
       "\n",
       "    .dataframe tbody tr th {\n",
       "        vertical-align: top;\n",
       "    }\n",
       "\n",
       "    .dataframe thead th {\n",
       "        text-align: right;\n",
       "    }\n",
       "</style>\n",
       "<table border=\"1\" class=\"dataframe\">\n",
       "  <thead>\n",
       "    <tr style=\"text-align: right;\">\n",
       "      <th></th>\n",
       "      <th>name</th>\n",
       "      <th>bus</th>\n",
       "      <th>vm_pu</th>\n",
       "      <th>va_degree</th>\n",
       "      <th>in_service</th>\n",
       "      <th>s_sc_max_mva</th>\n",
       "      <th>rx_max</th>\n",
       "      <th>r0x0_max</th>\n",
       "      <th>x0x_max</th>\n",
       "    </tr>\n",
       "  </thead>\n",
       "  <tbody>\n",
       "    <tr>\n",
       "      <th>0</th>\n",
       "      <td>Grid Connection</td>\n",
       "      <td>0</td>\n",
       "      <td>1.0</td>\n",
       "      <td>0.0</td>\n",
       "      <td>True</td>\n",
       "      <td>5000.0</td>\n",
       "      <td>0.1</td>\n",
       "      <td>0.1</td>\n",
       "      <td>1.0</td>\n",
       "    </tr>\n",
       "  </tbody>\n",
       "</table>\n",
       "</div>"
      ],
      "text/plain": [
       "              name  bus  vm_pu  va_degree  in_service  s_sc_max_mva  rx_max  \\\n",
       "0  Grid Connection    0    1.0        0.0        True        5000.0     0.1   \n",
       "\n",
       "   r0x0_max  x0x_max  \n",
       "0       0.1      1.0  "
      ]
     },
     "execution_count": 35,
     "metadata": {},
     "output_type": "execute_result"
    }
   ],
   "source": [
    "net.ext_grid"
   ]
  },
  {
   "cell_type": "markdown",
   "metadata": {},
   "source": [
    "# Create a Standard Type\n",
    "A line type should have the following parameters for unbalanced load flow:\n",
    "\n",
    "- r_ohm_per_km\n",
    "- x_ohm_per_km\n",
    "- c_nf_per_km\n",
    "- r0_ohm_per_km\n",
    "- x0_ohm_per_km\n",
    "- c0_nf_per_km\n",
    "- max_i_ka\n",
    "\n",
    "# Create a Line\n",
    "After creating a line type, we can create several lines like the one below:"
   ]
  },
  {
   "cell_type": "code",
   "execution_count": 36,
   "metadata": {},
   "outputs": [
    {
     "data": {
      "text/plain": [
       "0"
      ]
     },
     "execution_count": 36,
     "metadata": {},
     "output_type": "execute_result"
    }
   ],
   "source": [
    "#Line Type created\n",
    "pp.create_std_type(net, {\"r0_ohm_per_km\": 0.0848, \"x0_ohm_per_km\": 0.4649556, \"c0_nf_per_km\":\\\n",
    "    230.6,\"max_i_ka\": 0.963, \"r_ohm_per_km\": 0.0212, \"x_ohm_per_km\": 0.1162389,\n",
    "             \"c_nf_per_km\":  230}, \"example_type\")\n",
    "\n",
    "# Actual line created with the length of the line in km\n",
    "pp.create_line(net, from_bus = bus_eg, to_bus = bus_load, length_km = 50.0, std_type=\"example_type\")\n"
   ]
  },
  {
   "cell_type": "markdown",
   "metadata": {},
   "source": [
    "# Create Unbalanced Load\n",
    "We can create three phase loads by specifying P, Q values in each phase.\n",
    "The default values are set to zero.\n",
    "\n",
    "Connection type of load can be specified while creating a three phase load\n",
    "\n",
    "**'wye' (Default)** - 3 phase phase-earth load\n",
    "\n",
    "**'delta'** - 3 phase delta load\n",
    "\n",
    "PS: When a balanced load is created using pp.create_load , the load is divided equally among the three phases.\n"
   ]
  },
  {
   "cell_type": "code",
   "execution_count": 37,
   "metadata": {},
   "outputs": [
    {
     "data": {
      "text/plain": [
       "0"
      ]
     },
     "execution_count": 37,
     "metadata": {},
     "output_type": "execute_result"
    }
   ],
   "source": [
    "#This function creates an unbalanced load\n",
    "pp.create_asymmetric_load(net, bus_load, p_A_mw=50, q_A_mvar=50, p_B_mw=10, q_B_mvar=15,\n",
    "                   p_C_mw=10, q_C_mvar=5)\n",
    "\n",
    "# pp.create_load creates a balanced three phase load \n"
   ]
  },
  {
   "cell_type": "markdown",
   "metadata": {},
   "source": [
    "# add_zero_impedance_parameters\n",
    "This function adds the zero sequence parameters in the standard type\n",
    "of the element (trafo/line)\n",
    "\n",
    "# runpp_3ph\n",
    "This function performs the calculation and returns results in \n",
    "# result tables:\n",
    "-res_element_3ph "
   ]
  },
  {
   "cell_type": "code",
   "execution_count": 38,
   "metadata": {},
   "outputs": [
    {
     "data": {
      "text/html": [
       "<div>\n",
       "<style scoped>\n",
       "    .dataframe tbody tr th:only-of-type {\n",
       "        vertical-align: middle;\n",
       "    }\n",
       "\n",
       "    .dataframe tbody tr th {\n",
       "        vertical-align: top;\n",
       "    }\n",
       "\n",
       "    .dataframe thead th {\n",
       "        text-align: right;\n",
       "    }\n",
       "</style>\n",
       "<table border=\"1\" class=\"dataframe\">\n",
       "  <thead>\n",
       "    <tr style=\"text-align: right;\">\n",
       "      <th></th>\n",
       "      <th>vmA_pu</th>\n",
       "      <th>vaA_degree</th>\n",
       "      <th>vmB_pu</th>\n",
       "      <th>vaB_degree</th>\n",
       "      <th>vmC_pu</th>\n",
       "      <th>vaC_degree</th>\n",
       "      <th>p_A_mw</th>\n",
       "      <th>q_A_mvar</th>\n",
       "      <th>p_B_mw</th>\n",
       "      <th>q_B_mvar</th>\n",
       "      <th>p_C_mw</th>\n",
       "      <th>q_C_mvar</th>\n",
       "    </tr>\n",
       "  </thead>\n",
       "  <tbody>\n",
       "    <tr>\n",
       "      <th>0</th>\n",
       "      <td>0.967429</td>\n",
       "      <td>-1.051253</td>\n",
       "      <td>1.013028</td>\n",
       "      <td>-119.470654</td>\n",
       "      <td>1.019784</td>\n",
       "      <td>120.471400</td>\n",
       "      <td>68.55948</td>\n",
       "      <td>83.019541</td>\n",
       "      <td>22.840554</td>\n",
       "      <td>-23.79116</td>\n",
       "      <td>-17.677152</td>\n",
       "      <td>-12.140862</td>\n",
       "    </tr>\n",
       "    <tr>\n",
       "      <th>1</th>\n",
       "      <td>0.749574</td>\n",
       "      <td>-9.010213</td>\n",
       "      <td>1.091380</td>\n",
       "      <td>-124.105793</td>\n",
       "      <td>1.051243</td>\n",
       "      <td>125.894504</td>\n",
       "      <td>50.00000</td>\n",
       "      <td>50.000000</td>\n",
       "      <td>10.000000</td>\n",
       "      <td>15.00000</td>\n",
       "      <td>10.000000</td>\n",
       "      <td>5.000000</td>\n",
       "    </tr>\n",
       "  </tbody>\n",
       "</table>\n",
       "</div>"
      ],
      "text/plain": [
       "     vmA_pu  vaA_degree    vmB_pu  vaB_degree    vmC_pu  vaC_degree    p_A_mw  \\\n",
       "0  0.967429   -1.051253  1.013028 -119.470654  1.019784  120.471400  68.55948   \n",
       "1  0.749574   -9.010213  1.091380 -124.105793  1.051243  125.894504  50.00000   \n",
       "\n",
       "    q_A_mvar     p_B_mw  q_B_mvar     p_C_mw   q_C_mvar  \n",
       "0  83.019541  22.840554 -23.79116 -17.677152 -12.140862  \n",
       "1  50.000000  10.000000  15.00000  10.000000   5.000000  "
      ]
     },
     "execution_count": 38,
     "metadata": {},
     "output_type": "execute_result"
    }
   ],
   "source": [
    "pp.add_zero_impedance_parameters(net)\n",
    "count, V012_it, I012_it, ppci0, Y0_pu, Y1_pu, Y2_pu = runpp_3ph(net)\n",
    "net.res_bus_3ph"
   ]
  },
  {
   "cell_type": "markdown",
   "metadata": {},
   "source": [
    "The convergence of load flow can be checked with the following:"
   ]
  },
  {
   "cell_type": "code",
   "execution_count": 39,
   "metadata": {},
   "outputs": [
    {
     "data": {
      "text/plain": [
       "True"
      ]
     },
     "execution_count": 39,
     "metadata": {},
     "output_type": "execute_result"
    }
   ],
   "source": [
    "net['converged']"
   ]
  },
  {
   "cell_type": "markdown",
   "metadata": {},
   "source": [
    "# 3 Bus system with a transformer in between External Grid and Distribution system\n",
    "\n",
    "<img src=\"pics/Three bus system.png\" width=\"80%\">"
   ]
  },
  {
   "cell_type": "code",
   "execution_count": 40,
   "metadata": {},
   "outputs": [],
   "source": [
    "net = pp.create_empty_network(sn_mva=100)\n",
    "bus_eg = pp.create_bus(net, 10)\n",
    "bus_lv = pp.create_bus(net, 0.4)\n",
    "bus_load = pp.create_bus(net, 0.4 )\n",
    "\n",
    "pp.create_ext_grid(net, bus_eg, s_sc_max_mva=10000, rx_max=0.1)\n",
    "net.ext_grid[\"r0x0_max\"] = 0.1\n",
    "net.ext_grid[\"x0x_max\"] = 1.0"
   ]
  },
  {
   "cell_type": "markdown",
   "metadata": {},
   "source": [
    "# Create Transformer.\n",
    "\n",
    "Create a standard type and use it during transformer creation in the network"
   ]
  },
  {
   "cell_type": "code",
   "execution_count": 41,
   "metadata": {},
   "outputs": [
    {
     "data": {
      "text/plain": [
       "0"
      ]
     },
     "execution_count": 41,
     "metadata": {},
     "output_type": "execute_result"
    }
   ],
   "source": [
    "pp.create_std_type(net, {\"sn_mva\": 1.6,\n",
    "            \"vn_hv_kv\": 10,\n",
    "            \"vn_lv_kv\": 0.4,\n",
    "            \"vk_percent\": 5.94892,\n",
    "            \"vkr_percent\": 0.78125,\n",
    "            \"pfe_kw\": 2.7,\n",
    "            \"i0_percent\": 0.16875,\n",
    "            \"shift_degree\": 0,\n",
    "            \"vector_group\": 'Dyn',\n",
    "            \"tap_side\": \"lv\",\n",
    "            \"tap_neutral\": 0,\n",
    "            \"tap_min\": -2,\n",
    "            \"tap_max\": 2,\n",
    "            \"tap_step_degree\": 0,\n",
    "            \"tap_step_percent\": 2.5,\n",
    "            \"tap_phase_shifter\": False,\n",
    "            \"vk0_percent\": 5.94892, \n",
    "            \"vkr0_percent\": 0.78125, \n",
    "            \"mag0_percent\": 100,\n",
    "            \"mag0_rx\": 0.,\n",
    "            \"si0_hv_partial\": 0.9,}, name='1.6 MVA 10/0.4kV Distribution Transformer', element=\"trafo\")\n",
    "    \n",
    "pp.create_transformer(net, bus_eg, bus_lv, std_type='1.6 MVA 10/0.4kV Distribution Transformer', parallel=1,tap_pos = 0 )"
   ]
  },
  {
   "cell_type": "markdown",
   "metadata": {},
   "source": [
    "# Create line and loads \n",
    "\n",
    "Just like before create three phase lines and loads with zero sequence parameters"
   ]
  },
  {
   "cell_type": "code",
   "execution_count": 42,
   "metadata": {},
   "outputs": [
    {
     "data": {
      "text/plain": [
       "0"
      ]
     },
     "execution_count": 42,
     "metadata": {},
     "output_type": "execute_result"
    }
   ],
   "source": [
    "pp.create_std_type(net, {\"r_ohm_per_km\": 0.1941, \"x_ohm_per_km\": 0.07476991,\n",
    "                    \"c_nf_per_km\": 1160., \"max_i_ka\": 0.421,\n",
    "                    \"endtemp_degree\": 70.0, \"r0_ohm_per_km\": 0.7766,\n",
    "                    \"x0_ohm_per_km\": 0.2990796,\n",
    "                    \"c0_nf_per_km\":  496.2}, name=\"unsymmetric_line_type\",element = \"line\")\n",
    "\n",
    "\n",
    "pp.create_line(net, bus_lv, bus_load, length_km=0.5, std_type=\"unsymmetric_line_type\")\n",
    "\n",
    "#Creates a 3 phase wye load\n",
    "pp.create_asymmetric_load(net, bus_load, p_A_mw=0.0300, q_A_mvar=0.0048, p_B_mw=0.0280, q_B_mvar=0.0036,\n",
    "                               p_C_mw=0.027, q_C_mvar=0.0043,type='wye')"
   ]
  },
  {
   "cell_type": "markdown",
   "metadata": {},
   "source": [
    "# Run Asymmetric load flow for the network\n",
    "\n",
    "Same as before, add zero sequence parameters and run 3 phase load flow.\n"
   ]
  },
  {
   "cell_type": "code",
   "execution_count": 43,
   "metadata": {},
   "outputs": [
    {
     "data": {
      "text/html": [
       "<div>\n",
       "<style scoped>\n",
       "    .dataframe tbody tr th:only-of-type {\n",
       "        vertical-align: middle;\n",
       "    }\n",
       "\n",
       "    .dataframe tbody tr th {\n",
       "        vertical-align: top;\n",
       "    }\n",
       "\n",
       "    .dataframe thead th {\n",
       "        text-align: right;\n",
       "    }\n",
       "</style>\n",
       "<table border=\"1\" class=\"dataframe\">\n",
       "  <thead>\n",
       "    <tr style=\"text-align: right;\">\n",
       "      <th></th>\n",
       "      <th>vmA_pu</th>\n",
       "      <th>vaA_degree</th>\n",
       "      <th>vmB_pu</th>\n",
       "      <th>vaB_degree</th>\n",
       "      <th>vmC_pu</th>\n",
       "      <th>vaC_degree</th>\n",
       "      <th>p_A_mw</th>\n",
       "      <th>q_A_mvar</th>\n",
       "      <th>p_B_mw</th>\n",
       "      <th>q_B_mvar</th>\n",
       "      <th>p_C_mw</th>\n",
       "      <th>q_C_mvar</th>\n",
       "    </tr>\n",
       "  </thead>\n",
       "  <tbody>\n",
       "    <tr>\n",
       "      <th>0</th>\n",
       "      <td>1.000000</td>\n",
       "      <td>-0.000019</td>\n",
       "      <td>1.000000</td>\n",
       "      <td>-119.999989</td>\n",
       "      <td>1.000000</td>\n",
       "      <td>120.000007</td>\n",
       "      <td>0.033759</td>\n",
       "      <td>0.005014</td>\n",
       "      <td>0.032224</td>\n",
       "      <td>0.005856</td>\n",
       "      <td>0.032262</td>\n",
       "      <td>0.004106</td>\n",
       "    </tr>\n",
       "    <tr>\n",
       "      <th>1</th>\n",
       "      <td>0.998888</td>\n",
       "      <td>-0.208098</td>\n",
       "      <td>0.999052</td>\n",
       "      <td>-120.191927</td>\n",
       "      <td>0.999042</td>\n",
       "      <td>119.815207</td>\n",
       "      <td>0.000000</td>\n",
       "      <td>0.000000</td>\n",
       "      <td>0.000000</td>\n",
       "      <td>0.000000</td>\n",
       "      <td>0.000000</td>\n",
       "      <td>0.000000</td>\n",
       "    </tr>\n",
       "    <tr>\n",
       "      <th>2</th>\n",
       "      <td>0.928695</td>\n",
       "      <td>-0.907565</td>\n",
       "      <td>0.945274</td>\n",
       "      <td>-121.397996</td>\n",
       "      <td>0.948889</td>\n",
       "      <td>119.495072</td>\n",
       "      <td>0.030000</td>\n",
       "      <td>0.004800</td>\n",
       "      <td>0.028000</td>\n",
       "      <td>0.003600</td>\n",
       "      <td>0.027000</td>\n",
       "      <td>0.004300</td>\n",
       "    </tr>\n",
       "  </tbody>\n",
       "</table>\n",
       "</div>"
      ],
      "text/plain": [
       "     vmA_pu  vaA_degree    vmB_pu  vaB_degree    vmC_pu  vaC_degree    p_A_mw  \\\n",
       "0  1.000000   -0.000019  1.000000 -119.999989  1.000000  120.000007  0.033759   \n",
       "1  0.998888   -0.208098  0.999052 -120.191927  0.999042  119.815207  0.000000   \n",
       "2  0.928695   -0.907565  0.945274 -121.397996  0.948889  119.495072  0.030000   \n",
       "\n",
       "   q_A_mvar    p_B_mw  q_B_mvar    p_C_mw  q_C_mvar  \n",
       "0  0.005014  0.032224  0.005856  0.032262  0.004106  \n",
       "1  0.000000  0.000000  0.000000  0.000000  0.000000  \n",
       "2  0.004800  0.028000  0.003600  0.027000  0.004300  "
      ]
     },
     "execution_count": 43,
     "metadata": {},
     "output_type": "execute_result"
    }
   ],
   "source": [
    "pp.add_zero_impedance_parameters(net)\n",
    "count, V012_it, I012_it, ppci0, Y0_pu, Y1_pu, Y2_pu = runpp_3ph(net)\n",
    "net.res_bus_3ph"
   ]
  },
  {
   "cell_type": "markdown",
   "metadata": {},
   "source": [
    "# Sequence Frame results \n",
    "Sequence frame results are returned by runpp_3ph instead of using net result tables.\n",
    "\n",
    "# Format of the array\n",
    "# | V0: bus_eg ,   bus_hv ,   bus_load |\n",
    "# | V1:  ...| \n",
    "# | V2:  ...|"
   ]
  },
  {
   "cell_type": "code",
   "execution_count": 44,
   "metadata": {},
   "outputs": [
    {
     "data": {
      "text/plain": [
       "array([-0.00000000e+00+0.j        , -8.91079944e-05-0.00011733j,\n",
       "       -1.03580736e-02+0.00144819j])"
      ]
     },
     "execution_count": 44,
     "metadata": {},
     "output_type": "execute_result"
    }
   ],
   "source": [
    "# See the zero sequence voltage values\n",
    "V012_it[0,:]"
   ]
  },
  {
   "cell_type": "code",
   "execution_count": null,
   "metadata": {},
   "outputs": [],
   "source": []
  },
  {
   "cell_type": "code",
   "execution_count": null,
   "metadata": {},
   "outputs": [],
   "source": []
  }
 ],
 "metadata": {
  "kernelspec": {
   "display_name": "Python 3",
   "language": "python",
   "name": "python3"
  },
  "language_info": {
   "codemirror_mode": {
    "name": "ipython",
    "version": 3
   },
   "file_extension": ".py",
   "mimetype": "text/x-python",
   "name": "python",
   "nbconvert_exporter": "python",
   "pygments_lexer": "ipython3",
   "version": "3.7.1"
  }
 },
 "nbformat": 4,
 "nbformat_minor": 2
}
