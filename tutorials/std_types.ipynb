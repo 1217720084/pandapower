{
 "cells": [
  {
   "cell_type": "markdown",
   "metadata": {},
   "source": [
    "# Pandapower Standard Type Library"
   ]
  },
  {
   "cell_type": "markdown",
   "metadata": {},
   "source": [
    "Pandapower provides a standard type library that allows the comfortable managing of type data for lines and transformers.\n",
    "\n",
    "The following examples are all based on lines, but can be equally used for the transformer database by specifying element=\"trafo\" instead of element=\"line\" in all standard type functions."
   ]
  },
  {
   "cell_type": "markdown",
   "metadata": {},
   "source": [
    "## Basic Pandapower Standard Types"
   ]
  },
  {
   "cell_type": "markdown",
   "metadata": {},
   "source": [
    "Pandapower comes with generic standard types that you can use to build generic networks:"
   ]
  },
  {
   "cell_type": "code",
   "execution_count": 1,
   "metadata": {
    "collapsed": false,
    "scrolled": true
   },
   "outputs": [
    {
     "name": "stdout",
     "output_type": "stream",
     "text": [
      "                                 c_nf_per_km imax_ka q_mm2 r_ohm_per_km type  \\\n",
      "149-AL1/24-ST1A 10.0                   11.25    0.47   149        0.194   ol   \n",
      "149-AL1/24-ST1A 110.0                   8.75    0.47   149        0.194   ol   \n",
      "149-AL1/24-ST1A 20.0                    10.5    0.47   149        0.194   ol   \n",
      "15-AL1/3-ST1A 0.4                         11   0.105    16       1.8769   ol   \n",
      "184-AL1/30-ST1A 110.0                    8.8   0.535   184       0.1571   ol   \n",
      "184-AL1/30-ST1A 20.0                   10.75   0.535   184       0.1571   ol   \n",
      "24-AL1/4-ST1A 0.4                      11.25    0.14    24       1.2012   ol   \n",
      "243-AL1/39-ST1A 110.0                      9   0.645   243       0.1188   ol   \n",
      "243-AL1/39-ST1A 20.0                      11   0.645   243       0.1188   ol   \n",
      "305-AL1/39-ST1A 110.0                    9.2    0.74   305       0.0949   ol   \n",
      "48-AL1/8-ST1A 0.4                       12.2    0.21    48       0.5939   ol   \n",
      "48-AL1/8-ST1A 10.0                      10.1    0.21    48       0.5939   ol   \n",
      "48-AL1/8-ST1A 20.0                       9.5    0.21    48       0.5939   ol   \n",
      "490-AL1/64-ST1A 220.0                     10    0.96   490        0.059   ol   \n",
      "490-AL1/64-ST1A 380.0                     11    0.96   490        0.059   ol   \n",
      "94-AL1/15-ST1A 0.4                      13.2    0.35    94        0.306   ol   \n",
      "94-AL1/15-ST1A 10.0                    10.75    0.35    94        0.306   ol   \n",
      "94-AL1/15-ST1A 20.0                       10    0.35    94        0.306   ol   \n",
      "N2XS(FL)2Y 1x120 RM/35 64/110 kV         112   0.366   120        0.153   cs   \n",
      "N2XS(FL)2Y 1x185 RM/35 64/110 kV         125   0.457   185        0.099   cs   \n",
      "N2XS(FL)2Y 1x240 RM/35 64/110 kV         135   0.526   240        0.075   cs   \n",
      "N2XS(FL)2Y 1x300 RM/35 64/110 kV         144   0.588   300         0.06   cs   \n",
      "NA2XS2Y 1x185 RM/25 12/20 kV             273   0.362   185        0.161   cs   \n",
      "NA2XS2Y 1x240 RM/25 12/20 kV             304   0.421   240        0.122   cs   \n",
      "NA2XS2Y 1x95 RM/25 12/20 kV              216   0.252    95        0.313   cs   \n",
      "NAYY 4x120 SE                            264   0.242   120        0.225   cs   \n",
      "NAYY 4x150 SE                            261    0.27   150        0.208   cs   \n",
      "NAYY 4x50 SE                             210   0.142    50        0.642   cs   \n",
      "\n",
      "                                 x_ohm_per_km  \n",
      "149-AL1/24-ST1A 10.0                    0.315  \n",
      "149-AL1/24-ST1A 110.0                    0.41  \n",
      "149-AL1/24-ST1A 20.0                    0.337  \n",
      "15-AL1/3-ST1A 0.4                        0.35  \n",
      "184-AL1/30-ST1A 110.0                     0.4  \n",
      "184-AL1/30-ST1A 20.0                     0.33  \n",
      "24-AL1/4-ST1A 0.4                       0.335  \n",
      "243-AL1/39-ST1A 110.0                    0.39  \n",
      "243-AL1/39-ST1A 20.0                     0.32  \n",
      "305-AL1/39-ST1A 110.0                    0.38  \n",
      "48-AL1/8-ST1A 0.4                         0.3  \n",
      "48-AL1/8-ST1A 10.0                       0.35  \n",
      "48-AL1/8-ST1A 20.0                      0.372  \n",
      "490-AL1/64-ST1A 220.0                   0.285  \n",
      "490-AL1/64-ST1A 380.0                   0.253  \n",
      "94-AL1/15-ST1A 0.4                       0.29  \n",
      "94-AL1/15-ST1A 10.0                      0.33  \n",
      "94-AL1/15-ST1A 20.0                      0.35  \n",
      "N2XS(FL)2Y 1x120 RM/35 64/110 kV        0.166  \n",
      "N2XS(FL)2Y 1x185 RM/35 64/110 kV        0.156  \n",
      "N2XS(FL)2Y 1x240 RM/35 64/110 kV        0.149  \n",
      "N2XS(FL)2Y 1x300 RM/35 64/110 kV        0.144  \n",
      "NA2XS2Y 1x185 RM/25 12/20 kV            0.117  \n",
      "NA2XS2Y 1x240 RM/25 12/20 kV            0.112  \n",
      "NA2XS2Y 1x95 RM/25 12/20 kV             0.132  \n",
      "NAYY 4x120 SE                            0.08  \n",
      "NAYY 4x150 SE                            0.08  \n",
      "NAYY 4x50 SE                            0.083  \n"
     ]
    }
   ],
   "source": [
    "import pandapower as pp\n",
    "net = pp.create_empty_network()\n",
    "print(pp.available_std_types(net, element=\"line\"))"
   ]
  },
  {
   "cell_type": "markdown",
   "metadata": {},
   "source": [
    "If you create a line with the create_line function, the element parameters are taken from this library:"
   ]
  },
  {
   "cell_type": "code",
   "execution_count": 2,
   "metadata": {
    "collapsed": false
   },
   "outputs": [
    {
     "name": "stdout",
     "output_type": "stream",
     "text": [
      "name               test_line\n",
      "std_type        NAYY 4x50 SE\n",
      "from_bus                   0\n",
      "to_bus                     1\n",
      "length_km                0.1\n",
      "r_ohm_per_km           0.642\n",
      "x_ohm_per_km           0.083\n",
      "c_nf_per_km              210\n",
      "imax_ka                0.142\n",
      "df                         1\n",
      "parallel                   1\n",
      "type                      cs\n",
      "in_service              True\n",
      "Name: 0, dtype: object\n"
     ]
    }
   ],
   "source": [
    "b1 = pp.create_bus(net, vn_kv=.4)\n",
    "b2 = pp.create_bus(net, vn_kv=.4)\n",
    "lid = pp.create_line(net, from_bus=b1, to_bus=b2, length_km=0.1, std_type=\"NAYY 4x50 SE\", name=\"test_line\")\n",
    "print(net.line.loc[lid])"
   ]
  },
  {
   "cell_type": "markdown",
   "metadata": {},
   "source": [
    "## Create Individual Standard Types"
   ]
  },
  {
   "cell_type": "markdown",
   "metadata": {},
   "source": [
    "Additionally to the basic pandapower standard types, you can define individual standard types for you pandapower network.\n",
    "\n",
    "To create a new standard type you need at least the following parameters:\n",
    "\n",
    "**For Lines**:\n",
    "- r_ohm_per_km\n",
    "- x_ohm_per_km\n",
    "- c_nf_per_km\n",
    "- imax_ka\n",
    "\n",
    "**For Transformers:**\n",
    "- sn_kva\n",
    "- vn_hv_kv\n",
    "- vn_lv_kv\n",
    "- vsc_percent\n",
    "- vscr_percent\n",
    "- i0_percent\n",
    "- pfe_kw\n",
    "- shift_degree\n",
    "\n",
    "To define the parameters, create a dictionary with the style {\"parameter1\": parameter_value1, \"parameter2\": paramter_value2,...} and save the standard type to your network with the create_std_type function:"
   ]
  },
  {
   "cell_type": "code",
   "execution_count": 3,
   "metadata": {
    "collapsed": false
   },
   "outputs": [
    {
     "name": "stdout",
     "output_type": "stream",
     "text": [
      "                                 c_nf_per_km imax_ka q_mm2 r_ohm_per_km type  \\\n",
      "149-AL1/24-ST1A 10.0                   11.25    0.47   149        0.194   ol   \n",
      "149-AL1/24-ST1A 110.0                   8.75    0.47   149        0.194   ol   \n",
      "149-AL1/24-ST1A 20.0                    10.5    0.47   149        0.194   ol   \n",
      "15-AL1/3-ST1A 0.4                         11   0.105    16       1.8769   ol   \n",
      "184-AL1/30-ST1A 110.0                    8.8   0.535   184       0.1571   ol   \n",
      "184-AL1/30-ST1A 20.0                   10.75   0.535   184       0.1571   ol   \n",
      "24-AL1/4-ST1A 0.4                      11.25    0.14    24       1.2012   ol   \n",
      "243-AL1/39-ST1A 110.0                      9   0.645   243       0.1188   ol   \n",
      "243-AL1/39-ST1A 20.0                      11   0.645   243       0.1188   ol   \n",
      "305-AL1/39-ST1A 110.0                    9.2    0.74   305       0.0949   ol   \n",
      "48-AL1/8-ST1A 0.4                       12.2    0.21    48       0.5939   ol   \n",
      "48-AL1/8-ST1A 10.0                      10.1    0.21    48       0.5939   ol   \n",
      "48-AL1/8-ST1A 20.0                       9.5    0.21    48       0.5939   ol   \n",
      "490-AL1/64-ST1A 220.0                     10    0.96   490        0.059   ol   \n",
      "490-AL1/64-ST1A 380.0                     11    0.96   490        0.059   ol   \n",
      "94-AL1/15-ST1A 0.4                      13.2    0.35    94        0.306   ol   \n",
      "94-AL1/15-ST1A 10.0                    10.75    0.35    94        0.306   ol   \n",
      "94-AL1/15-ST1A 20.0                       10    0.35    94        0.306   ol   \n",
      "N2XS(FL)2Y 1x120 RM/35 64/110 kV         112   0.366   120        0.153   cs   \n",
      "N2XS(FL)2Y 1x185 RM/35 64/110 kV         125   0.457   185        0.099   cs   \n",
      "N2XS(FL)2Y 1x240 RM/35 64/110 kV         135   0.526   240        0.075   cs   \n",
      "N2XS(FL)2Y 1x300 RM/35 64/110 kV         144   0.588   300         0.06   cs   \n",
      "NA2XS2Y 1x185 RM/25 12/20 kV             273   0.362   185        0.161   cs   \n",
      "NA2XS2Y 1x240 RM/25 12/20 kV             304   0.421   240        0.122   cs   \n",
      "NA2XS2Y 1x95 RM/25 12/20 kV              216   0.252    95        0.313   cs   \n",
      "NAYY 4x120 SE                            264   0.242   120        0.225   cs   \n",
      "NAYY 4x150 SE                            261    0.27   150        0.208   cs   \n",
      "NAYY 4x50 SE                             210   0.142    50        0.642   cs   \n",
      "test_type                                 10     0.4   NaN         0.01   cs   \n",
      "\n",
      "                                 x_ohm_per_km  \n",
      "149-AL1/24-ST1A 10.0                    0.315  \n",
      "149-AL1/24-ST1A 110.0                    0.41  \n",
      "149-AL1/24-ST1A 20.0                    0.337  \n",
      "15-AL1/3-ST1A 0.4                        0.35  \n",
      "184-AL1/30-ST1A 110.0                     0.4  \n",
      "184-AL1/30-ST1A 20.0                     0.33  \n",
      "24-AL1/4-ST1A 0.4                       0.335  \n",
      "243-AL1/39-ST1A 110.0                    0.39  \n",
      "243-AL1/39-ST1A 20.0                     0.32  \n",
      "305-AL1/39-ST1A 110.0                    0.38  \n",
      "48-AL1/8-ST1A 0.4                         0.3  \n",
      "48-AL1/8-ST1A 10.0                       0.35  \n",
      "48-AL1/8-ST1A 20.0                      0.372  \n",
      "490-AL1/64-ST1A 220.0                   0.285  \n",
      "490-AL1/64-ST1A 380.0                   0.253  \n",
      "94-AL1/15-ST1A 0.4                       0.29  \n",
      "94-AL1/15-ST1A 10.0                      0.33  \n",
      "94-AL1/15-ST1A 20.0                      0.35  \n",
      "N2XS(FL)2Y 1x120 RM/35 64/110 kV        0.166  \n",
      "N2XS(FL)2Y 1x185 RM/35 64/110 kV        0.156  \n",
      "N2XS(FL)2Y 1x240 RM/35 64/110 kV        0.149  \n",
      "N2XS(FL)2Y 1x300 RM/35 64/110 kV        0.144  \n",
      "NA2XS2Y 1x185 RM/25 12/20 kV            0.117  \n",
      "NA2XS2Y 1x240 RM/25 12/20 kV            0.112  \n",
      "NA2XS2Y 1x95 RM/25 12/20 kV             0.132  \n",
      "NAYY 4x120 SE                            0.08  \n",
      "NAYY 4x150 SE                            0.08  \n",
      "NAYY 4x50 SE                            0.083  \n",
      "test_type                                0.02  \n"
     ]
    }
   ],
   "source": [
    "net = pp.create_empty_network()\n",
    "test_type = {\"r_ohm_per_km\": 0.01, \"x_ohm_per_km\": 0.02, \"c_nf_per_km\": 10, \"imax_ka\": 0.4, \"type\": \"cs\"}\n",
    "pp.create_std_type(net, name=\"test_type\", data=test_type, element=\"line\")\n",
    "print(pp.available_std_types(net, element=\"line\"))"
   ]
  },
  {
   "cell_type": "markdown",
   "metadata": {},
   "source": [
    "As you can see the test_type is now available in the standard type library, and you can use it to create a line:"
   ]
  },
  {
   "cell_type": "code",
   "execution_count": 4,
   "metadata": {
    "collapsed": false
   },
   "outputs": [
    {
     "name": "stdout",
     "output_type": "stream",
     "text": [
      "name            test_line\n",
      "std_type        test_type\n",
      "from_bus                0\n",
      "to_bus                  1\n",
      "length_km             0.1\n",
      "r_ohm_per_km         0.01\n",
      "x_ohm_per_km         0.02\n",
      "c_nf_per_km            10\n",
      "imax_ka               0.4\n",
      "df                      1\n",
      "parallel                1\n",
      "type                   cs\n",
      "in_service           True\n",
      "Name: 0, dtype: object\n"
     ]
    }
   ],
   "source": [
    "b1 = pp.create_bus(net, vn_kv=.4)\n",
    "b2 = pp.create_bus(net, vn_kv=.4)\n",
    "lid = pp.create_line(net, from_bus=b1, to_bus=b2, length_km=0.1, std_type=\"test_type\", name=\"test_line\")\n",
    "print(net.line.loc[lid])"
   ]
  },
  {
   "cell_type": "markdown",
   "metadata": {},
   "source": [
    "## Local Standard Type Libraries"
   ]
  },
  {
   "cell_type": "markdown",
   "metadata": {},
   "source": [
    "Standard tpyes are saved with the network if you use the pp.to_pickle function and are therefore still available if you load the network again.\n",
    "\n",
    "If you have a set of standard types that you want to save locally and apply to multiple networks, you can create a set of standard type parameters as a dictionary in the style {\"std_type1: {\"r_ohm_per_km\": r_ohm_per_km,...}, \"std_type2\": {\"r_ohm_per_km\": r_ohm_per_km,...},...} and add it to the network with the create_std_types function:"
   ]
  },
  {
   "cell_type": "code",
   "execution_count": 5,
   "metadata": {
    "collapsed": false
   },
   "outputs": [
    {
     "name": "stdout",
     "output_type": "stream",
     "text": [
      "                                 c_nf_per_km imax_ka q_mm2 r_ohm_per_km type  \\\n",
      "149-AL1/24-ST1A 10.0                   11.25    0.47   149        0.194   ol   \n",
      "149-AL1/24-ST1A 110.0                   8.75    0.47   149        0.194   ol   \n",
      "149-AL1/24-ST1A 20.0                    10.5    0.47   149        0.194   ol   \n",
      "15-AL1/3-ST1A 0.4                         11   0.105    16       1.8769   ol   \n",
      "184-AL1/30-ST1A 110.0                    8.8   0.535   184       0.1571   ol   \n",
      "184-AL1/30-ST1A 20.0                   10.75   0.535   184       0.1571   ol   \n",
      "24-AL1/4-ST1A 0.4                      11.25    0.14    24       1.2012   ol   \n",
      "243-AL1/39-ST1A 110.0                      9   0.645   243       0.1188   ol   \n",
      "243-AL1/39-ST1A 20.0                      11   0.645   243       0.1188   ol   \n",
      "305-AL1/39-ST1A 110.0                    9.2    0.74   305       0.0949   ol   \n",
      "48-AL1/8-ST1A 0.4                       12.2    0.21    48       0.5939   ol   \n",
      "48-AL1/8-ST1A 10.0                      10.1    0.21    48       0.5939   ol   \n",
      "48-AL1/8-ST1A 20.0                       9.5    0.21    48       0.5939   ol   \n",
      "490-AL1/64-ST1A 220.0                     10    0.96   490        0.059   ol   \n",
      "490-AL1/64-ST1A 380.0                     11    0.96   490        0.059   ol   \n",
      "94-AL1/15-ST1A 0.4                      13.2    0.35    94        0.306   ol   \n",
      "94-AL1/15-ST1A 10.0                    10.75    0.35    94        0.306   ol   \n",
      "94-AL1/15-ST1A 20.0                       10    0.35    94        0.306   ol   \n",
      "N2XS(FL)2Y 1x120 RM/35 64/110 kV         112   0.366   120        0.153   cs   \n",
      "N2XS(FL)2Y 1x185 RM/35 64/110 kV         125   0.457   185        0.099   cs   \n",
      "N2XS(FL)2Y 1x240 RM/35 64/110 kV         135   0.526   240        0.075   cs   \n",
      "N2XS(FL)2Y 1x300 RM/35 64/110 kV         144   0.588   300         0.06   cs   \n",
      "NA2XS2Y 1x185 RM/25 12/20 kV             273   0.362   185        0.161   cs   \n",
      "NA2XS2Y 1x240 RM/25 12/20 kV             304   0.421   240        0.122   cs   \n",
      "NA2XS2Y 1x95 RM/25 12/20 kV              216   0.252    95        0.313   cs   \n",
      "NAYY 4x120 SE                            264   0.242   120        0.225   cs   \n",
      "NAYY 4x150 SE                            261    0.27   150        0.208   cs   \n",
      "NAYY 4x50 SE                             210   0.142    50        0.642   cs   \n",
      "typ1                                      10     0.4   NaN         0.01   cs   \n",
      "typ2                                      30     0.3   NaN        0.015   cs   \n",
      "\n",
      "                                 x_ohm_per_km  \n",
      "149-AL1/24-ST1A 10.0                    0.315  \n",
      "149-AL1/24-ST1A 110.0                    0.41  \n",
      "149-AL1/24-ST1A 20.0                    0.337  \n",
      "15-AL1/3-ST1A 0.4                        0.35  \n",
      "184-AL1/30-ST1A 110.0                     0.4  \n",
      "184-AL1/30-ST1A 20.0                     0.33  \n",
      "24-AL1/4-ST1A 0.4                       0.335  \n",
      "243-AL1/39-ST1A 110.0                    0.39  \n",
      "243-AL1/39-ST1A 20.0                     0.32  \n",
      "305-AL1/39-ST1A 110.0                    0.38  \n",
      "48-AL1/8-ST1A 0.4                         0.3  \n",
      "48-AL1/8-ST1A 10.0                       0.35  \n",
      "48-AL1/8-ST1A 20.0                      0.372  \n",
      "490-AL1/64-ST1A 220.0                   0.285  \n",
      "490-AL1/64-ST1A 380.0                   0.253  \n",
      "94-AL1/15-ST1A 0.4                       0.29  \n",
      "94-AL1/15-ST1A 10.0                      0.33  \n",
      "94-AL1/15-ST1A 20.0                      0.35  \n",
      "N2XS(FL)2Y 1x120 RM/35 64/110 kV        0.166  \n",
      "N2XS(FL)2Y 1x185 RM/35 64/110 kV        0.156  \n",
      "N2XS(FL)2Y 1x240 RM/35 64/110 kV        0.149  \n",
      "N2XS(FL)2Y 1x300 RM/35 64/110 kV        0.144  \n",
      "NA2XS2Y 1x185 RM/25 12/20 kV            0.117  \n",
      "NA2XS2Y 1x240 RM/25 12/20 kV            0.112  \n",
      "NA2XS2Y 1x95 RM/25 12/20 kV             0.132  \n",
      "NAYY 4x120 SE                            0.08  \n",
      "NAYY 4x150 SE                            0.08  \n",
      "NAYY 4x50 SE                            0.083  \n",
      "typ1                                     0.02  \n",
      "typ2                                     0.01  \n"
     ]
    }
   ],
   "source": [
    "net = pp.create_empty_network()\n",
    "linetypes = {\"typ1\": {\"r_ohm_per_km\": 0.01, \"x_ohm_per_km\": 0.02, \"c_nf_per_km\": 10, \"imax_ka\": 0.4, \"type\": \"cs\"},\n",
    "             \"typ2\": {\"r_ohm_per_km\": 0.015, \"x_ohm_per_km\": 0.01, \"c_nf_per_km\": 30, \"imax_ka\": 0.3, \"type\": \"cs\"}}\n",
    "pp.create_std_types(net, data=linetypes, element=\"line\")\n",
    "print(pp.available_std_types(net))"
   ]
  },
  {
   "cell_type": "markdown",
   "metadata": {},
   "source": [
    "The linetypes dictionary can be easily saved in a local project folder (e.g. using jsonpickle) and reloaded once it is needed. \n",
    "\n",
    "Another possibility is to copy the standard type library of an existing network:"
   ]
  },
  {
   "cell_type": "code",
   "execution_count": 6,
   "metadata": {
    "collapsed": false
   },
   "outputs": [
    {
     "name": "stdout",
     "output_type": "stream",
     "text": [
      "                                 c_nf_per_km imax_ka q_mm2 r_ohm_per_km type  \\\n",
      "149-AL1/24-ST1A 10.0                   11.25    0.47   149        0.194   ol   \n",
      "149-AL1/24-ST1A 110.0                   8.75    0.47   149        0.194   ol   \n",
      "149-AL1/24-ST1A 20.0                    10.5    0.47   149        0.194   ol   \n",
      "15-AL1/3-ST1A 0.4                         11   0.105    16       1.8769   ol   \n",
      "184-AL1/30-ST1A 110.0                    8.8   0.535   184       0.1571   ol   \n",
      "184-AL1/30-ST1A 20.0                   10.75   0.535   184       0.1571   ol   \n",
      "24-AL1/4-ST1A 0.4                      11.25    0.14    24       1.2012   ol   \n",
      "243-AL1/39-ST1A 110.0                      9   0.645   243       0.1188   ol   \n",
      "243-AL1/39-ST1A 20.0                      11   0.645   243       0.1188   ol   \n",
      "305-AL1/39-ST1A 110.0                    9.2    0.74   305       0.0949   ol   \n",
      "48-AL1/8-ST1A 0.4                       12.2    0.21    48       0.5939   ol   \n",
      "48-AL1/8-ST1A 10.0                      10.1    0.21    48       0.5939   ol   \n",
      "48-AL1/8-ST1A 20.0                       9.5    0.21    48       0.5939   ol   \n",
      "490-AL1/64-ST1A 220.0                     10    0.96   490        0.059   ol   \n",
      "490-AL1/64-ST1A 380.0                     11    0.96   490        0.059   ol   \n",
      "94-AL1/15-ST1A 0.4                      13.2    0.35    94        0.306   ol   \n",
      "94-AL1/15-ST1A 10.0                    10.75    0.35    94        0.306   ol   \n",
      "94-AL1/15-ST1A 20.0                       10    0.35    94        0.306   ol   \n",
      "N2XS(FL)2Y 1x120 RM/35 64/110 kV         112   0.366   120        0.153   cs   \n",
      "N2XS(FL)2Y 1x185 RM/35 64/110 kV         125   0.457   185        0.099   cs   \n",
      "N2XS(FL)2Y 1x240 RM/35 64/110 kV         135   0.526   240        0.075   cs   \n",
      "N2XS(FL)2Y 1x300 RM/35 64/110 kV         144   0.588   300         0.06   cs   \n",
      "NA2XS2Y 1x185 RM/25 12/20 kV             273   0.362   185        0.161   cs   \n",
      "NA2XS2Y 1x240 RM/25 12/20 kV             304   0.421   240        0.122   cs   \n",
      "NA2XS2Y 1x95 RM/25 12/20 kV              216   0.252    95        0.313   cs   \n",
      "NAYY 4x120 SE                            264   0.242   120        0.225   cs   \n",
      "NAYY 4x150 SE                            261    0.27   150        0.208   cs   \n",
      "NAYY 4x50 SE                             210   0.142    50        0.642   cs   \n",
      "typ1                                      10     0.4   NaN         0.01   cs   \n",
      "typ2                                      30     0.3   NaN        0.015   cs   \n",
      "\n",
      "                                 x_ohm_per_km  \n",
      "149-AL1/24-ST1A 10.0                    0.315  \n",
      "149-AL1/24-ST1A 110.0                    0.41  \n",
      "149-AL1/24-ST1A 20.0                    0.337  \n",
      "15-AL1/3-ST1A 0.4                        0.35  \n",
      "184-AL1/30-ST1A 110.0                     0.4  \n",
      "184-AL1/30-ST1A 20.0                     0.33  \n",
      "24-AL1/4-ST1A 0.4                       0.335  \n",
      "243-AL1/39-ST1A 110.0                    0.39  \n",
      "243-AL1/39-ST1A 20.0                     0.32  \n",
      "305-AL1/39-ST1A 110.0                    0.38  \n",
      "48-AL1/8-ST1A 0.4                         0.3  \n",
      "48-AL1/8-ST1A 10.0                       0.35  \n",
      "48-AL1/8-ST1A 20.0                      0.372  \n",
      "490-AL1/64-ST1A 220.0                   0.285  \n",
      "490-AL1/64-ST1A 380.0                   0.253  \n",
      "94-AL1/15-ST1A 0.4                       0.29  \n",
      "94-AL1/15-ST1A 10.0                      0.33  \n",
      "94-AL1/15-ST1A 20.0                      0.35  \n",
      "N2XS(FL)2Y 1x120 RM/35 64/110 kV        0.166  \n",
      "N2XS(FL)2Y 1x185 RM/35 64/110 kV        0.156  \n",
      "N2XS(FL)2Y 1x240 RM/35 64/110 kV        0.149  \n",
      "N2XS(FL)2Y 1x300 RM/35 64/110 kV        0.144  \n",
      "NA2XS2Y 1x185 RM/25 12/20 kV            0.117  \n",
      "NA2XS2Y 1x240 RM/25 12/20 kV            0.112  \n",
      "NA2XS2Y 1x95 RM/25 12/20 kV             0.132  \n",
      "NAYY 4x120 SE                            0.08  \n",
      "NAYY 4x150 SE                            0.08  \n",
      "NAYY 4x50 SE                            0.083  \n",
      "typ1                                     0.02  \n",
      "typ2                                     0.01  \n"
     ]
    }
   ],
   "source": [
    "new_net = pp.create_empty_network()\n",
    "pp.copy_std_types(from_net=net, to_net=new_net, element=\"line\")\n",
    "print(pp.available_std_types(new_net))"
   ]
  },
  {
   "cell_type": "markdown",
   "metadata": {},
   "source": [
    "## Add Additional Parameters"
   ]
  },
  {
   "cell_type": "markdown",
   "metadata": {
    "collapsed": true
   },
   "source": [
    "You can define additional parameters in the standard type library and load them into pandapower. For example, if you want to run a reliability analysis for which you need a hazard rate for each line, you will want to add the hazard rate \"h_per_km\" for your individual standard type:"
   ]
  },
  {
   "cell_type": "code",
   "execution_count": 7,
   "metadata": {
    "collapsed": false
   },
   "outputs": [
    {
     "name": "stdout",
     "output_type": "stream",
     "text": [
      "                                 c_nf_per_km h_per_km imax_ka q_mm2  \\\n",
      "149-AL1/24-ST1A 10.0                   11.25      NaN    0.47   149   \n",
      "149-AL1/24-ST1A 110.0                   8.75      NaN    0.47   149   \n",
      "149-AL1/24-ST1A 20.0                    10.5      NaN    0.47   149   \n",
      "15-AL1/3-ST1A 0.4                         11      NaN   0.105    16   \n",
      "184-AL1/30-ST1A 110.0                    8.8      NaN   0.535   184   \n",
      "184-AL1/30-ST1A 20.0                   10.75      NaN   0.535   184   \n",
      "24-AL1/4-ST1A 0.4                      11.25      NaN    0.14    24   \n",
      "243-AL1/39-ST1A 110.0                      9      NaN   0.645   243   \n",
      "243-AL1/39-ST1A 20.0                      11      NaN   0.645   243   \n",
      "305-AL1/39-ST1A 110.0                    9.2      NaN    0.74   305   \n",
      "48-AL1/8-ST1A 0.4                       12.2      NaN    0.21    48   \n",
      "48-AL1/8-ST1A 10.0                      10.1      NaN    0.21    48   \n",
      "48-AL1/8-ST1A 20.0                       9.5      NaN    0.21    48   \n",
      "490-AL1/64-ST1A 220.0                     10      NaN    0.96   490   \n",
      "490-AL1/64-ST1A 380.0                     11      NaN    0.96   490   \n",
      "94-AL1/15-ST1A 0.4                      13.2      NaN    0.35    94   \n",
      "94-AL1/15-ST1A 10.0                    10.75      NaN    0.35    94   \n",
      "94-AL1/15-ST1A 20.0                       10      NaN    0.35    94   \n",
      "N2XS(FL)2Y 1x120 RM/35 64/110 kV         112      NaN   0.366   120   \n",
      "N2XS(FL)2Y 1x185 RM/35 64/110 kV         125      NaN   0.457   185   \n",
      "N2XS(FL)2Y 1x240 RM/35 64/110 kV         135      NaN   0.526   240   \n",
      "N2XS(FL)2Y 1x300 RM/35 64/110 kV         144      NaN   0.588   300   \n",
      "NA2XS2Y 1x185 RM/25 12/20 kV             273      NaN   0.362   185   \n",
      "NA2XS2Y 1x240 RM/25 12/20 kV             304      NaN   0.421   240   \n",
      "NA2XS2Y 1x95 RM/25 12/20 kV              216      NaN   0.252    95   \n",
      "NAYY 4x120 SE                            264      NaN   0.242   120   \n",
      "NAYY 4x150 SE                            261      NaN    0.27   150   \n",
      "NAYY 4x50 SE                             210      NaN   0.142    50   \n",
      "test_type                                 10     0.01     0.4   NaN   \n",
      "\n",
      "                                 r_ohm_per_km type x_ohm_per_km  \n",
      "149-AL1/24-ST1A 10.0                    0.194   ol        0.315  \n",
      "149-AL1/24-ST1A 110.0                   0.194   ol         0.41  \n",
      "149-AL1/24-ST1A 20.0                    0.194   ol        0.337  \n",
      "15-AL1/3-ST1A 0.4                      1.8769   ol         0.35  \n",
      "184-AL1/30-ST1A 110.0                  0.1571   ol          0.4  \n",
      "184-AL1/30-ST1A 20.0                   0.1571   ol         0.33  \n",
      "24-AL1/4-ST1A 0.4                      1.2012   ol        0.335  \n",
      "243-AL1/39-ST1A 110.0                  0.1188   ol         0.39  \n",
      "243-AL1/39-ST1A 20.0                   0.1188   ol         0.32  \n",
      "305-AL1/39-ST1A 110.0                  0.0949   ol         0.38  \n",
      "48-AL1/8-ST1A 0.4                      0.5939   ol          0.3  \n",
      "48-AL1/8-ST1A 10.0                     0.5939   ol         0.35  \n",
      "48-AL1/8-ST1A 20.0                     0.5939   ol        0.372  \n",
      "490-AL1/64-ST1A 220.0                   0.059   ol        0.285  \n",
      "490-AL1/64-ST1A 380.0                   0.059   ol        0.253  \n",
      "94-AL1/15-ST1A 0.4                      0.306   ol         0.29  \n",
      "94-AL1/15-ST1A 10.0                     0.306   ol         0.33  \n",
      "94-AL1/15-ST1A 20.0                     0.306   ol         0.35  \n",
      "N2XS(FL)2Y 1x120 RM/35 64/110 kV        0.153   cs        0.166  \n",
      "N2XS(FL)2Y 1x185 RM/35 64/110 kV        0.099   cs        0.156  \n",
      "N2XS(FL)2Y 1x240 RM/35 64/110 kV        0.075   cs        0.149  \n",
      "N2XS(FL)2Y 1x300 RM/35 64/110 kV         0.06   cs        0.144  \n",
      "NA2XS2Y 1x185 RM/25 12/20 kV            0.161   cs        0.117  \n",
      "NA2XS2Y 1x240 RM/25 12/20 kV            0.122   cs        0.112  \n",
      "NA2XS2Y 1x95 RM/25 12/20 kV             0.313   cs        0.132  \n",
      "NAYY 4x120 SE                           0.225   cs         0.08  \n",
      "NAYY 4x150 SE                           0.208   cs         0.08  \n",
      "NAYY 4x50 SE                            0.642   cs        0.083  \n",
      "test_type                                0.01   cs         0.02  \n"
     ]
    }
   ],
   "source": [
    "import pandapower as pp\n",
    "net = pp.create_empty_network()\n",
    "test_type = {\"r_ohm_per_km\": 0.01, \"x_ohm_per_km\": 0.02, \"c_nf_per_km\": 10, \"imax_ka\": 0.4, \"type\": \"cs\", \"h_per_km\": 0.01}\n",
    "pp.create_std_type(net, name=\"test_type\", data=test_type, element=\"line\")\n",
    "print(pp.available_std_types(net, element=\"line\"))"
   ]
  },
  {
   "cell_type": "markdown",
   "metadata": {},
   "source": [
    "You can see that the parameter \"h_per_km\" is stored in the standard type database for the new standard type.\n",
    "\n",
    "We now create two lines, one of the new \"test_type\" and one with a standard type that does not have the parameter \"h_per_km\"."
   ]
  },
  {
   "cell_type": "code",
   "execution_count": 8,
   "metadata": {
    "collapsed": false
   },
   "outputs": [
    {
     "name": "stdout",
     "output_type": "stream",
     "text": [
      "         name      std_type  from_bus  to_bus  length_km  r_ohm_per_km  \\\n",
      "0  test_line1     test_type         0       1        0.1         0.010   \n",
      "1  test_line2  NAYY 4x50 SE         0       1        0.1         0.642   \n",
      "\n",
      "   x_ohm_per_km  c_nf_per_km  imax_ka   df  parallel type in_service  \n",
      "0         0.020         10.0    0.400  1.0         1   cs       True  \n",
      "1         0.083        210.0    0.142  1.0         1   cs       True  \n"
     ]
    }
   ],
   "source": [
    "b1 = pp.create_bus(net, vn_kv=.4)\n",
    "b2 = pp.create_bus(net, vn_kv=.4)\n",
    "l1 = pp.create_line(net, from_bus=b1, to_bus=b2, length_km=0.1, std_type=\"test_type\", name=\"test_line1\")\n",
    "l2 = pp.create_line(net, from_bus=b1, to_bus=b2, length_km=0.1, std_type=\"NAYY 4x50 SE\", name=\"test_line2\")\n",
    "print(net.line)"
   ]
  },
  {
   "cell_type": "markdown",
   "metadata": {},
   "source": [
    "The parameter \"h_per_km\" ist not in the line table, since it is not a pandapower standard parameter. You can however load the parameter from the database with the parameter_from_std_type function:"
   ]
  },
  {
   "cell_type": "code",
   "execution_count": 9,
   "metadata": {
    "collapsed": false
   },
   "outputs": [
    {
     "name": "stdout",
     "output_type": "stream",
     "text": [
      "         name      std_type  from_bus  to_bus  length_km  r_ohm_per_km  \\\n",
      "0  test_line1     test_type         0       1        0.1         0.010   \n",
      "1  test_line2  NAYY 4x50 SE         0       1        0.1         0.642   \n",
      "\n",
      "   x_ohm_per_km  c_nf_per_km  imax_ka   df  parallel type in_service h_per_km  \n",
      "0         0.020         10.0    0.400  1.0         1   cs       True     0.01  \n",
      "1         0.083        210.0    0.142  1.0         1   cs       True     None  \n"
     ]
    }
   ],
   "source": [
    "pp.parameter_from_std_type(net, parameter=\"h_per_km\")\n",
    "print(net.line)"
   ]
  },
  {
   "cell_type": "markdown",
   "metadata": {},
   "source": [
    "Pandapower adds the parameter to the linetable where it is available. The second line does not have a value for h_per_km, since it is not specified in the standard type database. You can however define a fallback (fill) value for lines that do not have a standard type or that have a standard type for which the desired parameter is not available:"
   ]
  },
  {
   "cell_type": "code",
   "execution_count": 10,
   "metadata": {
    "collapsed": false
   },
   "outputs": [
    {
     "name": "stdout",
     "output_type": "stream",
     "text": [
      "         name      std_type  from_bus  to_bus  length_km  r_ohm_per_km  \\\n",
      "0  test_line1     test_type         0       1        0.1         0.010   \n",
      "1  test_line2  NAYY 4x50 SE         0       1        0.1         0.642   \n",
      "\n",
      "   x_ohm_per_km  c_nf_per_km  imax_ka   df  parallel type in_service h_per_km  \n",
      "0         0.020         10.0    0.400  1.0         1   cs       True     0.01  \n",
      "1         0.083        210.0    0.142  1.0         1   cs       True     0.02  \n"
     ]
    }
   ],
   "source": [
    "pp.parameter_from_std_type(net, parameter=\"h_per_km\", fill=0.02)\n",
    "print(net.line)"
   ]
  },
  {
   "cell_type": "markdown",
   "metadata": {},
   "source": [
    "## Change Standard Type"
   ]
  },
  {
   "cell_type": "markdown",
   "metadata": {},
   "source": [
    "The change_std_type function allows changing the standard type of an element."
   ]
  },
  {
   "cell_type": "code",
   "execution_count": 11,
   "metadata": {
    "collapsed": false
   },
   "outputs": [
    {
     "name": "stdout",
     "output_type": "stream",
     "text": [
      "        name      std_type  from_bus  to_bus  length_km  r_ohm_per_km  \\\n",
      "0  test_line  NAYY 4x50 SE         0       1        0.1         0.642   \n",
      "\n",
      "   x_ohm_per_km  c_nf_per_km  imax_ka   df  parallel type in_service  \n",
      "0         0.083        210.0    0.142  1.0         1   cs       True  \n"
     ]
    }
   ],
   "source": [
    "net = pp.create_empty_network()\n",
    "b1 = pp.create_bus(net, vn_kv=.4)\n",
    "b2 = pp.create_bus(net, vn_kv=.4)\n",
    "l2 = pp.create_line(net, from_bus=b1, to_bus=b2, length_km=0.1, std_type=\"NAYY 4x50 SE\", name=\"test_line\")\n",
    "print(net.line)"
   ]
  },
  {
   "cell_type": "code",
   "execution_count": 12,
   "metadata": {
    "collapsed": false
   },
   "outputs": [
    {
     "name": "stdout",
     "output_type": "stream",
     "text": [
      "        name       std_type  from_bus  to_bus  length_km  r_ohm_per_km  \\\n",
      "0  test_line  NAYY 4x150 SE         0       1        0.1         0.208   \n",
      "\n",
      "   x_ohm_per_km  c_nf_per_km  imax_ka   df  parallel type in_service  \n",
      "0          0.08        261.0     0.27  1.0         1   cs       True  \n"
     ]
    }
   ],
   "source": [
    "pp.change_std_type(net, l2, \"NAYY 4x150 SE\", element=\"line\")\n",
    "print(net.line)"
   ]
  },
  {
   "cell_type": "markdown",
   "metadata": {},
   "source": [
    "## Find Standard Type"
   ]
  },
  {
   "cell_type": "markdown",
   "metadata": {
    "collapsed": true
   },
   "source": [
    "It is possible to search for a standard type given a set of parameters:"
   ]
  },
  {
   "cell_type": "code",
   "execution_count": 13,
   "metadata": {
    "collapsed": false
   },
   "outputs": [
    {
     "name": "stdout",
     "output_type": "stream",
     "text": [
      "['243-AL1/39-ST1A 110.0']\n"
     ]
    }
   ],
   "source": [
    "print(pp.find_std_type_by_parameter(net, data={\"r_ohm_per_km\": 0.1188, \"x_ohm_per_km\": 0.39}))"
   ]
  },
  {
   "cell_type": "markdown",
   "metadata": {
    "collapsed": true
   },
   "source": [
    "You can also define a tolerance epsilon to find types with similar parameters:"
   ]
  },
  {
   "cell_type": "code",
   "execution_count": 14,
   "metadata": {
    "collapsed": false
   },
   "outputs": [
    {
     "name": "stdout",
     "output_type": "stream",
     "text": [
      "['243-AL1/39-ST1A 110.0']\n"
     ]
    }
   ],
   "source": [
    "print(pp.find_std_type_by_parameter(net, data={\"r_ohm_per_km\": 0.12, \"x_ohm_per_km\": 0.40}, epsilon=.02))"
   ]
  }
 ],
 "metadata": {
  "anaconda-cloud": {},
  "kernelspec": {
   "display_name": "Python [default]",
   "language": "python",
   "name": "python3"
  },
  "language_info": {
   "codemirror_mode": {
    "name": "ipython",
    "version": 3
   },
   "file_extension": ".py",
   "mimetype": "text/x-python",
   "name": "python",
   "nbconvert_exporter": "python",
   "pygments_lexer": "ipython3",
   "version": "3.5.2"
  }
 },
 "nbformat": 4,
 "nbformat_minor": 0
}
