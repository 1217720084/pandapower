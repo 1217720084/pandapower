{
 "cells": [
  {
   "cell_type": "markdown",
   "metadata": {},
   "source": [
    "# Interfacing PowerModels.jl with pandapower"
   ]
  },
  {
   "cell_type": "markdown",
   "metadata": {},
   "source": [
    "pandapower now has an interface to PowerModels.jl that can be used for efficient power system optimization.\n",
    "\n",
    "### What is PowerModels.jl and why should I use it?\n",
    "\n",
    "- [PowerModels.jl](https://lanl-ansi.github.io/PowerModels.jl/stable/) is  package for steady-state power network optimization\n",
    "- It is based on the relatively new language [Julia](https://julialang.org/) which is gaining popularity in scientific applications\n",
    "- PowerModels uses Julia/JuMP for the optimization, which [clearly outperforms the Python alternative Pyomo](http://yetanothermathprogrammingconsultant.blogspot.com/2015/05/model-generation-in-julia.html)\n",
    "- PowerModels has a modular design that allows you to define [different formulations for optimization problems](https://lanl-ansi.github.io/PowerModels.jl/stable/specifications/)\n",
    "\n",
    "### Well then what do I need pandapower for?\n",
    "\n",
    "Because pandapower:\n",
    "\n",
    "- allows you to easily define power systems with nameplate parameters and standard types\n",
    "- comes with thouroughly validated element models of transformers with tap changers, three-winding transformers, switches/breakers, extended ward equivalents and many more    \n",
    "- keeps all data in tables (pandas DataFrames), which makes data management and analysis very comfortable\n",
    "- provides different power system analysis functions, such as a (very fast) power flow, short-circuit calculation, state estimation, graph searches and a plotting library that can be used on the same grid models\n",
    "- allows you to do all pre- and postprocessing in Python, which still has a much richer environment of free libraries than Julia (i.e. currently 157,755 packages on PyPI vs. 1,906 libraries on Pkg)\n",
    "\n",
    "So using pandapower to define the grid models and then using PowerModels for the optimization really gives you the best of all worlds - you can use the rich environment of Python libraries, the sophisticated element models of pandapower, the modular optimization framework of PowerModels and the efficient mathematical modeling of JuMP."
   ]
  },
  {
   "cell_type": "markdown",
   "metadata": {},
   "source": [
    "### Let's get started\n",
    "\n",
    "So here is an example of how it works:"
   ]
  },
  {
   "cell_type": "code",
   "execution_count": 1,
   "metadata": {},
   "outputs": [],
   "source": [
    "import pandapower as pp\n",
    "import numpy as np\n",
    "net = pp.create_empty_network()\n",
    "\n",
    "#create buses\n",
    "bus1 = pp.create_bus(net, vn_kv=220., geodata=(5,9))\n",
    "bus2 = pp.create_bus(net, vn_kv=110., geodata=(6,10))\n",
    "bus3 = pp.create_bus(net, vn_kv=110., geodata=(10,9))\n",
    "bus4 = pp.create_bus(net, vn_kv=110., geodata=(8,8))\n",
    "bus5 = pp.create_bus(net, vn_kv=110., geodata=(6,8))\n",
    "\n",
    "#create 220/110/110 kV 3W-transformer\n",
    "pp.create_transformer3w_from_parameters(net, bus1, bus2, bus5, vn_hv_kv=220, vn_mv_kv=110,\n",
    "                                        vn_lv_kv=110, vsc_hv_percent=10., vsc_mv_percent=10.,\n",
    "                                        vsc_lv_percent=10., vscr_hv_percent=0.5,\n",
    "                                        vscr_mv_percent=0.5, vscr_lv_percent=0.5, pfe_kw=100.,\n",
    "                                        i0_percent=0.1, shift_mv_degree=0, shift_lv_degree=0,\n",
    "                                        sn_hv_kva=100e3, sn_mv_kva=50e3, sn_lv_kva=50e3)\n",
    "\n",
    "#create 110 kV lines\n",
    "l1 = pp.create_line(net, bus2, bus3, length_km=70., std_type='149-AL1/24-ST1A 110.0')\n",
    "l2 = pp.create_line(net, bus3, bus4, length_km=50., std_type='149-AL1/24-ST1A 110.0')\n",
    "l3 = pp.create_line(net, bus4, bus2, length_km=40., std_type='149-AL1/24-ST1A 110.0')\n",
    "l4 = pp.create_line(net, bus4, bus5, length_km=30., std_type='149-AL1/24-ST1A 110.0')\n",
    "\n",
    "#create loads\n",
    "pp.create_load(net, bus2, p_kw=60e3, controllable = False)\n",
    "pp.create_load(net, bus3, p_kw=70e3, controllable = False)\n",
    "pp.create_load(net, bus4, p_kw=10e3, controllable = False)\n",
    "\n",
    "#create generators\n",
    "eg = pp.create_ext_grid(net, bus1, min_p_kw = -1e9, max_p_kw = 1e9)\n",
    "g0 = pp.create_gen(net, bus3, p_kw=-80*1e3, min_p_kw=-80e3, max_p_kw=0,vm_pu=1.01, controllable=True)\n",
    "g1 = pp.create_gen(net, bus4, p_kw=-100*1e3, min_p_kw=-100e3, max_p_kw=0, vm_pu=1.01, controllable=True)\n",
    "\n",
    "costeg = pp.create_polynomial_cost(net, 0, 'ext_grid', np.array([-1, 0]))\n",
    "costgen1 = pp.create_polynomial_cost(net, 0, 'gen', np.array([-2, 0]))\n",
    "costgen2 = pp.create_polynomial_cost(net, 1, 'gen', np.array([-3, 0]))"
   ]
  },
  {
   "cell_type": "code",
   "execution_count": 2,
   "metadata": {},
   "outputs": [
    {
     "data": {
      "text/plain": [
       "<Figure size 1000x800 with 1 Axes>"
      ]
     },
     "metadata": {},
     "output_type": "display_data"
    },
    {
     "data": {
      "text/plain": [
       "<matplotlib.axes._subplots.AxesSubplot at 0xc17e518>"
      ]
     },
     "execution_count": 2,
     "metadata": {},
     "output_type": "execute_result"
    }
   ],
   "source": [
    "import pandapower.plotting as plot\n",
    "plot.simple_plot(net)"
   ]
  },
  {
   "cell_type": "code",
   "execution_count": null,
   "metadata": {},
   "outputs": [],
   "source": [
    "pp.runpm(net)"
   ]
  },
  {
   "cell_type": "code",
   "execution_count": null,
   "metadata": {},
   "outputs": [],
   "source": [
    "net.res_gen"
   ]
  },
  {
   "cell_type": "code",
   "execution_count": 61,
   "metadata": {},
   "outputs": [
    {
     "data": {
      "text/html": [
       "<div>\n",
       "<style scoped>\n",
       "    .dataframe tbody tr th:only-of-type {\n",
       "        vertical-align: middle;\n",
       "    }\n",
       "\n",
       "    .dataframe tbody tr th {\n",
       "        vertical-align: top;\n",
       "    }\n",
       "\n",
       "    .dataframe thead th {\n",
       "        text-align: right;\n",
       "    }\n",
       "</style>\n",
       "<table border=\"1\" class=\"dataframe\">\n",
       "  <thead>\n",
       "    <tr style=\"text-align: right;\">\n",
       "      <th></th>\n",
       "      <th>p_kw</th>\n",
       "      <th>q_kvar</th>\n",
       "    </tr>\n",
       "  </thead>\n",
       "  <tbody>\n",
       "    <tr>\n",
       "      <th>0</th>\n",
       "      <td>-75932.011594</td>\n",
       "      <td>-1243.388891</td>\n",
       "    </tr>\n",
       "  </tbody>\n",
       "</table>\n",
       "</div>"
      ],
      "text/plain": [
       "           p_kw       q_kvar\n",
       "0 -75932.011594 -1243.388891"
      ]
     },
     "execution_count": 61,
     "metadata": {},
     "output_type": "execute_result"
    }
   ],
   "source": [
    "net.res_ext_grid"
   ]
  },
  {
   "cell_type": "code",
   "execution_count": 62,
   "metadata": {},
   "outputs": [
    {
     "data": {
      "text/html": [
       "<div>\n",
       "<style scoped>\n",
       "    .dataframe tbody tr th:only-of-type {\n",
       "        vertical-align: middle;\n",
       "    }\n",
       "\n",
       "    .dataframe tbody tr th {\n",
       "        vertical-align: top;\n",
       "    }\n",
       "\n",
       "    .dataframe thead th {\n",
       "        text-align: right;\n",
       "    }\n",
       "</style>\n",
       "<table border=\"1\" class=\"dataframe\">\n",
       "  <thead>\n",
       "    <tr style=\"text-align: right;\">\n",
       "      <th></th>\n",
       "      <th>p_hv_kw</th>\n",
       "      <th>q_hv_kvar</th>\n",
       "      <th>p_mv_kw</th>\n",
       "      <th>q_mv_kvar</th>\n",
       "      <th>p_lv_kw</th>\n",
       "      <th>q_lv_kvar</th>\n",
       "      <th>pl_kw</th>\n",
       "      <th>ql_kvar</th>\n",
       "      <th>i_hv_ka</th>\n",
       "      <th>i_mv_ka</th>\n",
       "      <th>i_lv_ka</th>\n",
       "      <th>loading_percent</th>\n",
       "    </tr>\n",
       "  </thead>\n",
       "  <tbody>\n",
       "    <tr>\n",
       "      <th>0</th>\n",
       "      <td>75932.011594</td>\n",
       "      <td>1243.388893</td>\n",
       "      <td>-56853.007367</td>\n",
       "      <td>1307.829653</td>\n",
       "      <td>-18508.604407</td>\n",
       "      <td>6852.194773</td>\n",
       "      <td>570.399821</td>\n",
       "      <td>9403.413318</td>\n",
       "      <td>0.199297</td>\n",
       "      <td>0.300082</td>\n",
       "      <td>0.103221</td>\n",
       "      <td>114.34663</td>\n",
       "    </tr>\n",
       "  </tbody>\n",
       "</table>\n",
       "</div>"
      ],
      "text/plain": [
       "        p_hv_kw    q_hv_kvar       p_mv_kw    q_mv_kvar       p_lv_kw  \\\n",
       "0  75932.011594  1243.388893 -56853.007367  1307.829653 -18508.604407   \n",
       "\n",
       "     q_lv_kvar       pl_kw      ql_kvar   i_hv_ka   i_mv_ka   i_lv_ka  \\\n",
       "0  6852.194773  570.399821  9403.413318  0.199297  0.300082  0.103221   \n",
       "\n",
       "   loading_percent  \n",
       "0        114.34663  "
      ]
     },
     "execution_count": 62,
     "metadata": {},
     "output_type": "execute_result"
    }
   ],
   "source": [
    "net.res_trafo3w"
   ]
  },
  {
   "cell_type": "code",
   "execution_count": 63,
   "metadata": {},
   "outputs": [
    {
     "data": {
      "text/html": [
       "<div>\n",
       "<style scoped>\n",
       "    .dataframe tbody tr th:only-of-type {\n",
       "        vertical-align: middle;\n",
       "    }\n",
       "\n",
       "    .dataframe tbody tr th {\n",
       "        vertical-align: top;\n",
       "    }\n",
       "\n",
       "    .dataframe thead th {\n",
       "        text-align: right;\n",
       "    }\n",
       "</style>\n",
       "<table border=\"1\" class=\"dataframe\">\n",
       "  <thead>\n",
       "    <tr style=\"text-align: right;\">\n",
       "      <th></th>\n",
       "      <th>p_from_kw</th>\n",
       "      <th>q_from_kvar</th>\n",
       "      <th>p_to_kw</th>\n",
       "      <th>q_to_kvar</th>\n",
       "      <th>pl_kw</th>\n",
       "      <th>ql_kvar</th>\n",
       "      <th>i_from_ka</th>\n",
       "      <th>i_to_ka</th>\n",
       "      <th>i_ka</th>\n",
       "      <th>loading_percent</th>\n",
       "    </tr>\n",
       "  </thead>\n",
       "  <tbody>\n",
       "    <tr>\n",
       "      <th>0</th>\n",
       "      <td>8766.191381</td>\n",
       "      <td>-1471.583508</td>\n",
       "      <td>-8678.901460</td>\n",
       "      <td>-626.936517</td>\n",
       "      <td>87.289922</td>\n",
       "      <td>-2098.520024</td>\n",
       "      <td>0.046905</td>\n",
       "      <td>0.046331</td>\n",
       "      <td>0.046905</td>\n",
       "      <td>9.979746</td>\n",
       "    </tr>\n",
       "    <tr>\n",
       "      <th>1</th>\n",
       "      <td>-21579.484756</td>\n",
       "      <td>753.238606</td>\n",
       "      <td>21965.666890</td>\n",
       "      <td>-1578.916944</td>\n",
       "      <td>386.182134</td>\n",
       "      <td>-825.678337</td>\n",
       "      <td>0.114969</td>\n",
       "      <td>0.115430</td>\n",
       "      <td>0.115430</td>\n",
       "      <td>24.559590</td>\n",
       "    </tr>\n",
       "    <tr>\n",
       "      <th>2</th>\n",
       "      <td>12005.620705</td>\n",
       "      <td>-1293.591259</td>\n",
       "      <td>-11913.184014</td>\n",
       "      <td>163.753855</td>\n",
       "      <td>92.436691</td>\n",
       "      <td>-1129.837404</td>\n",
       "      <td>0.063292</td>\n",
       "      <td>0.062870</td>\n",
       "      <td>0.063292</td>\n",
       "      <td>13.466315</td>\n",
       "    </tr>\n",
       "    <tr>\n",
       "      <th>3</th>\n",
       "      <td>-18325.744649</td>\n",
       "      <td>6235.879464</td>\n",
       "      <td>18508.604407</td>\n",
       "      <td>-6852.194773</td>\n",
       "      <td>182.859758</td>\n",
       "      <td>-616.315308</td>\n",
       "      <td>0.101463</td>\n",
       "      <td>0.103221</td>\n",
       "      <td>0.103221</td>\n",
       "      <td>21.961859</td>\n",
       "    </tr>\n",
       "  </tbody>\n",
       "</table>\n",
       "</div>"
      ],
      "text/plain": [
       "      p_from_kw  q_from_kvar       p_to_kw    q_to_kvar       pl_kw  \\\n",
       "0   8766.191381 -1471.583508  -8678.901460  -626.936517   87.289922   \n",
       "1 -21579.484756   753.238606  21965.666890 -1578.916944  386.182134   \n",
       "2  12005.620705 -1293.591259 -11913.184014   163.753855   92.436691   \n",
       "3 -18325.744649  6235.879464  18508.604407 -6852.194773  182.859758   \n",
       "\n",
       "       ql_kvar  i_from_ka   i_to_ka      i_ka  loading_percent  \n",
       "0 -2098.520024   0.046905  0.046331  0.046905         9.979746  \n",
       "1  -825.678337   0.114969  0.115430  0.115430        24.559590  \n",
       "2 -1129.837404   0.063292  0.062870  0.063292        13.466315  \n",
       "3  -616.315308   0.101463  0.103221  0.103221        21.961859  "
      ]
     },
     "execution_count": 63,
     "metadata": {},
     "output_type": "execute_result"
    }
   ],
   "source": [
    "net.res_line"
   ]
  },
  {
   "cell_type": "code",
   "execution_count": 64,
   "metadata": {},
   "outputs": [],
   "source": [
    "net.trafo3w[\"max_loading_percent\"] = 50\n",
    "net.line[\"max_loading_percent\"] = 30\n",
    "pp.runpm(net)"
   ]
  },
  {
   "cell_type": "code",
   "execution_count": 65,
   "metadata": {},
   "outputs": [
    {
     "data": {
      "text/html": [
       "<div>\n",
       "<style scoped>\n",
       "    .dataframe tbody tr th:only-of-type {\n",
       "        vertical-align: middle;\n",
       "    }\n",
       "\n",
       "    .dataframe tbody tr th {\n",
       "        vertical-align: top;\n",
       "    }\n",
       "\n",
       "    .dataframe thead th {\n",
       "        text-align: right;\n",
       "    }\n",
       "</style>\n",
       "<table border=\"1\" class=\"dataframe\">\n",
       "  <thead>\n",
       "    <tr style=\"text-align: right;\">\n",
       "      <th></th>\n",
       "      <th>p_hv_kw</th>\n",
       "      <th>q_hv_kvar</th>\n",
       "      <th>p_mv_kw</th>\n",
       "      <th>q_mv_kvar</th>\n",
       "      <th>p_lv_kw</th>\n",
       "      <th>q_lv_kvar</th>\n",
       "      <th>pl_kw</th>\n",
       "      <th>ql_kvar</th>\n",
       "      <th>i_hv_ka</th>\n",
       "      <th>i_mv_ka</th>\n",
       "      <th>i_lv_ka</th>\n",
       "      <th>loading_percent</th>\n",
       "    </tr>\n",
       "  </thead>\n",
       "  <tbody>\n",
       "    <tr>\n",
       "      <th>0</th>\n",
       "      <td>20919.713801</td>\n",
       "      <td>-11484.955596</td>\n",
       "      <td>-24969.104329</td>\n",
       "      <td>733.822972</td>\n",
       "      <td>4217.247668</td>\n",
       "      <td>12085.470386</td>\n",
       "      <td>167.85714</td>\n",
       "      <td>1334.337762</td>\n",
       "      <td>0.062629</td>\n",
       "      <td>0.129833</td>\n",
       "      <td>0.065695</td>\n",
       "      <td>49.472885</td>\n",
       "    </tr>\n",
       "  </tbody>\n",
       "</table>\n",
       "</div>"
      ],
      "text/plain": [
       "        p_hv_kw     q_hv_kvar       p_mv_kw   q_mv_kvar      p_lv_kw  \\\n",
       "0  20919.713801 -11484.955596 -24969.104329  733.822972  4217.247668   \n",
       "\n",
       "      q_lv_kvar      pl_kw      ql_kvar   i_hv_ka   i_mv_ka   i_lv_ka  \\\n",
       "0  12085.470386  167.85714  1334.337762  0.062629  0.129833  0.065695   \n",
       "\n",
       "   loading_percent  \n",
       "0        49.472885  "
      ]
     },
     "execution_count": 65,
     "metadata": {},
     "output_type": "execute_result"
    }
   ],
   "source": [
    "net.res_trafo3w"
   ]
  },
  {
   "cell_type": "code",
   "execution_count": 66,
   "metadata": {},
   "outputs": [
    {
     "data": {
      "text/html": [
       "<div>\n",
       "<style scoped>\n",
       "    .dataframe tbody tr th:only-of-type {\n",
       "        vertical-align: middle;\n",
       "    }\n",
       "\n",
       "    .dataframe tbody tr th {\n",
       "        vertical-align: top;\n",
       "    }\n",
       "\n",
       "    .dataframe thead th {\n",
       "        text-align: right;\n",
       "    }\n",
       "</style>\n",
       "<table border=\"1\" class=\"dataframe\">\n",
       "  <thead>\n",
       "    <tr style=\"text-align: right;\">\n",
       "      <th></th>\n",
       "      <th>p_from_kw</th>\n",
       "      <th>q_from_kvar</th>\n",
       "      <th>p_to_kw</th>\n",
       "      <th>q_to_kvar</th>\n",
       "      <th>pl_kw</th>\n",
       "      <th>ql_kvar</th>\n",
       "      <th>i_from_ka</th>\n",
       "      <th>i_to_ka</th>\n",
       "      <th>i_ka</th>\n",
       "      <th>loading_percent</th>\n",
       "    </tr>\n",
       "  </thead>\n",
       "  <tbody>\n",
       "    <tr>\n",
       "      <th>0</th>\n",
       "      <td>-10686.111585</td>\n",
       "      <td>7740.274011</td>\n",
       "      <td>10899.499076</td>\n",
       "      <td>-9643.812579</td>\n",
       "      <td>213.387491</td>\n",
       "      <td>-1903.538568</td>\n",
       "      <td>0.068580</td>\n",
       "      <td>0.076282</td>\n",
       "      <td>0.076282</td>\n",
       "      <td>16.230171</td>\n",
       "    </tr>\n",
       "    <tr>\n",
       "      <th>1</th>\n",
       "      <td>-3824.889414</td>\n",
       "      <td>-19556.714835</td>\n",
       "      <td>4116.839061</td>\n",
       "      <td>18447.191799</td>\n",
       "      <td>291.949647</td>\n",
       "      <td>-1109.523036</td>\n",
       "      <td>0.104449</td>\n",
       "      <td>0.095745</td>\n",
       "      <td>0.104449</td>\n",
       "      <td>22.223119</td>\n",
       "    </tr>\n",
       "    <tr>\n",
       "      <th>2</th>\n",
       "      <td>24755.722470</td>\n",
       "      <td>7950.005733</td>\n",
       "      <td>-24344.784086</td>\n",
       "      <td>-8474.096983</td>\n",
       "      <td>410.938384</td>\n",
       "      <td>-524.091251</td>\n",
       "      <td>0.131710</td>\n",
       "      <td>0.133978</td>\n",
       "      <td>0.133978</td>\n",
       "      <td>28.505995</td>\n",
       "    </tr>\n",
       "    <tr>\n",
       "      <th>3</th>\n",
       "      <td>4286.926514</td>\n",
       "      <td>11175.306486</td>\n",
       "      <td>-4217.247668</td>\n",
       "      <td>-12085.470386</td>\n",
       "      <td>69.678846</td>\n",
       "      <td>-910.163899</td>\n",
       "      <td>0.060632</td>\n",
       "      <td>0.065695</td>\n",
       "      <td>0.065695</td>\n",
       "      <td>13.977631</td>\n",
       "    </tr>\n",
       "  </tbody>\n",
       "</table>\n",
       "</div>"
      ],
      "text/plain": [
       "      p_from_kw   q_from_kvar       p_to_kw     q_to_kvar       pl_kw  \\\n",
       "0 -10686.111585   7740.274011  10899.499076  -9643.812579  213.387491   \n",
       "1  -3824.889414 -19556.714835   4116.839061  18447.191799  291.949647   \n",
       "2  24755.722470   7950.005733 -24344.784086  -8474.096983  410.938384   \n",
       "3   4286.926514  11175.306486  -4217.247668 -12085.470386   69.678846   \n",
       "\n",
       "       ql_kvar  i_from_ka   i_to_ka      i_ka  loading_percent  \n",
       "0 -1903.538568   0.068580  0.076282  0.076282        16.230171  \n",
       "1 -1109.523036   0.104449  0.095745  0.104449        22.223119  \n",
       "2  -524.091251   0.131710  0.133978  0.133978        28.505995  \n",
       "3  -910.163899   0.060632  0.065695  0.065695        13.977631  "
      ]
     },
     "execution_count": 66,
     "metadata": {},
     "output_type": "execute_result"
    }
   ],
   "source": [
    "net.res_line"
   ]
  },
  {
   "cell_type": "markdown",
   "metadata": {},
   "source": [
    "## Accessing the full functionality of PowerModels.jl"
   ]
  },
  {
   "cell_type": "markdown",
   "metadata": {},
   "source": [
    "By default, pandapower will run the standard AC OPF provided by PowerModels with the Ipopt solver. The julia file that is used to do that can be found in pandapower/pandapower/opf/run_powermodels.jl and looks like this:"
   ]
  },
  {
   "cell_type": "raw",
   "metadata": {},
   "source": [
    "using PowerModels\n",
    "using Ipopt\n",
    "import JSON\n",
    "\n",
    "function run_powermodels(json_path)\n",
    "    pm_net = Dict()\n",
    "    open(json_path, \"r\") do f\n",
    "        dicttxt = JSON.readstring(f)  # file information to string\n",
    "        pm_net=JSON.parse(dicttxt)  # parse and transform data\n",
    "    end\n",
    "    result = PowerModels.run_ac_opf(pm_net, Ipopt.IpoptSolver())\n",
    "    return result\n",
    "end"
   ]
  },
  {
   "cell_type": "markdown",
   "metadata": {},
   "source": [
    "Of  course PowerModels is a great modular tool that allows you to do much more than that. You might want to use a different OPF formulation, a relaxation method or a different solver. To do that, you can switch out the standard file with your own custom .jl file. Lets say we want to run a DC OPF instead of an AC OPF. There is a custom julia file for that in pandapower/tutorials/run_powermodels_custom.jl that looks like this:"
   ]
  },
  {
   "cell_type": "raw",
   "metadata": {},
   "source": [
    "using PowerModels\n",
    "using Ipopt\n",
    "import JSON\n",
    "\n",
    "function run_powermodels(json_path)\n",
    "    pm_net = Dict()\n",
    "    open(json_path, \"r\") do f\n",
    "        dicttxt = JSON.readstring(f)  # file information to string\n",
    "        pm_net=JSON.parse(dicttxt)  # parse and transform data\n",
    "    end\n",
    "    result = run_dc_opf(pm_net, IpoptSolver())\n",
    "    return result\n",
    "end"
   ]
  },
  {
   "cell_type": "markdown",
   "metadata": {},
   "source": [
    "We point the runpm function to this file, and as we can see by the flat voltage values, the OPF is now run with a DC network formulation:"
   ]
  },
  {
   "cell_type": "code",
   "execution_count": 71,
   "metadata": {},
   "outputs": [
    {
     "data": {
      "text/html": [
       "<div>\n",
       "<style scoped>\n",
       "    .dataframe tbody tr th:only-of-type {\n",
       "        vertical-align: middle;\n",
       "    }\n",
       "\n",
       "    .dataframe tbody tr th {\n",
       "        vertical-align: top;\n",
       "    }\n",
       "\n",
       "    .dataframe thead th {\n",
       "        text-align: right;\n",
       "    }\n",
       "</style>\n",
       "<table border=\"1\" class=\"dataframe\">\n",
       "  <thead>\n",
       "    <tr style=\"text-align: right;\">\n",
       "      <th></th>\n",
       "      <th>vm_pu</th>\n",
       "      <th>va_degree</th>\n",
       "      <th>p_kw</th>\n",
       "      <th>q_kvar</th>\n",
       "      <th>lam_p</th>\n",
       "      <th>lam_q</th>\n",
       "    </tr>\n",
       "  </thead>\n",
       "  <tbody>\n",
       "    <tr>\n",
       "      <th>0</th>\n",
       "      <td>1.0</td>\n",
       "      <td>0.000000</td>\n",
       "      <td>-18658.110443</td>\n",
       "      <td>757.468700</td>\n",
       "      <td>0.0</td>\n",
       "      <td>0.0</td>\n",
       "    </tr>\n",
       "    <tr>\n",
       "      <th>1</th>\n",
       "      <td>1.0</td>\n",
       "      <td>-2.501254</td>\n",
       "      <td>60000.000000</td>\n",
       "      <td>0.000000</td>\n",
       "      <td>0.0</td>\n",
       "      <td>0.0</td>\n",
       "    </tr>\n",
       "    <tr>\n",
       "      <th>2</th>\n",
       "      <td>1.0</td>\n",
       "      <td>-0.630420</td>\n",
       "      <td>-7993.459760</td>\n",
       "      <td>5582.433820</td>\n",
       "      <td>0.0</td>\n",
       "      <td>0.0</td>\n",
       "    </tr>\n",
       "    <tr>\n",
       "      <th>3</th>\n",
       "      <td>1.0</td>\n",
       "      <td>-0.243770</td>\n",
       "      <td>-33406.021074</td>\n",
       "      <td>17295.179486</td>\n",
       "      <td>0.0</td>\n",
       "      <td>0.0</td>\n",
       "    </tr>\n",
       "    <tr>\n",
       "      <th>4</th>\n",
       "      <td>1.0</td>\n",
       "      <td>-0.699943</td>\n",
       "      <td>0.000000</td>\n",
       "      <td>0.000000</td>\n",
       "      <td>0.0</td>\n",
       "      <td>0.0</td>\n",
       "    </tr>\n",
       "  </tbody>\n",
       "</table>\n",
       "</div>"
      ],
      "text/plain": [
       "   vm_pu  va_degree          p_kw        q_kvar  lam_p  lam_q\n",
       "0    1.0   0.000000 -18658.110443    757.468700    0.0    0.0\n",
       "1    1.0  -2.501254  60000.000000      0.000000    0.0    0.0\n",
       "2    1.0  -0.630420  -7993.459760   5582.433820    0.0    0.0\n",
       "3    1.0  -0.243770 -33406.021074  17295.179486    0.0    0.0\n",
       "4    1.0  -0.699943      0.000000      0.000000    0.0    0.0"
      ]
     },
     "execution_count": 71,
     "metadata": {},
     "output_type": "execute_result"
    }
   ],
   "source": [
    "pp.runpm(net, julia_file=\"run_powermodels_custom.jl\")\n",
    "net.res_bus"
   ]
  }
 ],
 "metadata": {
  "anaconda-cloud": {},
  "kernelspec": {
   "display_name": "Python [conda env:Anaconda]",
   "language": "python",
   "name": "conda-env-Anaconda-py"
  },
  "language_info": {
   "codemirror_mode": {
    "name": "ipython",
    "version": 3
   },
   "file_extension": ".py",
   "mimetype": "text/x-python",
   "name": "python",
   "nbconvert_exporter": "python",
   "pygments_lexer": "ipython3",
   "version": "3.6.6"
  }
 },
 "nbformat": 4,
 "nbformat_minor": 2
}
